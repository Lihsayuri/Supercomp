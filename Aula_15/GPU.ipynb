{
  "cells": [
    {
      "cell_type": "code",
      "execution_count": null,
      "metadata": {
        "colab": {
          "base_uri": "https://localhost:8080/"
        },
        "id": "blD1WWyVcqA9",
        "outputId": "e67ba99d-cf26-4826-a647-1994255e953c"
      },
      "outputs": [
        {
          "name": "stdout",
          "output_type": "stream",
          "text": [
            "Writing exemplo.cu\n"
          ]
        }
      ],
      "source": [
        "%%writefile exemplo.cu\n",
        "\n",
        "#include <thrust/host_vector.h>\n",
        "#include <thrust/device_vector.h>\n",
        "#include <thrust/generate.h>\n",
        "#include <thrust/sort.h>\n",
        "#include <thrust/copy.h>\n",
        "#include <thrust/random.h>\n",
        "\n",
        "int main() {\n",
        "  // Generate 32M random numbers serially.\n",
        "  thrust::default_random_engine rng(1337);\n",
        "  thrust::uniform_int_distribution<int> dist;\n",
        "  thrust::host_vector<int> h_vec(32 << 20);\n",
        "  thrust::generate(h_vec.begin(), h_vec.end(), [&] { return dist(rng); });\n",
        "\n",
        "  // Transfer data to the device.\n",
        "  thrust::device_vector<int> d_vec = h_vec;\n",
        "\n",
        "  // Sort data on the device.\n",
        "  thrust::sort(d_vec.begin(), d_vec.end());\n",
        "\n",
        "  // Transfer data back to host.\n",
        "  thrust::copy(d_vec.begin(), d_vec.end(), h_vec.begin());\n",
        "}"
      ]
    },
    {
      "cell_type": "code",
      "execution_count": null,
      "metadata": {
        "colab": {
          "base_uri": "https://localhost:8080/"
        },
        "id": "RIdF2bjrosr0",
        "outputId": "c757902a-3b11-4fea-b91d-93c29d39c26e"
      },
      "outputs": [
        {
          "name": "stdout",
          "output_type": "stream",
          "text": [
            "Tue Apr 25 13:54:30 2023       \n",
            "+-----------------------------------------------------------------------------+\n",
            "| NVIDIA-SMI 525.85.12    Driver Version: 525.85.12    CUDA Version: 12.0     |\n",
            "|-------------------------------+----------------------+----------------------+\n",
            "| GPU  Name        Persistence-M| Bus-Id        Disp.A | Volatile Uncorr. ECC |\n",
            "| Fan  Temp  Perf  Pwr:Usage/Cap|         Memory-Usage | GPU-Util  Compute M. |\n",
            "|                               |                      |               MIG M. |\n",
            "|===============================+======================+======================|\n",
            "|   0  Tesla T4            Off  | 00000000:00:04.0 Off |                    0 |\n",
            "| N/A   43C    P8    11W /  70W |      0MiB / 15360MiB |      0%      Default |\n",
            "|                               |                      |                  N/A |\n",
            "+-------------------------------+----------------------+----------------------+\n",
            "                                                                               \n",
            "+-----------------------------------------------------------------------------+\n",
            "| Processes:                                                                  |\n",
            "|  GPU   GI   CI        PID   Type   Process name                  GPU Memory |\n",
            "|        ID   ID                                                   Usage      |\n",
            "|=============================================================================|\n",
            "|  No running processes found                                                 |\n",
            "+-----------------------------------------------------------------------------+\n"
          ]
        }
      ],
      "source": [
        "!nvidia-smi"
      ]
    },
    {
      "cell_type": "code",
      "execution_count": null,
      "metadata": {
        "id": "tI-c_0o_o4oR"
      },
      "outputs": [],
      "source": []
    },
    {
      "cell_type": "code",
      "execution_count": null,
      "metadata": {
        "id": "h2Q2psq_nF_Q"
      },
      "outputs": [],
      "source": [
        "#!nvcc -arch=sm_75 -std=c++14 exemplo.cpp -o exemplo\n",
        "\n",
        "!nvcc exemplo.cu -o exemplo\n",
        "\n",
        "# essa linha diz que vamos depender do compilador nvcc. E aí sabemos qual tipo de arquitetura estamos usando. No exemplo é o sm_70.Vamos supor que em casa temos uma Geforce rtx 4090\n",
        "# No Google é a sm_20"
      ]
    },
    {
      "cell_type": "code",
      "execution_count": null,
      "metadata": {
        "id": "DIEb-_qHoo5Z"
      },
      "outputs": [],
      "source": [
        "!./exemplo"
      ]
    },
    {
      "cell_type": "code",
      "execution_count": null,
      "metadata": {
        "colab": {
          "base_uri": "https://localhost:8080/"
        },
        "id": "OEFZA9jLru7A",
        "outputId": "4d1b96bd-f53f-48e0-bff6-c9670c20cf0d"
      },
      "outputs": [
        {
          "name": "stdout",
          "output_type": "stream",
          "text": [
            "Writing aula14.cu\n"
          ]
        }
      ],
      "source": [
        "%%writefile aula14.cu\n",
        "\n",
        "#include <thrust/host_vector.h>\n",
        "#include <thrust/device_vector.h>\n",
        "#include <thrust/generate.h>\n",
        "#include <thrust/sort.h>\n",
        "#include <thrust/copy.h>\n",
        "#include <thrust/random.h>\n",
        "#include <vector>\n",
        "using namespace std;\n",
        "\n",
        "int main() {\n",
        "  // Generate 32M random numbers serially.\n",
        "  thrust::default_random_engine rng(1337);\n",
        "  thrust::uniform_int_distribution<int> dist;\n",
        "  thrust::host_vector<int> h_vec(50);\n",
        "  thrust::generate(h_vec.begin(), h_vec.end(), [&] { return dist(rng); });\n",
        "\n",
        "  // Transfer data to the device.\n",
        "  thrust::device_vector<int> d_vec = h_vec;\n",
        "\n",
        "  // Sort data on the device.\n",
        "  thrust::sort(d_vec.begin(), d_vec.end());\n",
        "\n",
        "\n",
        "\n",
        "  thrust::device_vector<int>::iterator begin = d_vec.begin();\n",
        "  thrust::device_vector<int>::iterator end = d_vec.end();\n",
        "  int len = end - begin;\n",
        "\n",
        "\n",
        "  double media = thrust::reduce(d_vec.begin(), d_vec.end()) / len;\n",
        "\n",
        "//   thrust::device_vector<double> media_vector(len, media);\n",
        "\n",
        "  thrust::constant_iterator<double> media_vector_begin(media);\n",
        "  thrust::constant_iterator<double> media_vector_end = media_vector_begin + len;\n",
        "\n",
        "  thrust::device_vector<double> subtracao_vec(len);\n",
        "  thrust::device_vector<double> quadrado_vec(len);\n",
        "  thrust::transform (d_vec.begin(), d_vec.end(), media_vector_begin, subtracao_vec.begin(), thrust::minus<double>());\n",
        "  thrust::transform (subtracao_vec.begin(), subtracao_vec.end(), subtracao_vec.begin(), quadrado_vec.begin(), thrust::multiplies<double>());\n",
        "\n",
        "  double soma_quadrados = thrust::reduce(quadrado_vec.begin(), quadrado_vec.end());\n",
        "\n",
        "  double variance = soma_quadrados / len;\n",
        "\n",
        "  std::cout << \"variancia: \" << variance << std::endl;\n",
        "}\n"
      ]
    },
    {
      "cell_type": "code",
      "execution_count": null,
      "metadata": {
        "id": "6jimF99my1I2"
      },
      "outputs": [],
      "source": [
        "!nvcc aula14.cu -o aula14"
      ]
    },
    {
      "cell_type": "code",
      "execution_count": null,
      "metadata": {
        "colab": {
          "base_uri": "https://localhost:8080/"
        },
        "id": "_a5FcCDwy5YV",
        "outputId": "bc1077a7-f0c8-43b6-cf11-61465302b80d"
      },
      "outputs": [
        {
          "name": "stdout",
          "output_type": "stream",
          "text": [
            "variancia: 1.23561e+18\n"
          ]
        }
      ],
      "source": [
        "!./aula14"
      ]
    },
    {
      "cell_type": "code",
      "execution_count": 1,
      "metadata": {
        "colab": {
          "base_uri": "https://localhost:8080/"
        },
        "id": "6xH4PmXgy-Iw",
        "outputId": "b0c18734-9834-410b-ee07-1ed8e19b4b7a"
      },
      "outputs": [
        {
          "name": "stdout",
          "output_type": "stream",
          "text": [
            "Writing aula15.cu\n"
          ]
        }
      ],
      "source": [
        "%%writefile aula15.cu\n",
        "\n",
        " #include <thrust/host_vector.h>\n",
        " #include <thrust/device_vector.h>\n",
        " #include <thrust/generate.h>\n",
        " #include <thrust/functional.h>\n",
        " #include <thrust/copy.h>\n",
        " #include <cstdlib>\n",
        " #include <algorithm>\n",
        " #include <iostream>\n",
        " #include <iomanip>\n",
        "\n",
        " using namespace  std;\n",
        "\n",
        "struct saxpy\n",
        "{\n",
        "    int a;    \n",
        "    saxpy(int a_) : a(a_) {};\n",
        "    __host__ __device__\n",
        "    double operator()(const int& x, const int& y) {\n",
        "           return a * x + y;\n",
        "    }\n",
        "};\n",
        "\n",
        "int main(int argc, char* argv[]) {\n",
        "     if (argc != 3) {\n",
        "         cerr <<\n",
        "          \"***Numero incorreto de argumentos ***\\n\";\n",
        "         return 1;\n",
        "     }\n",
        "\n",
        "     int n = atoi(argv[1]); // tamanho dos vetores\n",
        "     int m = atoi(argv[2]); // constante\n",
        "\n",
        "     //gerar numeros aleatorios\n",
        "     thrust::host_vector<int> a(n);\n",
        "     thrust::host_vector<int> b(n);\n",
        "     thrust::host_vector<int> c(n);\n",
        "     thrust::generate(a.begin(), a.end(), rand);\n",
        "     thrust::generate(b.begin(), b.end(), rand);\n",
        "\n",
        "     //transferimos para a GPU\n",
        "     thrust::device_vector<int> d_a = a;\n",
        "     thrust::device_vector<int> d_b = b;\n",
        "\n",
        "     //transformacao\n",
        "\n",
        "     thrust::transform(d_a.begin(), d_a.end(),\n",
        "                       d_b.begin(), d_b.end(),\n",
        "                       saxpy(m));\n",
        "\n",
        "     thrust::copy(d_b.begin(), d_b.end(),\n",
        "     c.begin()); \n",
        "\n",
        "     for (int i = 0; i < n; i++ )\n",
        "         cout << setw(6) << c[i] << \" = \" \n",
        "          << setw(2) << m\n",
        "          << \"*\" << setw(5) << a[i]\n",
        "          << \"+\" << setw(5) << b[i]\n",
        "          << endl;\n",
        "\n",
        "}"
      ]
    },
    {
      "cell_type": "code",
      "execution_count": 2,
      "metadata": {
        "id": "q6dPR6HK3Jtf"
      },
      "outputs": [],
      "source": [
        "!nvcc aula15.cu -o aula15"
      ]
    },
    {
      "cell_type": "code",
      "execution_count": 4,
      "metadata": {
        "colab": {
          "base_uri": "https://localhost:8080/"
        },
        "id": "UASjd9AZ3MoV",
        "outputId": "d7a2a60e-cf80-4321-f504-c83f496365fc"
      },
      "outputs": [
        {
          "name": "stdout",
          "output_type": "stream",
          "text": [
            "1036140795 = 50*1804289383+1036140795\n",
            "463480570 = 50*846930886+463480570\n",
            "2040651434 = 50*1681692777+2040651434\n",
            "1975960378 = 50*1714636915+1975960378\n",
            "317097467 = 50*1957747793+317097467\n",
            "1892066601 = 50*424238335+1892066601\n",
            "1376710097 = 50*719885386+1376710097\n",
            "927612902 = 50*1649760492+927612902\n",
            "1330573317 = 50*596516649+1330573317\n",
            "603570492 = 50*1189641421+603570492\n",
            "1687926652 = 50*1025202362+1687926652\n",
            "660260756 = 50*1350490027+660260756\n",
            "959997301 = 50*783368690+959997301\n",
            "485560280 = 50*1102520059+485560280\n",
            "402724286 = 50*2044897763+402724286\n",
            "593209441 = 50*1967513926+593209441\n",
            "1194953865 = 50*1365180540+1194953865\n",
            "894429689 = 50*1540383426+894429689\n",
            "364228444 = 50*304089172+364228444\n",
            "1947346619 = 50*1303455736+1947346619\n",
            "221558440 = 50*35005211+221558440\n",
            "270744729 = 50*521595368+270744729\n",
            "1063958031 = 50*294702567+1063958031\n",
            "1633108117 = 50*1726956429+1633108117\n",
            "2114738097 = 50*336465782+2114738097\n",
            "2007905771 = 50*861021530+2007905771\n",
            "1469834481 = 50*278722862+1469834481\n",
            "822890675 = 50*233665123+822890675\n",
            "1610120709 = 50*2145174067+1610120709\n",
            "791698927 = 50*468703135+791698927\n",
            "631704567 = 50*1101513929+631704567\n",
            "498777856 = 50*1801979802+498777856\n",
            "1255179497 = 50*1315634022+1255179497\n",
            "524872353 = 50*635723058+524872353\n",
            "327254586 = 50*1369133069+327254586\n",
            "1572276965 = 50*1125898167+1572276965\n",
            "269455306 = 50*1059961393+269455306\n",
            "1703964683 = 50*2089018456+1703964683\n",
            "352406219 = 50*628175011+352406219\n",
            "1600028624 = 50*1656478042+1600028624\n",
            "160051528 = 50*1131176229+160051528\n",
            "2040332871 = 50*1653377373+2040332871\n",
            "112805732 = 50*859484421+112805732\n",
            "1120048829 = 50*1914544919+1120048829\n",
            "378409503 = 50*608413784+378409503\n",
            "515530019 = 50*756898537+515530019\n",
            "1713258270 = 50*1734575198+1713258270\n",
            "1573363368 = 50*1973594324+1573363368\n",
            "1409959708 = 50*149798315+1409959708\n",
            "2077486715 = 50*2038664370+2077486715\n",
            "1373226340 = 50*1129566413+1373226340\n",
            "1631518149 = 50*184803526+1631518149\n",
            "200747796 = 50*412776091+200747796\n",
            "289700723 = 50*1424268980+289700723\n",
            "1117142618 = 50*1911759956+1117142618\n",
            "168002245 = 50*749241873+168002245\n",
            "150122846 = 50*137806862+150122846\n",
            "439493451 = 50*42999170+439493451\n",
            "990892921 = 50*982906996+990892921\n",
            "1760243555 = 50*135497281+1760243555\n",
            "1231192379 = 50*511702305+1231192379\n",
            "1622597488 = 50*2084420925+1622597488\n",
            "111537764 = 50*1937477084+111537764\n",
            "338888228 = 50*1827336327+338888228\n",
            "2147469841 = 50*572660336+2147469841\n",
            "438792350 = 50*1159126505+438792350\n",
            "1911165193 = 50*805750846+1911165193\n",
            "269441500 = 50*1632621729+269441500\n",
            "2142757034 = 50*1100661313+2142757034\n",
            "116087764 = 50*1433925857+116087764\n",
            "1869470124 = 50*1141616124+1869470124\n",
            "155324914 = 50*84353895+155324914\n",
            "8936987 = 50*939819582+8936987\n",
            "1982275856 = 50*2001100545+1982275856\n",
            "1275373743 = 50*1998898814+1275373743\n",
            "387346491 = 50*1548233367+387346491\n",
            "350322227 = 50*610515434+350322227\n",
            "841148365 = 50*1585990364+841148365\n",
            "1960709859 = 50*1374344043+1960709859\n",
            "1760281936 = 50*760313750+1760281936\n",
            "771151432 = 50*1477171087+771151432\n",
            "1186452551 = 50*356426808+1186452551\n",
            "1244316437 = 50*945117276+1244316437\n",
            "971899228 = 50*1889947178+971899228\n",
            "1476153275 = 50*1780695788+1476153275\n",
            "213975407 = 50*709393584+213975407\n",
            "1139901474 = 50*491705403+1139901474\n",
            "1626276121 = 50*1918502651+1626276121\n",
            "653468858 = 50*752392754+653468858\n",
            "2130794395 = 50*1474612399+2130794395\n",
            "1239036029 = 50*2053999932+1239036029\n",
            "1884661237 = 50*1264095060+1884661237\n",
            "1605908235 = 50*1411549676+1605908235\n",
            "1350573793 = 50*1843993368+1350573793\n",
            "76065818 = 50*943947739+76065818\n",
            "1605894428 = 50*1984210012+1605894428\n",
            "1789366143 = 50*855636226+1789366143\n",
            "1987231011 = 50*1749698586+1987231011\n",
            "1875335928 = 50*1469348094+1875335928\n",
            "1784639529 = 50*1956297539+1784639529\n"
          ]
        }
      ],
      "source": [
        "!./aula15 100 50"
      ]
    },
    {
      "cell_type": "code",
      "execution_count": null,
      "metadata": {
        "id": "cXg3pPj03Rtx"
      },
      "outputs": [],
      "source": []
    }
  ],
  "metadata": {
    "accelerator": "GPU",
    "colab": {
      "provenance": []
    },
    "gpuClass": "standard",
    "kernelspec": {
      "display_name": "Python 3",
      "name": "python3"
    },
    "language_info": {
      "name": "python"
    }
  },
  "nbformat": 4,
  "nbformat_minor": 0
}
