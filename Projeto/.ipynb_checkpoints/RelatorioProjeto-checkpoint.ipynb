{
 "cells": [
  {
   "cell_type": "markdown",
   "id": "875b3be3",
   "metadata": {},
   "source": [
    "# Relatório Parcial : Maratona de Filmes"
   ]
  },
  {
   "cell_type": "markdown",
   "id": "cb1d4769",
   "metadata": {},
   "source": [
    "Alunos: Bernardo Cunha Capoferri, Lívia Sayuri Makuta.\n",
    "\n"
   ]
  },
  {
   "cell_type": "markdown",
   "id": "c9876326",
   "metadata": {},
   "source": [
    "## Índice :\n",
    "* [Objetivo do projeto](#first-bullet)\n",
    "* [Detalhe de implementação da heurística gulosa e aleatória](#second-bullet)\n",
    "* [Considerações sobre o profiling](#third-bullet)\n",
    "* [Comparação entre as heurísticas conforme muda o valor](#fourth-bullet)\n",
    "* [](#fifth-bullet)"
   ]
  },
  {
   "cell_type": "markdown",
   "id": "1b7f126d",
   "metadata": {},
   "source": [
    "O que você deverá fazer:\n",
    "\n",
    "No blackboard, você deve fazer upload de todos os códigos-fonte, arquivos de input, arquivos de output para cada heurítica. Caso opte por enviar um link do github com o repositório completo, também poderá faze-lo, desde que garanta que teremos acesso aos arquivos no seu repositório;\n",
    "\n",
    "Você deve elaborar um relatório parcial contendo as seguintes seções:\n",
    "\n",
    "Para cada heurística você deve explicar como implementou a heurística (detalhe como você tratou o input, qual a lógica do seu output, quais invariantes existem em suas heurísticas), apresentar (i) o código-fonte comentado, (ii) fazer considerações sobre o profiling (valgrind) do código-fonte (use apenas 1 arquivo de input para isso, não há necessidade de fazer esse profiling para vários inputs), (iii) o resultado compartivo entre as heurísticas quando você varia o input (o input deve variar na quantidade de filmes e de categorias).\n",
    "\n",
    "Seu relatório deve ser gráficos e tabelas que subsidem as suas considerações\n",
    "\n",
    "É permitido criar um programa em python ou outra linguagem que automatize a geração de seus resultados, isto é, que execute seus códigos C++ em função dos diferentes inputs."
   ]
  },
  {
   "cell_type": "markdown",
   "id": "7ae79b43",
   "metadata": {},
   "source": [
    "48 segundos: heuristica gulosa com 100000000\n",
    "    \n",
    "53 segundos : aleatorização com 100000000\n",
    "\n",
    "54 segundos misturado com 100000000.\n",
    "\n",
    "\n",
    "e 400 categorias\n"
   ]
  },
  {
   "cell_type": "markdown",
   "id": "364a0b29",
   "metadata": {},
   "source": [
    "# Objetivo do projeto <a class=\"anchor\" id=\"first-bullet\"></a>\n",
    "\n",
    "O projeto parte do seguinte cenário: em um final de semana você quer assistir o máximo de filmes posssíveis. Entretanto, para que isso aconteça, existem algumas restrições de horário e de categorias. Isso implica nas seguintes situações: o usuário pode assistir apenas um filme durante um intervalo de tempo, e precisa atender a quantidade de filmes por categoria que são desejados. Isso em forma de dados equivaleria ao seguinte:\n",
    "\n",
    "- Como entrada temos uma quantidade de filmes `n` inteiros disponíveis;\n",
    "- Além disso, também temos uma quantidade `m` inteiros que representa o número máximo de filmes que podem ser assistidos em cada categoria (comédia, drama, ação, etc).\n",
    "- Por fim, temos 'n' trios de inteiros que representam a hora de início, a hora de fim e a categoria do filmes: `H[i], F[i], C[i]`, respectivamente.\n",
    "\n",
    "\n",
    "Dessa forma, o formato de dados de entrada seguiria o seguinte exemplo:\n",
    "\n",
    "``` txt\n",
    "10 4\n",
    "1 3 1 2 \n",
    "11 13 3\n",
    "14 15 3\n",
    "10 16 2\n",
    "10 14 1\n",
    "11 17 2\n",
    "11 14 3\n",
    "13 15 3\n",
    "14 15 1\n",
    "12 16 4\n",
    "12 13 4\n",
    "```\n",
    "\n",
    "Sendo nesse caso:\n",
    "\n",
    "- `n = 10`, ou seja, existem 10 filmes disponíveis para serem assitidos.\n",
    "- `m = 1, 3, 1, 2`, ou seja, podem ser assistidos: 1 filme para a categoria 1, 3 filmes para a categoria 2, 1 filme para a categoria 3 e 2 filmes para a categoria 4.\n",
    "- `(H[1], F[1], C[1]) = (11, 13, 3); (H[2], F[2], C[2]) = (14, 15, 3)` e assim por diante. Ou seja, o filme 1 começa às 11h, termina às 13h e pertence a categoria 3, enquanto o filme 2 começa às 14, termina às 15h e pertence a categoria 3.\n",
    "\n",
    "Logo, o objetivo do projeto é conseguir agrupar o máximo de filmes que podem ser assistidos em um dia e seguindo as restrições impostas. assim, como saída de dados nosso programa deve retornar: um inteiro que representa o número máximo dos filmes e os filmes que podem ser assistidos. Exemplo:\n",
    "\n",
    "```txt\n",
    "Foram vistos 2 filmes.\n",
    "12 13 4\n",
    "14 15 1\n",
    "```"
   ]
  },
  {
   "cell_type": "markdown",
   "id": "f10fc3da",
   "metadata": {},
   "source": [
    "# Detalhe de implementação da heurística gulosa e aleatória <a class=\"anchor\" id=\"second-bullet\"></a>\n",
    "\n",
    "Neste tópico será explicado como as heurísticas foram implementadas no nosso código em C++. Mas antes, importante ressaltar que todos os dados de entrada e arquivos no formato `.txt`foram gerados pelo código de exemplo passado pelo professor no site da disciplina: https://insper.github.io/supercomp/projetos/ ."
   ]
  },
  {
   "cell_type": "markdown",
   "id": "acf5a9a7",
   "metadata": {},
   "source": [
    "## Heurística gulosa\n",
    "\n",
    "Antes de explicar como essa heurística foi implementada, primeiro começaremos explicando seu conceito e como ela funciona. Dessa forma, tem-se que a ideia principal da heurística gulosa (Greedy) é tentar encontrar uma solução  global ótima. E para fazer isso, seguimos a seguinte abordagem:\n",
    "\n",
    "\n",
    "1) Primeiro escolhemos uma solução inicial. No caso, escolhemos ordenar os filmes em ordem crescente do horário de fim. Depois, com eles ordenados, escolhemos ordenar novamente apenas aqueles filmes cujos horários de fim são os mesmos. E para esses, aplicamos uma ordenção crescente em relação ao horário de início.\n",
    "\n",
    "2) Depois, aplicamos as restrições e escolhemos o primeiro filme que as atendia de acordo com os horários de fim que estão organizado de maneira crescente.\n",
    "\n",
    "Logo, como pode ser visto, o objetivo da heurística gulosa é encontrar a solução ótima em um problema de otimização. No entanto, nem sempre é possível garantir que a solução encontrada seja a melhor possível, pois pode haver soluções melhores que não foram consideradas devido à abordagem local do algoritmo.\n",
    "\n",
    "Apesar disso, a heurística gulosa é muito utilizada em problemas de otimização, especialmente quando o tamanho do problema é grande e não é possível encontrar a solução ótima de forma eficiente. Além disso, o algoritmo pode ser modificado e combinado com outras técnicas - como faremos posteriormente - para melhorar a qualidade da solução encontrada.\n"
   ]
  },
  {
   "cell_type": "code",
   "execution_count": null,
   "id": "f042edf7",
   "metadata": {},
   "outputs": [],
   "source": []
  }
 ],
 "metadata": {
  "kernelspec": {
   "display_name": "Python 3 (ipykernel)",
   "language": "python",
   "name": "python3"
  },
  "language_info": {
   "codemirror_mode": {
    "name": "ipython",
    "version": 3
   },
   "file_extension": ".py",
   "mimetype": "text/x-python",
   "name": "python",
   "nbconvert_exporter": "python",
   "pygments_lexer": "ipython3",
   "version": "3.8.10"
  }
 },
 "nbformat": 4,
 "nbformat_minor": 5
}
