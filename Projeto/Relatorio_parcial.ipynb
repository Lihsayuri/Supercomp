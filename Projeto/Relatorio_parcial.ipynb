{
 "cells": [
  {
   "attachments": {},
   "cell_type": "markdown",
   "metadata": {},
   "source": [
    "# Relatório Parcial"
   ]
  },
  {
   "attachments": {},
   "cell_type": "markdown",
   "metadata": {},
   "source": [
    "Alunos: Bernardo Cunha Capoferri, Lívia Sayuri Makuta."
   ]
  },
  {
   "attachments": {},
   "cell_type": "markdown",
   "metadata": {},
   "source": [
    "## Índice :\n",
    "* [Detalhe de implementação da heurística gulosa e aleatória](#first-bullet)\n",
    "* [Considerações sobre o profiling](#second-bullet)\n",
    "* [Comparação entre as heurísticas conforme muda o valor](#third-bullet)\n",
    "* [](#fourth-bullet)"
   ]
  },
  {
   "attachments": {},
   "cell_type": "markdown",
   "metadata": {},
   "source": [
    "O que você deverá fazer:\n",
    "\n",
    "No blackboard, você deve fazer upload de todos os códigos-fonte, arquivos de input, arquivos de output para cada heurítica. Caso opte por enviar um link do github com o repositório completo, também poderá faze-lo, desde que garanta que teremos acesso aos arquivos no seu repositório;\n",
    "\n",
    "Você deve elaborar um relatório parcial contendo as seguintes seções:\n",
    "\n",
    "Para cada heurística você deve explicar como implementou a heurística (detalhe como você tratou o input, qual a lógica do seu output, quais invariantes existem em suas heurísticas), apresentar (i) o código-fonte comentado, (ii) fazer considerações sobre o profiling (valgrind) do código-fonte (use apenas 1 arquivo de input para isso, não há necessidade de fazer esse profiling para vários inputs), (iii) o resultado compartivo entre as heurísticas quando você varia o input (o input deve variar na quantidade de filmes e de categorias).\n",
    "\n",
    "Seu relatório deve ser gráficos e tabelas que subsidem as suas considerações\n",
    "\n",
    "É permitido criar um programa em python ou outra linguagem que automatize a geração de seus resultados, isto é, que execute seus códigos C++ em função dos diferentes inputs.\n",
    "\n",
    "48 segundos: heuristica gulosa com 100000000\n",
    "    \n",
    "53 segundos : aleatorização com 100000000\n",
    "\n",
    "54 segundos misturado com 100000000.\n",
    "\n",
    "\n",
    "e 400 categorias\n"
   ]
  },
  {
   "attachments": {},
   "cell_type": "markdown",
   "metadata": {},
   "source": [
    "import subprocess\n",
    "import time\n",
    "def roda_com_entrada(executavel, arquivo_in):\n",
    "  with open(f'testes/{arquivo_in}') as f:\n",
    "      start = time.perf_counter()\n",
    "      proc = subprocess.run([f'./{executavel}'], input=f.read(), text=True, capture_output=True)\n",
    "      end = time.perf_counter()\n",
    "\n",
    "      print('Saída:', proc.stdout)\n",
    "      print('Stderr:', proc.stderr)\n",
    "      print('Tempo total(s):', end - start)\n",
    "\n",
    "      return (proc.stdout, (end - start))\n",
    "\n",
    "\n",
    "\n",
    "\n",
    "lista_arquivos = ['input_dez_mil_100.txt', 'input_cem_mil_100.txt', 'input_um_milhao_100.txt', 'input_dez_milhoes_100.txt', 'input_cem_milhoes_100.txt']\n",
    "\n",
    "lista_executaveis = ['aleatorizacao', 'gulosa', 'projeto']"
   ]
  },
  {
   "cell_type": "code",
   "execution_count": 4,
   "metadata": {},
   "outputs": [
    {
     "name": "stdout",
     "output_type": "stream",
     "text": [
      "Foram vistos 21 filmes.\n",
      "22 1 350\n",
      "1 2 14\n",
      "2 3 69\n",
      "3 4 374\n",
      "4 5 96\n",
      "5 6 241\n",
      "6 7 365\n",
      "7 8 47\n",
      "9 9 302\n",
      "10 10 396\n",
      "11 11 207\n",
      "12 12 210\n",
      "13 13 332\n",
      "14 14 280\n",
      "15 15 203\n",
      "16 16 377\n",
      "17 17 385\n",
      "18 18 211\n",
      "19 19 395\n",
      "20 20 159\n",
      "21 21 322\n"
     ]
    }
   ],
   "source": [
    "!./aleatorizacao < inputs/input_cem_milhoes.txt\n",
    "\n"
   ]
  },
  {
   "cell_type": "code",
   "execution_count": null,
   "metadata": {},
   "outputs": [],
   "source": [
    "52, "
   ]
  }
 ],
 "metadata": {
  "kernelspec": {
   "display_name": "Python 3",
   "language": "python",
   "name": "python3"
  },
  "language_info": {
   "codemirror_mode": {
    "name": "ipython",
    "version": 3
   },
   "file_extension": ".py",
   "mimetype": "text/x-python",
   "name": "python",
   "nbconvert_exporter": "python",
   "pygments_lexer": "ipython3",
   "version": "3.8.10"
  },
  "orig_nbformat": 4
 },
 "nbformat": 4,
 "nbformat_minor": 2
}
