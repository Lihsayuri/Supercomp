{
  "nbformat": 4,
  "nbformat_minor": 0,
  "metadata": {
    "colab": {
      "provenance": []
    },
    "kernelspec": {
      "name": "python3",
      "display_name": "Python 3"
    },
    "language_info": {
      "name": "python"
    }
  },
  "cells": [
    {
      "cell_type": "code",
      "execution_count": 89,
      "metadata": {
        "colab": {
          "base_uri": "https://localhost:8080/"
        },
        "id": "3BG85dJ6Po-q",
        "outputId": "4c6afc9b-352e-4af4-81f7-d3dff09f22de"
      },
      "outputs": [
        {
          "output_type": "stream",
          "name": "stdout",
          "text": [
            "Overwriting programa.cpp\n"
          ]
        }
      ],
      "source": [
        "%%writefile programa.cpp\n",
        "\n",
        "#include <iostream>\n",
        "\n",
        "int main(){\n",
        "    std::cout <<\"Hello World! YAYYY \\n\";\n",
        "    return 0;\n",
        "}"
      ]
    },
    {
      "cell_type": "markdown",
      "source": [
        "Pega o conteúdo e gera o arquivo nos files. Pode fazer com qualquer linguagem que estiver trabalhando."
      ],
      "metadata": {
        "id": "7ZeQc5LOQumS"
      }
    },
    {
      "cell_type": "code",
      "source": [
        "!g++ -o programa programa.cpp"
      ],
      "metadata": {
        "id": "95W0xfveQvw9"
      },
      "execution_count": 90,
      "outputs": []
    },
    {
      "cell_type": "code",
      "source": [
        "!./programa"
      ],
      "metadata": {
        "colab": {
          "base_uri": "https://localhost:8080/"
        },
        "id": "rVlAb7m7RHAR",
        "outputId": "762db0f3-3ec3-4630-9cd0-b6d8d89fbf75"
      },
      "execution_count": 91,
      "outputs": [
        {
          "output_type": "stream",
          "name": "stdout",
          "text": [
            "Hello World! YAYYY \n"
          ]
        }
      ]
    },
    {
      "cell_type": "markdown",
      "source": [
        "Em C usamos as funções printf para mostrar dados no terminal e scanf para ler dados. Em C++ essas funções também podem ser usadas, mas em geral são substituídas pelos objetos std::cin e std::cout (disponíveis no cabeçalho iostream).\n",
        "\n",
        "A maior vantagem de usar cin e cout é que não precisamos mais daquelas strings de formatação estranhas com %d, %s e afins. Podemos passar variáveis diretamente para a saída do terminal usando o operador <<. Veja um exemplo abaixo.\n",
        "\n"
      ],
      "metadata": {
        "id": "NwHyUjtiShuF"
      }
    },
    {
      "cell_type": "code",
      "source": [
        "%%writefile exemplo1.cpp\n",
        "\n",
        "#include <iostream>\n",
        "\n",
        "int main(){\n",
        "    int a = 10;\n",
        "    double b = 3.2;\n",
        "    std::cout << \"Saída: \" << a << \";\" << b << \"\\n\";\n",
        "    return 0;\n",
        "}"
      ],
      "metadata": {
        "colab": {
          "base_uri": "https://localhost:8080/"
        },
        "id": "1orB7vd2RVpf",
        "outputId": "8d703217-d123-4a41-b4ed-f85cfd4b89b8"
      },
      "execution_count": 92,
      "outputs": [
        {
          "output_type": "stream",
          "name": "stdout",
          "text": [
            "Overwriting exemplo1.cpp\n"
          ]
        }
      ]
    },
    {
      "cell_type": "code",
      "source": [
        "!g++ -o exemplo1 exemplo1.cpp"
      ],
      "metadata": {
        "id": "78KnQuIdSs-T"
      },
      "execution_count": 93,
      "outputs": []
    },
    {
      "cell_type": "code",
      "source": [
        "!./exemplo1"
      ],
      "metadata": {
        "colab": {
          "base_uri": "https://localhost:8080/"
        },
        "id": "gv0KeInlSvt3",
        "outputId": "65a1ed3e-d853-496e-fcd6-eb44ffde4e14"
      },
      "execution_count": 94,
      "outputs": [
        {
          "output_type": "stream",
          "name": "stdout",
          "text": [
            "Saída: 10;3.2\n"
          ]
        }
      ]
    },
    {
      "cell_type": "markdown",
      "source": [
        "A implementação de algoritmos definidos usando expressões matemáticas é uma habilidade importante neste curso.\n",
        "\n",
        "Escreva um programa que receba um inteiro n e calcule a seguinte série.\n",
        "\n",
        "Mostre as primeiras 15 casas decimais de S. Veja a documentação de std::setprecision aqui.\n",
        "\n",
        "shiftar para direita é dividir por 2 e pela esquerda multiplicar"
      ],
      "metadata": {
        "id": "vKBUSXo4TR2L"
      }
    },
    {
      "cell_type": "code",
      "source": [
        "%%writefile ex1.cpp\n",
        "\n",
        "#include <iostream>\n",
        "#include <cmath>\n",
        "#include <iomanip> \n",
        "\n",
        "int somatorio(int n){\n",
        "    double soma = 0;\n",
        "    // double soma = 1;\n",
        "    int p = 1;\n",
        "    //for (int i = 1; i < n; i++) {\n",
        "    for (int i = 0; i < n; i++) {\n",
        "      //soma += 1/pow(2, i);\n",
        "      //soma += 1.0/(p=p<<1); ta dando errado\n",
        "      soma += 1.0/(1<<i);\n",
        "    }\n",
        "    std::cout << std::setprecision(16) << \"Soma: \" << soma ;\n",
        "    return 0;\n",
        "}\n",
        "\n",
        "int main(){\n",
        "  somatorio(10);\n",
        "}"
      ],
      "metadata": {
        "colab": {
          "base_uri": "https://localhost:8080/"
        },
        "id": "IsJeFJtCTSOY",
        "outputId": "c927251f-3429-4e1a-8c41-4e7a483a2b18"
      },
      "execution_count": 165,
      "outputs": [
        {
          "output_type": "stream",
          "name": "stdout",
          "text": [
            "Overwriting ex1.cpp\n"
          ]
        }
      ]
    },
    {
      "cell_type": "code",
      "source": [
        "!g++ -o ex1 ex1.cpp"
      ],
      "metadata": {
        "id": "RIalCY6DUS_x"
      },
      "execution_count": 166,
      "outputs": []
    },
    {
      "cell_type": "code",
      "source": [
        "!./ex1"
      ],
      "metadata": {
        "colab": {
          "base_uri": "https://localhost:8080/"
        },
        "id": "imI3VvDmUUQ0",
        "outputId": "78a620ad-4f30-4c10-d529-6e0e6fea2459"
      },
      "execution_count": 167,
      "outputs": [
        {
          "output_type": "stream",
          "name": "stdout",
          "text": [
            "Soma: 1.998046875"
          ]
        }
      ]
    },
    {
      "cell_type": "markdown",
      "source": [
        "A estrutura std::vector é um vetor dinâmico que tem funcionalidades parecidas com a lista de Python ou o ArrayList de Java. O código abaixo exemplifica seu uso e mostra algumas de suas funções. Note que omitimos o uso de std no código abaixo."
      ],
      "metadata": {
        "id": "GfHN6-B4WkOx"
      }
    },
    {
      "cell_type": "code",
      "source": [
        "%%writefile exemplo2.cpp\n",
        "\n",
        "#include <iostream>\n",
        "#include <cmath>\n",
        "#include <iomanip>\n",
        "#include <vector>\n",
        "using namespace std;\n",
        "\n",
        "int main(){\n",
        "    int n;\n",
        "    cin >> n;\n",
        "    vector<double> vec;\n",
        "    for (int i = 0; i < n; i++) {\n",
        "        vec.push_back(i * i);\n",
        "    }\n",
        "\n",
        "    cout << \"Tamanho do vetor: \" << vec.size() << \"\\n\";\n",
        "    cout << \"Primeiro elemento: \" << vec.front() << \"\\n\";\n",
        "    cout << \"Último elemento: \" << vec.back() << \"\\n\";\n",
        "    cout << \"Elemento 3: \" << vec[2] << \"\\n\";\n",
        "}\n"
      ],
      "metadata": {
        "colab": {
          "base_uri": "https://localhost:8080/"
        },
        "id": "E-s8NkAPWkpq",
        "outputId": "4ac3b4d0-3a7e-4801-bc78-c94cac9bf5db"
      },
      "execution_count": 98,
      "outputs": [
        {
          "output_type": "stream",
          "name": "stdout",
          "text": [
            "Overwriting exemplo2.cpp\n"
          ]
        }
      ]
    },
    {
      "cell_type": "code",
      "source": [
        "!g++ -o exemplo2 exemplo2.cpp"
      ],
      "metadata": {
        "id": "F0GuwtCGWzNz"
      },
      "execution_count": 99,
      "outputs": []
    },
    {
      "cell_type": "code",
      "source": [
        "!./exemplo2"
      ],
      "metadata": {
        "colab": {
          "base_uri": "https://localhost:8080/"
        },
        "id": "01NqqGeNW1o-",
        "outputId": "b3afc59c-ee8f-4891-b54d-4acfc65c3a21"
      },
      "execution_count": 81,
      "outputs": [
        {
          "output_type": "stream",
          "name": "stdout",
          "text": [
            "4\n",
            "Tamanho do vetor: 4\n",
            "Primeiro elemento: 0\n",
            "Último elemento: 9\n",
            "Elemento 3: 4\n"
          ]
        }
      ]
    },
    {
      "cell_type": "markdown",
      "source": [
        "Crie um programa que lê um número inteiro n e depois lê n números fracionários xi. Faça os seguintes cálculos e motre-os no terminal com 10 casas decimais.\n",
        "\n"
      ],
      "metadata": {
        "id": "D3i5J7WSZbo0"
      }
    },
    {
      "cell_type": "code",
      "source": [
        "%%writefile ex2.cpp\n",
        "\n",
        "#include <iostream>\n",
        "#include <cmath>\n",
        "#include <iomanip>\n",
        "#include <vector>\n",
        "using namespace std;\n",
        "\n",
        "\n",
        "int main(){\n",
        "    int n;\n",
        "    std::cin >> n;\n",
        "    std::vector<double> vec;\n",
        "\n",
        "    for (int i = 0; i < n; i++) {    \n",
        "        double num ;\n",
        "        std::cin >> num;\n",
        "        vec.push_back(num);\n",
        "    }\n",
        "\n",
        "    double soma = 0;\n",
        "    for (int j = 0; j < n ; j++) {\n",
        "      soma += vec[j];\n",
        "    }\n",
        "\n",
        "    double media = soma/n;\n",
        "\n",
        "    double soma2 = 0;\n",
        "    for (int k = 0; k < n ; k++) {\n",
        "      soma2 += pow(vec[k] - media, 2);\n",
        "    }\n",
        "\n",
        "    double variancia = soma2/n;\n",
        "\n",
        "    cout << \"Tamanho do vetor: \" << vec.size() << \"\\n\";\n",
        "    cout << \"Primeiro elemento: \" << vec.front() << \"\\n\";\n",
        "    cout << \"Último elemento: \" << vec.back() << \"\\n\";\n",
        "    cout << setprecision(2) << \"Média: \" << media << \"\\n\";\n",
        "    cout << setprecision(2) << \"Variância: \" << variancia << \"\\n\";\n",
        "}"
      ],
      "metadata": {
        "colab": {
          "base_uri": "https://localhost:8080/"
        },
        "id": "D7jukO8HZgt3",
        "outputId": "c0e20e54-d0a0-4358-c758-0688be923826"
      },
      "execution_count": 202,
      "outputs": [
        {
          "output_type": "stream",
          "name": "stdout",
          "text": [
            "Overwriting ex2.cpp\n"
          ]
        }
      ]
    },
    {
      "cell_type": "code",
      "source": [
        "!g++ -o ex2 ex2.cpp"
      ],
      "metadata": {
        "id": "ZOOx-UBrab3E"
      },
      "execution_count": 203,
      "outputs": []
    },
    {
      "cell_type": "code",
      "source": [
        "!./ex2"
      ],
      "metadata": {
        "colab": {
          "base_uri": "https://localhost:8080/"
        },
        "id": "fzzANmnKakEy",
        "outputId": "248729ec-a10d-41d6-cf1d-3375db166bc4"
      },
      "execution_count": 204,
      "outputs": [
        {
          "output_type": "stream",
          "name": "stdout",
          "text": [
            "5\n",
            "0.8299160901953123\n",
            "0.5225698894025094\n",
            "0.46330370309392666\n",
            "0.8763088275423603\n",
            "0.6434887181067234\n",
            "Tamanho do vetor: 5\n",
            "Primeiro elemento: 0.829916\n",
            "Último elemento: 0.643489\n",
            "Média: 0.67\n",
            "Variância: 0.027\n"
          ]
        }
      ]
    },
    {
      "cell_type": "code",
      "source": [
        "3\n",
        "102\n",
        "10\n",
        "\n",
        "0.8299160901953123\n",
        "0.5225698894025094\n",
        "0.46330370309392666\n",
        "0.8763088275423603\n",
        "0.6434887181067234\n"
      ],
      "metadata": {
        "id": "BVvFnY6GenKc"
      },
      "execution_count": null,
      "outputs": []
    }
  ]
}