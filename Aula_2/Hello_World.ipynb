{
  "cells": [
    {
      "cell_type": "code",
      "execution_count": 89,
      "metadata": {
        "colab": {
          "base_uri": "https://localhost:8080/"
        },
        "id": "3BG85dJ6Po-q",
        "outputId": "4c6afc9b-352e-4af4-81f7-d3dff09f22de"
      },
      "outputs": [
        {
          "name": "stdout",
          "output_type": "stream",
          "text": [
            "Overwriting programa.cpp\n"
          ]
        }
      ],
      "source": [
        "%%writefile programa.cpp\n",
        "\n",
        "#include <iostream>\n",
        "\n",
        "int main(){\n",
        "    std::cout <<\"Hello World! YAYYY \\n\";\n",
        "    return 0;\n",
        "}"
      ]
    },
    {
      "cell_type": "markdown",
      "metadata": {
        "id": "7ZeQc5LOQumS"
      },
      "source": [
        "Pega o conteúdo e gera o arquivo nos files. Pode fazer com qualquer linguagem que estiver trabalhando."
      ]
    },
    {
      "cell_type": "code",
      "execution_count": 90,
      "metadata": {
        "id": "95W0xfveQvw9"
      },
      "outputs": [],
      "source": [
        "!g++ -o programa programa.cpp"
      ]
    },
    {
      "cell_type": "code",
      "execution_count": 91,
      "metadata": {
        "colab": {
          "base_uri": "https://localhost:8080/"
        },
        "id": "rVlAb7m7RHAR",
        "outputId": "762db0f3-3ec3-4630-9cd0-b6d8d89fbf75"
      },
      "outputs": [
        {
          "name": "stdout",
          "output_type": "stream",
          "text": [
            "Hello World! YAYYY \n"
          ]
        }
      ],
      "source": [
        "!./programa"
      ]
    },
    {
      "cell_type": "markdown",
      "metadata": {
        "id": "NwHyUjtiShuF"
      },
      "source": [
        "Em C usamos as funções printf para mostrar dados no terminal e scanf para ler dados. Em C++ essas funções também podem ser usadas, mas em geral são substituídas pelos objetos std::cin e std::cout (disponíveis no cabeçalho iostream).\n",
        "\n",
        "A maior vantagem de usar cin e cout é que não precisamos mais daquelas strings de formatação estranhas com %d, %s e afins. Podemos passar variáveis diretamente para a saída do terminal usando o operador <<. Veja um exemplo abaixo.\n",
        "\n"
      ]
    },
    {
      "cell_type": "code",
      "execution_count": 92,
      "metadata": {
        "colab": {
          "base_uri": "https://localhost:8080/"
        },
        "id": "1orB7vd2RVpf",
        "outputId": "8d703217-d123-4a41-b4ed-f85cfd4b89b8"
      },
      "outputs": [
        {
          "name": "stdout",
          "output_type": "stream",
          "text": [
            "Overwriting exemplo1.cpp\n"
          ]
        }
      ],
      "source": [
        "%%writefile exemplo1.cpp\n",
        "\n",
        "#include <iostream>\n",
        "\n",
        "int main(){\n",
        "    int a = 10;\n",
        "    double b = 3.2;\n",
        "    std::cout << \"Saída: \" << a << \";\" << b << \"\\n\";\n",
        "    return 0;\n",
        "}"
      ]
    },
    {
      "cell_type": "code",
      "execution_count": 93,
      "metadata": {
        "id": "78KnQuIdSs-T"
      },
      "outputs": [],
      "source": [
        "!g++ -o exemplo1 exemplo1.cpp"
      ]
    },
    {
      "cell_type": "code",
      "execution_count": 94,
      "metadata": {
        "colab": {
          "base_uri": "https://localhost:8080/"
        },
        "id": "gv0KeInlSvt3",
        "outputId": "65a1ed3e-d853-496e-fcd6-eb44ffde4e14"
      },
      "outputs": [
        {
          "name": "stdout",
          "output_type": "stream",
          "text": [
            "Saída: 10;3.2\n"
          ]
        }
      ],
      "source": [
        "!./exemplo1"
      ]
    },
    {
      "cell_type": "markdown",
      "metadata": {
        "id": "vKBUSXo4TR2L"
      },
      "source": [
        "A implementação de algoritmos definidos usando expressões matemáticas é uma habilidade importante neste curso.\n",
        "\n",
        "Escreva um programa que receba um inteiro n e calcule a seguinte série.\n",
        "\n",
        "Mostre as primeiras 15 casas decimais de S. Veja a documentação de std::setprecision aqui.\n",
        "\n",
        "shiftar para direita é dividir por 2 e pela esquerda multiplicar"
      ]
    },
    {
      "cell_type": "code",
      "execution_count": 165,
      "metadata": {
        "colab": {
          "base_uri": "https://localhost:8080/"
        },
        "id": "IsJeFJtCTSOY",
        "outputId": "c927251f-3429-4e1a-8c41-4e7a483a2b18"
      },
      "outputs": [
        {
          "name": "stdout",
          "output_type": "stream",
          "text": [
            "Overwriting ex1.cpp\n"
          ]
        }
      ],
      "source": [
        "%%writefile ex1.cpp\n",
        "\n",
        "#include <iostream>\n",
        "#include <cmath>\n",
        "#include <iomanip> \n",
        "\n",
        "int somatorio(int n){\n",
        "    double soma = 0;\n",
        "    // double soma = 1;\n",
        "    int p = 1;\n",
        "    //for (int i = 1; i < n; i++) {\n",
        "    for (int i = 0; i < n; i++) {\n",
        "      //soma += 1/pow(2, i);\n",
        "      //soma += 1.0/(p=p<<1); ta dando errado\n",
        "      soma += 1.0/(1<<i);\n",
        "    }\n",
        "    std::cout << std::setprecision(16) << \"Soma: \" << soma ;\n",
        "    return 0;\n",
        "}\n",
        "\n",
        "int main(){\n",
        "  somatorio(10);\n",
        "}"
      ]
    },
    {
      "cell_type": "code",
      "execution_count": 166,
      "metadata": {
        "id": "RIalCY6DUS_x"
      },
      "outputs": [],
      "source": [
        "!g++ -o ex1 ex1.cpp"
      ]
    },
    {
      "cell_type": "code",
      "execution_count": 167,
      "metadata": {
        "colab": {
          "base_uri": "https://localhost:8080/"
        },
        "id": "imI3VvDmUUQ0",
        "outputId": "78a620ad-4f30-4c10-d529-6e0e6fea2459"
      },
      "outputs": [
        {
          "name": "stdout",
          "output_type": "stream",
          "text": [
            "Soma: 1.998046875"
          ]
        }
      ],
      "source": [
        "!./ex1"
      ]
    },
    {
      "cell_type": "markdown",
      "metadata": {
        "id": "GfHN6-B4WkOx"
      },
      "source": [
        "A estrutura std::vector é um vetor dinâmico que tem funcionalidades parecidas com a lista de Python ou o ArrayList de Java. O código abaixo exemplifica seu uso e mostra algumas de suas funções. Note que omitimos o uso de std no código abaixo."
      ]
    },
    {
      "cell_type": "code",
      "execution_count": 98,
      "metadata": {
        "colab": {
          "base_uri": "https://localhost:8080/"
        },
        "id": "E-s8NkAPWkpq",
        "outputId": "4ac3b4d0-3a7e-4801-bc78-c94cac9bf5db"
      },
      "outputs": [
        {
          "name": "stdout",
          "output_type": "stream",
          "text": [
            "Overwriting exemplo2.cpp\n"
          ]
        }
      ],
      "source": [
        "%%writefile exemplo2.cpp\n",
        "\n",
        "#include <iostream>\n",
        "#include <cmath>\n",
        "#include <iomanip>\n",
        "#include <vector>\n",
        "using namespace std;\n",
        "\n",
        "int main(){\n",
        "    int n;\n",
        "    cin >> n;\n",
        "    vector<double> vec;\n",
        "    for (int i = 0; i < n; i++) {\n",
        "        vec.push_back(i * i);\n",
        "    }\n",
        "\n",
        "    cout << \"Tamanho do vetor: \" << vec.size() << \"\\n\";\n",
        "    cout << \"Primeiro elemento: \" << vec.front() << \"\\n\";\n",
        "    cout << \"Último elemento: \" << vec.back() << \"\\n\";\n",
        "    cout << \"Elemento 3: \" << vec[2] << \"\\n\";\n",
        "}\n"
      ]
    },
    {
      "cell_type": "code",
      "execution_count": 99,
      "metadata": {
        "id": "F0GuwtCGWzNz"
      },
      "outputs": [],
      "source": [
        "!g++ -o exemplo2 exemplo2.cpp"
      ]
    },
    {
      "cell_type": "code",
      "execution_count": 81,
      "metadata": {
        "colab": {
          "base_uri": "https://localhost:8080/"
        },
        "id": "01NqqGeNW1o-",
        "outputId": "b3afc59c-ee8f-4891-b54d-4acfc65c3a21"
      },
      "outputs": [
        {
          "name": "stdout",
          "output_type": "stream",
          "text": [
            "4\n",
            "Tamanho do vetor: 4\n",
            "Primeiro elemento: 0\n",
            "Último elemento: 9\n",
            "Elemento 3: 4\n"
          ]
        }
      ],
      "source": [
        "!./exemplo2"
      ]
    },
    {
      "cell_type": "markdown",
      "metadata": {
        "id": "D3i5J7WSZbo0"
      },
      "source": [
        "Crie um programa que lê um número inteiro n e depois lê n números fracionários xi. Faça os seguintes cálculos e motre-os no terminal com 10 casas decimais.\n",
        "\n"
      ]
    },
    {
      "cell_type": "code",
      "execution_count": 202,
      "metadata": {
        "colab": {
          "base_uri": "https://localhost:8080/"
        },
        "id": "D7jukO8HZgt3",
        "outputId": "c0e20e54-d0a0-4358-c758-0688be923826"
      },
      "outputs": [
        {
          "name": "stdout",
          "output_type": "stream",
          "text": [
            "Overwriting ex2.cpp\n"
          ]
        }
      ],
      "source": [
        "%%writefile ex2.cpp\n",
        "\n",
        "#include <iostream>\n",
        "#include <cmath>\n",
        "#include <iomanip>\n",
        "#include <vector>\n",
        "using namespace std;\n",
        "\n",
        "\n",
        "int main(){\n",
        "    int n;\n",
        "    std::cin >> n;\n",
        "    std::vector<double> vec;\n",
        "\n",
        "    for (int i = 0; i < n; i++) {    \n",
        "        double num ;\n",
        "        std::cin >> num;\n",
        "        vec.push_back(num);\n",
        "    }\n",
        "\n",
        "    double soma = 0;\n",
        "    for (int j = 0; j < n ; j++) {\n",
        "      soma += vec[j];\n",
        "    }\n",
        "\n",
        "    double media = soma/n;\n",
        "\n",
        "    double soma2 = 0;\n",
        "    for (int k = 0; k < n ; k++) {\n",
        "      soma2 += pow(vec[k] - media, 2);\n",
        "    }\n",
        "\n",
        "    double variancia = soma2/n;\n",
        "\n",
        "    cout << \"Tamanho do vetor: \" << vec.size() << \"\\n\";\n",
        "    cout << \"Primeiro elemento: \" << vec.front() << \"\\n\";\n",
        "    cout << \"Último elemento: \" << vec.back() << \"\\n\";\n",
        "    cout << setprecision(2) << \"Média: \" << media << \"\\n\";\n",
        "    cout << setprecision(2) << \"Variância: \" << variancia << \"\\n\";\n",
        "}"
      ]
    },
    {
      "cell_type": "code",
      "execution_count": 203,
      "metadata": {
        "id": "ZOOx-UBrab3E"
      },
      "outputs": [],
      "source": [
        "!g++ -o ex2 ex2.cpp"
      ]
    },
    {
      "cell_type": "code",
      "execution_count": 204,
      "metadata": {
        "colab": {
          "base_uri": "https://localhost:8080/"
        },
        "id": "fzzANmnKakEy",
        "outputId": "248729ec-a10d-41d6-cf1d-3375db166bc4"
      },
      "outputs": [
        {
          "name": "stdout",
          "output_type": "stream",
          "text": [
            "5\n",
            "0.8299160901953123\n",
            "0.5225698894025094\n",
            "0.46330370309392666\n",
            "0.8763088275423603\n",
            "0.6434887181067234\n",
            "Tamanho do vetor: 5\n",
            "Primeiro elemento: 0.829916\n",
            "Último elemento: 0.643489\n",
            "Média: 0.67\n",
            "Variância: 0.027\n"
          ]
        }
      ],
      "source": [
        "!./ex2"
      ]
    }
  ],
  "metadata": {
    "colab": {
      "provenance": []
    },
    "kernelspec": {
      "display_name": "Python 3",
      "language": "python",
      "name": "python3"
    },
    "language_info": {
      "name": "python",
      "version": "3.8.10"
    },
    "vscode": {
      "interpreter": {
        "hash": "916dbcbb3f70747c44a77c7bcd40155683ae19c65e1c03b4aa3499c5328201f1"
      }
    }
  },
  "nbformat": 4,
  "nbformat_minor": 0
}
