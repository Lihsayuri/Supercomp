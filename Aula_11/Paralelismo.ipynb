{
  "nbformat": 4,
  "nbformat_minor": 0,
  "metadata": {
    "colab": {
      "provenance": []
    },
    "kernelspec": {
      "name": "python3",
      "display_name": "Python 3"
    },
    "language_info": {
      "name": "python"
    }
  },
  "cells": [
    {
      "cell_type": "code",
      "execution_count": 33,
      "metadata": {
        "colab": {
          "base_uri": "https://localhost:8080/"
        },
        "id": "NCPxLKSEhBUQ",
        "outputId": "bace370c-cfb4-4a9c-b908-6e99ec219ea6"
      },
      "outputs": [
        {
          "output_type": "stream",
          "name": "stdout",
          "text": [
            "Overwriting calculo_pi.cpp\n"
          ]
        }
      ],
      "source": [
        "%%writefile calculo_pi.cpp\n",
        "\n",
        "#include <iostream>\n",
        "#include <unistd.h>\n",
        "#include <omp.h>\n",
        "#include <chrono>\n",
        "\n",
        "#include <iostream>\n",
        "#include <unistd.h>\n",
        "#include <omp.h>\n",
        "#include <chrono>\n",
        "\n",
        "double calcula_pi(int n){\n",
        "    double soma = 0;\n",
        "    int multiplicador = -1;\n",
        "    #pragma omp parallel for num_threads(4) reduction(+ : soma)\n",
        "    for (int i = 0; i < n; i++){\n",
        "        //soma+= pow(-1, i)/(2*i + 1);// para que ficar fazendo pow toda hora se é só fazer - par 1 ou - impar -1\n",
        "        multiplicador *= -1;\n",
        "        soma+= (double) multiplicador/(2*i + 1);  // fazer isso pra unidade de processamento não utilizar o ponto flutuante\n",
        "\n",
        "        // ouuuu\n",
        "        // if (i%2 == 0){\n",
        "        //     soma+= 1/(2*i + 1);\n",
        "        // }else{\n",
        "        //     soma+= -1/(2*i + 1);\n",
        "        // }\n",
        "\n",
        "    }\n",
        "\n",
        "    return soma*4;\n",
        "}\n",
        "\n",
        "int main(){\n",
        "    auto t_start = std::chrono::high_resolution_clock::now();\n",
        "    long int n = 10000000000;\n",
        "    double pi = calcula_pi(n);\n",
        "    std::cout << \"Pi = \" << pi << std::endl;\n",
        "\n",
        "    int nthreads = omp_get_max_threads(); // vê todas as que tem disponíveis \n",
        "    std::cout << \"Número de threads: \" <<  nthreads << std::endl;\n",
        "\n",
        "    auto t_end = std::chrono::high_resolution_clock::now();\n",
        "\n",
        "    double elapsed_time_ms = std::chrono::duration<double, std::milli>(t_end-t_start).count();\n",
        "    double elapsed_time_s = elapsed_time_ms/1000;\n",
        "    std::cout << \"Tempo de execução: \" << elapsed_time_s << \" s\" << std::endl;\n",
        "\n",
        "\n",
        "    return 0;\n",
        "}"
      ]
    },
    {
      "cell_type": "code",
      "source": [
        "!g++ -Wall -O3 -fopenmp -g calculo_pi.cpp -o calculo_pi "
      ],
      "metadata": {
        "id": "x4haVvZbhPMv"
      },
      "execution_count": 34,
      "outputs": []
    },
    {
      "cell_type": "code",
      "source": [
        "!./calculo_pi"
      ],
      "metadata": {
        "colab": {
          "base_uri": "https://localhost:8080/"
        },
        "id": "eqraskgDkIhE",
        "outputId": "81ce52c5-9e1e-4c65-b702-09ed87cb39fe"
      },
      "execution_count": 35,
      "outputs": [
        {
          "output_type": "stream",
          "name": "stdout",
          "text": [
            "Pi = 3.14159\n",
            "Número de threads: 2\n",
            "Tempo de execução: 2.21995 s\n"
          ]
        }
      ]
    },
    {
      "cell_type": "code",
      "source": [],
      "metadata": {
        "id": "RAYI0JlxngKu"
      },
      "execution_count": null,
      "outputs": []
    }
  ]
}