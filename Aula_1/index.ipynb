{
  "cells": [
    {
      "cell_type": "markdown",
      "metadata": {
        "id": "uY4qNWopGYxI"
      },
      "source": [
        "# 01 - Introdução a SuperComputação\n",
        "\n",
        "Como vimos na expositiva, uma solução de alto desempenho depende de três partes:\n",
        "\n",
        "1. algoritmos eficientes\n",
        "2. implementações eficientes\n",
        "3. paralelismo\n",
        "\n",
        "Na atividade de hoje vamos estudar o primeiro ponto e quantificar o efeito de algoritmos eficientes na resolução de um problema complexo. \n",
        "\n",
        "## Problemas estudados em SuperComputação\n",
        "\n",
        "Em Desafios de Programação conhecemos a classe dos problemas NP-completo, que são aqueles que acreditamos não existir nenhum algoritmo determinístico que os resolvem em tempo polinomial. Ou seja, são problemas importantes cuja solução é difícil. Em geral temos classes de algoritmos para resolvê-los:\n",
        "\n",
        "1. ótimos globais: algoritmo que encontra a solução \"correta\" do problema. \n",
        "2. ótimos locais: algoritmo que encontra uma solução \"boa\" e que não pode ser melhorada por pequenas modificações. \n",
        "3. aproximação: algoritmos que garantem estar \"perto o suficiente\" da solução ótima. Este tipo de algoritmo não nos interessa em SuperComputação.\n",
        "\n",
        "Iremos analisar hoje 4 executáveis que resolvem o problema do [Caixeiro Viajante](https://en.wikipedia.org/wiki/Travelling_salesman_problem). \n",
        "\n",
        "1. `busca-local-1` - implementação de um método de busca rápida, porém não ótima.\n",
        "1. `busca-local-1-par` - implementação paralela do programa acima.\n",
        "2. `busca-local-2` - implementação alternativa do mesmo método acima. Os resultados de ambos são idênticos.\n",
        "2. `busca-local-2-par` - implementação paralela do programa acima.\n",
        "\n",
        "!!! important \n",
        "    Não estamos interessados no Caixeiro Viajante em si hoje. Queremos é comparar diferentes maneiras de resolvê-lo para entendermos o papel de técnicas de SuperComputação na velocidade de processamento e nos resultados obtidos. \n",
        "\n",
        "\n",
        "## Ferramental\n",
        "\n",
        "Realizar testes de maneira automatizada é muito importante para quantificar os efeitos de diferentes algoritmos e técnicas de paralelismo. O snippet abaixo executa "
      ]
    },
    {
      "cell_type": "code",
      "source": [
        "!chmod 777 *"
      ],
      "metadata": {
        "id": "cGHM3td0HuNg"
      },
      "execution_count": 5,
      "outputs": []
    },
    {
      "cell_type": "code",
      "execution_count": 6,
      "metadata": {
        "tags": [
          "outputPrepend"
        ],
        "colab": {
          "base_uri": "https://localhost:8080/"
        },
        "id": "1iFxemIaGYxL",
        "outputId": "1b1a150c-6603-4e74-a441-159763b54061"
      },
      "outputs": [
        {
          "output_type": "stream",
          "name": "stdout",
          "text": [
            "Saída: 232.234 0\n",
            "3 0 4 1 2 \n",
            "\n",
            "Stderr: \n",
            "Tempo total(s): 0.015458656000021165\n"
          ]
        }
      ],
      "source": [
        "import subprocess\n",
        "import time\n",
        "\n",
        "with open('entradas-busca-local/in-0.txt') as f:\n",
        "    start = time.perf_counter()\n",
        "    proc = subprocess.run(['./busca-local-1'], input=f.read(), text=True, capture_output=True)\n",
        "    end = time.perf_counter()\n",
        "\n",
        "    print('Saída:', proc.stdout)\n",
        "    print('Stderr:', proc.stderr)\n",
        "    print('Tempo total(s):', end - start)"
      ]
    },
    {
      "cell_type": "markdown",
      "metadata": {
        "id": "Tm5eUw1UGYxM"
      },
      "source": [
        "Vamos agora praticar usar este snippet para executar nossos testes automaticamente. \n",
        "\n",
        "!!! example\n",
        "\n",
        "    Crie uma função `roda_com_entrada(executavel, arquivo_in)` que roda o primeiro argumento usando como entrada o conteúdo do segundo argumento. Teste seu código com o executável `busca-local-1` e com o arquivo de entrada `in-0.txt` usado no exemplo acima.\n",
        "\n",
        "    Sua função deverá devolver uma tupla `(stdout,time)` com `stdout` sendo a saída do programa e `time` seu tempo de execução em segundos. "
      ]
    },
    {
      "cell_type": "code",
      "execution_count": 28,
      "metadata": {
        "id": "pTGfzdJIGYxN"
      },
      "outputs": [],
      "source": [
        "# TODO: exercício aqui\n",
        "import subprocess\n",
        "import time\n",
        "def roda_com_entrada(executavel, arquivo_in):\n",
        "  with open(f'entradas-busca-local/{arquivo_in}') as f:\n",
        "      start = time.perf_counter()\n",
        "      proc = subprocess.run([f'./{executavel}'], input=f.read(), text=True, capture_output=True)\n",
        "      end = time.perf_counter()\n",
        "\n",
        "      print('Saída:', proc.stdout)\n",
        "      print('Stderr:', proc.stderr)\n",
        "      print('Tempo total(s):', end - start)\n",
        "\n",
        "      return (proc.stdout, (end - start))\n",
        "\n",
        "\n",
        "\n",
        "\n",
        "lista_arquivos = ['in-0.txt', 'in-1.txt', 'in-2.txt', 'in-3.txt', 'in-4.txt', 'in-5.txt', 'in-6.txt', 'in-7.txt', 'in-8.txt', 'in-9.txt']\n",
        "\n",
        "lista_executaveis = ['busca-local-1', 'busca-local-1-par', 'busca-local-2', 'busca-local-2-par']\n",
        "\n"
      ]
    },
    {
      "cell_type": "markdown",
      "metadata": {
        "id": "Ji15lDZtGYxN"
      },
      "source": [
        "## Algoritmos sequenciais\n",
        "\n",
        "Com esse código, vamos criar um relatório interativo que roda nossos testes automaticamente e já plota informações prontas para nossas análises. Vamos começar examinando o desempenho do executável `busca-local-1`.\n",
        "\n",
        "!!! example\n",
        "\n",
        "    Rode o `busca-local` com os arquivos de entrada na pasta `entradas-busca-local`. Guarde os tempos em uma lista.\n",
        "\n",
        "!!! example\n",
        "\n",
        "    Leia o tamanho das entradas dos arquivos  na pasta `entradas-busca-local` e guarde em uma segunda lista.\n",
        "\n",
        "!!! example \n",
        "\n",
        "    Plote o tempo de execução pelo tamanho da entrada usando `matplotlib`"
      ]
    },
    {
      "cell_type": "code",
      "execution_count": 50,
      "metadata": {
        "colab": {
          "base_uri": "https://localhost:8080/"
        },
        "id": "AxJ6UzDwGYxN",
        "outputId": "5552abfd-7444-48c1-8c54-1db035fd21d3"
      },
      "outputs": [
        {
          "output_type": "stream",
          "name": "stdout",
          "text": [
            "Saída: 232.234 0\n",
            "3 0 4 1 2 \n",
            "\n",
            "Stderr: \n",
            "Tempo total(s): 0.012629887999992206\n",
            "Saída: 220.898 0\n",
            "0 5 3 8 4 7 6 1 2 9 \n",
            "\n",
            "Stderr: \n",
            "Tempo total(s): 0.009502039000381046\n",
            "Saída: 357.641 0\n",
            "0 12 1 9 5 14 8 11 13 4 7 6 3 2 10 \n",
            "\n",
            "Stderr: \n",
            "Tempo total(s): 0.009894719999920198\n",
            "Saída: 384.076 0\n",
            "9 11 4 10 15 16 19 12 14 17 7 1 6 18 8 13 3 5 0 2 \n",
            "\n",
            "Stderr: \n",
            "Tempo total(s): 0.018531531000007817\n",
            "Saída: 499.842 0\n",
            "16 26 18 8 3 11 28 14 23 7 22 20 10 6 17 15 2 4 29 25 9 0 5 12 21 27 13 1 24 19 \n",
            "\n",
            "Stderr: \n",
            "Tempo total(s): 0.09245533999956024\n",
            "Saída: 615.722 0\n",
            "22 23 16 21 39 2 6 9 38 17 35 24 11 1 29 20 26 36 31 7 0 30 18 4 25 3 10 15 27 28 8 12 33 14 32 13 19 34 37 5 \n",
            "\n",
            "Stderr: \n",
            "Tempo total(s): 0.4343146709998109\n",
            "Saída: 627.474 0\n",
            "21 15 45 3 31 16 25 49 28 40 29 42 34 35 6 48 47 38 13 33 44 39 26 24 10 1 27 12 32 5 18 46 4 37 23 17 7 8 22 30 36 43 0 41 14 19 11 2 20 9 \n",
            "\n",
            "Stderr: \n",
            "Tempo total(s): 1.4271134800001164\n",
            "Saída: 713.129 0\n",
            "31 37 16 5 25 40 36 48 35 23 39 17 42 41 9 7 44 47 4 58 22 38 32 6 21 11 13 8 0 29 59 3 1 24 53 12 20 51 30 45 26 46 18 27 34 50 14 57 52 28 55 19 15 33 43 56 49 54 10 2 \n",
            "\n",
            "Stderr: \n",
            "Tempo total(s): 3.974432801999683\n",
            "Saída: 794.625 0\n",
            "4 40 2 47 43 24 16 62 58 60 11 50 32 14 55 19 6 1 68 17 33 44 45 63 13 31 7 56 23 57 46 61 35 67 18 26 29 22 48 0 36 53 64 25 3 42 54 12 34 39 41 52 20 51 30 9 66 10 21 8 27 69 65 15 59 28 49 5 38 37 \n",
            "\n",
            "Stderr: \n",
            "Tempo total(s): 8.50854759699996\n",
            "Saída: 869.115 0\n",
            "77 57 6 37 30 66 53 12 35 3 20 44 34 51 26 7 71 24 72 74 9 5 76 32 50 65 11 0 45 10 18 79 47 40 16 8 19 48 29 27 62 13 31 42 39 38 28 75 70 25 52 67 59 78 22 64 63 41 14 54 49 17 58 4 55 36 23 56 73 43 46 1 69 15 68 60 33 61 21 2 \n",
            "\n",
            "Stderr: \n",
            "Tempo total(s): 17.652011777000098\n"
          ]
        },
        {
          "output_type": "execute_result",
          "data": {
            "text/plain": [
              "[0.012629887999992206,\n",
              " 0.009502039000381046,\n",
              " 0.009894719999920198,\n",
              " 0.018531531000007817,\n",
              " 0.09245533999956024,\n",
              " 0.4343146709998109,\n",
              " 1.4271134800001164,\n",
              " 3.974432801999683,\n",
              " 8.50854759699996,\n",
              " 17.652011777000098]"
            ]
          },
          "metadata": {},
          "execution_count": 50
        }
      ],
      "source": [
        "# TODO: \n",
        "lista_tempos_busca_1 = []\n",
        "for i in range(len(lista_arquivos)):\n",
        "  stdout, tempo = roda_com_entrada('busca-local-1', lista_arquivos[i])\n",
        "  lista_tempos_busca_1.append(tempo)\n",
        "\n",
        "lista_tempos_busca_1"
      ]
    },
    {
      "cell_type": "code",
      "source": [
        "lista_num_cidades = []\n",
        "for i in range(len(lista_arquivos)):\n",
        "  with open(f'entradas-busca-local/{lista_arquivos[i]}') as f:\n",
        "    first_line = f.readline()\n",
        "    lista_num_cidades.append(int(first_line))\n",
        "  \n",
        "lista_num_cidades"
      ],
      "metadata": {
        "colab": {
          "base_uri": "https://localhost:8080/"
        },
        "id": "aGT3AhuNKfAb",
        "outputId": "6f0e0236-d789-4fc9-aaaf-212e6019232a"
      },
      "execution_count": 51,
      "outputs": [
        {
          "output_type": "execute_result",
          "data": {
            "text/plain": [
              "[5, 10, 15, 20, 30, 40, 50, 60, 70, 80]"
            ]
          },
          "metadata": {},
          "execution_count": 51
        }
      ]
    },
    {
      "cell_type": "markdown",
      "metadata": {
        "id": "hJLZZUxyGYxN"
      },
      "source": [
        "!!! example\n",
        "    Repita os três passos acima para o executável `busca-local-2`. Finalize plotando os tempos de execução de ambos os executáveis no mesmo gráfico."
      ]
    },
    {
      "cell_type": "code",
      "execution_count": 52,
      "metadata": {
        "colab": {
          "base_uri": "https://localhost:8080/"
        },
        "id": "QmhGjQRBGYxO",
        "outputId": "a7a7b102-b111-455b-d27d-2ddbd4e542b1"
      },
      "outputs": [
        {
          "output_type": "stream",
          "name": "stdout",
          "text": [
            "Saída: 232.234 0\n",
            "2 1 4 0 3 \n",
            "\n",
            "Stderr: \n",
            "Tempo total(s): 0.022318952000205172\n",
            "Saída: 220.898 0\n",
            "4 7 6 1 2 9 0 5 3 8 \n",
            "\n",
            "Stderr: \n",
            "Tempo total(s): 0.012980176999917603\n",
            "Saída: 357.641 0\n",
            "13 11 8 14 5 9 1 12 0 10 2 3 6 7 4 \n",
            "\n",
            "Stderr: \n",
            "Tempo total(s): 0.011559114000192494\n",
            "Saída: 384.076 0\n",
            "11 4 10 15 16 19 12 14 17 7 1 6 18 8 13 3 5 0 2 9 \n",
            "\n",
            "Stderr: \n",
            "Tempo total(s): 0.015451367999958165\n",
            "Saída: 499.842 0\n",
            "16 26 18 8 3 11 28 14 23 7 22 20 10 6 17 15 2 4 29 25 9 0 5 12 21 27 13 1 24 19 \n",
            "\n",
            "Stderr: \n",
            "Tempo total(s): 0.04216702600024291\n",
            "Saída: 615.722 0\n",
            "22 23 16 21 39 2 6 9 38 17 35 24 11 1 29 20 26 36 31 7 0 30 18 4 25 3 10 15 27 28 8 12 33 14 32 13 19 34 37 5 \n",
            "\n",
            "Stderr: \n",
            "Tempo total(s): 0.11439734900022813\n",
            "Saída: 627.474 0\n",
            "21 15 45 3 31 16 25 49 28 40 29 42 34 35 6 48 47 38 13 33 44 39 26 24 10 1 27 12 32 5 18 46 4 37 23 17 7 8 22 30 36 43 0 41 14 19 11 2 20 9 \n",
            "\n",
            "Stderr: \n",
            "Tempo total(s): 0.30045029799975964\n",
            "Saída: 713.129 0\n",
            "31 37 16 5 25 40 36 48 35 23 39 17 42 41 9 7 44 47 4 58 22 38 32 6 21 11 13 8 0 29 59 3 1 24 53 12 20 51 30 45 26 46 18 27 34 50 14 57 52 28 55 19 15 33 43 56 49 54 10 2 \n",
            "\n",
            "Stderr: \n",
            "Tempo total(s): 0.6206231430001026\n",
            "Saída: 794.625 0\n",
            "4 40 2 47 43 24 16 62 58 60 11 50 32 14 55 19 6 1 68 17 33 44 45 63 13 31 7 56 23 57 46 61 35 67 18 26 29 22 48 0 36 53 64 25 3 42 54 12 34 39 41 52 20 51 30 9 66 10 21 8 27 69 65 15 59 28 49 5 38 37 \n",
            "\n",
            "Stderr: \n",
            "Tempo total(s): 1.9998435789998439\n",
            "Saída: 869.115 0\n",
            "77 57 6 37 30 66 53 12 35 3 20 44 34 51 26 7 71 24 72 74 9 5 76 32 50 65 11 0 45 10 18 79 47 40 16 8 19 48 29 27 62 13 31 42 39 38 28 75 70 25 52 67 59 78 22 64 63 41 14 54 49 17 58 4 55 36 23 56 73 43 46 1 69 15 68 60 33 61 21 2 \n",
            "\n",
            "Stderr: \n",
            "Tempo total(s): 2.4187135790002685\n"
          ]
        }
      ],
      "source": [
        "#TODO: seu código aqui\n",
        "\n",
        "\n",
        "lista_tempos_busca_2 = []\n",
        "for i in range(len(lista_arquivos)):\n",
        "  stdout, tempo = roda_com_entrada('busca-local-2', lista_arquivos[i])\n",
        "  lista_tempos_busca_2.append(tempo)\n",
        "\n"
      ]
    },
    {
      "cell_type": "code",
      "source": [
        "print(\"Aquiii : \", lista_tempos_busca_2)"
      ],
      "metadata": {
        "colab": {
          "base_uri": "https://localhost:8080/"
        },
        "id": "0q8O3FheMQ7A",
        "outputId": "8bad288d-d2ad-4429-826f-affa496d0833"
      },
      "execution_count": 53,
      "outputs": [
        {
          "output_type": "stream",
          "name": "stdout",
          "text": [
            "Aquiii :  [0.022318952000205172, 0.012980176999917603, 0.011559114000192494, 0.015451367999958165, 0.04216702600024291, 0.11439734900022813, 0.30045029799975964, 0.6206231430001026, 1.9998435789998439, 2.4187135790002685]\n"
          ]
        }
      ]
    },
    {
      "cell_type": "code",
      "source": [
        "import matplotlib.pyplot as plt\n",
        "  \n",
        "# x axis values\n",
        "x = lista_num_cidades\n",
        "# corresponding y axis values\n",
        "y1 = lista_tempos_busca_1\n",
        "y2 =  lista_tempos_busca_2\n",
        "  \n",
        "# plotting the points \n",
        "plt.plot(x, y1, 'bo-',label='busca-1')\n",
        "plt.plot(x, y2, 'go-', label='busca-2')\n",
        "plt.legend()\n",
        "  \n",
        "# naming the x axis\n",
        "plt.xlabel('Número de cidades')\n",
        "# naming the y axis\n",
        "plt.ylabel('tempo de execução')\n",
        "  \n",
        "# giving a title to my graph\n",
        "plt.title('busca-1 vs busca-2')\n",
        "  \n",
        "# function to show the plot\n",
        "plt.show()"
      ],
      "metadata": {
        "colab": {
          "base_uri": "https://localhost:8080/",
          "height": 295
        },
        "id": "3YDFv5nRLoLb",
        "outputId": "5d05a869-420b-4012-9111-9b57780ecf52"
      },
      "execution_count": 54,
      "outputs": [
        {
          "output_type": "display_data",
          "data": {
            "text/plain": [
              "<Figure size 432x288 with 1 Axes>"
            ],
            "image/png": "[encoded data removed]"
          },
          "metadata": {
            "needs_background": "light"
          }
        }
      ]
    },
    {
      "source": [
        "!!! example\n",
        "    Segundo uma coleta de dados informal e altamente confiável, 93,17% dos alunos não colocam legendas nem títulos nos gráficos gerados. Faça isso agora. "
      ],
      "cell_type": "markdown",
      "metadata": {
        "id": "ec-ZOurlGYxO"
      }
    },
    {
      "cell_type": "markdown",
      "metadata": {
        "id": "r5lTcwSwGYxO"
      },
      "source": [
        "!!! question medium\n",
        "\n",
        "    Interprete o gráfico que você gerou na linha de cima. \n",
        "\n",
        "!!! question medium\n",
        "    Compare manualmente a saída dos programas. Existe diferença em seus resultados?\n",
        "\n",
        "!!! question medium \n",
        "    Resgate seus conhecimentos de Desafios de Programação e explique a diferença entre os algoritmos.\n",
        "\n",
        "\n",
        "## Algoritmos paralelos\n",
        "\n",
        "Na discussão inicial da expositiva chegamos à conclusão de que se conseguimos realizar *N* operações em paralelo teremos um ganho de no máximo *N* vezes no desempenho de nosso programa. Nesta parte iremos estudar esta afirmação usando implementações paralelas dos algoritmos da seção anterior. \n",
        "\n",
        "!!! example\n",
        "    Execute os algoritmos paralelos com as mesmas entradas e compare com suas versões paralelas. Use um gráfico para facilitar as comparações"
      ]
    },
    {
      "cell_type": "code",
      "execution_count": 55,
      "metadata": {
        "colab": {
          "base_uri": "https://localhost:8080/"
        },
        "id": "PkvCVcSpGYxP",
        "outputId": "4cb39ad1-663e-4107-ae71-6b9cf631260d"
      },
      "outputs": [
        {
          "output_type": "stream",
          "name": "stdout",
          "text": [
            "Saída: 232.234 0\n",
            "3 0 4 1 2 \n",
            "\n",
            "Stderr: \n",
            "Tempo total(s): 0.017310037000243028\n",
            "Saída: 220.898 0\n",
            "4 7 6 1 2 9 0 5 3 8 \n",
            "\n",
            "Stderr: \n",
            "Tempo total(s): 0.037996686000042246\n",
            "Saída: 357.641 0\n",
            "0 12 1 9 5 14 8 11 13 4 7 6 3 2 10 \n",
            "\n",
            "Stderr: \n",
            "Tempo total(s): 0.024651680999795644\n",
            "Saída: 384.076 0\n",
            "9 11 4 10 15 16 19 12 14 17 7 1 6 18 8 13 3 5 0 2 \n",
            "\n",
            "Stderr: \n",
            "Tempo total(s): 0.03666260699992563\n",
            "Saída: 499.842 0\n",
            "16 26 18 8 3 11 28 14 23 7 22 20 10 6 17 15 2 4 29 25 9 0 5 12 21 27 13 1 24 19 \n",
            "\n",
            "Stderr: \n",
            "Tempo total(s): 0.14594373099998847\n",
            "Saída: 615.722 0\n",
            "22 23 16 21 39 2 6 9 38 17 35 24 11 1 29 20 26 36 31 7 0 30 18 4 25 3 10 15 27 28 8 12 33 14 32 13 19 34 37 5 \n",
            "\n",
            "Stderr: \n",
            "Tempo total(s): 0.41889231300001484\n",
            "Saída: 627.474 0\n",
            "21 15 45 3 31 16 25 49 28 40 29 42 34 35 6 48 47 38 13 33 44 39 26 24 10 1 27 12 32 5 18 46 4 37 23 17 7 8 22 30 36 43 0 41 14 19 11 2 20 9 \n",
            "\n",
            "Stderr: \n",
            "Tempo total(s): 1.1405193799996596\n",
            "Saída: 713.129 0\n",
            "31 37 16 5 25 40 36 48 35 23 39 17 42 41 9 7 44 47 4 58 22 38 32 6 21 11 13 8 0 29 59 3 1 24 53 12 20 51 30 45 26 46 18 27 34 50 14 57 52 28 55 19 15 33 43 56 49 54 10 2 \n",
            "\n",
            "Stderr: \n",
            "Tempo total(s): 2.7471634919997996\n",
            "Saída: 794.625 0\n",
            "4 40 2 47 43 24 16 62 58 60 11 50 32 14 55 19 6 1 68 17 33 44 45 63 13 31 7 56 23 57 46 61 35 67 18 26 29 22 48 0 36 53 64 25 3 42 54 12 34 39 41 52 20 51 30 9 66 10 21 8 27 69 65 15 59 28 49 5 38 37 \n",
            "\n",
            "Stderr: \n",
            "Tempo total(s): 6.2279778400002215\n",
            "Saída: 869.115 0\n",
            "77 57 6 37 30 66 53 12 35 3 20 44 34 51 26 7 71 24 72 74 9 5 76 32 50 65 11 0 45 10 18 79 47 40 16 8 19 48 29 27 62 13 31 42 39 38 28 75 70 25 52 67 59 78 22 64 63 41 14 54 49 17 58 4 55 36 23 56 73 43 46 1 69 15 68 60 33 61 21 2 \n",
            "\n",
            "Stderr: \n",
            "Tempo total(s): 13.05874996600005\n",
            "Saída: 232.234 0\n",
            "2 1 4 0 3 \n",
            "\n",
            "Stderr: \n",
            "Tempo total(s): 0.032730697999795666\n",
            "Saída: 220.898 0\n",
            "4 7 6 1 2 9 0 5 3 8 \n",
            "\n",
            "Stderr: \n",
            "Tempo total(s): 0.031957281999893894\n",
            "Saída: 357.641 0\n",
            "13 11 8 14 5 9 1 12 0 10 2 3 6 7 4 \n",
            "\n",
            "Stderr: \n",
            "Tempo total(s): 0.029640499999914027\n",
            "Saída: 384.076 0\n",
            "11 4 10 15 16 19 12 14 17 7 1 6 18 8 13 3 5 0 2 9 \n",
            "\n",
            "Stderr: \n",
            "Tempo total(s): 0.03723499100033223\n",
            "Saída: 499.842 0\n",
            "16 26 18 8 3 11 28 14 23 7 22 20 10 6 17 15 2 4 29 25 9 0 5 12 21 27 13 1 24 19 \n",
            "\n",
            "Stderr: \n",
            "Tempo total(s): 0.09661775500035219\n",
            "Saída: 615.722 0\n",
            "22 23 16 21 39 2 6 9 38 17 35 24 11 1 29 20 26 36 31 7 0 30 18 4 25 3 10 15 27 28 8 12 33 14 32 13 19 34 37 5 \n",
            "\n",
            "Stderr: \n",
            "Tempo total(s): 0.23964535899995099\n",
            "Saída: 627.474 0\n",
            "21 15 45 3 31 16 25 49 28 40 29 42 34 35 6 48 47 38 13 33 44 39 26 24 10 1 27 12 32 5 18 46 4 37 23 17 7 8 22 30 36 43 0 41 14 19 11 2 20 9 \n",
            "\n",
            "Stderr: \n",
            "Tempo total(s): 0.5159796660000211\n",
            "Saída: 713.129 0\n",
            "31 37 16 5 25 40 36 48 35 23 39 17 42 41 9 7 44 47 4 58 22 38 32 6 21 11 13 8 0 29 59 3 1 24 53 12 20 51 30 45 26 46 18 27 34 50 14 57 52 28 55 19 15 33 43 56 49 54 10 2 \n",
            "\n",
            "Stderr: \n",
            "Tempo total(s): 1.1186478049999096\n",
            "Saída: 794.625 0\n",
            "4 40 2 47 43 24 16 62 58 60 11 50 32 14 55 19 6 1 68 17 33 44 45 63 13 31 7 56 23 57 46 61 35 67 18 26 29 22 48 0 36 53 64 25 3 42 54 12 34 39 41 52 20 51 30 9 66 10 21 8 27 69 65 15 59 28 49 5 38 37 \n",
            "\n",
            "Stderr: \n",
            "Tempo total(s): 1.2389092110001911\n",
            "Saída: 869.115 0\n",
            "77 57 6 37 30 66 53 12 35 3 20 44 34 51 26 7 71 24 72 74 9 5 76 32 50 65 11 0 45 10 18 79 47 40 16 8 19 48 29 27 62 13 31 42 39 38 28 75 70 25 52 67 59 78 22 64 63 41 14 54 49 17 58 4 55 36 23 56 73 43 46 1 69 15 68 60 33 61 21 2 \n",
            "\n",
            "Stderr: \n",
            "Tempo total(s): 1.853587969000273\n"
          ]
        }
      ],
      "source": [
        "\n",
        "\n",
        "lista_tempos_busca_1_par = []\n",
        "for i in range(len(lista_arquivos)):\n",
        "  stdout, tempo = roda_com_entrada('busca-local-1-par', lista_arquivos[i])\n",
        "  lista_tempos_busca_1_par.append(tempo)\n",
        "\n",
        "lista_tempos_busca_2_par = []\n",
        "for i in range(len(lista_arquivos)):\n",
        "  stdout, tempo = roda_com_entrada('busca-local-2-par', lista_arquivos[i])\n",
        "  lista_tempos_busca_2_par.append(tempo)"
      ]
    },
    {
      "cell_type": "code",
      "source": [],
      "metadata": {
        "id": "7xcaBpmCPpFD"
      },
      "execution_count": 55,
      "outputs": []
    },
    {
      "source": [
        "!!! question medium\n",
        "    Compare os tempos obtidos. Qual foi o ganho médio? Quantos *núcleos* a máquina que você está usando possui? Responda comparando cada algoritmo sequencial com sua versão paralela.\n",
        "\n",
        "Já estabelecemos que `busca-local-2` é melhor que `busca-local-1` por ser utilizar um algoritmo mais eficiente e vimos na prática a diferença entre um algoritmo $O(n^3)$ e um algoritmo $O(n^2)$. Vamos agora examinar a seguinte questão.\n",
        "\n",
        "!!! cite \"É possível usar paralelismo para tornar `busca-local-1-par` melhor que `busca-local-2`?\"\n",
        "\n",
        "!!! example\n",
        "    Compare o desempenho de `busca-local-1-par` com `busca-local-2`. Faça um gráfico"
      ],
      "cell_type": "markdown",
      "metadata": {
        "id": "y4H3zV3aGYxP"
      }
    },
    {
      "cell_type": "code",
      "execution_count": 56,
      "metadata": {
        "colab": {
          "base_uri": "https://localhost:8080/",
          "height": 295
        },
        "id": "_IoNby49GYxP",
        "outputId": "c32e3348-9c3f-45b7-a545-05aaf8109b1d"
      },
      "outputs": [
        {
          "output_type": "display_data",
          "data": {
            "text/plain": [
              "<Figure size 432x288 with 1 Axes>"
            ],
            "image/png": "[encoded data removed]"
          },
          "metadata": {
            "needs_background": "light"
          }
        }
      ],
      "source": [
        "# x axis values\n",
        "x = lista_num_cidades\n",
        "# corresponding y axis values\n",
        "y1 = lista_tempos_busca_1_par\n",
        "y2 =  lista_tempos_busca_2_par\n",
        "  \n",
        "# plotting the points \n",
        "plt.plot(x, y1, 'bo-',label='busca-1-par')\n",
        "plt.plot(x, y2, 'go-', label='busca-2-par')\n",
        "plt.legend()\n",
        "  \n",
        "# naming the x axis\n",
        "plt.xlabel('Número de cidades')\n",
        "# naming the y axis\n",
        "plt.ylabel('tempo de execução')\n",
        "  \n",
        "# giving a title to my graph\n",
        "plt.title('busca-1-par vs busca-2-par')\n",
        "  \n",
        "# function to show the plot\n",
        "plt.show()"
      ]
    },
    {
      "cell_type": "code",
      "source": [
        "# x axis values\n",
        "x = lista_num_cidades\n",
        "# corresponding y axis values\n",
        "y1 = lista_tempos_busca_2\n",
        "y2 =  lista_tempos_busca_2_par\n",
        "  \n",
        "# plotting the points \n",
        "plt.plot(x, y1, 'bo-',label='busca-2')\n",
        "plt.plot(x, y2, 'go-', label='busca-2-par')\n",
        "plt.legend()\n",
        "  \n",
        "# naming the x axis\n",
        "plt.xlabel('Número de cidades')\n",
        "# naming the y axis\n",
        "plt.ylabel('tempo de execução')\n",
        "  \n",
        "# giving a title to my graph\n",
        "plt.title('busca-2 vs busca-2-par')\n",
        "  \n",
        "# function to show the plot\n",
        "plt.show()"
      ],
      "metadata": {
        "colab": {
          "base_uri": "https://localhost:8080/",
          "height": 295
        },
        "id": "a2fBCphQRBiW",
        "outputId": "8e1a9294-d7aa-4d97-840d-3bf0f31bcb23"
      },
      "execution_count": 58,
      "outputs": [
        {
          "output_type": "display_data",
          "data": {
            "text/plain": [
              "<Figure size 432x288 with 1 Axes>"
            ],
            "image/png": "[encoded data removed]"
          },
          "metadata": {
            "needs_background": "light"
          }
        }
      ]
    },
    {
      "cell_type": "code",
      "source": [
        "# x axis values\n",
        "x = lista_num_cidades\n",
        "# corresponding y axis values\n",
        "y1 = lista_tempos_busca_1\n",
        "y2 =  lista_tempos_busca_1_par\n",
        "  \n",
        "# plotting the points \n",
        "plt.plot(x, y1, 'bo-',label='busca-1')\n",
        "plt.plot(x, y2, 'go-', label='busca-1-par')\n",
        "plt.legend()\n",
        "  \n",
        "# naming the x axis\n",
        "plt.xlabel('Número de cidades')\n",
        "# naming the y axis\n",
        "plt.ylabel('tempo de execução')\n",
        "  \n",
        "# giving a title to my graph\n",
        "plt.title('busca-1 vs busca-1-par')\n",
        "  \n",
        "# function to show the plot\n",
        "plt.show()"
      ],
      "metadata": {
        "colab": {
          "base_uri": "https://localhost:8080/",
          "height": 295
        },
        "id": "BvOZWwBpRQ11",
        "outputId": "352d5076-b78e-4f25-b8f6-232ef0307355"
      },
      "execution_count": 59,
      "outputs": [
        {
          "output_type": "display_data",
          "data": {
            "text/plain": [
              "<Figure size 432x288 with 1 Axes>"
            ],
            "image/png": "[encoded data removed]"
          },
          "metadata": {
            "needs_background": "light"
          }
        }
      ]
    },
    {
      "source": [
        "!!! question medium\n",
        "    Com base em seu gráfico acima, responda a pergunta: \"É possível usar paralelismo para tornar busca-local-1-par melhor que busca-local-2?\"\n",
        "\n",
        "**R** Não, como pode ser visto o busca-local-1-par dá cerca de 14ms, enquanto o busca-local-2 é aproximadamente 2,5 ms. Lei de Amdahl limita o mais rápido que pode ser.\n",
        "\n",
        "Vamos agora generalizar a pergunta:\n",
        "\n",
        "!!! question medium\n",
        "    Dados dois algoritmos com complexidades computacionais diferentes, sendo que o primeiro é inferior ao segundo. É possível usar paralelismo para tornar o primeiro mais rápido que o segundo para todos tamanhos de entrada? Assuma que você possui um número fixo de *núcleos*. \n",
        "\n",
        "\n"
      ],
      "cell_type": "markdown",
      "metadata": {
        "id": "i91iZjNdGYxP"
      }
    },
    {
      "cell_type": "code",
      "source": [
        "# x axis values\n",
        "x = lista_num_cidades\n",
        "# corresponding y axis values\n",
        "y1 = lista_tempos_busca_1\n",
        "y2 =  lista_tempos_busca_1_par\n",
        "y3 = lista_tempos_busca_2\n",
        "y4 = lista_tempos_busca_2_par\n",
        "  \n",
        "# plotting the points \n",
        "plt.plot(x, y1, 'bo-',label='busca-1')\n",
        "plt.plot(x, y2, 'go-', label='busca-1-par')\n",
        "plt.plot(x, y3, 'ro-',label='busca-2')\n",
        "plt.plot(x, y4, 'yo-', label='busca-2-par')\n",
        "plt.legend()\n",
        "  \n",
        "# naming the x axis\n",
        "plt.xlabel('Número de cidades')\n",
        "# naming the y axis\n",
        "plt.ylabel('tempo de execução')\n",
        "  \n",
        "# giving a title to my graph\n",
        "plt.title('busca-1 vs busca-1-par vs busca-2 vs busca-2-par')\n",
        "  \n",
        "# function to show the plot\n",
        "plt.show()"
      ],
      "metadata": {
        "colab": {
          "base_uri": "https://localhost:8080/",
          "height": 295
        },
        "id": "SFjeoAxMRnhr",
        "outputId": "ac041b8b-3764-49e3-a687-d26d9ebf58ff"
      },
      "execution_count": 61,
      "outputs": [
        {
          "output_type": "display_data",
          "data": {
            "text/plain": [
              "<Figure size 432x288 with 1 Axes>"
            ],
            "image/png": "[encoded data removed]"
          },
          "metadata": {
            "needs_background": "light"
          }
        }
      ]
    },
    {
      "cell_type": "code",
      "source": [],
      "metadata": {
        "id": "nC8eqo1eSm3V"
      },
      "execution_count": null,
      "outputs": []
    }
  ],
  "metadata": {
    "kernelspec": {
      "display_name": "Python 3",
      "language": "python",
      "name": "python3"
    },
    "language_info": {
      "codemirror_mode": {
        "name": "ipython",
        "version": 3
      },
      "file_extension": ".py",
      "mimetype": "text/x-python",
      "name": "python",
      "nbconvert_exporter": "python",
      "pygments_lexer": "ipython3",
      "version": "3.8.0-final"
    },
    "colab": {
      "provenance": []
    }
  },
  "nbformat": 4,
  "nbformat_minor": 0
}