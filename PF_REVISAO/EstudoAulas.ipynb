{
  "nbformat": 4,
  "nbformat_minor": 0,
  "metadata": {
    "colab": {
      "provenance": [],
      "gpuType": "T4"
    },
    "kernelspec": {
      "name": "python3",
      "display_name": "Python 3"
    },
    "language_info": {
      "name": "python"
    }
  },
  "cells": [
    {
      "cell_type": "markdown",
      "source": [
        "ESTUDO PARA A PROVA:\n",
        "\n",
        "REFAZENDO TODOS OS EXERCÍCIOS POSSÍVEIS\n",
        "\n",
        "\n",
        "# **GPU AULA13**\n",
        "\n",
        "Para compilar no Insper:\n",
        "\n",
        "nvcc -arch=sm_70 -std=c++14 exemplo1-criacao-iteracao.cu -o exemplo1\n",
        "\n",
        "\n",
        "Continuando o exercício anterior, calcule as seguintes medidas. Não se esqueça de passar o device_vector para a sua função reduce\n",
        "\n",
        "- O preço médio das ações nos últimos 10 anos.\n",
        "\n",
        "- O preço médio das ações no último ano (365 dias atrás).\n",
        "\n",
        "- O maior e o menor preço da sequência inteira e do último ano.\n"
      ],
      "metadata": {
        "id": "vUfxkBXG5058"
      }
    },
    {
      "cell_type": "code",
      "source": [
        "%%writefile aula13.cu\n",
        "\n",
        " #include <thrust/host_vector.h>\n",
        " #include <thrust/device_vector.h>\n",
        " #include <thrust/generate.h>\n",
        " #include <thrust/functional.h>\n",
        " #include <thrust/copy.h>\n",
        " #include <cstdlib>\n",
        " #include <algorithm>\n",
        " #include <iostream>\n",
        " #include <iomanip>\n",
        " using namespace std;\n",
        "\n",
        "\n",
        "int main(){\n",
        "  int n;\n",
        "  cin >> n;\n",
        "  thrust::host_vector<double>acoes(n, 0);\n",
        "  for (int i = 0; i < n; i++){\n",
        "    cin >> acoes[i]; \n",
        "  }\n",
        "\n",
        "  thrust::device_vector<double> acoes_gpu(acoes);\n",
        "  double total_sum = thrust::reduce(acoes_gpu.begin(), acoes_gpu.end(), 0, thrust::plus<double>());\n",
        "  double media = total_sum/(double) n;\n",
        "\n",
        "  double num_inicial = acoes_gpu[0];\n",
        "\n",
        "  thrust::maximum<double> maior;\n",
        "  double maior_preco = thrust::reduce(acoes_gpu.begin(), acoes_gpu.end(), num_inicial, maior);\n",
        "\n",
        "  thrust::minimum<double> menor;\n",
        "  double menor_preco = thrust::reduce(acoes_gpu.begin(), acoes_gpu.end(), num_inicial, menor);\n",
        "\n",
        "  cout << \"Média calculada: \" << media << endl;\n",
        "  cout << \"Maior preco: \" << maior_preco << endl;\n",
        "  cout << \"Menor preco: \" << menor_preco << endl;\n",
        "\n",
        "  return 0;\n",
        "}"
      ],
      "metadata": {
        "colab": {
          "base_uri": "https://localhost:8080/"
        },
        "id": "oUoqAIrB53s7",
        "outputId": "c13602b5-b060-4ab9-90f9-d1955ade366a"
      },
      "execution_count": 64,
      "outputs": [
        {
          "output_type": "stream",
          "name": "stdout",
          "text": [
            "Overwriting aula13.cu\n"
          ]
        }
      ]
    },
    {
      "cell_type": "code",
      "source": [
        "!nvcc aula13.cu -o aula13"
      ],
      "metadata": {
        "id": "fU11r3H49iRv"
      },
      "execution_count": 65,
      "outputs": []
    },
    {
      "cell_type": "code",
      "source": [
        "!./aula13 < stocks.txt"
      ],
      "metadata": {
        "colab": {
          "base_uri": "https://localhost:8080/"
        },
        "id": "w8w4xgio9mEU",
        "outputId": "5032b35b-bc36-4efd-f034-99c0700566f1"
      },
      "execution_count": 66,
      "outputs": [
        {
          "output_type": "stream",
          "name": "stdout",
          "text": [
            "Média calculada: 291.3\n",
            "Maior preco: 300.511\n",
            "Menor preco: 278.901\n"
          ]
        }
      ]
    },
    {
      "cell_type": "markdown",
      "source": [
        "Vamos agora trabalhar com o arquivo stocks2.csv. Ele contém a série histórica de ações da Apple e da Microsoft. Seu objetivo é calcular a diferença média entre os preços das ações AAPL e MSFT.\n",
        "\n",
        "Dica: quebre o problema em duas partes. Primeiro calcule a diferença entre os preços e guarde isto em um vetor. Depois compute a média deste vetor."
      ],
      "metadata": {
        "id": "jwpLio2KCNAY"
      }
    },
    {
      "cell_type": "code",
      "source": [
        "%%writefile aula13_pt2.cu\n",
        "\n",
        " #include <thrust/host_vector.h>\n",
        " #include <thrust/device_vector.h>\n",
        " #include <thrust/generate.h>\n",
        " #include <thrust/functional.h>\n",
        " #include <thrust/copy.h>\n",
        " #include <cstdlib>\n",
        " #include <algorithm>\n",
        " #include <iostream>\n",
        " #include <iomanip>\n",
        " using namespace std;\n",
        "\n",
        "\n",
        " struct subtracao_modulo\n",
        "{\n",
        "    __host__ __device__\n",
        "    double operator()(const double& x, const double& y) {\n",
        "          double diferenca = (x - y);\n",
        "          if (diferenca < 0.0){\n",
        "            diferenca = diferenca*(-1.0);\n",
        "          }\n",
        "          return diferenca;\n",
        "    }\n",
        "};\n",
        "\n",
        "\n",
        "\n",
        " int main(){\n",
        "  int n = 10;\n",
        "\n",
        "  thrust::host_vector<double>acoes_aapl_cpu(n, 0);\n",
        "  thrust::host_vector<double>acoes_msft_cpu(n, 0);\n",
        "\n",
        "  for (int i = 0; i < n; i++){\n",
        "    cin >> acoes_aapl_cpu[i];\n",
        "    //cout << \"AAPL: \" << acoes_aapl_cpu[i] << endl;\n",
        "    cin >> acoes_msft_cpu[i];\n",
        "    //cout << \"MSFT: \" << acoes_msft_cpu[i] << endl;\n",
        "  }\n",
        "\n",
        "  thrust::device_vector<double>acoes_aapl_gpu(acoes_aapl_cpu);\n",
        "  thrust::device_vector<double>acoes_msft_gpu(acoes_msft_cpu);\n",
        "\n",
        "  thrust::device_vector<double> diferencas(n, 0);\n",
        "\n",
        "  thrust::transform(acoes_aapl_gpu.begin(), acoes_aapl_gpu.end(), acoes_msft_gpu.begin(), diferencas.begin(), subtracao_modulo());\n",
        "\n",
        "  double soma_diferencas = thrust::reduce(diferencas.begin(), diferencas.end());\n",
        "  double media_diferencas = soma_diferencas/(double) n;\n",
        "\n",
        "  cout << \"Soma das diferenças: \" << soma_diferencas << endl;\n",
        "  cout << \"Média das diferenças: \" << media_diferencas << endl;\n",
        "\n",
        "  return 0;\n",
        "\n",
        " }"
      ],
      "metadata": {
        "colab": {
          "base_uri": "https://localhost:8080/"
        },
        "id": "_3vR3J_29oKz",
        "outputId": "a5e913a9-8a4f-46ac-f7ee-27d60cce5c6c"
      },
      "execution_count": 78,
      "outputs": [
        {
          "output_type": "stream",
          "name": "stdout",
          "text": [
            "Overwriting aula13_pt2.cu\n"
          ]
        }
      ]
    },
    {
      "cell_type": "code",
      "source": [
        "!nvcc aula13_pt2.cu -o aula13_pt2"
      ],
      "metadata": {
        "id": "D8xqrpVGC0yl"
      },
      "execution_count": 79,
      "outputs": []
    },
    {
      "cell_type": "code",
      "source": [
        "!./aula13_pt2 < stocks2.csv"
      ],
      "metadata": {
        "colab": {
          "base_uri": "https://localhost:8080/"
        },
        "id": "TSjw_2ymC30R",
        "outputId": "e183d0a5-a1f8-496c-c30e-f55999ea4314"
      },
      "execution_count": 80,
      "outputs": [
        {
          "output_type": "stream",
          "name": "stdout",
          "text": [
            "Soma das diferenças: 33.6301\n",
            "Média das diferenças: 3.36301\n"
          ]
        }
      ]
    },
    {
      "cell_type": "markdown",
      "source": [
        "# **GPU AULA14**\n",
        "\n"
      ],
      "metadata": {
        "id": "J4685aUkGDmP"
      }
    },
    {
      "cell_type": "code",
      "source": [
        "%%writefile aula14_pt1.cu\n",
        "\n",
        " #include <thrust/host_vector.h>\n",
        " #include <thrust/device_vector.h>\n",
        " #include <thrust/generate.h>\n",
        " #include <thrust/functional.h>\n",
        " #include <thrust/copy.h>\n",
        " #include <cstdlib>\n",
        " #include <algorithm>\n",
        " #include <iostream>\n",
        " #include <iomanip>\n",
        " using namespace std;\n",
        "\n",
        "\n",
        " struct subtracao_modulo\n",
        "{\n",
        "    __host__ __device__\n",
        "    double operator()(const double& x, const double& y) {\n",
        "          double diferenca = (x - y);\n",
        "          if (diferenca < 0.0){\n",
        "            diferenca = diferenca*(-1.0);\n",
        "          }\n",
        "          return diferenca;\n",
        "    }\n",
        "};\n",
        "\n",
        "\n",
        "\n",
        " int main(){\n",
        "  int n = 10;\n",
        "\n",
        "  thrust::host_vector<double>acoes_aapl_cpu(n, 0);\n",
        "  thrust::host_vector<double>acoes_msft_cpu(n, 0);\n",
        "\n",
        "  for (int i = 0; i < n; i++){\n",
        "    cin >> acoes_aapl_cpu[i];\n",
        "    //cout << \"AAPL: \" << acoes_aapl_cpu[i] << endl;\n",
        "    cin >> acoes_msft_cpu[i];\n",
        "    //cout << \"MSFT: \" << acoes_msft_cpu[i] << endl;\n",
        "  }\n",
        "\n",
        "  thrust::device_vector<double>acoes_aapl_gpu(acoes_aapl_cpu);\n",
        "  thrust::device_vector<double>acoes_msft_gpu(acoes_msft_cpu);\n",
        "\n",
        "  thrust::device_vector<double> diferencas(n, 0);\n",
        "\n",
        "  thrust::transform(acoes_aapl_gpu.begin(), acoes_aapl_gpu.end(), acoes_msft_gpu.begin(), diferencas.begin(), subtracao_modulo());\n",
        "\n",
        "  //PASSO 1 - CALCULO DA MEDIA\n",
        "  double soma_diferencas = thrust::reduce(diferencas.begin(), diferencas.end());\n",
        "  double media_diferencas = soma_diferencas/(double) n;\n",
        "\n",
        "  // Parte 1 da aula 14, a variancia das diferencas:\n",
        "\n",
        "  thrust::device_vector<double> media_vetor(n, media_diferencas);\n",
        "  //thrust::fill(media_vetor.begin(), media_vetor.begin()+n, media_diferencas);\n",
        "\n",
        "\n",
        "  // CALCULO DE (x - mu)\n",
        "  thrust::transform(diferencas.begin(), diferencas.end(), media_vetor.begin(), diferencas.begin(), thrust::minus<double>());\n",
        "\n",
        "  // CALCULO DE (x - mu)^2\n",
        "\n",
        "  thrust::transform(diferencas.begin(), diferencas.end(), diferencas.begin(), thrust::square<double>());\n",
        "\n",
        "  // PASSO 4  SUM (x - mu)^2/ N\n",
        "  double variancia = thrust::reduce(diferencas.begin(), diferencas.end())/double(n);\n",
        "  double std = sqrt(variancia);\n",
        "\n",
        "  cout << \"Soma das diferenças: \" << soma_diferencas << endl;\n",
        "  cout << \"Média das diferenças: \" << media_diferencas << endl;\n",
        "  cout << \"Variancia \" << variancia << endl;\n",
        "  cout << \"Desvio padrão: \" << std << endl;\n",
        "\n",
        "  return 0;\n",
        "\n",
        " }"
      ],
      "metadata": {
        "colab": {
          "base_uri": "https://localhost:8080/"
        },
        "id": "rpK3B0c4GEsR",
        "outputId": "76a0f488-97b7-48a5-dc10-9666ecf87b71"
      },
      "execution_count": 81,
      "outputs": [
        {
          "output_type": "stream",
          "name": "stdout",
          "text": [
            "Writing aula14_pt1.cu\n"
          ]
        }
      ]
    },
    {
      "cell_type": "code",
      "source": [
        "!nvcc aula14_pt1.cu -o aula14_pt1"
      ],
      "metadata": {
        "id": "jjxDMPy4Iv3q"
      },
      "execution_count": 82,
      "outputs": []
    },
    {
      "cell_type": "code",
      "source": [
        "!./aula14_pt1 < stocks2.csv"
      ],
      "metadata": {
        "colab": {
          "base_uri": "https://localhost:8080/"
        },
        "id": "iNb3yziKI1wo",
        "outputId": "7766ec42-1b7c-4a77-a266-1bf62f729caa"
      },
      "execution_count": 84,
      "outputs": [
        {
          "output_type": "stream",
          "name": "stdout",
          "text": [
            "Soma das diferenças: 33.6301\n",
            "Média das diferenças: 3.36301\n",
            "Variancia 0.224582\n",
            "Desvio padrão: 0.4739\n"
          ]
        }
      ]
    },
    {
      "cell_type": "code",
      "source": [
        "%%writefile aula14_pt2.cu\n",
        "\n",
        " #include <thrust/host_vector.h>\n",
        " #include <thrust/device_vector.h>\n",
        " #include <thrust/generate.h>\n",
        " #include <thrust/functional.h>\n",
        " #include <thrust/copy.h>\n",
        " #include <cstdlib>\n",
        " #include <algorithm>\n",
        " #include <iostream>\n",
        " #include <iomanip>\n",
        " using namespace std;\n",
        "\n",
        "int main(){\n",
        "  int n;\n",
        "  cin >> n;\n",
        "  thrust::host_vector<double>acoes(n, 0);\n",
        "  for (int i = 0; i < n; i++){\n",
        "    cin >> acoes[i]; \n",
        "  }\n",
        "\n",
        "  thrust::device_vector<double> acoes_gpu(acoes);\n",
        "  thrust::device_vector<double> ganho_diario(n-1);\n",
        "\n",
        "  thrust::transform(acoes_gpu.begin()+1, acoes_gpu.end(), acoes_gpu.begin(), ganho_diario.begin(), thrust::minus<double>());\n",
        "\n",
        "  cout << \"Ganho diário: \" << endl;\n",
        "  for (int i = 0; i < int(n-1); i++){\n",
        "    cout << ganho_diario[i] << endl;\n",
        "  }\n",
        "\n",
        "  double soma_ganho = thrust::reduce(ganho_diario.begin(), ganho_diario.end());\n",
        "  double media_ganho = soma_ganho/(double) (n-1);\n",
        "\n",
        "  cout << \"Média do ganho diário: \" << media_ganho << endl;\n",
        "}\n",
        "\n"
      ],
      "metadata": {
        "colab": {
          "base_uri": "https://localhost:8080/"
        },
        "id": "vAFBKCS-I265",
        "outputId": "a9d37f15-954c-44cc-d468-b7c24a9cdb07"
      },
      "execution_count": 100,
      "outputs": [
        {
          "output_type": "stream",
          "name": "stdout",
          "text": [
            "Overwriting aula14_pt2.cu\n"
          ]
        }
      ]
    },
    {
      "cell_type": "code",
      "source": [
        "!nvcc aula14_pt2.cu -o aula14_pt2"
      ],
      "metadata": {
        "id": "LTij9dMqMEQl"
      },
      "execution_count": 101,
      "outputs": []
    },
    {
      "cell_type": "code",
      "source": [
        "!./aula14_pt2 < stocks.txt"
      ],
      "metadata": {
        "colab": {
          "base_uri": "https://localhost:8080/"
        },
        "id": "o-bNAAs3MHDa",
        "outputId": "3ec62536-b2d8-4011-b59c-0e4a7a11313f"
      },
      "execution_count": 102,
      "outputs": [
        {
          "output_type": "stream",
          "name": "stdout",
          "text": [
            "Ganho diário: \n",
            "3.2077\n",
            "7.9914\n",
            "9.4916\n",
            "-5.9556\n",
            "6.875\n",
            "-4.3139\n",
            "-3.7179\n",
            "2.0256\n",
            "-4.9554\n",
            "Média do ganho diário: 1.18317\n"
          ]
        }
      ]
    },
    {
      "cell_type": "code",
      "source": [
        "%%writefile aula14_pt3.cu\n",
        "\n",
        " #include <thrust/host_vector.h>\n",
        " #include <thrust/device_vector.h>\n",
        " #include <thrust/generate.h>\n",
        " #include <thrust/functional.h>\n",
        " #include <thrust/copy.h>\n",
        " #include <cstdlib>\n",
        " #include <algorithm>\n",
        " #include <iostream>\n",
        " #include <iomanip>\n",
        " using namespace std;\n",
        "\n",
        "struct greater_than_zero\n",
        "{\n",
        "  __host__ __device__\n",
        "  bool operator()(const double &x)\n",
        "  {\n",
        "    return x > 0.0;\n",
        "  }\n",
        "};\n",
        "\n",
        "\n",
        "struct less_than_zero\n",
        "{\n",
        "  __host__ __device__\n",
        "  bool operator()(const double &x)\n",
        "  {\n",
        "    return x < 0.0;\n",
        "  }\n",
        "};\n",
        "\n",
        "int main(){\n",
        "  int n;\n",
        "  cin >> n;\n",
        "  thrust::host_vector<double>acoes(n, 0);\n",
        "  for (int i = 0; i < n; i++){\n",
        "    cin >> acoes[i]; \n",
        "  }\n",
        "\n",
        "  thrust::device_vector<double> acoes_gpu(acoes);\n",
        "  thrust::device_vector<double> ganho_diario(n-1);\n",
        "\n",
        "  thrust::transform(acoes_gpu.begin()+1, acoes_gpu.end(), acoes_gpu.begin(), ganho_diario.begin(), thrust::minus<double>());\n",
        "\n",
        "  cout << \"Ganho diário: \" << endl;\n",
        "  for (int i = 0; i < int(n-1); i++){\n",
        "    cout << ganho_diario[i] << endl;\n",
        "  }\n",
        "\n",
        "  double soma_ganho = thrust::reduce(ganho_diario.begin(), ganho_diario.end());\n",
        "  double media_ganho = soma_ganho/(double) (n-1);\n",
        "\n",
        "  // Para contar quantas vezes da 1: int result = thrust::count(vec.begin(), vec.end(), 1);\n",
        "  // Contar quantas vezes aumentou de fato  \n",
        "\n",
        "  int qtd_aumentos = thrust::count_if(ganho_diario.begin(), ganho_diario.end(), greater_than_zero());\n",
        "\n",
        "\n",
        "  // Calcular o aumento médio\n",
        "  \n",
        "  thrust::replace_if(ganho_diario.begin(), ganho_diario.end(), less_than_zero(), 0);\n",
        "  double soma_aumentos = thrust::reduce(ganho_diario.begin(), ganho_diario.end());\n",
        "  double media_aumentos = soma_aumentos/(double) qtd_aumentos;\n",
        "\n",
        "  cout << \"Média do ganho diário: \" << media_ganho << endl;\n",
        "  cout << \"Quantas vezes aumentou \" << qtd_aumentos << endl;\n",
        "  cout << \"Média dos aumentos \" << media_aumentos << endl;\n",
        "}\n",
        "\n"
      ],
      "metadata": {
        "colab": {
          "base_uri": "https://localhost:8080/"
        },
        "id": "WoIJ7jrxMJfQ",
        "outputId": "981d820b-6c6d-4bd9-e3df-71655ffb5748"
      },
      "execution_count": 114,
      "outputs": [
        {
          "output_type": "stream",
          "name": "stdout",
          "text": [
            "Overwriting aula14_pt3.cu\n"
          ]
        }
      ]
    },
    {
      "cell_type": "code",
      "source": [
        "!nvcc aula14_pt3.cu -o aula14_pt3"
      ],
      "metadata": {
        "id": "Vi0ashdFN3FI"
      },
      "execution_count": 115,
      "outputs": []
    },
    {
      "cell_type": "code",
      "source": [
        "!./aula14_pt3 < stocks.txt"
      ],
      "metadata": {
        "colab": {
          "base_uri": "https://localhost:8080/"
        },
        "id": "AFpCC4P4N5Sr",
        "outputId": "413def2f-f428-453c-c4c6-bf33b3985390"
      },
      "execution_count": 116,
      "outputs": [
        {
          "output_type": "stream",
          "name": "stdout",
          "text": [
            "Ganho diário: \n",
            "3.2077\n",
            "7.9914\n",
            "9.4916\n",
            "-5.9556\n",
            "6.875\n",
            "-4.3139\n",
            "-3.7179\n",
            "2.0256\n",
            "-4.9554\n",
            "Média do ganho diário: 1.18317\n",
            "Quantas vezes aumentou 5\n",
            "Média dos aumentos 5.91826\n"
          ]
        }
      ]
    },
    {
      "cell_type": "markdown",
      "source": [
        "# **GPU AULA15**\n",
        "\n",
        "A magnitude de um vetor consiste na raiz quadrada da soma do quadrado de seus elementos. Dessa forma, você deve complementar o código abaixo, de modo a criar uma transformação customizada square, a qual faz uma transformação no vetor transformando os seus elementos ao quadrado, e posteriormente você deve fazer uma redução, de modo a obter a magnitude do vetor."
      ],
      "metadata": {
        "id": "LjHvYtq8QdhS"
      }
    },
    {
      "cell_type": "code",
      "source": [
        " %%writefile aula15_pt1.cu\n",
        "\n",
        " #include <iostream>\n",
        " #include <iomanip>\n",
        " #include <cstdlib>\n",
        " #include <chrono>\n",
        " #include <cstdlib>\n",
        " #include <algorithm>\n",
        "//INSIRA AS IMPORTACOES NECESSARIAS DA THRUST\n",
        " #include <cmath>\n",
        " #include <random>\n",
        "\n",
        " using namespace std::chrono;\n",
        " using namespace std;\n",
        "\n",
        " void reportTime(const char* msg, steady_clock::duration span) {\n",
        "     auto ms = duration_cast<milliseconds>(span);\n",
        "     std::cout << msg << \" - levou - \" <<\n",
        "      ms.count() << \" milisegundos\" << std::endl;\n",
        " }\n",
        "\n",
        " // CRIE UMA FUNCTOR PARA CALCULAR A SQUARE\n",
        "struct square\n",
        "{\n",
        "    __host__ __device__\n",
        "    double operator()(const double& x) {\n",
        "           return x*x;\n",
        "    }\n",
        "};\n",
        "\n",
        "\n",
        " // IMPLEMENTE O CALCULO DA MAGNITUDE COM THRUST\n",
        " float magnitude(thrust::device_vector<double> x) {\n",
        "     double result;\n",
        "\n",
        "     thrust::transform(x.begin(), x.end(), x.begin(), square());\n",
        "     result = sqrt(thrust::reduce(x.begin(), x.end()));\n",
        "\n",
        "     return result;\n",
        "\n",
        "     // OUUUUU \n",
        "     //thrust::transform_reduce(x.begin(), x.end(), square(), 0.0f, thrust::plus<double>());\n",
        " }\n",
        "\n",
        " int main(int argc, char** argv) {\n",
        "     if (argc != 2) {\n",
        "         std::cerr << argv[0] << \": numero invalido de argumentos\\n\"; \n",
        "         std::cerr << \"uso: \" << argv[0] << \"  tamanho do vetor\\n\"; \n",
        "         return 1;\n",
        "     }\n",
        "     int n = std::atoi(argv[1]); //numero de elementos\n",
        "     steady_clock::time_point ts, te;\n",
        "\n",
        "     // Faça um  vector em thrust \n",
        "\n",
        "     thrust::host_vector<double> v(n);\n",
        "\n",
        "     // inicilize o  vector\n",
        "     ts = steady_clock::now();\n",
        "\n",
        "     std::generate(v.begin(), v.end(), std::rand);\n",
        "\n",
        "     thrust::device_vector<double> v_d(v);\n",
        "\n",
        "     te = steady_clock::now();\n",
        "     reportTime(\"Inicializacao\", te - ts);\n",
        "\n",
        "     // Calcule a magnitude do vetor\n",
        "     ts = steady_clock::now();\n",
        "     float len = magnitude(v_d);\n",
        "     te = steady_clock::now();\n",
        "     reportTime(\"Tempo para calculo\", te - ts);\n",
        "\n",
        "\n",
        "     std::cout << std::fixed << std::setprecision(4);\n",
        "     std::cout << \"Magnitude : \" << len << std::endl;\n",
        " }"
      ],
      "metadata": {
        "id": "HLwRkkR7Qd_X"
      },
      "execution_count": null,
      "outputs": []
    },
    {
      "cell_type": "markdown",
      "source": [
        "# **AULA 10: INTRODUCAO PARALELISMO**\n",
        "\n",
        "Após implementar a versão serial e calcular o tempo de sua execução, implemente a versão em openmp. Você deve fazer sua implementação de duas formas:\n",
        "\n",
        "a) A primeira implementação você deve trabalhar com 2 threads e a partir do id da thread, você deve dividir a soma em duas partes, cada thread executando a sua porção."
      ],
      "metadata": {
        "id": "EnlOGQsmWCSN"
      }
    },
    {
      "cell_type": "code",
      "source": [
        "%%writefile leibniz_parte1.cpp\n",
        "#include <iostream>\n",
        "#include <vector>\n",
        "#include <cmath>\n",
        "#include <algorithm> \n",
        "#include <random>\n",
        "#include <chrono>\n",
        "#include <stdlib.h> \n",
        "#include <fstream>\n",
        "#include <omp.h>\n",
        "using namespace std;\n",
        "\n",
        "int main(){\n",
        "  long int n = 1000000000;\n",
        "  int multiplier = -1;\n",
        "\n",
        "  double soma_serie = 0.0;\n",
        "\n",
        "  omp_set_num_threads(2);\n",
        "\n",
        "\n",
        "  #pragma omp parallel \n",
        "  {\n",
        "    int thread_id = omp_get_thread_num();\n",
        "    int num_threads = omp_get_num_threads();\n",
        "\n",
        "    long int start = (n / num_threads) * thread_id;\n",
        "    long int end = (n / num_threads) * (thread_id + 1);\n",
        "    \n",
        "    if (thread_id == num_threads - 1) {\n",
        "      end = n;\n",
        "    }\n",
        "\n",
        "    double soma_local = 0.0;\n",
        "\n",
        "    for (int i = start; i < end; i++){\n",
        "      multiplier *= -1.0;\n",
        "      soma_local+= (double)multiplier/(double)(2*i + 1.0);\n",
        "    }\n",
        "\n",
        "    #pragma omp critical\n",
        "    soma_serie += soma_local;\n",
        "\n",
        "  }\n",
        "\n",
        "\n",
        "  double pi = double(soma_serie)*4.0;\n",
        "  cout << \"Aproximação do pi: \" << pi << endl;\n",
        "\n",
        "  return 0;\n",
        "}"
      ],
      "metadata": {
        "colab": {
          "base_uri": "https://localhost:8080/"
        },
        "id": "XuoUdDctWweB",
        "outputId": "625b0f2c-159c-41d1-8f57-631b9d016e68"
      },
      "execution_count": 28,
      "outputs": [
        {
          "output_type": "stream",
          "name": "stdout",
          "text": [
            "Overwriting leibniz_parte1.cpp\n"
          ]
        }
      ]
    },
    {
      "cell_type": "code",
      "source": [
        "!g++ -Wall -O3 -fopenmp leibniz_parte1.cpp -o leibniz_parte1\n"
      ],
      "metadata": {
        "id": "SsUexBueZLQ7"
      },
      "execution_count": 29,
      "outputs": []
    },
    {
      "cell_type": "code",
      "source": [
        "!./leibniz_parte1"
      ],
      "metadata": {
        "colab": {
          "base_uri": "https://localhost:8080/"
        },
        "id": "brLUrNt3ZUp6",
        "outputId": "e89f934f-1ba0-4230-f0b3-8efc31abb41b"
      },
      "execution_count": 30,
      "outputs": [
        {
          "output_type": "stream",
          "name": "stdout",
          "text": [
            "Aproximação do pi: 3.14159\n"
          ]
        }
      ]
    },
    {
      "cell_type": "markdown",
      "source": [
        "b) A segunda implementação você deve trabalhar com for do openmp e tratar como uma redução do valor de PI. Calcule o tempo de execução."
      ],
      "metadata": {
        "id": "M7qM23YJdK0E"
      }
    },
    {
      "cell_type": "code",
      "source": [
        "%%writefile leibniz_parte2.cpp\n",
        "#include <iostream>\n",
        "#include <vector>\n",
        "#include <cmath>\n",
        "#include <algorithm> \n",
        "#include <random>\n",
        "#include <chrono>\n",
        "#include <stdlib.h> \n",
        "#include <fstream>\n",
        "#include <omp.h>\n",
        "using namespace std;\n",
        "\n",
        "int main(){\n",
        "  long int n = 1000000000;\n",
        "  int multiplier = -1;\n",
        "\n",
        "  double soma_serie = 0.0;\n",
        "\n",
        "  omp_set_num_threads(2);\n",
        "\n",
        "  #pragma omp parallel for reduction(+ : soma_serie)\n",
        "  for (int i = 0; i < n; i++){\n",
        "    multiplier *= -1.0;\n",
        "    soma_serie+= (double)multiplier/(double)(2*i + 1.0);\n",
        "  }\n",
        "\n",
        "\n",
        "  double pi = double(soma_serie)*4.0;\n",
        "  cout << \"Aproximação do pi: \" << pi << endl;\n",
        "\n",
        "  return 0;\n",
        "}"
      ],
      "metadata": {
        "colab": {
          "base_uri": "https://localhost:8080/"
        },
        "id": "sJ0iRSOkdLLy",
        "outputId": "74058ccf-6f00-426a-828a-7f116b15fc3d"
      },
      "execution_count": 31,
      "outputs": [
        {
          "output_type": "stream",
          "name": "stdout",
          "text": [
            "Writing leibniz_parte2.cpp\n"
          ]
        }
      ]
    },
    {
      "cell_type": "code",
      "source": [
        "!g++ -Wall -O3 -fopenmp leibniz_parte2.cpp -o leibniz_parte2\n"
      ],
      "metadata": {
        "id": "u__bx2A2hQ7q"
      },
      "execution_count": 32,
      "outputs": []
    },
    {
      "cell_type": "code",
      "source": [
        "!./leibniz_parte2"
      ],
      "metadata": {
        "colab": {
          "base_uri": "https://localhost:8080/"
        },
        "id": "umJWuwEzhVNf",
        "outputId": "659a50cc-ea5b-4199-9a09-8450ea475b3b"
      },
      "execution_count": 33,
      "outputs": [
        {
          "output_type": "stream",
          "name": "stdout",
          "text": [
            "Aproximação do pi: 3.14159\n"
          ]
        }
      ]
    },
    {
      "cell_type": "markdown",
      "source": [
        "Complete exercicio1.cpp criando duas tarefas. A primeira deverá rodar funcao1 e a segunda funcao2. Salve seus resultados nas variáveis indicadas no código."
      ],
      "metadata": {
        "id": "L441vU8Lij5l"
      }
    },
    {
      "cell_type": "code",
      "source": [
        "%%writefile exercicio1_paralelo.cpp\n",
        "#include <iostream>\n",
        "#include <unistd.h>\n",
        "#include <omp.h>\n",
        "#include <chrono>\n",
        "\n",
        "double funcao1() {\n",
        "    sleep(4);\n",
        "    return 47;\n",
        "}\n",
        "\n",
        "double funcao2() {\n",
        "    sleep(1);\n",
        "    return -11.5;\n",
        "}\n",
        "\n",
        "int main() {\n",
        "    auto t_start = std::chrono::high_resolution_clock::now();\n",
        "\n",
        "    double res_func1, res_func2;\n",
        "\n",
        "    # pragma omp parallel\n",
        "    {\n",
        "        #pragma omp task\n",
        "        {\n",
        "            std::cout << \"Estou rodando na tarefa \" << omp_get_thread_num() << \"\\n\";\n",
        "            res_func1 = funcao1();\n",
        "        }\n",
        "\n",
        "        #pragma omp task\n",
        "        {\n",
        "          res_func2 = funcao2();\n",
        "        }\n",
        "    }\n",
        "\n",
        "    //res_func1 = funcao1();\n",
        "    //res_func2 = funcao2();\n",
        "\n",
        "    std::cout << res_func1 << \" \" << res_func2 << \"\\n\";\n",
        "\n",
        "    auto t_end = std::chrono::high_resolution_clock::now();\n",
        "\n",
        "    double elapsed_time_ms = std::chrono::duration<double, std::milli>(t_end-t_start).count();\n",
        "    double elapsed_time_s = elapsed_time_ms/1000;\n",
        "    std::cout << \"Tempo de execução: \" << elapsed_time_s << \" s\" << std::endl;\n",
        "\n",
        "}"
      ],
      "metadata": {
        "colab": {
          "base_uri": "https://localhost:8080/"
        },
        "id": "j13-vD_GhXHh",
        "outputId": "0e8fc5f8-a31e-4e27-ea40-f4fdadc807e2"
      },
      "execution_count": 34,
      "outputs": [
        {
          "output_type": "stream",
          "name": "stdout",
          "text": [
            "Writing exercicio1_paralelo.cpp\n"
          ]
        }
      ]
    },
    {
      "cell_type": "code",
      "source": [
        "!g++ -g -Wall -fopenmp exercicio1_paralelo.cpp -o exercicio1_paralelo"
      ],
      "metadata": {
        "id": "XuN3_quOityS"
      },
      "execution_count": 35,
      "outputs": []
    },
    {
      "cell_type": "code",
      "source": [
        "!./exercicio1_paralelo"
      ],
      "metadata": {
        "colab": {
          "base_uri": "https://localhost:8080/"
        },
        "id": "2bQqwZH7iwLr",
        "outputId": "f4a743c6-e223-4c27-d16e-05b0cb755fcd"
      },
      "execution_count": 36,
      "outputs": [
        {
          "output_type": "stream",
          "name": "stdout",
          "text": [
            "Estou rodando na tarefa 0\n",
            "Estou rodando na tarefa 1\n",
            "47 -11.5\n",
            "Tempo de execução: 5.00055 s\n"
          ]
        }
      ]
    },
    {
      "cell_type": "code",
      "source": [
        "%%writefile exercicio1_sequencial.cpp\n",
        "#include <iostream>\n",
        "#include <unistd.h>\n",
        "#include <chrono>\n",
        "\n",
        "double funcao1() {\n",
        "    sleep(4);\n",
        "    return 47;\n",
        "}\n",
        "\n",
        "double funcao2() {\n",
        "    sleep(1);\n",
        "    return -11.5;\n",
        "}\n",
        "\n",
        "int main() {\n",
        "    auto t_start = std::chrono::high_resolution_clock::now();\n",
        "\n",
        "    double res_func1, res_func2;\n",
        "\n",
        "    res_func1 = funcao1();\n",
        "    res_func2 = funcao2();\n",
        "\n",
        "    std::cout << res_func1 << \" \" << res_func2 << \"\\n\";\n",
        "\n",
        "    auto t_end = std::chrono::high_resolution_clock::now();\n",
        "\n",
        "    double elapsed_time_ms = std::chrono::duration<double, std::milli>(t_end-t_start).count();\n",
        "    double elapsed_time_s = elapsed_time_ms/1000;\n",
        "    std::cout << \"Tempo de execução: \" << elapsed_time_s << \" s\" << std::endl;\n",
        "\n",
        "}"
      ],
      "metadata": {
        "colab": {
          "base_uri": "https://localhost:8080/"
        },
        "id": "Vy4R44mkixnJ",
        "outputId": "a7986fa7-0eac-4d1c-bec2-89675e07789d"
      },
      "execution_count": 37,
      "outputs": [
        {
          "output_type": "stream",
          "name": "stdout",
          "text": [
            "Writing exercicio1_sequencial.cpp\n"
          ]
        }
      ]
    },
    {
      "cell_type": "code",
      "source": [
        "!g++ -g -Wall -fopenmp exercicio1_sequencial.cpp -o exercicio1_sequencial"
      ],
      "metadata": {
        "id": "U36k650Ki7yS"
      },
      "execution_count": 38,
      "outputs": []
    },
    {
      "cell_type": "code",
      "source": [
        "!./exercicio1_sequencial"
      ],
      "metadata": {
        "colab": {
          "base_uri": "https://localhost:8080/"
        },
        "id": "uzuRMuBli9HK",
        "outputId": "945ea707-ac37-48e6-f732-005dfe3232fd"
      },
      "execution_count": 39,
      "outputs": [
        {
          "output_type": "stream",
          "name": "stdout",
          "text": [
            "47 -11.5\n",
            "Tempo de execução: 5.00051 s\n"
          ]
        }
      ]
    },
    {
      "cell_type": "markdown",
      "source": [
        "# **AULA 11: SCHEDULING E EFEITOS COLATERAIS**"
      ],
      "metadata": {
        "id": "96YvDKPtjLUQ"
      }
    },
    {
      "cell_type": "code",
      "source": [
        "%%writefile pi_recursivo_sequencial.cpp\n",
        "#include <omp.h>\n",
        "#include <iostream>\n",
        "#include <iomanip>\n",
        "static long num_steps = 1024l*1024*1024*2;\n",
        "\n",
        "#define MIN_BLK  1024*1024*256\n",
        "\n",
        "double sum = 0;\n",
        "\n",
        "void pi_r(long Nstart, long Nfinish, double step) {\n",
        "    long i,iblk;\n",
        "    if (Nfinish-Nstart < MIN_BLK){\n",
        "        for (i = Nstart; i < Nfinish; i++){\n",
        "            double x = (i+0.5)*step;\n",
        "            sum += 4.0/(1.0+x*x); \n",
        "        }\n",
        "    } else {\n",
        "        iblk = Nfinish-Nstart;\n",
        "        pi_r(Nstart,         Nfinish-iblk/2,step);\n",
        "        pi_r(Nfinish-iblk/2, Nfinish,       step);\n",
        "    }\n",
        "}\n",
        "\n",
        "int main () {\n",
        "    long i;\n",
        "    double step, pi;\n",
        "    double init_time, final_time;\n",
        "    step = 1.0/(double) num_steps;\n",
        "    init_time = omp_get_wtime();\n",
        "    pi_r(0, num_steps, step);\n",
        "    pi = step * sum;\n",
        "    final_time = omp_get_wtime() - init_time;\n",
        "\n",
        "    std::cout << \"for \" << num_steps << \" steps pi = \" << std::setprecision(15) << pi << \" in \" << final_time << \" secs\\n\";\n",
        "}"
      ],
      "metadata": {
        "colab": {
          "base_uri": "https://localhost:8080/"
        },
        "id": "dpgNCuvBjNbW",
        "outputId": "00787af3-40cc-4226-9322-18aa0a18819a"
      },
      "execution_count": 40,
      "outputs": [
        {
          "output_type": "stream",
          "name": "stdout",
          "text": [
            "Writing pi_recursivo_sequencial.cpp\n"
          ]
        }
      ]
    },
    {
      "cell_type": "code",
      "source": [
        "!g++ -Wall -fopenmp pi_recursivo_sequencial.cpp -o pi_recursivo_sequencial"
      ],
      "metadata": {
        "colab": {
          "base_uri": "https://localhost:8080/"
        },
        "id": "oJt8nM_0kSfT",
        "outputId": "f3771f9f-46b7-4530-e1e0-a026c2db4d05"
      },
      "execution_count": 41,
      "outputs": [
        {
          "output_type": "stream",
          "name": "stdout",
          "text": [
            "\u001b[01m\u001b[Kpi_recursivo_sequencial.cpp:\u001b[m\u001b[K In function ‘\u001b[01m\u001b[Kint main()\u001b[m\u001b[K’:\n",
            "\u001b[01m\u001b[Kpi_recursivo_sequencial.cpp:25:10:\u001b[m\u001b[K \u001b[01;35m\u001b[Kwarning: \u001b[m\u001b[Kunused variable ‘\u001b[01m\u001b[Ki\u001b[m\u001b[K’ [\u001b[01;35m\u001b[K-Wunused-variable\u001b[m\u001b[K]\n",
            "   25 |     long \u001b[01;35m\u001b[Ki\u001b[m\u001b[K;\n",
            "      |          \u001b[01;35m\u001b[K^\u001b[m\u001b[K\n"
          ]
        }
      ]
    },
    {
      "cell_type": "code",
      "source": [
        "!./pi_recursivo_sequencial"
      ],
      "metadata": {
        "colab": {
          "base_uri": "https://localhost:8080/"
        },
        "id": "1OnsFbQpkUwq",
        "outputId": "c6ad79df-668e-496c-cba2-dab7defef1d2"
      },
      "execution_count": 42,
      "outputs": [
        {
          "output_type": "stream",
          "name": "stdout",
          "text": [
            "for 2147483648 steps pi = 3.14159265358977 in 32.557747029 secs\n"
          ]
        }
      ]
    },
    {
      "cell_type": "code",
      "source": [
        "%%writefile pi_recursivo_parallel.cpp\n",
        "#include <omp.h>\n",
        "#include <iostream>\n",
        "#include <iomanip>\n",
        "static long num_steps = 1024l*1024*1024*2;\n",
        "\n",
        "#define MIN_BLK  1024*1024*256\n",
        "\n",
        "double sum = 0;\n",
        "\n",
        "void pi_r(long Nstart, long Nfinish, double step) {\n",
        "    long i,iblk;\n",
        "    if (Nfinish-Nstart < MIN_BLK){\n",
        "        #pragma omp parallel for reduction(+ : sum)\n",
        "        for (i = Nstart; i < Nfinish; i++){\n",
        "            double x = (i+0.5)*step;\n",
        "            sum += 4.0/(1.0+x*x); \n",
        "        }\n",
        "    } else {\n",
        "        iblk = Nfinish-Nstart;\n",
        "        pi_r(Nstart,         Nfinish-iblk/2,step);\n",
        "        pi_r(Nfinish-iblk/2, Nfinish,       step);\n",
        "    }\n",
        "}\n",
        "\n",
        "int main () {\n",
        "    long i;\n",
        "    double step, pi;\n",
        "    double init_time, final_time;\n",
        "    step = 1.0/(double) num_steps;\n",
        "    init_time = omp_get_wtime();\n",
        "    pi_r(0, num_steps, step);\n",
        "    pi = step * sum;\n",
        "    final_time = omp_get_wtime() - init_time;\n",
        "\n",
        "    std::cout << \"for \" << num_steps << \" steps pi = \" << std::setprecision(15) << pi << \" in \" << final_time << \" secs\\n\";\n",
        "}"
      ],
      "metadata": {
        "colab": {
          "base_uri": "https://localhost:8080/"
        },
        "id": "t5DTI1YWkXPh",
        "outputId": "d04b32bb-1e9c-4e8d-c88b-8489520afc5a"
      },
      "execution_count": 43,
      "outputs": [
        {
          "output_type": "stream",
          "name": "stdout",
          "text": [
            "Writing pi_recursivo_parallel.cpp\n"
          ]
        }
      ]
    },
    {
      "cell_type": "code",
      "source": [
        "!g++ -Wall -fopenmp pi_recursivo_parallel.cpp -o pi_recursivo_parallel"
      ],
      "metadata": {
        "colab": {
          "base_uri": "https://localhost:8080/"
        },
        "id": "zYJIu0Wak14H",
        "outputId": "3f6b7003-0ee1-49eb-aff3-47c3144c51e2"
      },
      "execution_count": 44,
      "outputs": [
        {
          "output_type": "stream",
          "name": "stdout",
          "text": [
            "\u001b[01m\u001b[Kpi_recursivo_parallel.cpp:\u001b[m\u001b[K In function ‘\u001b[01m\u001b[Kint main()\u001b[m\u001b[K’:\n",
            "\u001b[01m\u001b[Kpi_recursivo_parallel.cpp:26:10:\u001b[m\u001b[K \u001b[01;35m\u001b[Kwarning: \u001b[m\u001b[Kunused variable ‘\u001b[01m\u001b[Ki\u001b[m\u001b[K’ [\u001b[01;35m\u001b[K-Wunused-variable\u001b[m\u001b[K]\n",
            "   26 |     long \u001b[01;35m\u001b[Ki\u001b[m\u001b[K;\n",
            "      |          \u001b[01;35m\u001b[K^\u001b[m\u001b[K\n"
          ]
        }
      ]
    },
    {
      "cell_type": "code",
      "source": [
        "!./pi_recursivo_parallel"
      ],
      "metadata": {
        "colab": {
          "base_uri": "https://localhost:8080/"
        },
        "id": "TEUeQoAek4zf",
        "outputId": "55f8b305-66ba-43b7-a922-5b6e1c4fcedc"
      },
      "execution_count": 45,
      "outputs": [
        {
          "output_type": "stream",
          "name": "stdout",
          "text": [
            "for 2147483648 steps pi = 3.14159265358977 in 18.0939683519996 secs\n"
          ]
        }
      ]
    },
    {
      "cell_type": "code",
      "source": [
        "%%writefile pi_recursivo_task.cpp\n",
        "\n",
        "#include <omp.h>\n",
        "#include <iostream>\n",
        "#include <iomanip>\n",
        "static long num_steps = 1024l * 1024 * 1024 * 2;\n",
        "\n",
        "#define MIN_BLK 1024 * 1024 * 256\n",
        "\n",
        "double pi_r(long Nstart, long Nfinish, double step) {\n",
        "    long i, iblk;\n",
        "    double sum = 0.0;\n",
        "\n",
        "    if (Nfinish - Nstart < MIN_BLK) {\n",
        "        for (i = Nstart; i < Nfinish; i++) {\n",
        "            double x = (i + 0.5) * step;\n",
        "            sum += 4.0 / (1.0 + x * x);\n",
        "        }\n",
        "    } else {\n",
        "        iblk = Nfinish - Nstart;\n",
        "\n",
        "        #pragma omp task shared(sum)\n",
        "        {\n",
        "            double sum1 = pi_r(Nstart, Nfinish - iblk / 2, step);\n",
        "            #pragma omp atomic\n",
        "            sum += sum1;\n",
        "        }\n",
        "\n",
        "        #pragma omp task shared(sum)\n",
        "        {\n",
        "            double sum2 = pi_r(Nfinish - iblk / 2, Nfinish, step);\n",
        "            #pragma omp atomic\n",
        "            sum += sum2;\n",
        "        }\n",
        "\n",
        "        #pragma omp taskwait\n",
        "    }\n",
        "\n",
        "    return sum;\n",
        "}\n",
        "\n",
        "int main() {\n",
        "    long i;\n",
        "    double step, pi;\n",
        "    double init_time, final_time;\n",
        "    step = 1.0 / (double)num_steps;\n",
        "    init_time = omp_get_wtime();\n",
        "    #pragma omp parallel\n",
        "    #pragma omp single  // garante que uma thread só vai criar as tarefas\n",
        "    {\n",
        "        pi = pi_r(0, num_steps, step);\n",
        "    }\n",
        "    pi *= step;\n",
        "    final_time = omp_get_wtime() - init_time;\n",
        "\n",
        "    std::cout << \"for \" << num_steps << \" steps pi = \" << std::setprecision(15) << pi << \" in \" << final_time << \" secs\\n\";\n",
        "}\n"
      ],
      "metadata": {
        "colab": {
          "base_uri": "https://localhost:8080/"
        },
        "id": "9rPx2QTyk6jO",
        "outputId": "2cb9459d-d005-40ad-8159-030bac7c778e"
      },
      "execution_count": 46,
      "outputs": [
        {
          "output_type": "stream",
          "name": "stdout",
          "text": [
            "Writing pi_recursivo_task.cpp\n"
          ]
        }
      ]
    },
    {
      "cell_type": "code",
      "source": [
        "!g++ -Wall -fopenmp pi_recursivo_task.cpp -o pi_recursivo_task"
      ],
      "metadata": {
        "colab": {
          "base_uri": "https://localhost:8080/"
        },
        "id": "ef2bOtfglqxD",
        "outputId": "e1575e41-99a4-4e9f-df27-165b81c2f97c"
      },
      "execution_count": 47,
      "outputs": [
        {
          "output_type": "stream",
          "name": "stdout",
          "text": [
            "\u001b[01m\u001b[Kpi_recursivo_task.cpp:\u001b[m\u001b[K In function ‘\u001b[01m\u001b[Kint main()\u001b[m\u001b[K’:\n",
            "\u001b[01m\u001b[Kpi_recursivo_task.cpp:42:10:\u001b[m\u001b[K \u001b[01;35m\u001b[Kwarning: \u001b[m\u001b[Kunused variable ‘\u001b[01m\u001b[Ki\u001b[m\u001b[K’ [\u001b[01;35m\u001b[K-Wunused-variable\u001b[m\u001b[K]\n",
            "   42 |     long \u001b[01;35m\u001b[Ki\u001b[m\u001b[K;\n",
            "      |          \u001b[01;35m\u001b[K^\u001b[m\u001b[K\n"
          ]
        }
      ]
    },
    {
      "cell_type": "code",
      "source": [
        "!./pi_recursivo_task"
      ],
      "metadata": {
        "colab": {
          "base_uri": "https://localhost:8080/"
        },
        "id": "IJMoL85NluGe",
        "outputId": "bd73e98f-9e61-425b-b5bd-94338133ea12"
      },
      "execution_count": 48,
      "outputs": [
        {
          "output_type": "stream",
          "name": "stdout",
          "text": [
            "for 2147483648 steps pi = 3.14159265358983 in 18.0078044900001 secs\n"
          ]
        }
      ]
    },
    {
      "cell_type": "markdown",
      "source": [
        "- pragma omp atomic:\n",
        "\n",
        "  - Esta diretiva é usada para garantir operações atômicas em uma variável compartilhada entre várias tarefas paralelas.\n",
        "\n",
        "  - No código fornecido, a variável sum é compartilhada entre as tarefas que realizam as chamadas recursivas.\n",
        "\n",
        "  - Como várias tarefas estão atualizando o valor de sum simultaneamente, é necessário garantir que as operações de atualização sejam feitas de forma atômica para evitar condições de corrida.\n",
        "\n",
        "  - A cláusula atomic especifica que a operação de incremento += em sum deve ser executada atomicamente.\n",
        "\n",
        "- Variáveis locais (sum1 e sum2):\n",
        "\n",
        "  - As variáveis sum1 e sum2 são usadas para armazenar os resultados parciais das chamadas recursivas.\n",
        "  - Cada tarefa possui sua própria cópia dessas variáveis, garantindo que não haja conflitos de escrita entre as tarefas.\n",
        "  - Depois que uma tarefa conclui sua chamada recursiva e obtém o resultado parcial, ela atualiza a variável sum compartilhada usando a cláusula atomic.\n",
        "\n",
        "- #pragma omp taskwait:\n",
        "\n",
        "  - Essa diretiva é usada para garantir que a thread atual aguarde a conclusão de todas as tarefas criadas por ela antes de prosseguir.\n",
        "  - No código fornecido, as chamadas recursivas são feitas como tarefas paralelas, mas queremos garantir que todas as tarefas tenham concluído antes de calcular o valor final de π.\n",
        "  - A diretiva taskwait faz exatamente isso, aguardando a conclusão de todas as tarefas antes de continuar a execução."
      ],
      "metadata": {
        "id": "cPlKKtxzmauV"
      }
    },
    {
      "cell_type": "markdown",
      "source": [
        "# **AULA 12: EFEITOS COLATERAIS II**\n"
      ],
      "metadata": {
        "id": "h1vWDj2YnoRZ"
      }
    },
    {
      "cell_type": "markdown",
      "source": [
        "```\n",
        "sum = 0\n",
        "De i=0 até N:\n",
        "  sorteie pontos x,y∈[0,1]\n",
        "  se x2+y2≤1, sum += 1\n",
        "devolva 4 * sum / N\n",
        "```\n",
        "\n",
        "Faça uma implementação sequencial desse algoritmo. Chama seu programa de pi_montecarlo.cpp. Para fins de debug das próximas versões, mostre o valor de sum na saída de erros. Adote N=100 000."
      ],
      "metadata": {
        "id": "VtL3R2qZnwqv"
      }
    },
    {
      "cell_type": "code",
      "source": [
        "%%writefile pi_montecarlo.cpp\n",
        "#include <iostream>\n",
        "#include <vector>\n",
        "#include <cmath>\n",
        "#include <algorithm> \n",
        "#include <random>\n",
        "#include <chrono>\n",
        "#include <stdlib.h> \n",
        "#include <fstream>\n",
        "#include <omp.h>\n",
        "using namespace std;\n",
        "\n",
        "int main(){\n",
        "    auto t_start = std::chrono::high_resolution_clock::now();\n",
        "    double sum = 0;\n",
        "    int N = 100000;\n",
        "\n",
        "    std::default_random_engine generator(42);\n",
        "    std::uniform_real_distribution<double> distribution(0.0, 1.0);\n",
        "\n",
        "    #pragma omp parallel for reduction(+ : sum)\n",
        "    for (int i = 0; i < N; i++){\n",
        "      double x = (double) distribution(generator);\n",
        "      double y = (double) distribution(generator);\n",
        "      if ((x*x + y*y) <= 1){\n",
        "        sum+=1;\n",
        "      }\n",
        "    }\n",
        "\n",
        "    double pi = 4.0 * sum/ (double) N;\n",
        "    cout <<  \"Pi aqui: \" << pi << endl;\n",
        "\n",
        "    auto t_end = std::chrono::high_resolution_clock::now();\n",
        "    double elapsed_time_ms = std::chrono::duration<double, std::milli>(t_end-t_start).count();\n",
        "    double elapsed_time_s = elapsed_time_ms/1000;\n",
        "    std::cout << \"Tempo de execução: \" << elapsed_time_s << \" s\" << std::endl;\n",
        "    return 0;\n",
        "}"
      ],
      "metadata": {
        "colab": {
          "base_uri": "https://localhost:8080/"
        },
        "id": "tZ33uLmWnqtv",
        "outputId": "f30971b3-2669-43e1-8f90-9941819b93b1"
      },
      "execution_count": 56,
      "outputs": [
        {
          "output_type": "stream",
          "name": "stdout",
          "text": [
            "Overwriting pi_montecarlo.cpp\n"
          ]
        }
      ]
    },
    {
      "cell_type": "code",
      "source": [
        "!g++ -Wall -fopenmp pi_montecarlo.cpp -o pi_montecarlo"
      ],
      "metadata": {
        "id": "Y0ZBKNO8n8Mj"
      },
      "execution_count": 57,
      "outputs": []
    },
    {
      "cell_type": "code",
      "source": [
        "!./pi_montecarlo"
      ],
      "metadata": {
        "colab": {
          "base_uri": "https://localhost:8080/"
        },
        "id": "CzoCm_G7pBP4",
        "outputId": "60047949-ea16-4928-fe53-80d6d9843e41"
      },
      "execution_count": 58,
      "outputs": [
        {
          "output_type": "stream",
          "name": "stdout",
          "text": [
            "Pi aqui: 3.14276\n",
            "Tempo de execução: 0.0184794 s\n"
          ]
        }
      ]
    },
    {
      "cell_type": "code",
      "source": [
        "%%writefile pi_montecarlo_melhor.cpp\n",
        "\n",
        "#include <iostream>\n",
        "#include <vector>\n",
        "#include <cmath>\n",
        "#include <algorithm> \n",
        "#include <random>\n",
        "#include <chrono>\n",
        "#include <stdlib.h> \n",
        "#include <fstream>\n",
        "#include <omp.h>\n",
        "using namespace std;\n",
        "\n",
        "int main(){\n",
        "    auto t_start = std::chrono::high_resolution_clock::now();\n",
        "    double sum = 0;\n",
        "    int N = 100000;\n",
        "    int num_threads = omp_get_max_threads();\n",
        "\n",
        "    #pragma omp parallel num_threads(num_threads) reduction(+ : sum)\n",
        "    {\n",
        "        int thread_id = omp_get_thread_num();\n",
        "        std::default_random_engine generator(thread_id);\n",
        "        std::uniform_real_distribution<double> distribution(0.0, 1.0);\n",
        "\n",
        "        int num_points_per_thread = N / num_threads;\n",
        "        int start_index = num_points_per_thread * thread_id;\n",
        "        int end_index = start_index + num_points_per_thread;\n",
        "\n",
        "        for (int i = start_index; i < end_index; i++){\n",
        "            double x = (double) distribution(generator);\n",
        "            double y = (double) distribution(generator);\n",
        "            if ((x*x + y*y) <= 1){\n",
        "                sum += 1;\n",
        "            }\n",
        "        }\n",
        "    }\n",
        "\n",
        "    double pi = 4.0 * sum / (double) N;\n",
        "    cout <<  \"Pi aqui: \" << pi << endl;\n",
        "\n",
        "    auto t_end = std::chrono::high_resolution_clock::now();\n",
        "    double elapsed_time_ms = std::chrono::duration<double, std::milli>(t_end-t_start).count();\n",
        "    double elapsed_time_s = elapsed_time_ms/1000;\n",
        "    std::cout << \"Tempo de execução: \" << elapsed_time_s << \" s\" << std::endl;\n",
        "    return 0;\n",
        "}\n"
      ],
      "metadata": {
        "colab": {
          "base_uri": "https://localhost:8080/"
        },
        "id": "IqweYuPspCCo",
        "outputId": "8fd03a6f-403e-4ac9-f7f8-3e825ba90dda"
      },
      "execution_count": 59,
      "outputs": [
        {
          "output_type": "stream",
          "name": "stdout",
          "text": [
            "Writing pi_montecarlo_melhor.cpp\n"
          ]
        }
      ]
    },
    {
      "cell_type": "code",
      "source": [
        "!g++ -Wall -fopenmp pi_montecarlo_melhor.cpp -o pi_montecarlo_melhor"
      ],
      "metadata": {
        "id": "4EgBEakwqi2r"
      },
      "execution_count": 60,
      "outputs": []
    },
    {
      "cell_type": "code",
      "source": [
        "!./pi_montecarlo_melhor"
      ],
      "metadata": {
        "colab": {
          "base_uri": "https://localhost:8080/"
        },
        "id": "V7Emx6WYqnrw",
        "outputId": "587755a5-997d-441e-9cd5-cd13ed991250"
      },
      "execution_count": 61,
      "outputs": [
        {
          "output_type": "stream",
          "name": "stdout",
          "text": [
            "Pi aqui: 3.13672\n",
            "Tempo de execução: 0.0137051 s\n"
          ]
        }
      ]
    },
    {
      "cell_type": "markdown",
      "source": [
        "# **AULA 12: MPI**\n",
        "\n",
        "\n",
        "Utilizando como base o código MPI anterior, construa um programa para obter uma aproximação de PI num cluster. Faça execuções em cluster com 8 e 16 processadores."
      ],
      "metadata": {
        "id": "xo3Z9VgSq-ob"
      }
    },
    {
      "cell_type": "code",
      "source": [
        "%%writefile pi_send_receive.c\n",
        "\n",
        "#include <mpi.h>\n",
        "#include <stdio.h>\n",
        "#include <stdlib.h>\n",
        "#include <math.h>\n",
        "#define SEED_MPI 35791246\n",
        "\n",
        "int main(int argc, char* argv[])\n",
        "{\n",
        "  long niter = 10000000; // número de iterações para fazer o calculo do pi\n",
        "  int myid; // o id do processo\n",
        "  int nodenum; // o número do node\n",
        "  double x,y;  //x,y valor da coordenada aleatória para sortear e ver se está no círculo \n",
        "  double z;    //usado para checar se x^2+y^2<=1\n",
        "  double pi;    //guarda o valor do pi calculado\n",
        "  int count = 0;\n",
        "\n",
        "  MPI_Init(&argc, &argv);                 //Start MPI\n",
        "  MPI_Comm_rank(MPI_COMM_WORLD, &myid);           //get rank of node's process\n",
        "  MPI_Comm_size(MPI_COMM_WORLD, &nodenum);\n",
        "\n",
        "  int recieved[nodenum];  // declarando um array para receber os counts\n",
        "  long recvniter[nodenum];  // declarando um array para receber o numero de iterações \n",
        "  srand(SEED_MPI+myid);                       //Give rand() a seed value. Needs to be different on each node\n",
        "  \n",
        "  if(myid != 0)\n",
        "    {\n",
        "      for (int i = 0; i < niter; i++){\n",
        "          x= ((double)rand())/RAND_MAX;           //gets a random x coordinate\n",
        "          y =((double)rand())/RAND_MAX;           //gets a random y coordinate\n",
        "          z = sqrt(x*x+y*y);                  //Checks to see if number in inside unit circle\n",
        "          if (z<=1)\n",
        "          {\n",
        "              count++;                //if it is, consider it a valid random point\n",
        "          }\n",
        "      }\n",
        "      for(int i=0; i<nodenum; ++i)\n",
        "      {\n",
        "           MPI_Send(&count,1,MPI_INT,0,1,MPI_COMM_WORLD);  // tamanho do que tá mandando para o master, tipo, master, o numero da mensagem e para o mundo\n",
        "           MPI_Send(&niter,1,MPI_LONG,0,2,MPI_COMM_WORLD);\n",
        "      }\n",
        "    }\n",
        "  else if (myid == 0) // se a rede cair pode devolver -1, então é bom especificar para quando é 0\n",
        "  {\n",
        "        \n",
        "      for(int i=0; i<nodenum; ++i)\n",
        "      {\n",
        "          MPI_Recv(&recieved[i],nodenum,MPI_INT,MPI_ANY_SOURCE,1,MPI_COMM_WORLD,MPI_STATUS_IGNORE); // não importa de quem vou receber - MPI_ANY_SOURCE\n",
        "          MPI_Recv(&recvniter[i],nodenum,MPI_LONG,MPI_ANY_SOURCE,2,MPI_COMM_WORLD,MPI_STATUS_IGNORE);\n",
        "      }\n",
        "  }\n",
        " \n",
        "   if (myid == 0)                      //if root process\n",
        "    {\n",
        "        int finalcount = 0;\n",
        "        long finalniter = 0;\n",
        "        for(int i = 0; i<nodenum; ++i)\n",
        "        {\n",
        "            finalcount += recieved[i];\n",
        "            finalniter += recvniter[i];\n",
        "        }\n",
        " \n",
        "        pi = ((double)finalcount/(double)finalniter)*4.0;               //p = 4(m/n)\n",
        "        printf(\"Pi: %f\\n\", pi);             //Print the calculated value of pi\n",
        " \n",
        "    }\n",
        "\n",
        "  MPI_Finalize();\n",
        "  return 0;\n",
        "}"
      ],
      "metadata": {
        "colab": {
          "base_uri": "https://localhost:8080/"
        },
        "id": "jBrOsV9Pq_lQ",
        "outputId": "1bc54248-1cf9-4c69-dc1e-909d3eec7881"
      },
      "execution_count": 77,
      "outputs": [
        {
          "output_type": "stream",
          "name": "stdout",
          "text": [
            "Overwriting pi_send_receive.c\n"
          ]
        }
      ]
    },
    {
      "cell_type": "code",
      "source": [
        "!smpicc pi_send_receive.c -o pi_send_receive -lm"
      ],
      "metadata": {
        "id": "Chh8OCgjxrAX"
      },
      "execution_count": 78,
      "outputs": []
    },
    {
      "cell_type": "code",
      "source": [
        "!smpirun -np 16 -platform simgrid-template-smpi/cluster_crossbar.xml -hostfile simgrid-template-smpi/cluster_hostfile ./pi_send_receive 10000000 16"
      ],
      "metadata": {
        "colab": {
          "base_uri": "https://localhost:8080/"
        },
        "id": "pgfv6oTH0Ke8",
        "outputId": "b8732c11-1fdb-4377-8e2e-d4ab5206a277"
      },
      "execution_count": 79,
      "outputs": [
        {
          "output_type": "stream",
          "name": "stdout",
          "text": [
            "[0.000000] [xbt_cfg/INFO] Configuration change: Set 'smpi/privatization' to '1'\n",
            "[0.000000] [xbt_cfg/INFO] Configuration change: Set 'surf/precision' to '1e-9'\n",
            "[0.000000] [xbt_cfg/INFO] Configuration change: Set 'network/model' to 'SMPI'\n",
            "[0.000000] [smpi_kernel/INFO] You did not set the power of the host running the simulation.  The timings will certainly not be accurate.  Use the option \"--cfg=smpi/host-speed:<flops>\" to set its value.  Check https://simgrid.org/doc/latest/Configuring_SimGrid.html#automatic-benchmarking-of-smpi-code for more information.\n",
            "Pi: 3.141872\n"
          ]
        }
      ]
    },
    {
      "cell_type": "code",
      "source": [],
      "metadata": {
        "id": "j3kjuN0P5d0P"
      },
      "execution_count": null,
      "outputs": []
    },
    {
      "cell_type": "code",
      "source": [
        "!apt install simgrid"
      ],
      "metadata": {
        "colab": {
          "base_uri": "https://localhost:8080/"
        },
        "id": "dFJ1DzCL0OjN",
        "outputId": "4a7bea2e-d60d-4b90-c901-ad967caff85a"
      },
      "execution_count": 64,
      "outputs": [
        {
          "output_type": "stream",
          "name": "stdout",
          "text": [
            "Reading package lists... Done\n",
            "Building dependency tree       \n",
            "Reading state information... Done\n",
            "Note, selecting 'libsimgrid-dev' instead of 'simgrid'\n",
            "The following additional packages will be installed:\n",
            "  libsimgrid3.24 lua5.1 simgrid-java\n",
            "Suggested packages:\n",
            "  java-virtual-machine\n",
            "The following NEW packages will be installed:\n",
            "  libsimgrid-dev libsimgrid3.24 lua5.1 simgrid-java\n",
            "0 upgraded, 4 newly installed, 0 to remove and 34 not upgraded.\n",
            "Need to get 1,644 kB of archives.\n",
            "After this operation, 5,797 kB of additional disk space will be used.\n",
            "Get:1 http://archive.ubuntu.com/ubuntu focal/universe amd64 libsimgrid3.24 amd64 3.24+dfsg-3 [1,328 kB]\n",
            "Get:2 http://archive.ubuntu.com/ubuntu focal/universe amd64 lua5.1 amd64 5.1.5-8.1build4 [94.6 kB]\n",
            "Get:3 http://archive.ubuntu.com/ubuntu focal/universe amd64 simgrid-java amd64 3.24+dfsg-3 [76.5 kB]\n",
            "Get:4 http://archive.ubuntu.com/ubuntu focal/universe amd64 libsimgrid-dev amd64 3.24+dfsg-3 [145 kB]\n",
            "Fetched 1,644 kB in 1s (2,018 kB/s)\n",
            "Selecting previously unselected package libsimgrid3.24.\n",
            "(Reading database ... 122542 files and directories currently installed.)\n",
            "Preparing to unpack .../libsimgrid3.24_3.24+dfsg-3_amd64.deb ...\n",
            "Unpacking libsimgrid3.24 (3.24+dfsg-3) ...\n",
            "Selecting previously unselected package lua5.1.\n",
            "Preparing to unpack .../lua5.1_5.1.5-8.1build4_amd64.deb ...\n",
            "Unpacking lua5.1 (5.1.5-8.1build4) ...\n",
            "Selecting previously unselected package simgrid-java.\n",
            "Preparing to unpack .../simgrid-java_3.24+dfsg-3_amd64.deb ...\n",
            "Unpacking simgrid-java (3.24+dfsg-3) ...\n",
            "Selecting previously unselected package libsimgrid-dev.\n",
            "Preparing to unpack .../libsimgrid-dev_3.24+dfsg-3_amd64.deb ...\n",
            "Unpacking libsimgrid-dev (3.24+dfsg-3) ...\n",
            "Setting up libsimgrid3.24 (3.24+dfsg-3) ...\n",
            "Setting up lua5.1 (5.1.5-8.1build4) ...\n",
            "update-alternatives: using /usr/bin/lua5.1 to provide /usr/bin/lua (lua-interpreter) in auto mode\n",
            "update-alternatives: using /usr/bin/luac5.1 to provide /usr/bin/luac (lua-compiler) in auto mode\n",
            "Setting up simgrid-java (3.24+dfsg-3) ...\n",
            "Setting up libsimgrid-dev (3.24+dfsg-3) ...\n",
            "Processing triggers for man-db (2.9.1-1) ...\n",
            "Processing triggers for libc-bin (2.31-0ubuntu9.9) ...\n"
          ]
        }
      ]
    },
    {
      "cell_type": "code",
      "source": [
        "!git clone https://framagit.org/simgrid/simgrid-template-smpi.git"
      ],
      "metadata": {
        "colab": {
          "base_uri": "https://localhost:8080/"
        },
        "id": "bWycgkkB0O7h",
        "outputId": "29541ef0-a686-40bc-ca09-e78ce9be6287"
      },
      "execution_count": 65,
      "outputs": [
        {
          "output_type": "stream",
          "name": "stdout",
          "text": [
            "Cloning into 'simgrid-template-smpi'...\n",
            "remote: Enumerating objects: 482, done.\u001b[K\n",
            "remote: Counting objects: 100% (482/482), done.\u001b[K\n",
            "remote: Compressing objects: 100% (338/338), done.\u001b[K\n",
            "remote: Total 482 (delta 181), reused 434 (delta 139), pack-reused 0\n",
            "Receiving objects: 100% (482/482), 967.28 KiB | 1.75 MiB/s, done.\n",
            "Resolving deltas: 100% (181/181), done.\n"
          ]
        }
      ]
    },
    {
      "cell_type": "code",
      "source": [
        "%%writefile pi_send_receive_hibrido.c\n",
        "\n",
        "#include <stdio.h>\n",
        "#include <stdlib.h>\n",
        "#include \"mpi.h\"\n",
        "#include <math.h>\n",
        "#include <omp.h>\n",
        "#define SEED_MPI 35791246\n",
        " \n",
        "int main(int argc, char* argv[])\n",
        "{\n",
        "    long niter = 10000000;\n",
        "    int myid;                       //holds process's rank id\n",
        "    double x,y;                     //x,y value for the random coordinate\n",
        "    int i, count=0;                 //Count holds all the number of how many good coordinates\n",
        "    int global_sum_count;\n",
        "    int global_sum_niter;\n",
        "    double z;                       //Used to check if x^2+y^2<=1\n",
        "    double pi;                      //holds approx value of pi\n",
        "    int reducedcount;\n",
        "    int reducedniter;\n",
        "    int nodenum;\n",
        " \n",
        "    MPI_Init(&argc, &argv);                 //Start MPI\n",
        "    MPI_Comm_rank(MPI_COMM_WORLD, &myid);           //get rank of node's process\n",
        "    MPI_Comm_size(MPI_COMM_WORLD, &nodenum);\n",
        "    srand(SEED_MPI+myid);                       //Give rand() a seed value. Needs to be different on each node\n",
        " \n",
        "    omp_set_num_threads(16);\n",
        "\n",
        "    #pragma omp parallel for reduction(+ : count)   // ou faz assim\n",
        "    //#pragma omp parallel for shared(count)   // ou faz isso\n",
        "    for (i=0; i<niter; ++i)                  //main loop\n",
        "    {\n",
        "        x= ((double)rand())/RAND_MAX;           //gets a random x coordinate\n",
        "        y =((double)rand())/RAND_MAX;           //gets a random y coordinate\n",
        "        z = sqrt(x*x+y*y);                  //Checks to see if number in inside unit circle\n",
        "        if (z<=1)\n",
        "        //#pragma omp critical\n",
        "        {\n",
        "            count++;                //if it is, consider it a valid random point\n",
        "        }\n",
        "    }\n",
        "\n",
        "    MPI_Reduce(&count, &reducedcount, 1, MPI_INT, MPI_SUM, 0, MPI_COMM_WORLD);  // Perform reduction on count\n",
        "    MPI_Reduce(&niter, &reducedniter, 1, MPI_INT, MPI_SUM, 0, MPI_COMM_WORLD);\n",
        "\n",
        "    if (myid == 0)                      //if root process\n",
        "    {\n",
        "        pi = ((double)reducedcount / (double)(reducedniter)) * 4.0;    //p = 4(m/n)\n",
        "        printf(\"Pi: %f\\n\", pi);             //Print the calculated value of pi\n",
        "    }\n",
        "    \n",
        " \n",
        "    MPI_Finalize();                     //Close the MPI instance\n",
        "    return 0;\n",
        "}"
      ],
      "metadata": {
        "id": "8FPOFF7R0RTm"
      },
      "execution_count": null,
      "outputs": []
    },
    {
      "cell_type": "code",
      "source": [
        "%%writefile variancia.c\n",
        "\n",
        "#include <stdio.h>\n",
        "#include <stdlib.h>\n",
        "#include \"mpi.h\"\n",
        "#include <math.h>\n",
        "#include <omp.h>\n",
        "#define SEED_MPI 35791246\n",
        "\n",
        " \n",
        "int main(int argc, char* argv[])\n",
        "{\n",
        "    int myid;                       //holds process's rank id\n",
        "    int nodenum;\n",
        "    int n_elementos = atoi(argv[1]);\n",
        " \n",
        "    MPI_Init(&argc, &argv);                 //Start MPI\n",
        "    MPI_Comm_rank(MPI_COMM_WORLD, &myid);           //get rank of node's process\n",
        "    MPI_Comm_size(MPI_COMM_WORLD, &nodenum);\n",
        " \n",
        "\n",
        "\n",
        "    srand(SEED_MPI + myid);                  // Define a semente do gerador de números aleatórios\n",
        "    double* numeros = (double*)malloc(n_elementos * sizeof(double));\n",
        "    for (int i = 0; i < n_elementos; i++){\n",
        "      numeros[i] = ((double)rand())/RAND_MAX + (double)(i+1);\n",
        "      printf(\"sorteado: %f\\n\", numeros[i]);\n",
        "    }\n",
        "\n",
        "    double soma = 0.0;\n",
        "    #pragma omp parallel for reduction(+:soma)\n",
        "    for (int i = 0; i < n_elementos; i++) {\n",
        "        soma += numeros[i];\n",
        "    }\n",
        "    \n",
        "    double media_local  = soma / (double)n_elementos;\n",
        "\n",
        "    double soma_quadrados_diferencas = 0.0;\n",
        "    #pragma omp parallel for reduction(+:soma_quadrados_diferencas)\n",
        "    for (int i = 0; i < n_elementos; i++) {\n",
        "        double diferenca = numeros[i] - media_local;\n",
        "        soma_quadrados_diferencas += diferenca * diferenca;\n",
        "    }\n",
        "    \n",
        "    double variancia_local = soma_quadrados_diferencas / (double) n_elementos;\n",
        "\n",
        "    double media_global;\n",
        "    double variancia_global;\n",
        "    MPI_Reduce(&media_local, &media_global, 1, MPI_DOUBLE, MPI_SUM, 0, MPI_COMM_WORLD);\n",
        "    MPI_Reduce(&variancia_local, &variancia_global, 1, MPI_DOUBLE, MPI_SUM, 0, MPI_COMM_WORLD);\n",
        "\n",
        "    if (myid == 0) {\n",
        "        media_global /= nodenum;\n",
        "        variancia_global /= nodenum;\n",
        "        printf(\"Media: %f\\n\", media_global);\n",
        "        printf(\"Variancia: %f\\n\", variancia_global);\n",
        "    }\n",
        "\n",
        "    MPI_Finalize();    // Finaliza o MPI\n",
        "    free(numeros);     // Libera a memória alocada\n",
        " \n",
        "\n",
        "    return 0;\n",
        "}"
      ],
      "metadata": {
        "colab": {
          "base_uri": "https://localhost:8080/"
        },
        "id": "IEnGLARD5xuh",
        "outputId": "3cc37db2-1a05-4397-f734-df431367745d"
      },
      "execution_count": 113,
      "outputs": [
        {
          "output_type": "stream",
          "name": "stdout",
          "text": [
            "Overwriting variancia.c\n"
          ]
        }
      ]
    },
    {
      "cell_type": "code",
      "source": [
        "!smpicc -fopenmp variancia.c -o variancia -lm"
      ],
      "metadata": {
        "id": "U06Ch9rAPmz1"
      },
      "execution_count": 114,
      "outputs": []
    },
    {
      "cell_type": "code",
      "source": [
        "!smpirun -np 16 -platform simgrid-template-smpi/cluster_crossbar.xml -hostfile simgrid-template-smpi/cluster_hostfile ./variancia 5"
      ],
      "metadata": {
        "colab": {
          "base_uri": "https://localhost:8080/"
        },
        "id": "k_BN9gZDPrao",
        "outputId": "b4d6e813-aeea-4012-ad0c-a9522e1ad999"
      },
      "execution_count": 115,
      "outputs": [
        {
          "output_type": "stream",
          "name": "stdout",
          "text": [
            "[0.000000] [xbt_cfg/INFO] Configuration change: Set 'smpi/privatization' to '1'\n",
            "[0.000000] [xbt_cfg/INFO] Configuration change: Set 'surf/precision' to '1e-9'\n",
            "[0.000000] [xbt_cfg/INFO] Configuration change: Set 'network/model' to 'SMPI'\n",
            "[0.000000] [smpi_kernel/INFO] You did not set the power of the host running the simulation.  The timings will certainly not be accurate.  Use the option \"--cfg=smpi/host-speed:<flops>\" to set its value.  Check https://simgrid.org/doc/latest/Configuring_SimGrid.html#automatic-benchmarking-of-smpi-code for more information.\n",
            "sorteado: 1.399284\n",
            "sorteado: 2.771741\n",
            "sorteado: 3.910703\n",
            "sorteado: 4.756061\n",
            "sorteado: 5.564359\n",
            "sorteado: 1.756685\n",
            "sorteado: 2.183616\n",
            "sorteado: 3.210157\n",
            "sorteado: 4.574820\n",
            "sorteado: 5.997117\n",
            "sorteado: 1.616103\n",
            "sorteado: 2.097481\n",
            "sorteado: 3.015529\n",
            "sorteado: 4.396333\n",
            "sorteado: 5.431977\n",
            "sorteado: 1.475024\n",
            "sorteado: 2.512396\n",
            "sorteado: 3.817696\n",
            "sorteado: 4.716884\n",
            "sorteado: 5.368256\n",
            "sorteado: 1.829372\n",
            "sorteado: 2.421276\n",
            "sorteado: 3.615774\n",
            "sorteado: 4.032174\n",
            "sorteado: 5.297281\n",
            "sorteado: 1.189051\n",
            "sorteado: 2.334880\n",
            "sorteado: 3.420573\n",
            "sorteado: 4.353961\n",
            "sorteado: 5.731907\n",
            "sorteado: 1.550310\n",
            "sorteado: 2.251550\n",
            "sorteado: 3.227146\n",
            "sorteado: 4.677526\n",
            "sorteado: 5.170162\n",
            "sorteado: 1.402451\n",
            "sorteado: 2.157449\n",
            "sorteado: 3.022558\n",
            "sorteado: 4.990212\n",
            "sorteado: 5.595661\n",
            "sorteado: 1.265047\n",
            "sorteado: 2.075228\n",
            "sorteado: 3.330214\n",
            "sorteado: 4.815356\n",
            "sorteado: 5.035275\n",
            "sorteado: 1.621417\n",
            "sorteado: 2.987005\n",
            "sorteado: 3.131549\n",
            "sorteado: 4.633085\n",
            "sorteado: 5.967664\n",
            "sorteado: 1.980909\n",
            "sorteado: 2.399803\n",
            "sorteado: 3.434116\n",
            "sorteado: 4.954522\n",
            "sorteado: 5.901490\n",
            "sorteado: 1.339912\n",
            "sorteado: 2.313793\n",
            "sorteado: 3.237887\n",
            "sorteado: 4.275389\n",
            "sorteado: 5.836576\n",
            "sorteado: 1.699020\n",
            "sorteado: 2.726362\n",
            "sorteado: 3.039054\n",
            "sorteado: 4.096268\n",
            "sorteado: 5.770197\n",
            "sorteado: 1.055089\n",
            "sorteado: 2.640096\n",
            "sorteado: 3.842318\n",
            "sorteado: 4.913655\n",
            "sorteado: 5.204702\n",
            "sorteado: 1.919910\n",
            "sorteado: 2.057890\n",
            "sorteado: 3.149854\n",
            "sorteado: 4.241405\n",
            "sorteado: 5.644580\n",
            "sorteado: 1.274123\n",
            "sorteado: 2.966879\n",
            "sorteado: 3.948226\n",
            "sorteado: 4.056555\n",
            "sorteado: 5.073699\n",
            "Media: 3.483745\n",
            "Variancia: 2.129310\n"
          ]
        }
      ]
    },
    {
      "cell_type": "code",
      "source": [],
      "metadata": {
        "id": "oqvadqEiSLVN"
      },
      "execution_count": null,
      "outputs": []
    }
  ]
}