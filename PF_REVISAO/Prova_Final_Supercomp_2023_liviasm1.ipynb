{
  "nbformat": 4,
  "nbformat_minor": 0,
  "metadata": {
    "colab": {
      "provenance": [],
      "gpuType": "T4"
    },
    "kernelspec": {
      "name": "python3",
      "display_name": "Python 3"
    },
    "language_info": {
      "name": "python"
    }
  },
  "cells": [
    {
      "cell_type": "markdown",
      "source": [
        "# Prova Final - SuperComputação\n",
        "---\n",
        "🔥 Atenção: mude o runtime para GPU!\n",
        "\n",
        "\n",
        "\n",
        "\n",
        "Edite a célula a seguir para inserir seu nome.\n",
        "No blackboard, você vai submeter o arquivo .ipynb para correção. \n"
      ],
      "metadata": {
        "id": "4ILs8N_NAHhq"
      }
    },
    {
      "cell_type": "markdown",
      "source": [
        "# 🆔 SEU NOME: Lívia Sayuri Makuta.\n",
        "\n"
      ],
      "metadata": {
        "id": "68dStoK4Ewfa"
      }
    },
    {
      "cell_type": "markdown",
      "source": [
        "## Questão 1: Calculando um histograma de maneira distribuída (3 pontos)."
      ],
      "metadata": {
        "id": "PJcqfoAVAzlJ"
      }
    },
    {
      "cell_type": "markdown",
      "source": [
        "\n",
        "\n",
        "O cálculo do histograma é um processo que envolve a contagem de ocorrências de valores em intervalos (bins) específicos. No caso do código fornecido abaixo, o cálculo do histograma deve realizado em paralelo utilizando o MPI (*Message Passing Interface*) para distribuir o processamento entre os nós de execução.\n",
        "\n",
        "O programa recebe os seguintes parâmetros de entrada: `bin_count`, `min_meas`, `max_meas` e `data_count`. O `bin_count` representa o número de bins no histograma, ou seja, a quantidade de intervalos em que os valores serão divididos. O `min_meas` e `max_meas` indicam os limites inferior e superior, respectivamente, do intervalo de valores a ser considerado. O `data_count` é o número total de valores que serão gerados aleatoriamente.\n",
        "\n",
        "No nó mestre, você deve complementar a implementação de modo que as  seguintes etapas sejam realizadas:\n",
        "1. Geração dos dados aleatórios: o nó mestre é responsável por gerar os `data_count` valores aleatórios dentro do intervalo definido por `min_meas` e `max_meas`.\n",
        "\n",
        "2. Distribuição dos dados: o nó mestre utiliza a função `MPI_Scatterv` para dividir os dados igualmente entre todos os nós de execução. **Documentação de MPI_Scatterv: https://www.mpi-forum.org/docs/mpi-1.1/mpi-11-html/node72.html** .\n",
        "\n",
        "Nos nós de execução, cada nó realiza as seguintes etapas:\n",
        "\n",
        "1. Recebimento dos dados: os nós de execução recebem os dados correspondentes ao seu intervalo do histograma por meio da função `MPI_Scatterv`.\n",
        "\n",
        "2. Cálculo local do histograma: cada nó de execução computa a contagem de ocorrências de valores em seus dados locais, utilizando a função `compute_histogram`. Essa função recebe como parâmetros o `bin_count`, `data_per_process`, `loc_data` (dados locais do nó), `loc_bin_max` (intervalos dos bins correspondentes ao nó) e `loc_bin_sum` (vetor para armazenar a contagem de cada bin localmente).\n",
        "\n",
        "\n",
        "Após o cálculo local do histograma nos nós de execução, é realizado o processo de **redução** dos resultados no nó mestre. Isso é feito por meio da função `MPI_Reduce`, que combina as contagens de cada bin de todos os nós e armazena o resultado final no vetor `histogram` no nó mestre. Por fim, o nó mestre imprime os valores do histograma final.\n",
        "\n",
        "Dessa forma, o processamento no nó mestre envolve a geração dos dados aleatórios, a distribuição dos dados para os nós de execução e a impressão do resultado final. Já os nós de execução são responsáveis pelo recebimento dos dados, o cálculo local do histograma e a redução dos resultados no nó mestre.\n",
        "\n",
        "Ao final da execução, deve ser retornado o tempo de execução total, em segundos, para que possamos criar um gráfico em Python que compare o tempo de execução em função da distribuição da execução em múltiplos nós.  Alguns códigos já estão prontos para você usar, para facilitar a sua implementação, mas fique à vontade para adapta-los como melhor julgar. "
      ],
      "metadata": {
        "id": "bjy50WnqAPYn"
      }
    },
    {
      "cell_type": "code",
      "source": [
        "### ABAIXO TEMOS A DEFINIÇÃO DO CLUSTER QUE VAMOS USAR"
      ],
      "metadata": {
        "id": "k9dZtEH-BFKM"
      },
      "execution_count": null,
      "outputs": []
    },
    {
      "cell_type": "code",
      "execution_count": 15,
      "metadata": {
        "id": "4wNGuViBlgx2",
        "colab": {
          "base_uri": "https://localhost:8080/"
        },
        "outputId": "fb7f1f3a-0479-4dac-e268-0e58e2150f66"
      },
      "outputs": [
        {
          "output_type": "stream",
          "name": "stdout",
          "text": [
            "Writing cluster.xml\n"
          ]
        }
      ],
      "source": [
        "%%writefile cluster.xml\n",
        "\n",
        "<?xml version='1.0'?>\n",
        "<!DOCTYPE platform SYSTEM \"https://simgrid.org/simgrid.dtd\">\n",
        "<platform version=\"4.1\">\n",
        "  <zone id=\"world\" routing=\"Full\">\n",
        "    <cluster id=\"cluster-crossbar\"\n",
        "             prefix=\"node-\" radical=\"0-32\" suffix=\".simgrid.org\"\n",
        "\t     speed=\"1Gf\" bw=\"125MBps\" lat=\"50us\"/>\n",
        "  </zone>\n",
        "</platform>"
      ]
    },
    {
      "cell_type": "code",
      "source": [
        "### EXECUTE ESSA CÉLULA PARA INSTALAR O SIMGRID\n",
        "!apt install simgrid --quiet"
      ],
      "metadata": {
        "id": "H9pmB16Xm2Cd",
        "colab": {
          "base_uri": "https://localhost:8080/"
        },
        "outputId": "f7dd3b83-bcf5-4516-8b82-23c579069b81"
      },
      "execution_count": 16,
      "outputs": [
        {
          "output_type": "stream",
          "name": "stdout",
          "text": [
            "Reading package lists...\n",
            "Building dependency tree...\n",
            "Reading state information...\n",
            "libsimgrid-dev is already the newest version (3.24+dfsg-3).\n",
            "0 upgraded, 0 newly installed, 0 to remove and 34 not upgraded.\n"
          ]
        }
      ]
    },
    {
      "cell_type": "code",
      "source": [
        "### FAÇA O CLONE DO REPOSITORIO DE TEMPLATES\n",
        "!git clone https://framagit.org/simgrid/simgrid-template-smpi.git"
      ],
      "metadata": {
        "id": "wx4dWLJUm4cS",
        "colab": {
          "base_uri": "https://localhost:8080/"
        },
        "outputId": "627b1114-23be-45fa-ae15-9646868cbe9a"
      },
      "execution_count": 7,
      "outputs": [
        {
          "output_type": "stream",
          "name": "stdout",
          "text": [
            "Cloning into 'simgrid-template-smpi'...\n",
            "remote: Enumerating objects: 482, done.\u001b[K\n",
            "remote: Counting objects: 100% (482/482), done.\u001b[K\n",
            "remote: Compressing objects: 100% (338/338), done.\u001b[K\n",
            "remote: Total 482 (delta 180), reused 435 (delta 139), pack-reused 0\u001b[K\n",
            "Receiving objects: 100% (482/482), 967.66 KiB | 1.92 MiB/s, done.\n",
            "Resolving deltas: 100% (180/180), done.\n"
          ]
        }
      ]
    },
    {
      "cell_type": "code",
      "source": [
        "### MOVA NOSSA ESPECIFICACAO DE CLUSTER PARA A PASTA ADEQUADA\n",
        "!mv cluster.xml simgrid-template-smpi/"
      ],
      "metadata": {
        "id": "DjQ1_SSGm56u"
      },
      "execution_count": 17,
      "outputs": []
    },
    {
      "cell_type": "markdown",
      "source": [
        "A seguir você tem o esqueleto de um programa em C++ denominado `histograma.cpp` que você deve complementar para atender as especificações que detalhamos anteriormente.\n",
        "\n"
      ],
      "metadata": {
        "id": "LZpw6Mj8BTkc"
      }
    },
    {
      "cell_type": "code",
      "source": [
        "%%writefile histograma.cpp\n",
        "\n",
        "#include <iostream>\n",
        "#include <vector>\n",
        "#include <random>\n",
        "#include <mpi.h>\n",
        "using namespace std;\n",
        "\n",
        "/* Função para gerar os dados. Essa função está pronta e você não precisa customiza-la.\n",
        "*/\n",
        "void generate_data(std::vector<float>& arr, long count, float min, float max) {\n",
        "   //Verifica se os valores min e max sao validos\n",
        "    if (max < min) {\n",
        "        std::cout << \"O valor de min deve ser menor que max....\\nFinalizando execução.\" << std::endl;\n",
        "        exit(1);\n",
        "    }\n",
        "    // Gera dados aleatórios\n",
        "   \n",
        "    std::random_device rd;\n",
        "    std::mt19937 gen(rd());\n",
        "    std::uniform_real_distribution<float> dis(min, max);\n",
        "\n",
        "    for (int i = 0; i < count; i++) {\n",
        "        float random_number = dis(gen);\n",
        "        arr[i] = random_number;\n",
        "    }\n",
        "}\n",
        "\n",
        "/*\n",
        " * Essa função calcula a quantidade de dados que \n",
        " * ficarão em cada bin do histograma.\n",
        " * Função pronta. Observe que ela altera dados por referência!\n",
        " * */\n",
        "\n",
        "void compute_histogram(long bin_count, long data_per_process, const std::vector<float>& loc_data,\n",
        "                       const std::vector<float>& loc_bin_max, std::vector<long>& loc_bin_sum) {\n",
        "\n",
        "    loc_bin_sum.resize(bin_count);\n",
        "    for (int i = 0; i < bin_count; i++)\n",
        "        loc_bin_sum[i] = 0;\n",
        "\n",
        "    for (int i = 0; i < data_per_process; i++) {\n",
        "        float data_value = loc_data[i];\n",
        "        for (int j = 0; j < bin_count; j++) {\n",
        "            // Se o valor é menor que bin_max, ele deve ser incluído\n",
        "            if (data_value <= loc_bin_max[j]) {\n",
        "                loc_bin_sum[j] += 1;\n",
        "                break;\n",
        "            }\n",
        "        }\n",
        "    }\n",
        "}\n",
        "\n",
        "int main(int argc, char* argv[]) {\n",
        "\n",
        "    std::vector<float> data, bin_max, loc_data;\n",
        "    std::vector<long> histogram, loc_histogram;\n",
        "    int comm_sz, rank;\n",
        "    float min_meas, max_meas, bin_width;\n",
        "    long bin_count, data_count;\n",
        "    long data_per_process;\n",
        "    double start_total, finish_total;\n",
        "    double start_app, finish_app;\n",
        "    double start_histo, final_histo;\n",
        "\n",
        "    //TO DO: Faça as devidas inicializações em MPI, e armazene os valores em comm_sz e rank\n",
        "\n",
        "    MPI_Init(&argc, &argv);                 //Start MPI\n",
        "    MPI_Comm_size(MPI_COMM_WORLD, &comm_sz);\n",
        "    MPI_Comm_rank(MPI_COMM_WORLD, &rank);           //get rank of node's process\n",
        "\n",
        "    // O processo 0 obtem todos os inputs e distribui os dados aos nós\n",
        "    if (rank == 0) {\n",
        "        bin_count = strtol(argv[1], NULL, 10);\n",
        "        min_meas = strtof(argv[2], NULL);\n",
        "        max_meas = strtof(argv[3], NULL);\n",
        "        data_count = strtol(argv[4], NULL, 10);\n",
        "\n",
        "        // Aloca a memória\n",
        "        data.resize(data_count);\n",
        "        bin_max.resize(bin_count);\n",
        "        histogram.resize(bin_count);\n",
        "        loc_histogram.resize(bin_count);\n",
        "        //cout << \"DATA RESIZE: \" << data.size() << endl;\n",
        "        //cout << \"BIN MAX: \" << bin_max.size() << endl;\n",
        "        //cout << \"BIN COUNT: \" << histogram.size() << endl;\n",
        "\n",
        "        // Gera os dados\n",
        "       \n",
        "        generate_data(data, data_count, min_meas, max_meas);\n",
        "\n",
        "        //Abaixo calculamoso  tamanho de cada bin (bin_width) e o bin_max\n",
        "\n",
        "        bin_width = (max_meas - min_meas) / (float)bin_count;\n",
        "        float prev_bin_max = min_meas;\n",
        "        for (int i = 0; i < bin_count; i++) {\n",
        "            prev_bin_max = prev_bin_max + bin_width;\n",
        "            bin_max[i] = prev_bin_max;\n",
        "        }\n",
        "\n",
        "        // Determina os dados a serem distribuídos aos nós\n",
        "        data_per_process = data_count / comm_sz;\n",
        "        loc_data.resize(data_per_process);\n",
        "\n",
        "\n",
        "        //TO DO: Aqui você deve distribuir os dados adequadamente para cada nó.\n",
        "        //Observe que você pode ter um último nó que recebe uma quantidade diferente\n",
        "        //dos demais\n",
        "        //Releia o enunciado e busque as funções que sugerimos que você utilize\n",
        "        //Lembre-se que você pode tentar outras funções  que estejam disponíveis\n",
        "        //na documentação do MPI que apresentamos em aula\n",
        "\n",
        "        // Gerar offset e count:\n",
        "\n",
        "        vector<int> count(comm_sz, data_per_process);\n",
        "        vector<int> displacement(comm_sz);\n",
        "        \n",
        "        for (int i = 0; i < comm_sz - 1; i++){\n",
        "          displacement[i+1] = displacement[i] + count[i];\n",
        "        }\n",
        "\n",
        "        MPI_Scatterv(data.data(), count.data(), displacement.data(), MPI_FLOAT, loc_data.data(), data_per_process, MPI_FLOAT, 0, MPI_COMM_WORLD);\n",
        "        //MPI_Scatter(void* send_data, int send_count, MPI_Datatype send_datatype, void* recv_data, int recv_count, MPI_Datatype recv_datatype,int root,MPI_Comm communicator)\n",
        "\n",
        "    }\n",
        "    else {\n",
        "\n",
        "        MPI_Scatterv(NULL, NULL, NULL, MPI_FLOAT, loc_data.data(), data_per_process, MPI_FLOAT, 0, MPI_COMM_WORLD);\n",
        "\n",
        "    }   \n",
        "    \n",
        "    //TO DO: todos os nós calculam o histograma\n",
        "    compute_histogram(bin_count, data_per_process, loc_data, bin_max, loc_histogram);\n",
        "    \n",
        "    //TO DO: você precisa fazer a redução para receber os dados \n",
        "     MPI_Reduce(&loc_histogram[0], &histogram[0], bin_count, MPI_LONG, MPI_SUM, 0, MPI_COMM_WORLD);\n",
        "\n",
        "   \n",
        "    if (rank == 0) {\n",
        "        finish_total = MPI_Wtime();\n",
        "        finish_app = finish_total;\n",
        "        //O output abaixo é necessario para que possamos reportar no Python como um grafico\n",
        "        std::cout   << finish_app - start_app;\n",
        "    }\n",
        "    MPI_Finalize();\n",
        "    \n",
        "    return 0;\n",
        "}\n",
        "\n",
        "\n"
      ],
      "metadata": {
        "id": "QjWKJZA5DWEH",
        "colab": {
          "base_uri": "https://localhost:8080/"
        },
        "outputId": "e07b50c6-63da-42d0-c016-6690bc2c9f62"
      },
      "execution_count": 45,
      "outputs": [
        {
          "output_type": "stream",
          "name": "stdout",
          "text": [
            "Overwriting histograma.cpp\n"
          ]
        }
      ]
    },
    {
      "cell_type": "markdown",
      "source": [
        "Compile o seu código"
      ],
      "metadata": {
        "id": "iwZtUGY4DcN-"
      }
    },
    {
      "cell_type": "code",
      "source": [
        "!smpicxx histograma.cpp -o hist"
      ],
      "metadata": {
        "id": "95PKd9uEnMvd"
      },
      "execution_count": 46,
      "outputs": []
    },
    {
      "cell_type": "markdown",
      "source": [
        "Execute a partir do exemplo abaixo. Veja que já estamos definindo os valores dos argumentos para você testar. De todo modo, você é livre para modificar esses parâmetros de modo a explorar o desempenho do programa."
      ],
      "metadata": {
        "id": "R2Fy5iwnDeCv"
      }
    },
    {
      "cell_type": "code",
      "source": [
        "!smpirun -np 1 -platform simgrid-template-smpi/cluster.xml -hostfile simgrid-template-smpi/cluster_hostfile --cfg=smpi/host-speed:1e9 ./hist 200 20 500 200000000"
      ],
      "metadata": {
        "id": "s3KSJTfunSMU",
        "colab": {
          "base_uri": "https://localhost:8080/"
        },
        "outputId": "c8a318b4-682c-4620-f61f-1978ae77f0d1"
      },
      "execution_count": 48,
      "outputs": [
        {
          "output_type": "stream",
          "name": "stdout",
          "text": [
            "[0.000000] [xbt_cfg/INFO] Configuration change: Set 'smpi/privatization' to '1'\n",
            "[0.000000] [xbt_cfg/INFO] Configuration change: Set 'surf/precision' to '1e-9'\n",
            "[0.000000] [xbt_cfg/INFO] Configuration change: Set 'network/model' to 'SMPI'\n",
            "[0.000000] [xbt_cfg/INFO] Configuration change: Set 'smpi/host-speed' to '1e9'\n",
            "19.5466"
          ]
        }
      ]
    },
    {
      "cell_type": "code",
      "source": [
        "!smpirun -np 2 -platform simgrid-template-smpi/cluster.xml -hostfile simgrid-template-smpi/cluster_hostfile --cfg=smpi/host-speed:1e9 ./hist 200 20 500 200000000"
      ],
      "metadata": {
        "id": "v3eNNqI2n_CU",
        "colab": {
          "base_uri": "https://localhost:8080/"
        },
        "outputId": "4fae3ec7-d38a-4de0-c012-a374aa8bec15"
      },
      "execution_count": 47,
      "outputs": [
        {
          "output_type": "stream",
          "name": "stdout",
          "text": [
            "[0.000000] [xbt_cfg/INFO] Configuration change: Set 'smpi/privatization' to '1'\n",
            "[0.000000] [xbt_cfg/INFO] Configuration change: Set 'surf/precision' to '1e-9'\n",
            "[0.000000] [xbt_cfg/INFO] Configuration change: Set 'network/model' to 'SMPI'\n",
            "[0.000000] [xbt_cfg/INFO] Configuration change: Set 'smpi/host-speed' to '1e9'\n",
            "14.3891"
          ]
        }
      ]
    },
    {
      "cell_type": "markdown",
      "source": [
        "Queremos que você produza um gráfico em Python comparando o desempenho em função da distribuição da computação em múltiplos nós. Para isso, deixamos pronta a função abaixo para que você execute. Lembre-se que fizemos algo similar na aula 1. "
      ],
      "metadata": {
        "id": "ibaZDIaKDqIA"
      }
    },
    {
      "cell_type": "code",
      "source": [
        "import subprocess\n",
        "\n",
        "def executa_comando(np):\n",
        "# Comando para executar o programa C++ com smpirun\n",
        "  execute_command = [\n",
        "    'smpirun', '-np', np, '-platform', 'simgrid-template-smpi/cluster.xml',\n",
        "    '-hostfile', 'simgrid-template-smpi/cluster_hostfile', '--cfg=smpi/host-speed:1e9',\n",
        "    './hist', '200', '20', '500', '200000000'\n",
        "  ]\n",
        "\n",
        "  # Executar o comando\n",
        "  process = subprocess.run(execute_command, capture_output = True)\n",
        "  return float(process.stdout)\n"
      ],
      "metadata": {
        "id": "nHXdrkgVslCu"
      },
      "execution_count": 49,
      "outputs": []
    },
    {
      "cell_type": "code",
      "source": [
        "# aqui temos os valores de -np que queremos que você teste\n",
        "nps = ['1', '2', '4', '8', '12', '16', '32']"
      ],
      "metadata": {
        "id": "vGgIfdfX8QAu"
      },
      "execution_count": 50,
      "outputs": []
    },
    {
      "cell_type": "code",
      "source": [
        "# aqui acontece a execução. Lembre-se que seu programa deve ter um único output, que é o tempo em segundos \n",
        "tempos = [executa_comando(np) for np in nps]"
      ],
      "metadata": {
        "id": "yEvzt_fr5Qxr"
      },
      "execution_count": 51,
      "outputs": []
    },
    {
      "cell_type": "code",
      "source": [
        "### Use o código abaixo para plotar seu resultado\n",
        "import matplotlib.pyplot as plt \n",
        "fig, ax = plt.subplots(figsize=(10,5))\n",
        "ax.set_xlabel('Número de Processos')\n",
        "ax.set_ylabel('Tempo (seg)')\n",
        "ax.plot(nps, tempos)\n",
        "plt.show()"
      ],
      "metadata": {
        "id": "gFbKtrNc90d3",
        "colab": {
          "base_uri": "https://localhost:8080/",
          "height": 467
        },
        "outputId": "b9651a2d-799a-4ffe-a6a8-37d2d1f99648"
      },
      "execution_count": 52,
      "outputs": [
        {
          "output_type": "display_data",
          "data": {
            "text/plain": [
              "<Figure size 1000x500 with 1 Axes>"
            ],
            "image/png": "[encoded data removed]"
          },
          "metadata": {}
        }
      ]
    },
    {
      "cell_type": "markdown",
      "source": [
        "> ✋ **AVALIE A EXECUÇÃO DE SEU CÓDIGO.**: Como o programa se comportou com a distribuição dos processos?\n",
        "\n",
        "Como pode ser visto por meio do gráfico, o programa se comportou bem com a distribuição dos processos, principalmente no intervalo de 1 para 12 slaves, em que o tempo de execução diminuiu bastante, indicando que a paralelização do cluster funcionou. Ou seja, essa distribuição da carga de trabalho entre as várias máquinas foi eficiente e fez com que cada uma pudesse processar uma porção menor dos dados. \n",
        "\n",
        "Entretanto, a partir de 12 processos, o tempo de execução praticamente estagnou. Isso porque chega um ponto em que há muitos recursos para a entrada definida. No MPI, assim como para outras ferramentas de paralelização, há um tempo necessário para alocar os recursos e , nesse caso, para que as máquinas do cluster enviem os dados e se comuniquem. Esse tempo deixa de compensar a partir do momento em que os dados a serem processados não exigem tantos processos para que a execução seja eficiente. \n",
        "\n",
        "Como melhorias, para otimizar o desempenho do nosso programa em MPI, poderíamos experimentar diferentes configurações, como aumentar a quantidade de dados, ajustar o número de bins do histograma ou modificar a lógica do cálculo do histograma para aumentar a carga de trabalho por processo (para valer a pena ter mais processos). \n"
      ],
      "metadata": {
        "id": "1riz9K4aEDHw"
      }
    },
    {
      "cell_type": "markdown",
      "source": [
        "---\n",
        "# Questão 2 (1 ponto):"
      ],
      "metadata": {
        "id": "lcxPodgxAvEs"
      }
    },
    {
      "cell_type": "markdown",
      "source": [
        "\n",
        "\n",
        "Modifique a resolução da questão anterior, de modo que a função `compute_histogram` seja calculada com Threads em OpenMP. "
      ],
      "metadata": {
        "id": "jPlbXbL9EYEP"
      }
    },
    {
      "cell_type": "code",
      "source": [
        "%%writefile histograma_paralelizado.cpp\n",
        "\n",
        "#include <iostream>\n",
        "#include <vector>\n",
        "#include <random>\n",
        "#include <mpi.h>\n",
        "#include <omp.h>\n",
        "using namespace std;\n",
        "\n",
        "/* Função para gerar os dados. Essa função está pronta e você não precisa customiza-la.\n",
        "*/\n",
        "void generate_data(std::vector<float>& arr, long count, float min, float max) {\n",
        "   //Verifica se os valores min e max sao validos\n",
        "    if (max < min) {\n",
        "        std::cout << \"O valor de min deve ser menor que max....\\nFinalizando execução.\" << std::endl;\n",
        "        exit(1);\n",
        "    }\n",
        "    // Gera dados aleatórios\n",
        "   \n",
        "    std::random_device rd;\n",
        "    std::mt19937 gen(rd());\n",
        "    std::uniform_real_distribution<float> dis(min, max);\n",
        "\n",
        "    for (int i = 0; i < count; i++) {\n",
        "        float random_number = dis(gen);\n",
        "        arr[i] = random_number;\n",
        "    }\n",
        "}\n",
        "\n",
        "/*\n",
        " * Essa função calcula a quantidade de dados que \n",
        " * ficarão em cada bin do histograma.\n",
        " * Função pronta. Observe que ela altera dados por referência!\n",
        " * */\n",
        "\n",
        "void compute_histogram(long bin_count, long data_per_process, const std::vector<float>& loc_data,\n",
        "                       const std::vector<float>& loc_bin_max, std::vector<long>& loc_bin_sum) {\n",
        "    loc_bin_sum.resize(bin_count);\n",
        "\n",
        "    for (int i = 0; i < bin_count; i++)\n",
        "        loc_bin_sum[i] = 0;\n",
        "\n",
        "    #pragma omp parallel for\n",
        "    for (int i = 0; i < data_per_process; i++) {\n",
        "        float data_value = loc_data[i];\n",
        "        for (int j = 0; j < bin_count; j++) {\n",
        "            // Se o valor é menor que bin_max, ele deve ser incluído\n",
        "            if (data_value <= loc_bin_max[j]) {\n",
        "              #pragma omp critical\n",
        "                loc_bin_sum[j] += 1;\n",
        "                break;\n",
        "            }\n",
        "        }\n",
        "    }\n",
        "}\n",
        "\n",
        "\n",
        "int main(int argc, char* argv[]) {\n",
        "    std::vector<float> data, bin_max, loc_data;\n",
        "    std::vector<long> histogram, loc_histogram;\n",
        "    int comm_sz, rank;\n",
        "    float min_meas, max_meas, bin_width;\n",
        "    long bin_count, data_count;\n",
        "    long data_per_process;\n",
        "    double start_total, finish_total;\n",
        "    double start_app, finish_app;\n",
        "    double start_histo, final_histo;\n",
        "\n",
        "    //TO DO: Faça as devidas inicializações em MPI, e armazene os valores em comm_sz e rank\n",
        "\n",
        "    MPI_Init(&argc, &argv);                 //Start MPI\n",
        "    MPI_Comm_size(MPI_COMM_WORLD, &comm_sz);\n",
        "    MPI_Comm_rank(MPI_COMM_WORLD, &rank);           //get rank of node's process\n",
        "\n",
        "    // O processo 0 obtem todos os inputs e distribui os dados aos nós\n",
        "    if (rank == 0) {\n",
        "        bin_count = strtol(argv[1], NULL, 10);\n",
        "        min_meas = strtof(argv[2], NULL);\n",
        "        max_meas = strtof(argv[3], NULL);\n",
        "        data_count = strtol(argv[4], NULL, 10);\n",
        "\n",
        "        // Aloca a memória\n",
        "        data.resize(data_count);\n",
        "        bin_max.resize(bin_count);\n",
        "        histogram.resize(bin_count);\n",
        "        loc_histogram.resize(bin_count);\n",
        "        //cout << \"DATA RESIZE: \" << data.size() << endl;\n",
        "        //cout << \"BIN MAX: \" << bin_max.size() << endl;\n",
        "        //cout << \"BIN COUNT: \" << histogram.size() << endl;\n",
        "\n",
        "        // Gera os dados\n",
        "       \n",
        "        generate_data(data, data_count, min_meas, max_meas);\n",
        "\n",
        "        //Abaixo calculamoso  tamanho de cada bin (bin_width) e o bin_max\n",
        "\n",
        "        bin_width = (max_meas - min_meas) / (float)bin_count;\n",
        "        float prev_bin_max = min_meas;\n",
        "        for (int i = 0; i < bin_count; i++) {\n",
        "            prev_bin_max = prev_bin_max + bin_width;\n",
        "            bin_max[i] = prev_bin_max;\n",
        "        }\n",
        "\n",
        "        // Determina os dados a serem distribuídos aos nós\n",
        "        data_per_process = data_count / comm_sz;\n",
        "        loc_data.resize(data_per_process);\n",
        "\n",
        "\n",
        "        //TO DO: Aqui você deve distribuir os dados adequadamente para cada nó.\n",
        "        //Observe que você pode ter um último nó que recebe uma quantidade diferente\n",
        "        //dos demais\n",
        "        //Releia o enunciado e busque as funções que sugerimos que você utilize\n",
        "        //Lembre-se que você pode tentar outras funções  que estejam disponíveis\n",
        "        //na documentação do MPI que apresentamos em aula\n",
        "\n",
        "        // Gerar offset e count:\n",
        "\n",
        "        vector<int> count(comm_sz, data_per_process);\n",
        "        vector<int> displacement(comm_sz);\n",
        "        \n",
        "        for (int i = 0; i < comm_sz - 1; i++){\n",
        "          displacement[i+1] = displacement[i] + count[i];\n",
        "        }\n",
        "\n",
        "        MPI_Scatterv(data.data(), count.data(), displacement.data(), MPI_FLOAT, loc_data.data(), data_per_process, MPI_FLOAT, 0, MPI_COMM_WORLD);\n",
        "        //MPI_Scatter(&data[0], data_per_process, data_per_process*sizeof(float), MPI_FLOAT, loc_data.data(), data_per_process, MPI_FLOAT, 0, MPI_COMM_WORLD);\n",
        "\n",
        "    }\n",
        "    else {\n",
        "\n",
        "        MPI_Scatterv(NULL, NULL, NULL, MPI_FLOAT, loc_data.data(), data_per_process, MPI_FLOAT, 0, MPI_COMM_WORLD);\n",
        "\n",
        "    }   \n",
        "    \n",
        "    //TO DO: todos os nós calculam o histograma\n",
        "    compute_histogram(bin_count, data_per_process, loc_data, bin_max, loc_histogram);\n",
        "    \n",
        "    //TO DO: você precisa fazer a redução para receber os dados \n",
        "     MPI_Reduce(&loc_histogram[0], &histogram[0], bin_count, MPI_LONG, MPI_SUM, 0, MPI_COMM_WORLD);\n",
        "\n",
        "   \n",
        "    if (rank == 0) {\n",
        "        finish_total = MPI_Wtime();\n",
        "        finish_app = finish_total;\n",
        "        //O output abaixo é necessario para que possamos reportar no Python como um grafico\n",
        "        std::cout   << finish_app - start_app;\n",
        "    }\n",
        "    MPI_Finalize();\n",
        "    \n",
        "    return 0;\n",
        "}\n"
      ],
      "metadata": {
        "id": "h_UiLyjsEoT3",
        "colab": {
          "base_uri": "https://localhost:8080/"
        },
        "outputId": "65f44367-a26a-4b68-b790-91987126ed8c"
      },
      "execution_count": 69,
      "outputs": [
        {
          "output_type": "stream",
          "name": "stdout",
          "text": [
            "Overwriting histograma_paralelizado.cpp\n"
          ]
        }
      ]
    },
    {
      "cell_type": "code",
      "source": [
        "!smpicxx -fopenmp histograma_paralelizado.cpp -o hist_paralelo"
      ],
      "metadata": {
        "id": "lKOivcA6EpWk"
      },
      "execution_count": 70,
      "outputs": []
    },
    {
      "cell_type": "code",
      "source": [
        "!smpirun -np 2 -platform simgrid-template-smpi/cluster.xml -hostfile simgrid-template-smpi/cluster_hostfile --cfg=smpi/host-speed:1e9 ./hist_paralelo 200 20 500 200000000"
      ],
      "metadata": {
        "id": "Rl-X4yyPEpZG",
        "colab": {
          "base_uri": "https://localhost:8080/"
        },
        "outputId": "697370c4-c317-41ad-929d-4309f1a65a8b"
      },
      "execution_count": 71,
      "outputs": [
        {
          "output_type": "stream",
          "name": "stdout",
          "text": [
            "[0.000000] [xbt_cfg/INFO] Configuration change: Set 'smpi/privatization' to '1'\n",
            "[0.000000] [xbt_cfg/INFO] Configuration change: Set 'surf/precision' to '1e-9'\n",
            "[0.000000] [xbt_cfg/INFO] Configuration change: Set 'network/model' to 'SMPI'\n",
            "[0.000000] [xbt_cfg/INFO] Configuration change: Set 'smpi/host-speed' to '1e9'\n",
            "7.87367"
          ]
        }
      ]
    },
    {
      "cell_type": "markdown",
      "source": [
        "Como pôde ser visto no código anterior, a paralelização foi feita com o  `#pragma omp parallel for`, que indica que o loop deve ser executado em paralelo. Essa diretiva cria um grupo de threads e divide automaticamente as iterações do loop entre as threads disponíveis - nesse caso como a princípio não defini nenhuma, o código criou um número de threads padrão no ambiente do Colab. E isso foi possível, pois os dados não possuem dependência entre as iterações.\n",
        "\n",
        "Por sua vez, dentro do loop paralelo, cada thread executa uma parte do processamento, sendo que a variável i é compartilhada entre as threads, e cada uma delas é responsável por uma parte diferente do intervalo [0, data_per_process]. Porém, uma variável é acessada e modificada por todas as threads: `loc_bin_sum[j]`, sendo assim, é importante garantir que o acesso a ela seja realizado de forma segura. Por isso, a diretiva `#pragma omp critical` foi usada para criar uma região crítica, onde apenas uma thread pode executar por vez, evitando conflitos.\n",
        "\n",
        "Com o código implementado, resolvi testar o tempo de execução para diferentes números de processos e com o número de threads fixo para cada execução, o que gerou os gráficos a seguir:"
      ],
      "metadata": {
        "id": "EHAxudz3iHhC"
      }
    },
    {
      "cell_type": "code",
      "source": [
        "import subprocess\n",
        "import os\n",
        "\n",
        "def executa_comando(np, num_threads):\n",
        "  os.environ['OMP_NUM_THREADS'] = str(num_threads)\n",
        "# Comando para executar o programa C++ com smpirun\n",
        "  execute_command = [\n",
        "    'smpirun', '-np', np, '-platform', 'simgrid-template-smpi/cluster.xml',\n",
        "    '-hostfile', 'simgrid-template-smpi/cluster_hostfile', '--cfg=smpi/host-speed:1e9',\n",
        "    './hist_paralelo', '200', '20', '500', '200000000'\n",
        "  ]\n",
        "\n",
        "  # Executar o comando\n",
        "  process = subprocess.run(execute_command, capture_output = True)\n",
        "  return float(process.stdout)\n"
      ],
      "metadata": {
        "id": "QO0_nen_Epbv"
      },
      "execution_count": 73,
      "outputs": []
    },
    {
      "cell_type": "code",
      "source": [
        "nps_parallel = ['1', '2', '4', '8', '12', '16', '32']"
      ],
      "metadata": {
        "id": "2lZyPQk6WZDa"
      },
      "execution_count": 74,
      "outputs": []
    },
    {
      "cell_type": "code",
      "source": [
        "tempos_parallel_2 = [executa_comando(np, 2) for np in nps]"
      ],
      "metadata": {
        "id": "YDNp-GLXWlZ7"
      },
      "execution_count": 75,
      "outputs": []
    },
    {
      "cell_type": "code",
      "source": [
        "### Use o código abaixo para plotar seu resultado\n",
        "import matplotlib.pyplot as plt \n",
        "fig, ax = plt.subplots(figsize=(10,5))\n",
        "plt.title('Gráfico de tempo (s) por número de processos para 2 threads')\n",
        "ax.set_xlabel('Número de Processos')\n",
        "ax.set_ylabel('Tempo (seg)')\n",
        "ax.plot(nps_parallel, tempos_parallel_2)\n",
        "plt.show()"
      ],
      "metadata": {
        "colab": {
          "base_uri": "https://localhost:8080/",
          "height": 488
        },
        "id": "fX0ghKUmWs_o",
        "outputId": "96f8bb3b-3f5c-4cda-ad79-6ab74823aabc"
      },
      "execution_count": 77,
      "outputs": [
        {
          "output_type": "display_data",
          "data": {
            "text/plain": [
              "<Figure size 1000x500 with 1 Axes>"
            ],
            "image/png": "[encoded data removed]"
          },
          "metadata": {}
        }
      ]
    },
    {
      "cell_type": "markdown",
      "source": [
        "Para o primeiro caso, com o número de threads fixo em 2, podemos notar que a diminuição de tempo não foi muito grande, de tal forma que no teste com 32 processos o tempo começou a aumentar novamente, ou seja, chegou em um ponto em que o número de processos já passou a ser desnecessário para a entrada passada."
      ],
      "metadata": {
        "id": "ArFVNO0F0dK8"
      }
    },
    {
      "cell_type": "code",
      "source": [
        "tempos_parallel_4 = [executa_comando(np, 4) for np in nps]\n",
        "\n",
        "### Use o código abaixo para plotar seu resultado\n",
        "import matplotlib.pyplot as plt \n",
        "fig, ax = plt.subplots(figsize=(10,5))\n",
        "plt.title('Gráfico de tempo (s) por número de processos para 4 threads')\n",
        "ax.set_xlabel('Número de Processos')\n",
        "ax.set_ylabel('Tempo (seg)')\n",
        "ax.plot(nps_parallel, tempos_parallel_4)\n",
        "plt.show()"
      ],
      "metadata": {
        "colab": {
          "base_uri": "https://localhost:8080/",
          "height": 488
        },
        "id": "pF73Ft7PZijW",
        "outputId": "9df07cb7-7288-4e9e-eaf7-0d6db52388c6"
      },
      "execution_count": 78,
      "outputs": [
        {
          "output_type": "display_data",
          "data": {
            "text/plain": [
              "<Figure size 1000x500 with 1 Axes>"
            ],
            "image/png": "[encoded data removed]"
          },
          "metadata": {}
        }
      ]
    },
    {
      "cell_type": "markdown",
      "source": [
        "Para o segundo caso, com o número de threads fixo em 4, podemos notar que o tempo de execução diminuiu bastante, porém chegou a aumentar para o caso que o número de máquinas era de 2 e 4. Isso provavelmente porque a paralelização ainda não era suficiente para a quantidade dos dados, pois para paralelizar com OpenMP e MPI, existe um processo de coordenação e comunicação de processos e máquinas, e nesse caso, utilizar essas duas formas de paralelização mas em pequena quantidade talvez não seja muito proveitoso. \n",
        "\n",
        "Por outro lado, quando o número de máquinas aumenta, é possível que haja um benefício maior da paralelização em MPI. Como dito antes, isso deve estar acontecendo por conta da relação de tamanho da carga de trabalho e a quantidade de dados processados por cada máquina, pois com um número maior de máquinas, cada uma processa uma quantidade menor de dados, o que pode levar a uma distribuição mais equilibrada do trabalho e a uma redução no tempo de execução."
      ],
      "metadata": {
        "id": "DXDwhPeC0xo7"
      }
    },
    {
      "cell_type": "code",
      "source": [
        "tempos_parallel_8 = [executa_comando(np, 8) for np in nps]\n",
        "\n",
        "### Use o código abaixo para plotar seu resultado\n",
        "import matplotlib.pyplot as plt \n",
        "fig, ax = plt.subplots(figsize=(10,5))\n",
        "plt.title('Gráfico de tempo (s) por número de processos para 8 threads')\n",
        "ax.set_xlabel('Número de Processos')\n",
        "ax.set_ylabel('Tempo (seg)')\n",
        "ax.plot(nps_parallel, tempos_parallel_8)\n",
        "plt.show()"
      ],
      "metadata": {
        "colab": {
          "base_uri": "https://localhost:8080/",
          "height": 488
        },
        "id": "tC6_MOG-Zxio",
        "outputId": "43ec4bb9-3447-41b5-e4c2-17191ab46bef"
      },
      "execution_count": 80,
      "outputs": [
        {
          "output_type": "display_data",
          "data": {
            "text/plain": [
              "<Figure size 1000x500 with 1 Axes>"
            ],
            "image/png": "[encoded data removed]"
          },
          "metadata": {}
        }
      ]
    },
    {
      "cell_type": "code",
      "source": [
        "tempos_parallel_12 = [executa_comando(np, 12) for np in nps]\n",
        "\n",
        "### Use o código abaixo para plotar seu resultado\n",
        "import matplotlib.pyplot as plt \n",
        "fig, ax = plt.subplots(figsize=(10,5))\n",
        "plt.title('Gráfico de tempo (s) por número de processos para 12 threads')\n",
        "ax.set_xlabel('Número de Processos')\n",
        "ax.set_ylabel('Tempo (seg)')\n",
        "ax.plot(nps_parallel, tempos_parallel_12)\n",
        "plt.show()"
      ],
      "metadata": {
        "colab": {
          "base_uri": "https://localhost:8080/",
          "height": 488
        },
        "id": "Ol2Zvu81aQWZ",
        "outputId": "09d7f44d-6509-4bc3-8663-334c242d30e3"
      },
      "execution_count": 81,
      "outputs": [
        {
          "output_type": "display_data",
          "data": {
            "text/plain": [
              "<Figure size 1000x500 with 1 Axes>"
            ],
            "image/png": "[encoded data removed]"
          },
          "metadata": {}
        }
      ]
    },
    {
      "cell_type": "markdown",
      "source": [
        "Por fim, os gráficos para 8 e 12 threads ficaram bem similares. No ínicio, para apenas uma máquina apresentaram um bom desempenho, mas conforme o número delas foi subindo, o tempo de execução começou a aumentar. Isso porque quando aumentamos o número de threads para um valor alto e ao mesmo tempo aumentamos o número de máquinas, pode ocorrer um aumento no tempo de execução devido a sobrecarga de comunicação, concorrência de recursos e diminuição do paralelismo do programa em si. \n",
        "\n",
        "Além disso, vale lembrar que pode depender também do ambiente de execução, que pode limitar o número de threads máximo a ser criado e fixá-lo caso tentem ser criadas mais threads do que o permitido. Logo, pode ser que para as últimas threads a quantidade pedida nem tenha sido criada e tenha sido apenas limitada ao número máximo permitido pelo Colab.\n",
        "\n",
        "Em resumo, para a paralelização ser eficiente precisamos escolher o número de máquinas e threads de acordo com o tamanho da carga de trabalho, da quantidade de dados e do equilíbrio entre a sobrecarga de comunicação e a melhoria no desempenho obtida pela paralelização. "
      ],
      "metadata": {
        "id": "_VA9ye1y3Ck_"
      }
    },
    {
      "cell_type": "markdown",
      "source": [
        "---\n",
        "# Questão 3 (2 pontos)"
      ],
      "metadata": {
        "id": "i0YTVmfmAo62"
      }
    },
    {
      "cell_type": "markdown",
      "source": [
        "\n",
        "\n",
        "\n",
        "Você trabalha em uma empresa de processamento de dados que precisa analisar grandes volumes de informações para identificar tendências. Recentemente, a empresa adquiriu uma placa gráfica de alto desempenho para acelerar essas análises. No entanto, você percebeu que o processamento desses dados ainda está levando mais tempo do que o esperado, devido à complexidade das operações envolvidas. Sua tarefa é otimizar o código existente para aproveitar a capacidade de processamento da GPU utilizando a biblioteca **Thrust**.\n",
        "\n",
        "Você recebeu um conjunto de dados em forma de vetor, contendo números inteiros positivos. Sua tarefa é encontrar a soma dos quadrados dos números pares no vetor utilizando a operação de fusão com a função **transform_reduce** ❗ da biblioteca Thrust, aproveitando o poder de processamento da GPU.\n",
        "\n",
        "Instruções:\n",
        "\n",
        "1. Importe a biblioteca Thrust e outras bibliotecas necessárias.\n",
        "2. Defina uma função de transformação que receba um número inteiro e retorne o seu quadrado se ele for par, caso contrário, retorna 0.\n",
        "3. Crie um vetor na memória da GPU com os dados fornecidos.\n",
        "4. Utilize a função transform_reduce do Thrust para realizar a fusão dos elementos do vetor, aplicando a função de transformação e soma necessárias.\n",
        "5. Imprima o resultado da soma dos quadrados dos números pares.\n",
        "\n"
      ],
      "metadata": {
        "id": "606iWleBEpt9"
      }
    },
    {
      "cell_type": "code",
      "source": [
        "%%writefile resolucao_3.cu\n",
        "\n",
        "#include <thrust/device_vector.h>\n",
        "#include <thrust/host_vector.h>\n",
        "#include <thrust/transform_reduce.h>\n",
        "#include <thrust/functional.h>\n",
        "#include <thrust/transform.h>\n",
        "#include <thrust/random.h>\n",
        "#include <iostream>\n",
        "#include <fstream>\n",
        "#include <iomanip>\n",
        "#include <cstdlib>\n",
        "#include <chrono>\n",
        "#include <cstdlib>\n",
        "#include <algorithm>\n",
        "#include <cmath>\n",
        "#include <random>\n",
        "using namespace std; \n",
        "\n",
        "struct QuadradoPares  {\n",
        "    __host__ __device__\n",
        "    int operator()(int x) const {\n",
        "        if (x % 2 == 0)\n",
        "            return x * x;\n",
        "        else\n",
        "            return 0;\n",
        "    }\n",
        "};\n",
        "\n",
        "int main(){\n",
        "\n",
        "  thrust::host_vector<int> h_data(11);\n",
        "  thrust::sequence(h_data.begin(), h_data.end());\n",
        "\n",
        "  //for (int i = 0; i < 10; i++){\n",
        "  //  cout << h_data[i];\n",
        "  //}\n",
        "\n",
        "  // Cria um vetor na memória da GPU e copia os dados para ele\n",
        "  thrust::device_vector<int> d_data(h_data);\n",
        "\n",
        "  // Utiliza a função transform_reduce para realizar a fusão dos elementos do vetor\n",
        "  int sum = thrust::transform_reduce(d_data.begin(), d_data.end(), QuadradoPares(), 0, thrust::plus<int>());\n",
        "\n",
        "  std::cout << \"Soma dos quadrados dos números pares: \" << sum << std::endl;\n",
        "\n",
        "  return 0;\n",
        "}"
      ],
      "metadata": {
        "id": "A_td8JmTLC1Y",
        "colab": {
          "base_uri": "https://localhost:8080/"
        },
        "outputId": "cb5551ac-1f35-4146-f9ba-5ed1314d15f7"
      },
      "execution_count": 13,
      "outputs": [
        {
          "output_type": "stream",
          "name": "stdout",
          "text": [
            "Overwriting resolucao_3.cu\n"
          ]
        }
      ]
    },
    {
      "cell_type": "markdown",
      "source": [
        "Para compilar seu código, faça uso do comando abaixo. No caso `resolucao_3.cu` é seu arquivo de código-fonte."
      ],
      "metadata": {
        "id": "-1H1M86RLGcr"
      }
    },
    {
      "cell_type": "code",
      "source": [
        "!nvcc -arch=sm_75 -std=c++14 resolucao_3.cu -o resolucao"
      ],
      "metadata": {
        "id": "VTB3LABSIOeE"
      },
      "execution_count": 14,
      "outputs": []
    },
    {
      "cell_type": "code",
      "source": [
        "!./resolucao"
      ],
      "metadata": {
        "id": "yKa53Wg_Jkth",
        "colab": {
          "base_uri": "https://localhost:8080/"
        },
        "outputId": "80b02399-9a1a-4f58-c542-78e0977eadef"
      },
      "execution_count": 15,
      "outputs": [
        {
          "output_type": "stream",
          "name": "stdout",
          "text": [
            "Soma dos quadrados dos números pares: 220\n"
          ]
        }
      ]
    },
    {
      "cell_type": "markdown",
      "source": [
        "A implementação do código seguiu os passos definidos no enunciado. Além disso, o teste foi feito para 11 números inteiros positivos em uma sequência que começa em 0 e que incrementa 1 até chegar no número de elementos.\n",
        "\n",
        "Nesse caso, o vetor de entrada foi:\n",
        "\n",
        "{0, 1, 2, 3, 4, 5, 6, 7, 8, 9, 10}\n",
        "\n",
        "Sendo assim, a soma dos quadrados dos números pares devia ser:\n",
        "\n",
        "O^2 + 2^2 + 4^2 + 6^2 + 8^2 + 10^2 = 4 + 16 + 36 + 64 + 100 = 220.\n",
        "\n",
        "\n"
      ],
      "metadata": {
        "id": "5FH15BOkF8lM"
      }
    },
    {
      "cell_type": "markdown",
      "source": [
        "---\n",
        "# Questão 4 (2 pontos)"
      ],
      "metadata": {
        "id": "aBqnH1dpAlBs"
      }
    },
    {
      "cell_type": "markdown",
      "source": [
        "\n",
        "\n",
        "Considere o seguinte trecho de código em C++ que utiliza threads em OpenMP:\n",
        "\n",
        "```cpp\n",
        "#include <iostream>\n",
        "#include <omp.h>\n",
        "\n",
        "int main() {\n",
        "    int count = 0;\n",
        "\n",
        "    #pragma omp parallel num_threads(4)\n",
        "    {\n",
        "        #pragma omp critical\n",
        "        {\n",
        "            count++;\n",
        "        }\n",
        "    }\n",
        "\n",
        "    std::cout << \"O valor de count é: \" << count << std::endl;\n",
        "\n",
        "    return 0;\n",
        "}\n",
        "```\n",
        "\n",
        "1. Explique o papel do bloco de diretivas `#pragma omp parallel` neste código. Como as threads são criadas e como elas são distribuídas entre os processadores? (0,5 ponto)\n",
        "\n",
        "2. Descreva o significado e o papel da diretiva `#pragma omp critical` no contexto do código fornecido. Explique o que acontece quando várias threads tentam executar a região crítica simultaneamente. (1 ponto)\n",
        "\n",
        "3. O que é uma região crítica e por que é importante protegê-la? Como a diretiva `#pragma omp critical` ajuda a garantir a exclusão mútua nesse caso? (0,5 ponto)\n",
        "\n",
        "1) **R:** O bloco de diretivas `#pragma omp parallel` faz uma paralelização em que múltiplas threads podem executar de forma simultânea. No caso, essa região que foi paralelizada é definida com `num_threads(4)`, indicando que devem ser criadas quatro threads para executar o bloco de código seguinte.\n",
        "\n",
        "\n",
        "A forma como as threads são criadas e distribuídas entre os processadores é determinada pela implementação do OpenMP e pelas configurações do sistema. Geralmente, as threads são distribuídas de forma equilibrada pelos processadores disponíveis, permitindo uma execução eficiente e paralela. Mas a ordem em que as threads vão rodar, quem irá executar o bloco de código primeiro, não é possível saber, apenas se sabe que 4 threads serão criadas e atuarão no código para paralelizá-lo. \n",
        "\n",
        "\n",
        "2) **R:** A diretiva `#pragma omp critical` define uma região crítica no código, o que indica que só uma thread pode executar essa região por vez. Sendo assim, quando uma thread entra na região crítica, ainda que todas as outras threads tentem entrar naquela região ao mesmo tempo, elas terão que esperar até que a thread que entrou ali termine a execução dessa região para poder continuarem. O conceito de região crítica é similar ao de um semáforo, que aprendemos na disciplina de Sistemas Hardware Software e de Computação Embarcada, onde um recurso é compartilhado entre várias threads e precisa ser acessado de forma exclusiva para garantir a consistência dos resultados.\n",
        "\n",
        "3) **R:** Uma região crítica é uma seção do código em que uma ou mais threads vão acessar recursos compartilhados, como variáveis e vetores, o que pode causar problemas de concorrência e inconsistências se forem acessados simultaneamente. Sendo assim, é importante proteger uma região crítica para garantir que apenas uma thread possa executar a região crítica por vez.\n",
        "\n",
        "Além disso, a diretiva `#pragma omp critical` pode ajudar nisso, já que ela garante a exclusão mútua na região crítica ao permitir que apenas uma thread execute essa região por vez. Assim, quando várias threads tentam executar a região crítica ao mesmo tempo, aquelas que não conseguem entrar na região crítica ficam em espera até que a thread que está executando a região crítica termine. Dessa forma, problemas de acesso concorrente são evitados e é garantido que o recurso compartilhado vai ser acessado corretamente."
      ],
      "metadata": {
        "id": "OdR5yk2aLsOu"
      }
    },
    {
      "cell_type": "markdown",
      "source": [
        "---\n",
        "# Questão 5 (2 pontos)\n",
        "\n"
      ],
      "metadata": {
        "id": "XL05kgHIMZs8"
      }
    },
    {
      "cell_type": "markdown",
      "source": [
        "## Simulação de Colisão de Partículas\n",
        "\n",
        "![](https://scipython.com/static/media/uploads/blog/collision/collision-img.gif)\n",
        "\n",
        "A simulação de colisão de partículas desempenha um papel crucial em diversas áreas da ciência e engenharia. Ela permite estudar e compreender o comportamento e a interação de partículas em sistemas físicos complexos, como gases, líquidos, materiais granulares, entre outros. Essa simulação é particularmente valiosa quando a observação direta desses sistemas é difícil ou impraticável. Ao simular as colisões entre as partículas, é possível obter informações sobre a distribuição de velocidades, padrões de movimento coletivo, propriedades termodinâmicas, dissipação de energia e outras características relevantes para o sistema em estudo. Essa abordagem computacional é amplamente utilizada em áreas como física, química, biologia, engenharia de materiais e ciência da computação.\n",
        "\n",
        "No contexto da detecção de colisão de partículas em paredes, uma abordagem comum é verificar se a partícula ultrapassou os limites da área de simulação. Isso é feito comparando as coordenadas x e y da partícula com os limites inferior (geralmente 0) e superior (geralmente 1) da área. Se a partícula estiver além desses limites, ocorreu uma colisão com a parede correspondente.\n",
        "\n",
        "Para reverter a direção da partícula e simular o rebote na parede, a lógica empregada é simples: se a partícula ultrapassar um dos limites, inverte-se o sinal da componente de velocidade correspondente. Por exemplo, se a partícula atingir o limite superior, a velocidade em y é invertida, fazendo com que a partícula mude de direção verticalmente. Essa inversão de velocidade é análoga a uma colisão elástica, onde a partícula rebota na parede sem perda de energia cinética.\n",
        "\n",
        "Dessa forma, a detecção de colisões com as paredes e a inversão da velocidade permitem que as partículas simulem o comportamento de colisão com obstáculos físicos, permitindo investigar como as partículas interagem com seu ambiente e como isso afeta a dinâmica geral do sistema em estudo.\n",
        "\n",
        "O código abaixo é uma implementação para a simulação da colisão de particulas. Sua tarefa é simples:\n",
        "\n",
        "1. Adapte a função detectCollisions para ser paralelizada por openMP (pode ser um `parallel for`, `section` ou `task`). \n",
        "\n",
        "2. Execute o programa múltiplas vezes mudando o número de threads (você pode fazer isso executando `export OMP_NUM_THREADS=xx` no sistema operacional, onde xx é o número de threads que você deseja).\n",
        "\n",
        "3. Elabore um gráfico em Python que apresenta a evolução do tempo de execução conforme você aumenta o número de threads (simule para 1, 2, 4, 8 e 12)\n",
        "\n",
        "4. Comente o speed up que você obteve (ou não!) ao incremento do número de threads.\n",
        "\n"
      ],
      "metadata": {
        "id": "c6uQAoyAPdAI"
      }
    },
    {
      "cell_type": "code",
      "source": [
        "%%writefile particulas.cpp\n",
        "\n",
        "#include <iostream>\n",
        "#include <vector>\n",
        "#include <cmath>\n",
        "#include <cstdlib>\n",
        "#include <ctime>\n",
        "#include <omp.h>\n",
        "\n",
        "struct Particle {\n",
        "    double x, y;\n",
        "    double velocityX, velocityY;\n",
        "};\n",
        "\n",
        "const int numParticles = 1000;\n",
        "const int numIterations = 10000;\n",
        "const double collisionDistance = 0.01;\n",
        "\n",
        "void initializeParticles(std::vector<Particle>& particles) {\n",
        "    std::srand(static_cast<unsigned int>(std::time(nullptr)));\n",
        "    for (int i = 0; i < numParticles; ++i) {\n",
        "        Particle p;\n",
        "        p.x = static_cast<double>(std::rand()) / RAND_MAX;\n",
        "        p.y = static_cast<double>(std::rand()) / RAND_MAX;\n",
        "        p.velocityX = static_cast<double>(std::rand()) / RAND_MAX / 100.0;\n",
        "        p.velocityY = static_cast<double>(std::rand()) / RAND_MAX / 100.0;\n",
        "        particles.push_back(p);\n",
        "    }\n",
        "}\n",
        "\n",
        "void updateParticle(Particle& particle) {\n",
        "    particle.x += particle.velocityX;\n",
        "    particle.y += particle.velocityY;\n",
        "    if (particle.x < 0.0 || particle.x > 1.0)\n",
        "        particle.velocityX = -particle.velocityX;\n",
        "    if (particle.y < 0.0 || particle.y > 1.0)\n",
        "        particle.velocityY = -particle.velocityY;\n",
        "}\n",
        "\n",
        "void detectCollisions(std::vector<Particle>& particles) {\n",
        "    #pragma omp parallel for\n",
        "    for (int i = 0; i < numParticles; ++i) {\n",
        "        for (int j = i + 1; j < numParticles; ++j) {\n",
        "            double dx = particles[i].x - particles[j].x;\n",
        "            double dy = particles[i].y - particles[j].y;\n",
        "            double distance = std::sqrt(dx * dx + dy * dy);\n",
        "            if (distance < collisionDistance) {\n",
        "                // Simulate collision by swapping velocities\n",
        "                std::swap(particles[i].velocityX, particles[j].velocityX);\n",
        "                std::swap(particles[i].velocityY, particles[j].velocityY);\n",
        "            }\n",
        "        }\n",
        "    }\n",
        "}\n",
        "\n",
        "int main() {\n",
        "    std::vector<Particle> particles;\n",
        "    initializeParticles(particles);\n",
        "\n",
        "    double startTime = omp_get_wtime();\n",
        "\n",
        "    for (int iteration = 0; iteration < numIterations; ++iteration) {\n",
        "        updateParticle(particles[iteration % numParticles]);\n",
        "        detectCollisions(particles);\n",
        "    }\n",
        "\n",
        "    double endTime = omp_get_wtime();\n",
        "    double executionTime = endTime - startTime;\n",
        "\n",
        "    std::cout << \"Execution time: \" << executionTime << std::endl; // em segundos\n",
        "\n",
        "    return 0;\n",
        "}\n"
      ],
      "metadata": {
        "id": "LzUTlDAUMWTe",
        "colab": {
          "base_uri": "https://localhost:8080/"
        },
        "outputId": "077994bc-3477-4f38-a833-681d1f6c9703"
      },
      "execution_count": 1,
      "outputs": [
        {
          "output_type": "stream",
          "name": "stdout",
          "text": [
            "Writing particulas.cpp\n"
          ]
        }
      ]
    },
    {
      "cell_type": "code",
      "source": [
        "!g++ -fopenmp particulas.cpp -o particulas"
      ],
      "metadata": {
        "id": "zPsALX2ZO-e_"
      },
      "execution_count": 2,
      "outputs": []
    },
    {
      "cell_type": "code",
      "source": [
        "!./particulas"
      ],
      "metadata": {
        "id": "BjSLYkhJPA9M",
        "colab": {
          "base_uri": "https://localhost:8080/"
        },
        "outputId": "b095f433-9097-4e0d-97d5-238ee664d019"
      },
      "execution_count": 24,
      "outputs": [
        {
          "output_type": "stream",
          "name": "stdout",
          "text": [
            "Execution time: 93.9029 seconds\n"
          ]
        }
      ]
    },
    {
      "cell_type": "code",
      "source": [
        "!export OMP_NUM_THREADS=4\n",
        "!./particulas"
      ],
      "metadata": {
        "id": "GXcJMNHxPCf6",
        "colab": {
          "base_uri": "https://localhost:8080/"
        },
        "outputId": "f874b887-aa5c-462b-a1b8-bf3d65e610df"
      },
      "execution_count": 26,
      "outputs": [
        {
          "output_type": "stream",
          "name": "stdout",
          "text": [
            "Execution time: 94.7488 seconds\n"
          ]
        }
      ]
    },
    {
      "cell_type": "code",
      "source": [
        "!export OMP_NUM_THREADS=8\n",
        "!./particulas"
      ],
      "metadata": {
        "id": "d6GQsyTPP6jw",
        "colab": {
          "base_uri": "https://localhost:8080/"
        },
        "outputId": "d53fbbeb-dbe1-471b-8ae9-ec70ec8ec7fb"
      },
      "execution_count": 27,
      "outputs": [
        {
          "output_type": "stream",
          "name": "stdout",
          "text": [
            "Execution time: 93.6483 seconds\n"
          ]
        }
      ]
    },
    {
      "cell_type": "code",
      "source": [
        "### Faça um gráfico e avalie o desempenho\n",
        "\n",
        "import os\n",
        "import subprocess\n",
        "import matplotlib.pyplot as plt\n",
        "\n",
        "def executa_programa(num_threads):\n",
        "    os.environ['OMP_NUM_THREADS'] = str(num_threads)\n",
        "    result = subprocess.run(['./particulas'], capture_output=True, text=True)\n",
        "    output = result.stdout.strip()\n",
        "    \n",
        "    tempo_execucao = float(output.split(': ')[-1])\n",
        "    return tempo_execucao\n",
        "\n",
        "num_threads = [1, 2, 4, 8, 12]\n",
        "tempos_execucao = []\n",
        "\n",
        "for threads in num_threads:\n",
        "    tempo = executa_programa(threads)\n",
        "    tempos_execucao.append(tempo)\n",
        "    print(\"Tempo de execução para\", threads, \"threads:\", tempo)\n",
        "\n",
        "# Código para plotar o gráfico\n",
        "plt.plot(num_threads, tempos_execucao)\n",
        "plt.xlabel('Número de Threads')\n",
        "plt.ylabel('Tempo de Execução (segundos)')\n",
        "plt.title('Tempo de Execução em Função do Número de Threads')\n",
        "plt.show()\n",
        "\n"
      ],
      "metadata": {
        "id": "YhGl4iwOQc6X",
        "colab": {
          "base_uri": "https://localhost:8080/",
          "height": 559
        },
        "outputId": "8c86e5f3-cc11-4169-fd0b-b0ab9e8d9f2b"
      },
      "execution_count": 3,
      "outputs": [
        {
          "output_type": "stream",
          "name": "stdout",
          "text": [
            "Tempo de execução para 1 threads: 112.894\n",
            "Tempo de execução para 2 threads: 118.35\n",
            "Tempo de execução para 4 threads: 95.0816\n",
            "Tempo de execução para 8 threads: 92.6794\n",
            "Tempo de execução para 12 threads: 92.4746\n"
          ]
        },
        {
          "output_type": "display_data",
          "data": {
            "text/plain": [
              "<Figure size 640x480 with 1 Axes>"
            ],
            "image/png": "[encoded data removed]"
          },
          "metadata": {}
        }
      ]
    },
    {
      "cell_type": "markdown",
      "source": [
        "Para paralelizar a função utilizei apenas o `omp parallel for` pois cada iteração do loop é independente uma da outra, sendo assim, é possível que cada thread execute as diferentes iterações em paralelo de forma a dividir o trabalho entre as threads criadas.\n",
        "\n",
        "Optei por não usar tarefas (`tasks`) pois as tarefas normalmente são usadas quando existem diferentes funções em que não importa a ordem em que elas sejam executadas. No caso do código das partículas, as iterações do loop são independentes não havendo dependências entre elas, mas não são funções, são um conjunto de passos sequenciais em que algumas operações como o cálculo do distance dependem do cálculo de dx e dy. Sendo assim, o `parallel for` parece ser mais simples e eficiente.\n",
        "\n",
        "Em relação ao gráfico plotado (que executei algumas vezes para garantir que os resultados se repetiam), podemos notar que ocorreu um pico no tempo para o caso em que apenas duas threads foram utilizadas. Creio que este aconteceu porque nesse caso o paralelismo com 2 threads não deve ter sido suficiente, já que o tempo para criar e gerenciá-las deve ter se somado à pouca eficiência da paralelização que resulltou em uma piora no tempo de execução.\n",
        "\n",
        "A partir de 4 threads os tempos de execução melhoraram bastante até chegar em 8 threads - saíram de aproximadamente 112 segundos para 95 segundos - indicando que a paralelização foi eficiente. Entretanto, de 8 até 12 threads o tempo de execução foi muito parecido, ou seja, o speedup praticamente não melhorou. Isso provavelmente se deve ao fato de que a partir de 8 threads o tempo de criação e gerenciamento delas está começando a influenciar bastante e demorando mais do que a execução do código em si. Além disso, vale lembrar que pode depender também do ambiente de execução, que pode limitar o número de threads máximo a ser criado e fixá-lo caso tentem ser criadas mais threads do que o permitido. \n",
        "\n",
        "Logo, conclui-se que a paralelização com threads de fato melhorou o tempo de execução - como pode ser visto no gráfico, ele apresentou uma grande queda. No entanto, a partir de um determinado ponto (no caso, a partir de 8 threads), o tempo de criação e gerenciamento das threads começa a ter um impacto significativo no tempo total de execução. Provavelmente, se fossem testadas com mais threads os tempos de execução piorariam a ponto da sobrecarga de sincronização e comunicação entre as threads superar os benefícios do paralelismo.\n",
        "\n"
      ],
      "metadata": {
        "id": "ndi_B1chGkg0"
      }
    },
    {
      "cell_type": "markdown",
      "source": [
        "EOF (End of file)"
      ],
      "metadata": {
        "id": "Wg2rSQ6-AYSr"
      }
    }
  ]
}