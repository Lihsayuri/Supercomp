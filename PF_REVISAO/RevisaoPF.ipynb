{
  "nbformat": 4,
  "nbformat_minor": 0,
  "metadata": {
    "colab": {
      "provenance": [],
      "gpuType": "T4"
    },
    "kernelspec": {
      "name": "python3",
      "display_name": "Python 3"
    },
    "language_info": {
      "name": "python"
    },
    "accelerator": "GPU"
  },
  "cells": [
    {
      "cell_type": "markdown",
      "source": [
        "#REVISÃO DE TODAS AS AULAS APÓS A PF\n",
        "\n",
        "##AULA 10 - PARALELISMO\n",
        "\n",
        "Soluções de alto desempenho\n",
        "\n",
        "● (1) Algoritmos eficientes\n",
        "\n",
        "● (2) Implementação eficiente (cache, por\n",
        "exemplo - como fizemos com a matriz dinâmica implementada na prova)\n",
        "\n",
        "● (3) Paralelismo\n",
        "\n",
        "Até então não tínhamos feito o 3.\n",
        "\n",
        "**Paralelismo**\n",
        "\n",
        "Consiste no uso de múltiplos\n",
        "processadores, simultaneamente, para\n",
        "resolver um problema.\n",
        "\n",
        "- Tem por objetivo o aumento do\n",
        "desempenho, i.e., a redução do tempo\n",
        "necessário para resolver um problema\n",
        "\n",
        "E ele é normalmente usado por dois motivos:\n",
        "\n",
        "- (1) Problemas cada vez mais complexos\n",
        "e/ou maiores\n",
        "-  (2) Clock dos processadores se\n",
        "aproximando dos limites ditados pela\n",
        "física\n",
        "\n",
        "\n",
        "● **Paralelismo de dados:** a mesma\n",
        "operação\n",
        "(lenta)\n",
        "é executada para\n",
        "todos os elementos de um conjunto\n",
        "de dados (grande\n",
        ")\n",
        "\n",
        "● **Paralelismo de tarefas:** duas ou\n",
        "mais tarefas independentes são\n",
        "executadas em paralelo. Se houver\n",
        "dependências, quebramos o\n",
        "problema em partes independents e\n",
        "rodamos na ordem adequada\n",
        "\n",
        "\n",
        "**Paralelismo - Resumo**\n",
        "\n",
        "1. Paralelizar significa rodar código sem dependências simultaneamente\n",
        "2. Paralelismo de dados: mesma tarefas, dados diferentes\n",
        "3. Paralelismo de tarefas: heterogêneo\n",
        "4. Existem tarefas inerentemente sequenciais\n",
        "5. Ganhos são limitados a partes do programa\n",
        "\n",
        "**Taxonomia de Flynn**\n",
        "\n",
        "A taxonomia de Flynn é uma forma de classificar computadores paralelos, ou seja, computadores que podem executar várias tarefas simultaneamente. Foi proposta por Michael Flynn em 1972 e é amplamente utilizada para descrever a arquitetura e o funcionamento desses sistemas.\n",
        "\n",
        "A taxonomia de Flynn se baseia na ideia de que um computador executa uma sequência de instruções sobre uma sequência de dados. Ela divide os computadores paralelos em quatro categorias principais, com base na presença ou ausência de instruções e dados múltiplos:\n",
        "\n",
        "1. SISD (Single Instruction, Single Data): Nessa categoria, o computador executa uma única instrução em um único conjunto de dados por vez. É o modelo mais comum em computadores convencionais, onde há uma única unidade de processamento (CPU) executando uma sequência de instruções em um único dado por vez.\n",
        "\n",
        "2. SIMD (Single Instruction, Multiple Data): Nessa categoria, o computador executa a mesma instrução em vários conjuntos de dados ao mesmo tempo. Isso é comumente encontrado em processadores vetoriais e GPUs (unidades de processamento gráfico), onde uma única instrução é aplicada a elementos de dados múltiplos em paralelo.\n",
        "\n",
        "3. MISD (Multiple Instruction, Single Data): Nessa categoria, o computador executa várias instruções diferentes em um único conjunto de dados. Embora seja menos comum em sistemas reais, é um modelo teórico que pode ser utilizado em casos específicos, como na verificação de erros em sistemas críticos.\n",
        "\n",
        "4. MIMD (Multiple Instruction, Multiple Data): Nessa categoria, o computador pode executar instruções diferentes em conjuntos de dados diferentes ao mesmo tempo. É o modelo mais flexível e comumente encontrado em computadores paralelos, onde várias unidades de processamento independentes podem executar tarefas diferentes simultaneamente.\n",
        "\n",
        "Essa taxonomia fornece uma maneira simples de classificar e entender as arquiteturas de computadores paralelos, permitindo uma melhor compreensão de como os sistemas podem processar informações de forma eficiente por meio da execução simultânea de instruções e dados.\n",
        "\n",
        "\n",
        "**Multicore: UMA e Non-UMA**\n",
        "\n",
        "**Sistemas Multicore:**\n",
        "Um sistema multicore é aquele que possui múltiplos núcleos de processamento em um único chip. Cada núcleo é como uma pequena \"unidade de processamento\" dentro do chip, capaz de executar instruções e lidar com dados independentemente dos outros núcleos. Imagine que você está trabalhando em um projeto escolar com um colega. Se vocês tiverem apenas um lápis e um caderno, terão que esperar um pelo outro para fazer as tarefas. Agora, se cada um de vocês tiver seu próprio lápis e caderno, poderão trabalhar simultaneamente e completar as tarefas mais rapidamente. Da mesma forma, em um sistema multicore, cada núcleo tem seus próprios recursos de processamento, permitindo que diferentes tarefas sejam executadas ao mesmo tempo, aumentando assim a capacidade de processamento do sistema.\n",
        "\n",
        "**Uniform Memory Access (Acesso Uniforme à Memória):**\n",
        "No contexto de sistemas multicore, o Uniform Memory Access (UMA) refere-se a um design em que todos os núcleos têm acesso igual e uniforme a uma única memória compartilhada. É como se todos os núcleos pudessem acessar a mesma biblioteca, com o mesmo tempo de acesso, para pegar os livros que precisam. Isso significa que, independentemente de qual núcleo esteja executando uma determinada tarefa, todos eles podem acessar a memória principal com a mesma latência (tempo de acesso). Isso facilita a comunicação e o compartilhamento de dados entre os núcleos, tornando o acesso à memória previsível e equitativo.\n",
        "\n",
        "**Non-Uniform Memory Access (Acesso Não Uniforme à Memória):**\n",
        "No caso do Non-Uniform Memory Access (NUMA), o sistema possui várias memórias locais, cada uma associada a um grupo específico de núcleos. É como se cada grupo de núcleos tivesse sua própria biblioteca local, com acesso rápido e direto aos livros nessa biblioteca. No entanto, se um núcleo de um grupo precisar acessar a memória de outro grupo, ele terá que fazer um \"empréstimo\" e aguardar um pouco mais de tempo para obter os dados necessários. Essa diferença de latência ocorre porque a memória está fisicamente mais próxima dos núcleos dentro de cada grupo do que dos núcleos de outros grupos. Portanto, o tempo de acesso à memória pode variar dependendo de qual núcleo está fazendo a solicitação e qual memória está sendo acessada.\n",
        "\n",
        "Em resumo, o sistema multicore envolve a presença de vários núcleos de processamento em um único chip, permitindo a execução simultânea de várias tarefas. O acesso uniforme à memória (UMA) garante que todos os núcleos tenham a mesma latência de acesso à memória compartilhada. Já o acesso não uniforme à memória (NUMA) divide o sistema em grupos de núcleos com memórias locais distintas, resultando em diferenças de latência entre os núcleos que acessam memórias diferentes.\n",
        "\n",
        "**Dependência**\n",
        "- É quando uma iteração depende de\n",
        "resultados calculados em iterações\n",
        "anteriores\n",
        "- Quando não existe nenhuma dependência\n",
        "em um loop, por exemplo, dizemos que\n",
        "ele é ingenuamente paralelizável\n",
        "\n",
        "\n",
        "\n",
        " **OpenMP**\n",
        " \n",
        "● Conjunto de extensões para C/C++ e Fortran\n",
        "\n",
        "● Fornece construções que permitem paralelizar código em ambientes\n",
        "multi-core\n",
        "\n",
        "● Padroniza práticas SMP + SIMD + sistemas heterogêneos (GPU/FPGA)\n",
        "\n",
        "● Idealmente funciona com o mínimo de modificações no código\n",
        "sequência"
      ],
      "metadata": {
        "id": "XNTT1vU_qIS8"
      }
    },
    {
      "cell_type": "markdown",
      "source": [
        "Sintaxe:\n",
        "\n",
        "- Incluir:\n",
        "\n",
        "``` cpp\n",
        "#include <omp.h>\n",
        "```\n",
        "\n",
        "- Retorna o identificador da thread:\n",
        "\n",
        "``` cpp\n",
        "int_omp_get_thread_num();\n",
        "```\n",
        "- Indica o número de threads para executar na região paralela:\n",
        "\n",
        "``` cpp\n",
        "void omp_set_num_threads(int num_threads);\n",
        "```\n",
        "- Retorna o número de threads que estão executando no momento:\n",
        "\n",
        "``` cpp\n",
        "int omp_get_num_threads();\n",
        "```\n",
        "\n",
        "![Captura de tela de 2023-05-28 13-56-18.png](data:image/png;base64,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)"
      ],
      "metadata": {
        "id": "jhQQsbvJRheA"
      }
    },
    {
      "cell_type": "markdown",
      "source": [
        "- Cria a região paralela e define as variáveis privadas e compartilhadas entre as threads.\n",
        "\n",
        "``` cpp\n",
        "#pragma omp parallel private(...) shared(...)\n",
        "{\n",
        "\n",
        "  // Apenas a thread mais rápida\n",
        "  #pragma omp single\n",
        "}\n",
        "```\n",
        "\n",
        "\n",
        "- Exemplo de código sequencial paralelizado por omp:\n",
        "\n",
        "``` cpp \n",
        "\n",
        "// sequencial\n",
        "for (int i = 0; i < N; i++){\n",
        "  a[i] = a[i] + b[i];\n",
        "}\n",
        "\n",
        "// paralelizado\n",
        "#pragma omp parallel\n",
        "{\n",
        "  int id, i, Nthreads, istart, iend;\n",
        "  id = omp_get_thread_num();\n",
        "  Nthreads = omp_get_num_threads();\n",
        "  istart = id*N/N_threads;\n",
        "  iend = (id+1)*N/Nthreads;\n",
        "  if (id == Nthreads - 1) {\n",
        "    iend = N;\n",
        "  }\n",
        "  for (i = istart; i < iend; i++){\n",
        "    a[i] = a[i] + b[i]\n",
        "  }\n",
        "}\n",
        "\n",
        "//também podemos ter:\n",
        "\n",
        "#pragma omp parallel\n",
        "#pragma omp for\n",
        "for (i = 0; i < N; i++){\n",
        "  a[i] = a[i] + b[i];\n",
        "}\n",
        "\n",
        "```"
      ],
      "metadata": {
        "id": "qZuXQvmtTr-b"
      }
    },
    {
      "cell_type": "markdown",
      "source": [
        "Cálculo do PI por meio de uma série infinita de Leibniz¶\n",
        "Você sabia que é possível calcular o valor do PI por meio de uma série infinita de Leibniz? Veja abaixo:\n",
        "\n",
        "![Leibniz Formula](https://latex.codecogs.com/png.latex?%5Cdpi%7B150%7D%20%5Clarge%20%5Csum_%7Bn%3D0%7D%5E%7B%5Cinfty%7D%20%5Cfrac%7B%28-1%29%5En%7D%7B2n+1%7D%20%3D%20%5Cfrac%7B%5Cpi%7D%7B4%7D)\n",
        "\n",
        "Sua tarefa\n",
        "\n",
        "Implemente a versão serial do cálculo do PI a partir da série infinita de Leibniz. Faça n = 1000000000.\n",
        "\n",
        "Após implementar a versão serial e calcular o tempo de sua execução, implemente a versão em openmp. Você deve fazer sua implementação de duas formas:\n",
        "\n",
        "a) A primeira implementação você deve trabalhar com 2 threads e a partir do id da thread, você deve dividir a soma em duas partes, cada thread executando a sua porção.\n",
        "\n",
        "b) A segunda implementação você deve trabalhar com for do openmp e tratar como uma redução do valor de PI. Calcule o tempo de execução."
      ],
      "metadata": {
        "id": "x1ATENg2VPKM"
      }
    },
    {
      "cell_type": "code",
      "source": [
        "%%writefile pi.cpp\n",
        "#include <iostream>\n",
        "#include <unistd.h>\n",
        "#include <omp.h>\n",
        "#include <chrono>\n",
        "\n",
        "double calcula_pi(int n){\n",
        "  double soma = 0;\n",
        "  int multiplicador = -1;\n",
        "\n",
        "  #pragma omp parallel for num_threads(4) reduction(+ : soma)\n",
        "  for (int i = 0; i < n; i++){\n",
        "    //soma+= pow(-1, i)/(2*i + 1);// para que ficar fazendo pow toda hora se é só fazer - par 1 ou - impar -1\n",
        "    multiplicador *= -1;\n",
        "    soma+= (double) multiplicador/(2*i + 1);  // fazer isso pra unidade de processamento não utilizar o ponto flutuante\n",
        "  }\n",
        "\n",
        "  // ouuuu\n",
        "  // if (i%2 == 0){\n",
        "  //     soma+= 1/(2*i + 1);\n",
        "  // }else{\n",
        "  //     soma+= -1/(2*i + 1);\n",
        "  // }\n",
        "\n",
        "  return soma*4;\n",
        "}\n",
        "\n",
        "\n",
        "int main(){\n",
        "    auto t_start = std::chrono::high_resolution_clock::now();\n",
        "    long int n = 10000000000;\n",
        "    double pi = calcula_pi(n);\n",
        "    std::cout << \"Pi = \" << pi << std::endl;\n",
        "\n",
        "    int nthreads = omp_get_max_threads(); // vê todas as que tem disponíveis \n",
        "    std::cout << \"Número de threads: \" <<  nthreads << std::endl;\n",
        "\n",
        "    auto t_end = std::chrono::high_resolution_clock::now();\n",
        "\n",
        "    double elapsed_time_ms = std::chrono::duration<double, std::milli>(t_end-t_start).count();\n",
        "    double elapsed_time_s = elapsed_time_ms/1000;\n",
        "    std::cout << \"Tempo de execução: \" << elapsed_time_s << \" s\" << std::endl;\n",
        "\n",
        "\n",
        "}"
      ],
      "metadata": {
        "colab": {
          "base_uri": "https://localhost:8080/"
        },
        "id": "ch3KomOHV6bv",
        "outputId": "15445e64-3075-497d-9961-d4cce77637ec"
      },
      "execution_count": 18,
      "outputs": [
        {
          "output_type": "stream",
          "name": "stdout",
          "text": [
            "Overwriting pi.cpp\n"
          ]
        }
      ]
    },
    {
      "cell_type": "code",
      "source": [
        "!g++ -g -Wall -fopenmp pi.cpp -o pi"
      ],
      "metadata": {
        "id": "jgtagxrYXIjE"
      },
      "execution_count": 19,
      "outputs": []
    },
    {
      "cell_type": "code",
      "source": [
        "!./pi"
      ],
      "metadata": {
        "colab": {
          "base_uri": "https://localhost:8080/"
        },
        "id": "YoI4NBVqXgA5",
        "outputId": "345c9795-3faa-4f46-c1d5-63d053b62207"
      },
      "execution_count": 20,
      "outputs": [
        {
          "output_type": "stream",
          "name": "stdout",
          "text": [
            "Pi = 3.14232\n",
            "Número de threads: 2\n",
            "Tempo de execução: 12.4192 s\n"
          ]
        }
      ]
    },
    {
      "cell_type": "markdown",
      "source": [
        "**Tasks (tarefas) em OpenMP**\n",
        "\n",
        "Vamos agora criar tarefas que podem ser executadas em paralelo.\n",
        "\n",
        "**Definição**\n",
        "\n",
        "Uma tarefa é um bloco de código que é rodado de maneira paralela usando OpenMP. Tarefas são agendadas para cada uma das threads criadas em um região paralela. Não existe uma associação 1-1 entre threads e tarefas. Posso ter mais tarefas que threads e mais threads que tarefas.\n",
        "\n",
        "Veja abaixo um exemplo de criação de tarefas.\n",
        "\n",
        "\n",
        "```\n",
        "#pragma omp parallel\n",
        "{\n",
        "    #pragma omp task\n",
        "    {\n",
        "        std::cout << \"Estou rodando na tarefa \" << omp_get_thread_num() << \"\\n\";\n",
        "    }\n",
        "}\n",
        "std::cout << \"eu só rodo quanto TODAS tarefas acabarem.\\n\";\n",
        "```"
      ],
      "metadata": {
        "id": "d1g52xpyaBbR"
      }
    },
    {
      "cell_type": "code",
      "source": [
        "%%writefile exemplo.cpp\n",
        "#include <iostream>\n",
        "#include <unistd.h>\n",
        "#include <omp.h>\n",
        "#include <chrono>\n",
        "\n",
        "int main(){\n",
        "  omp_set_num_threads(4);\n",
        "  # pragma omp parallel\n",
        "  {\n",
        "      #pragma omp task\n",
        "      {\n",
        "          std::cout << \"Estou rodando na tarefa \" << omp_get_thread_num() << \"\\n\";\n",
        "      }\n",
        "  }\n",
        "  std::cout << \"eu só rodo quanto TODAS tarefas acabarem.\\n\";\n",
        "\n",
        "  return 0;\n",
        "}"
      ],
      "metadata": {
        "colab": {
          "base_uri": "https://localhost:8080/"
        },
        "id": "tZosvN5YaKSl",
        "outputId": "85926392-f1b2-4e48-e54f-cd14deb8e2ca"
      },
      "execution_count": 24,
      "outputs": [
        {
          "output_type": "stream",
          "name": "stdout",
          "text": [
            "Overwriting exemplo.cpp\n"
          ]
        }
      ]
    },
    {
      "cell_type": "code",
      "source": [
        "!g++ -g -Wall -fopenmp exemplo.cpp -o exemplo"
      ],
      "metadata": {
        "id": "ooQvYQh9aVZb"
      },
      "execution_count": 25,
      "outputs": []
    },
    {
      "cell_type": "code",
      "source": [
        "!./exemplo"
      ],
      "metadata": {
        "colab": {
          "base_uri": "https://localhost:8080/"
        },
        "id": "Y6XE_HqOaYXS",
        "outputId": "54a36059-c7d4-48f0-bdfe-d901888aac7f"
      },
      "execution_count": 33,
      "outputs": [
        {
          "output_type": "stream",
          "name": "stdout",
          "text": [
            "Estou rodando na tarefa 0\n",
            "Estou rodando na tarefa 3\n",
            "Estou rodando na tarefa 2\n",
            "Estou rodando na tarefa 1\n",
            "eu só rodo quanto TODAS tarefas acabarem.\n"
          ]
        }
      ]
    },
    {
      "cell_type": "markdown",
      "source": [
        "\n",
        "### **Questão 1**\n",
        "\n",
        "O exemplo acima cria quantas tarefas, supondo que OMP_NUM_THREADS=4?\n",
        "\n",
        "**R:** 4, uma para cada thread. Como cada thread roda o código da região paralela, cada uma cria exatamente um tarefa."
      ],
      "metadata": {
        "id": "AjnhzehPa4CX"
      }
    },
    {
      "cell_type": "markdown",
      "source": [
        "Para controlar a criação de tarefas em geral usamos a diretiva master, que executa somente na thread de índice 0. Assim conseguimos criar código legível e que deixa bem claro quantas e quais tarefas são criadas."
      ],
      "metadata": {
        "id": "W3kVVgO5a9bV"
      }
    },
    {
      "cell_type": "code",
      "source": [
        "%%writefile exemplo2.cpp\n",
        "#include <iostream>\n",
        "#include <unistd.h>\n",
        "#include <omp.h>\n",
        "#include <chrono>\n",
        "\n",
        "int main(){\n",
        "  omp_set_num_threads(4);\n",
        "  #pragma omp parallel\n",
        "  {\n",
        "      #pragma omp master\n",
        "      {\n",
        "          std::cout << \"só roda uma vez na thread:\" << omp_get_thread_num() << \"\\n\";\n",
        "          #pragma omp task\n",
        "          {\n",
        "              std::cout << \"Estou rodando na thread:\" << omp_get_thread_num() << \"\\n\";\n",
        "          }\n",
        "      }\n",
        "  }\n",
        "  return 0;\n",
        "}"
      ],
      "metadata": {
        "colab": {
          "base_uri": "https://localhost:8080/"
        },
        "id": "N9-rsyaZa-ZX",
        "outputId": "0a53b372-272b-4915-cff4-460e3921e121"
      },
      "execution_count": 34,
      "outputs": [
        {
          "output_type": "stream",
          "name": "stdout",
          "text": [
            "Writing exemplo2.cpp\n"
          ]
        }
      ]
    },
    {
      "cell_type": "code",
      "source": [
        "!g++ -g -Wall -fopenmp exemplo2.cpp -o exemplo2"
      ],
      "metadata": {
        "id": "WMBeS7IHbKDb"
      },
      "execution_count": 35,
      "outputs": []
    },
    {
      "cell_type": "code",
      "source": [
        "!./exemplo2"
      ],
      "metadata": {
        "colab": {
          "base_uri": "https://localhost:8080/"
        },
        "id": "nFOZyrKWbL8D",
        "outputId": "3cefafef-1515-4529-a631-147f2a4fa368"
      },
      "execution_count": 43,
      "outputs": [
        {
          "output_type": "stream",
          "name": "stdout",
          "text": [
            "só roda uma vez na thread:0\n",
            "Estou rodando na thread:0\n"
          ]
        }
      ]
    },
    {
      "cell_type": "markdown",
      "source": [
        "\n",
        "### **Questão 2**\n",
        "\n",
        "Quantas tarefas são criadas no exemplo acima?\n",
        "\n",
        "**R:** 1\n",
        "\n",
        "\n",
        "###**Questão 3**\n",
        "\n",
        "A(s) tarefa(s) criada(s) roda(m) em qual thread?\n",
        "\n",
        "**R:** Impossível dizer. Em cada execução rodará em uma thread diferente."
      ],
      "metadata": {
        "id": "f88QH35KbTo-"
      }
    },
    {
      "cell_type": "markdown",
      "source": [
        "## **Questão 4**\n",
        "\n",
        "Complete exercicio1.cpp criando duas tarefas. A primeira deverá rodar funcao1 e a segunda funcao2. Salve seus resultados nas variáveis indicadas no código."
      ],
      "metadata": {
        "id": "EzlCZNLtbs7q"
      }
    },
    {
      "cell_type": "code",
      "source": [
        "%%writefile exercicio1_paralelo.cpp\n",
        "#include <iostream>\n",
        "#include <unistd.h>\n",
        "#include <omp.h>\n",
        "#include <chrono>\n",
        "\n",
        "double funcao1() {\n",
        "    sleep(4);\n",
        "    return 47;\n",
        "}\n",
        "\n",
        "double funcao2() {\n",
        "    sleep(1);\n",
        "    return -11.5;\n",
        "}\n",
        "\n",
        "int main() {\n",
        "    auto t_start = std::chrono::high_resolution_clock::now();\n",
        "\n",
        "    double res_func1, res_func2;\n",
        "\n",
        "    # pragma omp parallel\n",
        "    {\n",
        "        #pragma omp task\n",
        "        {\n",
        "            std::cout << \"Estou rodando na tarefa \" << omp_get_thread_num() << \"\\n\";\n",
        "            res_func1 = funcao1();\n",
        "        }\n",
        "\n",
        "        #pragma omp task\n",
        "        {\n",
        "          res_func2 = funcao2();\n",
        "        }\n",
        "    }\n",
        "\n",
        "    //res_func1 = funcao1();\n",
        "    //res_func2 = funcao2();\n",
        "\n",
        "    std::cout << res_func1 << \" \" << res_func2 << \"\\n\";\n",
        "\n",
        "    auto t_end = std::chrono::high_resolution_clock::now();\n",
        "\n",
        "    double elapsed_time_ms = std::chrono::duration<double, std::milli>(t_end-t_start).count();\n",
        "    double elapsed_time_s = elapsed_time_ms/1000;\n",
        "    std::cout << \"Tempo de execução: \" << elapsed_time_s << \" s\" << std::endl;\n",
        "\n",
        "}"
      ],
      "metadata": {
        "colab": {
          "base_uri": "https://localhost:8080/"
        },
        "id": "jZjl8wPTbt6N",
        "outputId": "34c30961-6dc6-42e0-8346-498b66dbff58"
      },
      "execution_count": 48,
      "outputs": [
        {
          "output_type": "stream",
          "name": "stdout",
          "text": [
            "Writing exercicio1_paralelo.cpp\n"
          ]
        }
      ]
    },
    {
      "cell_type": "code",
      "source": [
        "!g++ -g -Wall -fopenmp exercicio1_paralelo.cpp -o exercicio1_paralelo"
      ],
      "metadata": {
        "id": "kn-TQjYDcjub"
      },
      "execution_count": 49,
      "outputs": []
    },
    {
      "cell_type": "code",
      "source": [
        "!./exercicio1_paralelo"
      ],
      "metadata": {
        "colab": {
          "base_uri": "https://localhost:8080/"
        },
        "id": "1zCZDB_1c2Ws",
        "outputId": "95be6644-0bb3-4fd4-e11c-dfb303a2d50b"
      },
      "execution_count": 50,
      "outputs": [
        {
          "output_type": "stream",
          "name": "stdout",
          "text": [
            "Estou rodando na tarefa 0\n",
            "Estou rodando na tarefa 1\n",
            "47 -11.5\n",
            "Tempo de execução: 5.00062 s\n"
          ]
        }
      ]
    },
    {
      "cell_type": "code",
      "source": [
        "%%writefile exercicio1_sequencial.cpp\n",
        "#include <iostream>\n",
        "#include <unistd.h>\n",
        "#include <chrono>\n",
        "\n",
        "double funcao1() {\n",
        "    sleep(4);\n",
        "    return 47;\n",
        "}\n",
        "\n",
        "double funcao2() {\n",
        "    sleep(1);\n",
        "    return -11.5;\n",
        "}\n",
        "\n",
        "int main() {\n",
        "    auto t_start = std::chrono::high_resolution_clock::now();\n",
        "\n",
        "    double res_func1, res_func2;\n",
        "\n",
        "    res_func1 = funcao1();\n",
        "    res_func2 = funcao2();\n",
        "\n",
        "    std::cout << res_func1 << \" \" << res_func2 << \"\\n\";\n",
        "\n",
        "    auto t_end = std::chrono::high_resolution_clock::now();\n",
        "\n",
        "    double elapsed_time_ms = std::chrono::duration<double, std::milli>(t_end-t_start).count();\n",
        "    double elapsed_time_s = elapsed_time_ms/1000;\n",
        "    std::cout << \"Tempo de execução: \" << elapsed_time_s << \" s\" << std::endl;\n",
        "\n",
        "}"
      ],
      "metadata": {
        "colab": {
          "base_uri": "https://localhost:8080/"
        },
        "id": "JfjPG0lZc4uB",
        "outputId": "3bb4f8c8-13e0-4798-f36e-3cb904f8c69d"
      },
      "execution_count": 51,
      "outputs": [
        {
          "output_type": "stream",
          "name": "stdout",
          "text": [
            "Writing exercicio1_sequencial.cpp\n"
          ]
        }
      ]
    },
    {
      "cell_type": "code",
      "source": [
        "!g++ -g -Wall -fopenmp exercicio1_sequencial.cpp -o exercicio1_sequencial"
      ],
      "metadata": {
        "id": "lgXxnIWcdKG2"
      },
      "execution_count": 52,
      "outputs": []
    },
    {
      "cell_type": "code",
      "source": [
        "!./exercicio1_sequencial"
      ],
      "metadata": {
        "colab": {
          "base_uri": "https://localhost:8080/"
        },
        "id": "3xu8vedGdNYO",
        "outputId": "c49ebda9-800c-4cfb-ef8c-e6233416d4c0"
      },
      "execution_count": 53,
      "outputs": [
        {
          "output_type": "stream",
          "name": "stdout",
          "text": [
            "47 -11.5\n",
            "Tempo de execução: 5.00037 s\n"
          ]
        }
      ]
    },
    {
      "cell_type": "markdown",
      "source": [
        "### **Questão 5**\n",
        "\n",
        "Leia o código e responda. Quanto tempo o código sequencial demora? E o paralelo? Verifique que sua implementação está de acordo com suas expectativas.\n",
        "\n",
        "**R:** Sequencial demora a soma dos tempos das duas funções. Paralelo demora o tempo da maior delas."
      ],
      "metadata": {
        "id": "YBmwftyZdWX2"
      }
    },
    {
      "cell_type": "markdown",
      "source": [
        "## **AULA 11 - Scheduling e Efeitos Colaterais**\n",
        "\n",
        "\n",
        "**Revisitando Parallel for, tasks e sections**\n",
        "\n",
        "Agora que já conseguimos resolver problemas simples usando três abordagens diferentes, vamos aumentar a complexidade dos problemas tratados. Vimos três abordagens\n",
        "\n",
        "- parallel for - útil para quando precisamos executar a mesma operação em um conjunto grande de dados.\n",
        "- tasks - útil para paralelizar tarefas heterogêneas.\n",
        "- sections - permite paralelizar tarefas heterogênas, com o controle adicional que uma section é executada apenas por uma thread.\n",
        "\n",
        "Teremos então dois desafios relacionados a paralelizar programas que não são obviamente paralelizáveis."
      ],
      "metadata": {
        "id": "Fszm8Q1Udii5"
      }
    },
    {
      "cell_type": "markdown",
      "source": [
        "### **Cálculo do pi recursivo**\n",
        "\n",
        "Vamos iniciar com um código recursivo para cálculo do pi.\n",
        "\n",
        "Example\n",
        "\n",
        "Examine o código em `pi_recursivo.cpp`. Procure entender bem o que está acontecendo antes de prosseguir.\n",
        "\n",
        "``` cpp\n",
        "\n",
        "#include <omp.h>\n",
        "#include <iostream>\n",
        "#include <iomanip>\n",
        "static long num_steps = 1024l*1024*1024*2;\n",
        "\n",
        "#define MIN_BLK  1024*1024*256\n",
        "\n",
        "double sum = 0;\n",
        "\n",
        "void pi_r(long Nstart, long Nfinish, double step) {\n",
        "    long i,iblk;\n",
        "    if (Nfinish-Nstart < MIN_BLK){\n",
        "        for (i = Nstart; i < Nfinish; i++){\n",
        "            double x = (i+0.5)*step;\n",
        "            sum += 4.0/(1.0+x*x); \n",
        "        }\n",
        "    } else {\n",
        "        iblk = Nfinish-Nstart;\n",
        "        pi_r(Nstart,         Nfinish-iblk/2,step);\n",
        "        pi_r(Nfinish-iblk/2, Nfinish,       step);\n",
        "    }\n",
        "}\n",
        "\n",
        "int main () {\n",
        "    long i;\n",
        "    double step, pi;\n",
        "    double init_time, final_time;\n",
        "    step = 1.0/(double) num_steps;\n",
        "    init_time = omp_get_wtime();\n",
        "    pi_r(0, num_steps, step);\n",
        "    pi = step * sum;\n",
        "    final_time = omp_get_wtime() - init_time;\n",
        "\n",
        "    std::cout << \"for \" << num_steps << \" steps pi = \" << std::setprecision(15) << pi << \" in \" << final_time << \" secs\\n\";\n",
        "}\n",
        "\n",
        "```\n",
        "\n",
        "\n",
        "### **Question 1**\n",
        "\n",
        "Onde estão as oportunidades de paralelismo? O código tem dependências?\n",
        "\n",
        "**R:** As oportunidades de paralelismo estão nas iterações do loop dentro da função pi_r. Cada iteração do loop é independente das outras, pois calcula uma contribuição separada para a variável sum. Portanto, é possível executar essas iterações em paralelo.\n",
        "\n",
        "### **Question 2**\n",
        "\n",
        "Se o código tiver dependências, é possível refatorá-lo para eliminá-las?\n",
        "\n",
        "**R:** O código não tem dependências entre as iterações do loop, portanto, não é necessário refatorá-lo para eliminar dependências.\n",
        "\n",
        "### **Question 3**\n",
        "\n",
        "Quantas níveis de chamadas recursivas são feitas? Quando o programa para de chamar recursivamente e faz sequencial?\n",
        "\n",
        "**R:** O código faz chamadas recursivas dividindo o intervalo de iterações em blocos menores até atingir um tamanho mínimo especificado pela constante MIN_BLK. A quantidade de níveis de chamadas recursivas depende do valor de num_steps e do tamanho mínimo de bloco definido por MIN_BLK.\n",
        "\n",
        "No caso do código fornecido, as chamadas recursivas são feitas até que o tamanho do intervalo de iterações seja menor que MIN_BLK. Quando isso ocorre, as iterações restantes são calculadas sequencialmente dentro do loop principal.\n",
        "\n",
        "A quantidade exata de níveis de chamadas recursivas depende do valor de num_steps e da relação entre num_steps e MIN_BLK.\n",
        "\n",
        "\n",
        "Vamos agora tentar paralelizar o programa usando as duas técnicas."
      ],
      "metadata": {
        "id": "AFkqbHNkd6OL"
      }
    },
    {
      "cell_type": "markdown",
      "source": [
        "### **Usando for paralelo**"
      ],
      "metadata": {
        "id": "AIT3oS8UlDJk"
      }
    },
    {
      "cell_type": "code",
      "source": [
        "%%writefile pi_recursivo_sequencial.cpp\n",
        "# include <omp.h>\n",
        "# include <iostream>\n",
        "# include <iomanip>\n",
        "static long num_steps = 1024l*1024*1024*2;\n",
        "\n",
        "# define MIN_BLK  1024*1024*256\n",
        "\n",
        "double sum = 0;\n",
        "\n",
        "void pi_r(long Nstart, long Nfinish, double step) {\n",
        "    long i,iblk;\n",
        "    if (Nfinish-Nstart < MIN_BLK){\n",
        "        for (i = Nstart; i < Nfinish; i++){\n",
        "            double x = (i+0.5)*step;\n",
        "            sum += 4.0/(1.0+x*x); \n",
        "        }\n",
        "    } else {\n",
        "        iblk = Nfinish-Nstart;\n",
        "        pi_r(Nstart,         Nfinish-iblk/2,step);\n",
        "        pi_r(Nfinish-iblk/2, Nfinish,       step);\n",
        "    }\n",
        "}\n",
        "\n",
        "int main () {\n",
        "    long i;\n",
        "    double step, pi;\n",
        "    double init_time, final_time;\n",
        "    step = 1.0/(double) num_steps;\n",
        "    init_time = omp_get_wtime();\n",
        "    pi_r(0, num_steps, step);\n",
        "    pi = step * sum;\n",
        "    final_time = omp_get_wtime() - init_time;\n",
        "\n",
        "    std::cout << \"for \" << num_steps << \" steps pi = \" << std::setprecision(15) << pi << \" in \" << final_time << \" secs\\n\";\n",
        "}"
      ],
      "metadata": {
        "colab": {
          "base_uri": "https://localhost:8080/"
        },
        "id": "DNXDMlVUlIkG",
        "outputId": "8d5eb026-f7c5-4005-af5c-31b60e442da4"
      },
      "execution_count": 59,
      "outputs": [
        {
          "output_type": "stream",
          "name": "stdout",
          "text": [
            "Overwriting pi_recursivo_sequencial.cpp\n"
          ]
        }
      ]
    },
    {
      "cell_type": "code",
      "source": [
        "!g++ -Wall -fopenmp pi_recursivo_sequencial.cpp -o pi_recursivo_sequencial"
      ],
      "metadata": {
        "colab": {
          "base_uri": "https://localhost:8080/"
        },
        "id": "QhPgCeG1lXpO",
        "outputId": "d2c32225-b3ce-4ee2-f0fd-2dc7edb236ff"
      },
      "execution_count": 63,
      "outputs": [
        {
          "output_type": "stream",
          "name": "stdout",
          "text": [
            "\u001b[01m\u001b[Kpi_recursivo_sequencial.cpp:\u001b[m\u001b[K In function ‘\u001b[01m\u001b[Kint main()\u001b[m\u001b[K’:\n",
            "\u001b[01m\u001b[Kpi_recursivo_sequencial.cpp:25:10:\u001b[m\u001b[K \u001b[01;35m\u001b[Kwarning: \u001b[m\u001b[Kunused variable ‘\u001b[01m\u001b[Ki\u001b[m\u001b[K’ [\u001b[01;35m\u001b[K-Wunused-variable\u001b[m\u001b[K]\n",
            "   25 |     long \u001b[01;35m\u001b[Ki\u001b[m\u001b[K;\n",
            "      |          \u001b[01;35m\u001b[K^\u001b[m\u001b[K\n"
          ]
        }
      ]
    },
    {
      "cell_type": "code",
      "source": [
        "!./pi_recursivo_sequencial"
      ],
      "metadata": {
        "colab": {
          "base_uri": "https://localhost:8080/"
        },
        "id": "GnZsVvd5lbEk",
        "outputId": "0e03efcb-8336-44d1-b1ea-be1bedacfc04"
      },
      "execution_count": 64,
      "outputs": [
        {
          "output_type": "stream",
          "name": "stdout",
          "text": [
            "for 2147483648 steps pi = 3.14159265358977 in 32.7849787740006 secs\n"
          ]
        }
      ]
    },
    {
      "cell_type": "code",
      "source": [
        "%%writefile pi_recursivo_paralelizado.cpp\n",
        "# include <omp.h>\n",
        "# include <iostream>\n",
        "# include <iomanip>\n",
        "static long num_steps = 1024l*1024*1024*2;\n",
        "\n",
        "# define MIN_BLK  1024*1024*256\n",
        "\n",
        "double sum = 0;\n",
        "\n",
        "void pi_r(long Nstart, long Nfinish, double step) {\n",
        "    long i,iblk;\n",
        "    if (Nfinish-Nstart < MIN_BLK){\n",
        "        #pragma omp parallel for reduction(+ : sum)\n",
        "        for (i = Nstart; i < Nfinish; i++){\n",
        "            double x = (i+0.5)*step;\n",
        "            sum += 4.0/(1.0+x*x); \n",
        "        }\n",
        "    } else {\n",
        "        iblk = Nfinish-Nstart;\n",
        "        pi_r(Nstart,         Nfinish-iblk/2,step);\n",
        "        pi_r(Nfinish-iblk/2, Nfinish,       step);\n",
        "    }\n",
        "}\n",
        "\n",
        "int main () {\n",
        "    long i;\n",
        "    double step, pi;\n",
        "    double init_time, final_time;\n",
        "    step = 1.0/(double) num_steps;\n",
        "    init_time = omp_get_wtime();\n",
        "    pi_r(0, num_steps, step);\n",
        "    pi = step * sum;\n",
        "    final_time = omp_get_wtime() - init_time;\n",
        "\n",
        "    std::cout << \"for \" << num_steps << \" steps pi = \" << std::setprecision(15) << pi << \" in \" << final_time << \" secs\\n\";\n",
        "}"
      ],
      "metadata": {
        "colab": {
          "base_uri": "https://localhost:8080/"
        },
        "id": "BwoumSWelexd",
        "outputId": "944fb16f-7964-49cd-e851-a75936ce3964"
      },
      "execution_count": 70,
      "outputs": [
        {
          "output_type": "stream",
          "name": "stdout",
          "text": [
            "Overwriting pi_recursivo_paralelizado.cpp\n"
          ]
        }
      ]
    },
    {
      "cell_type": "code",
      "source": [
        "!g++ -Wall -fopenmp pi_recursivo_paralelizado.cpp -o pi_recursivo_paralelizado"
      ],
      "metadata": {
        "colab": {
          "base_uri": "https://localhost:8080/"
        },
        "id": "R1zl1VMwma6l",
        "outputId": "d98cdd9d-c9d7-4528-a591-0c2d213b9d60"
      },
      "execution_count": 71,
      "outputs": [
        {
          "output_type": "stream",
          "name": "stdout",
          "text": [
            "\u001b[01m\u001b[Kpi_recursivo_paralelizado.cpp:\u001b[m\u001b[K In function ‘\u001b[01m\u001b[Kint main()\u001b[m\u001b[K’:\n",
            "\u001b[01m\u001b[Kpi_recursivo_paralelizado.cpp:26:10:\u001b[m\u001b[K \u001b[01;35m\u001b[Kwarning: \u001b[m\u001b[Kunused variable ‘\u001b[01m\u001b[Ki\u001b[m\u001b[K’ [\u001b[01;35m\u001b[K-Wunused-variable\u001b[m\u001b[K]\n",
            "   26 |     long \u001b[01;35m\u001b[Ki\u001b[m\u001b[K;\n",
            "      |          \u001b[01;35m\u001b[K^\u001b[m\u001b[K\n"
          ]
        }
      ]
    },
    {
      "cell_type": "code",
      "source": [
        "!./pi_recursivo_paralelizado"
      ],
      "metadata": {
        "colab": {
          "base_uri": "https://localhost:8080/"
        },
        "id": "a9Krizh3meUj",
        "outputId": "d945f385-e6d9-47cc-ed86-0a7df75b77b2"
      },
      "execution_count": 72,
      "outputs": [
        {
          "output_type": "stream",
          "name": "stdout",
          "text": [
            "for 2147483648 steps pi = 3.14159265358977 in 18.1960811139998 secs\n"
          ]
        }
      ]
    },
    {
      "cell_type": "markdown",
      "source": [
        "Quanto ao número MIN_BLK, ele afeta o algoritmo controlando o tamanho mínimo do bloco que será executado sequencialmente. Se o número de iterações em um determinado bloco for menor que MIN_BLK, esse bloco será executado sequencialmente em vez de ser dividido em partes menores para paralelismo. Ajustar o valor de MIN_BLK pode afetar o desempenho do programa dependendo das características da arquitetura e do problema em questão. Experimente ajustar esse valor e medir o desempenho para determinar o melhor valor para o seu caso específico."
      ],
      "metadata": {
        "id": "cNF3tbv6m1Pu"
      }
    },
    {
      "cell_type": "markdown",
      "source": [
        "### **Usando task**\n",
        "\n",
        "Agora vamos usar task. Neste caso é vamos adotar a seguinte estratégia: usaremos tarefas para paralelizar as chamadas recursivas feitas em pi_recursivo.cpp."
      ],
      "metadata": {
        "id": "2-4ReqMynEwN"
      }
    },
    {
      "cell_type": "code",
      "source": [
        "%%writefile pi_recursivo_task.cpp\n",
        "# include <omp.h>\n",
        "# include <iostream>\n",
        "# include <iomanip>\n",
        "static long num_steps = 1024l*1024*1024*2;\n",
        "\n",
        "# define MIN_BLK  1024*1024*256\n",
        "\n",
        "double sum = 0;\n",
        "\n",
        "void pi_r(long Nstart, long Nfinish, double step) {\n",
        "    long i,iblk;\n",
        "    if (Nfinish-Nstart < MIN_BLK){\n",
        "        //#pragma omp parallel for reduction(+ : sum)\n",
        "        for (i = Nstart; i < Nfinish; i++){\n",
        "            double x = (i+0.5)*step;\n",
        "            sum += 4.0/(1.0+x*x); \n",
        "        }\n",
        "    } else {\n",
        "        // #pragma omp parallel\n",
        "        // #pragma omp master\n",
        "        #pragma omp single // vai ser o coordenador das duas execuções\n",
        "        {\n",
        "          iblk = Nfinish-Nstart;\n",
        "\n",
        "          #pragma omp task\n",
        "          {\n",
        "                pi_r(Nstart,Nfinish-iblk/2,step);\n",
        "          }\n",
        "\n",
        "          # pragma omp task\n",
        "          {\n",
        "                pi_r(Nfinish-iblk/2, Nfinish,step);\n",
        "          }\n",
        "        }\n",
        "    }\n",
        "}\n",
        "\n",
        "int main () {\n",
        "    long i;\n",
        "    double step, pi;\n",
        "    double init_time, final_time;\n",
        "    step = 1.0/(double) num_steps;\n",
        "    init_time = omp_get_wtime();\n",
        "    pi_r(0, num_steps, step);\n",
        "    pi = step * sum;\n",
        "    final_time = omp_get_wtime() - init_time;\n",
        "\n",
        "    std::cout << \"for \" << num_steps << \" steps pi = \" << std::setprecision(15) << pi << \" in \" << final_time << \" secs\\n\";\n",
        "}"
      ],
      "metadata": {
        "colab": {
          "base_uri": "https://localhost:8080/"
        },
        "id": "Vr2o3_0WnHXj",
        "outputId": "ce319da5-27fe-4427-9321-8a27a1769ca0"
      },
      "execution_count": 101,
      "outputs": [
        {
          "output_type": "stream",
          "name": "stdout",
          "text": [
            "Overwriting pi_recursivo_task.cpp\n"
          ]
        }
      ]
    },
    {
      "cell_type": "code",
      "source": [
        "!g++ -Wall -fopenmp pi_recursivo_task.cpp -o pi_recursivo_task"
      ],
      "metadata": {
        "colab": {
          "base_uri": "https://localhost:8080/"
        },
        "id": "iFtEeKSjnlhJ",
        "outputId": "23ec8cf6-0e9a-4e21-d3b4-12a2b8e7bc47"
      },
      "execution_count": 102,
      "outputs": [
        {
          "output_type": "stream",
          "name": "stdout",
          "text": [
            "\u001b[01m\u001b[Kpi_recursivo_task.cpp:\u001b[m\u001b[K In function ‘\u001b[01m\u001b[Kint main()\u001b[m\u001b[K’:\n",
            "\u001b[01m\u001b[Kpi_recursivo_task.cpp:39:10:\u001b[m\u001b[K \u001b[01;35m\u001b[Kwarning: \u001b[m\u001b[Kunused variable ‘\u001b[01m\u001b[Ki\u001b[m\u001b[K’ [\u001b[01;35m\u001b[K-Wunused-variable\u001b[m\u001b[K]\n",
            "   39 |     long \u001b[01;35m\u001b[Ki\u001b[m\u001b[K;\n",
            "      |          \u001b[01;35m\u001b[K^\u001b[m\u001b[K\n"
          ]
        }
      ]
    },
    {
      "cell_type": "code",
      "source": [
        "!./pi_recursivo_task"
      ],
      "metadata": {
        "colab": {
          "base_uri": "https://localhost:8080/"
        },
        "id": "L2gO1kMbn-Wn",
        "outputId": "3e0c5940-1e41-49c5-9092-828f73e29bde"
      },
      "execution_count": 103,
      "outputs": [
        {
          "output_type": "stream",
          "name": "stdout",
          "text": [
            "for 2147483648 steps pi = 3.14159265358977 in 32.4873357309998 secs\n"
          ]
        }
      ]
    },
    {
      "cell_type": "markdown",
      "source": [
        "### **MISTURADO**"
      ],
      "metadata": {
        "id": "Wlc8OO8erWuo"
      }
    },
    {
      "cell_type": "code",
      "source": [
        "%%writefile pi_recursivo_mixed.cpp\n",
        "# include <omp.h>\n",
        "# include <iostream>\n",
        "# include <iomanip>\n",
        "static long num_steps = 1024l*1024*1024*2;\n",
        "\n",
        "# define MIN_BLK  1024*1024*256\n",
        "\n",
        "double sum = 0;\n",
        "\n",
        "void pi_r(long Nstart, long Nfinish, double step) {\n",
        "    long i,iblk;\n",
        "    if (Nfinish-Nstart < MIN_BLK){\n",
        "        #pragma omp parallel for reduction(+ : sum)\n",
        "        for (i = Nstart; i < Nfinish; i++){\n",
        "            double x = (i+0.5)*step;\n",
        "            sum += 4.0/(1.0+x*x); \n",
        "        }\n",
        "    } else {\n",
        "        // #pragma omp parallel\n",
        "        // #pragma omp master\n",
        "        #pragma omp single // vai ser o coordenador das duas execuções\n",
        "        {\n",
        "          iblk = Nfinish-Nstart;\n",
        "\n",
        "          #pragma omp task\n",
        "          {\n",
        "                pi_r(Nstart,Nfinish-iblk/2,step);\n",
        "          }\n",
        "\n",
        "          # pragma omp task\n",
        "          {\n",
        "                pi_r(Nfinish-iblk/2, Nfinish,step);\n",
        "          }\n",
        "        }\n",
        "    }\n",
        "}\n",
        "\n",
        "int main () {\n",
        "    long i;\n",
        "    double step, pi;\n",
        "    double init_time, final_time;\n",
        "    step = 1.0/(double) num_steps;\n",
        "    init_time = omp_get_wtime();\n",
        "    pi_r(0, num_steps, step);\n",
        "    pi = step * sum;\n",
        "    final_time = omp_get_wtime() - init_time;\n",
        "\n",
        "    std::cout << \"for \" << num_steps << \" steps pi = \" << std::setprecision(15) << pi << \" in \" << final_time << \" secs\\n\";\n",
        "}"
      ],
      "metadata": {
        "colab": {
          "base_uri": "https://localhost:8080/"
        },
        "id": "un9MuDxmrZBw",
        "outputId": "d2eb1f22-230e-4ee1-8344-d7bb73e95fdf"
      },
      "execution_count": 104,
      "outputs": [
        {
          "output_type": "stream",
          "name": "stdout",
          "text": [
            "Writing pi_recursivo_mixed.cpp\n"
          ]
        }
      ]
    },
    {
      "cell_type": "code",
      "source": [
        "!g++ -Wall -fopenmp pi_recursivo_mixed.cpp -o pi_recursivo_mixed"
      ],
      "metadata": {
        "colab": {
          "base_uri": "https://localhost:8080/"
        },
        "id": "VX10_rABreLs",
        "outputId": "3f3d2c9d-5fd3-4d4d-db0c-3bf1e2768885"
      },
      "execution_count": 105,
      "outputs": [
        {
          "output_type": "stream",
          "name": "stdout",
          "text": [
            "\u001b[01m\u001b[Kpi_recursivo_mixed.cpp:\u001b[m\u001b[K In function ‘\u001b[01m\u001b[Kint main()\u001b[m\u001b[K’:\n",
            "\u001b[01m\u001b[Kpi_recursivo_mixed.cpp:39:10:\u001b[m\u001b[K \u001b[01;35m\u001b[Kwarning: \u001b[m\u001b[Kunused variable ‘\u001b[01m\u001b[Ki\u001b[m\u001b[K’ [\u001b[01;35m\u001b[K-Wunused-variable\u001b[m\u001b[K]\n",
            "   39 |     long \u001b[01;35m\u001b[Ki\u001b[m\u001b[K;\n",
            "      |          \u001b[01;35m\u001b[K^\u001b[m\u001b[K\n"
          ]
        }
      ]
    },
    {
      "cell_type": "code",
      "source": [
        "!./pi_recursivo_mixed"
      ],
      "metadata": {
        "colab": {
          "base_uri": "https://localhost:8080/"
        },
        "id": "NChbye0HrhhZ",
        "outputId": "f7721ace-b632-449c-92c7-0486c293a500"
      },
      "execution_count": 106,
      "outputs": [
        {
          "output_type": "stream",
          "name": "stdout",
          "text": [
            "for 2147483648 steps pi = 3.14159265358977 in 17.939588489 secs\n"
          ]
        }
      ]
    },
    {
      "cell_type": "markdown",
      "source": [
        "### **Efeitos Colaterais**\n",
        "\n",
        "Agora que já conseguimos resolver um problema um pouco mais complexo usando abordagens diferentes, vamos aumentar um pouco mais a complexidade dos problemas tratados.\n",
        "\n",
        "No código pi_recursivo.cpp tínhamos uma variável global que podia ser eliminada do código mudando a função recursiva. Isso, porém, nem sempre é possível e precisamos lidar com estas situações.\n",
        "\n",
        "### **Um primeiro teste**\n",
        "\n",
        "Vamos iniciar trabalhando com o seguinte trecho de código (arquivo vetor_insert.cpp):\n",
        "\n",
        "``` cpp\n",
        "std::vector<double> vec;\n",
        "for (int i = 0; i < N; i++) {\n",
        "    vec.push_back(conta_complexa(i));\n",
        "}\n",
        "```\n",
        "\n",
        "Vamos supor agora que usaremos o seguinte comando para paralelizar o código acima usando OpenMP:\n",
        "\n",
        "``` cpp\n",
        "#pragma omp parallel for\n",
        "```\n",
        "\n",
        "A variável i é\n",
        "\n",
        "**R:** private\n",
        "\n",
        "A variável vec é\n",
        "\n",
        "**R:** shared\n",
        "\n",
        "### **Question**\n",
        "\n",
        "O código paralelizado rodaria sem dar erros? Os resultados seriam os esperados?\n",
        "\n",
        "Não, o código acima dá erro ao executar."
      ],
      "metadata": {
        "id": "DPkwlTbKr3ub"
      }
    },
    {
      "cell_type": "code",
      "source": [
        "%%writefile vetor_insert.cpp\n",
        "\n",
        "#include <vector>\n",
        "#include <iostream>\n",
        "#include <unistd.h>\n",
        "#include <omp.h>\n",
        "\n",
        "\n",
        "double conta_complexa(int i) {\n",
        "\treturn 2 * i;\n",
        "}\n",
        "\n",
        "int main() {\n",
        "\tint N = 10000; \n",
        "\tstd::vector<double> vec;\n",
        "\t#pragma omp parallel for  private(i) shared(vec)\n",
        "\tfor (int i = 0; i < N; i++) {\n",
        "\t\tvec.push_back(conta_complexa(i));\n",
        "\t}\n",
        "\t\t\n",
        "\tfor (int i = 0; i < N; i++) {\n",
        "\t\tstd::cout << vec[i] << \" \";\n",
        "\t\t// std::cout << i << \" \";\n",
        "\t}\n",
        "\t\n",
        "\treturn 0;\n",
        "}\n",
        "\n",
        "\n",
        "// Ao usar a cláusula default(none), o compilador OpenMP exige que todas as variáveis ​​sejam especificadas explicitamente como\n",
        "//  compartilhadas ou privadas usando as cláusulas shared ou private, respectivamente. Isso ajuda a tornar o código mais seguro e menos\n",
        "//   suscetível a bugs de concorrência."
      ],
      "metadata": {
        "colab": {
          "base_uri": "https://localhost:8080/"
        },
        "id": "741UFouQri52",
        "outputId": "6dfe10a8-e1e9-4a8b-8135-43f289594f26"
      },
      "execution_count": 110,
      "outputs": [
        {
          "output_type": "stream",
          "name": "stdout",
          "text": [
            "Overwriting vetor_insert.cpp\n"
          ]
        }
      ]
    },
    {
      "cell_type": "code",
      "source": [
        "!g++ -Wall -fopenmp vetor_insert.cpp -o vetor_insert"
      ],
      "metadata": {
        "colab": {
          "base_uri": "https://localhost:8080/"
        },
        "id": "o02bnki_sePd",
        "outputId": "1571b275-b15a-4403-96d1-22722a36868e"
      },
      "execution_count": 111,
      "outputs": [
        {
          "output_type": "stream",
          "name": "stdout",
          "text": [
            "\u001b[01m\u001b[Kvetor_insert.cpp:\u001b[m\u001b[K In function ‘\u001b[01m\u001b[Kint main()\u001b[m\u001b[K’:\n",
            "\u001b[01m\u001b[Kvetor_insert.cpp:15:36:\u001b[m\u001b[K \u001b[01;31m\u001b[Kerror: \u001b[m\u001b[K‘\u001b[01m\u001b[Ki\u001b[m\u001b[K’ has not been declared\n",
            "   15 |  #pragma omp parallel for  private(\u001b[01;31m\u001b[Ki\u001b[m\u001b[K) shared(vec)\n",
            "      |                                    \u001b[01;31m\u001b[K^\u001b[m\u001b[K\n"
          ]
        }
      ]
    },
    {
      "cell_type": "code",
      "source": [
        "!./vetor_insert"
      ],
      "metadata": {
        "colab": {
          "base_uri": "https://localhost:8080/"
        },
        "id": "6CeKxwMnshoO",
        "outputId": "27ddfc63-0b01-4ac3-999d-e7108ece807c"
      },
      "execution_count": 112,
      "outputs": [
        {
          "output_type": "stream",
          "name": "stdout",
          "text": [
            "double free or corruption (!prev)\n"
          ]
        }
      ]
    },
    {
      "cell_type": "markdown",
      "source": [
        "### **Seções críticas**\n",
        "\n",
        "Antes de começar, vamos aprender mais um aspecto de OpenMP: diretivas para compartilhamento de dados. Já vimos as 3 principais opções:\n",
        "\n",
        "- shared - compartilhado entre threads\n",
        "- private - privados entre threads\n",
        "- firstprivate - Especifica que cada thread deve ter sua própria instância de uma variável e que a variável deve ser inicializada com o valor da variável antes da seção paralela.\n",
        "\n",
        "Podemos forçar a especificação de diretivas de compartilhamento para todas as variáveis usadas nas construções omp parallel, omp task e omp parallel for.\n",
        "\n",
        "**Tip**\n",
        "\n",
        "Ao adicionarmos default(none) logo após as diretivas acima precisaremos especificar, para cada variável usada, sua diretiva de compartilhamento. Isso torna muito mais fácil identificar casos de compartilhamento indevido de dados.\n",
        "\n",
        "A partir desse ponto estaremos supondo que todo código criado usará default(none).\n",
        "\n",
        "A primeira abordagem usada terá a missão de indicar que um conjunto de linhas contém uma operação que possui efeitos colaterais. Dessa maneira, podemos evitar conflitos se só permitirmos que essa região rode em uma thread por vez.\n",
        "\n",
        "Fazemos isso usando a diretiva omp critical:\n",
        "\n",
        "``` cpp\n",
        "#pragma omp critical\n",
        "{\n",
        "    // código aqui dentro roda somente em uma thread por vez.\n",
        "}\n",
        "```\n",
        "\n",
        "Se duas threads chegam ao mesmo tempo no bloco critical, uma delas ficará esperando até a outra acabar o bloco. Quando isso ocorrer a thread que esperou poderá prosseguir. Vamos tentar aplicar isso ao código de vetor_insert.cpp.\n",
        "\n"
      ],
      "metadata": {
        "id": "kpeb3TMotPY4"
      }
    },
    {
      "cell_type": "code",
      "source": [
        "%%writefile vetor_insert_critical.cpp\n",
        "\n",
        "#include <vector>\n",
        "#include <iostream>\n",
        "#include <unistd.h>\n",
        "#include <omp.h>\n",
        "#include <chrono>\n",
        "\n",
        "\n",
        "double conta_complexa(int i) {\n",
        "\treturn 2 * i;\n",
        "}\n",
        "\n",
        "int main() {\n",
        "  auto t_start = std::chrono::high_resolution_clock::now();\n",
        "\n",
        "\tint N = 10000; \n",
        "\tstd::vector<double> vec;\n",
        "  int i = 0;\n",
        "\t#pragma omp parallel for default(none) private(i) shared(vec) firstprivate(N)\n",
        "\tfor (i = 0; i < N; i++) {\n",
        "    # pragma omp critical\n",
        "    {\n",
        "\t\t  vec.push_back(conta_complexa(i));\n",
        "    }\n",
        "\t}\n",
        "\t\t\n",
        "\tfor (int i = 0; i < N; i++) {\n",
        "\t\tstd::cout << vec[i] << \" \";\n",
        "\t\t// std::cout << i << \" \";\n",
        "\t}\n",
        "\n",
        "  std::cout << std::endl;\n",
        "  auto t_end = std::chrono::high_resolution_clock::now();\n",
        "\n",
        "  double elapsed_time_ms = std::chrono::duration<double, std::milli>(t_end-t_start).count();\n",
        "  double elapsed_time_s = elapsed_time_ms/1000;\n",
        "  std::cout << \"Tempo de execução: \" << elapsed_time_s << \" s\" << std::endl;\n",
        "\t\n",
        "\treturn 0;\n",
        "}\n",
        "\n",
        "\n",
        "// Ao usar a cláusula default(none), o compilador OpenMP exige que todas as variáveis ​​sejam especificadas explicitamente como\n",
        "//  compartilhadas ou privadas usando as cláusulas shared ou private, respectivamente. Isso ajuda a tornar o código mais seguro e menos\n",
        "//   suscetível a bugs de concorrência.\n",
        "\n",
        "// firstprivate(N) irá definir N como uma variável privada e copiá-la para cada thread."
      ],
      "metadata": {
        "colab": {
          "base_uri": "https://localhost:8080/"
        },
        "id": "Nj9lVojAtfH1",
        "outputId": "be221ef7-6271-451f-cf8a-40fd081c3344"
      },
      "execution_count": 140,
      "outputs": [
        {
          "output_type": "stream",
          "name": "stdout",
          "text": [
            "Overwriting vetor_insert_critical.cpp\n"
          ]
        }
      ]
    },
    {
      "cell_type": "code",
      "source": [
        "!g++ -Wall -fopenmp vetor_insert_critical.cpp -o vetor_insert_critical"
      ],
      "metadata": {
        "id": "ZRJEVPRbtruM"
      },
      "execution_count": 141,
      "outputs": []
    },
    {
      "cell_type": "code",
      "source": [
        "!./vetor_insert_critical"
      ],
      "metadata": {
        "colab": {
          "base_uri": "https://localhost:8080/"
        },
        "id": "cI-1wD_7twGm",
        "outputId": "27691935-8768-40d1-d75a-55b2bc12a292"
      },
      "execution_count": 142,
      "outputs": [
        {
          "output_type": "stream",
          "name": "stdout",
          "text": [
            "10000 10002 10004 10006 10008 10010 10012 10014 10016 10018 10020 10022 10024 10026 10028 10030 10032 10034 10036 10038 10040 10042 10044 10046 10048 10050 10052 10054 10056 10058 10060 10062 10064 10066 10068 10070 10072 10074 10076 10078 10080 10082 10084 10086 10088 10090 10092 10094 10096 10098 10100 10102 10104 10106 10108 10110 10112 10114 10116 10118 10120 10122 10124 10126 10128 10130 10132 10134 10136 10138 10140 10142 10144 10146 10148 10150 10152 10154 10156 10158 10160 10162 10164 10166 10168 10170 10172 10174 10176 10178 10180 10182 10184 10186 10188 10190 10192 10194 10196 10198 10200 10202 10204 10206 10208 10210 10212 10214 10216 10218 10220 10222 10224 10226 10228 10230 10232 10234 10236 10238 10240 10242 10244 10246 10248 10250 10252 10254 10256 10258 10260 10262 10264 10266 10268 10270 10272 10274 10276 10278 10280 10282 10284 10286 10288 10290 10292 10294 10296 10298 10300 10302 10304 10306 10308 10310 10312 10314 10316 10318 10320 10322 10324 10326 10328 10330 10332 10334 10336 10338 10340 10342 10344 10346 10348 10350 10352 10354 10356 10358 10360 10362 10364 10366 10368 10370 10372 10374 10376 10378 10380 10382 10384 10386 10388 10390 10392 10394 10396 10398 10400 10402 10404 10406 10408 10410 10412 10414 10416 10418 10420 10422 10424 10426 10428 10430 10432 10434 10436 10438 10440 10442 10444 10446 10448 10450 10452 10454 10456 10458 10460 10462 10464 10466 10468 10470 10472 10474 10476 10478 10480 10482 10484 10486 10488 10490 10492 10494 10496 10498 10500 10502 10504 10506 10508 10510 10512 10514 10516 10518 10520 10522 10524 10526 10528 10530 10532 10534 10536 10538 10540 10542 10544 10546 10548 10550 10552 10554 10556 10558 10560 10562 10564 10566 10568 10570 10572 10574 10576 10578 10580 10582 10584 10586 10588 10590 10592 10594 10596 10598 10600 10602 10604 10606 10608 10610 10612 10614 10616 10618 10620 10622 10624 10626 10628 10630 10632 10634 10636 10638 10640 10642 10644 10646 10648 10650 10652 10654 10656 10658 10660 10662 10664 10666 10668 10670 10672 10674 10676 10678 10680 10682 10684 10686 10688 10690 10692 10694 10696 10698 10700 10702 10704 10706 10708 10710 10712 10714 10716 10718 10720 10722 10724 10726 10728 10730 10732 10734 10736 10738 10740 10742 10744 10746 10748 10750 10752 10754 10756 10758 10760 10762 10764 10766 10768 10770 10772 10774 10776 10778 10780 10782 10784 10786 10788 10790 10792 10794 10796 10798 10800 10802 10804 10806 10808 10810 10812 10814 10816 10818 10820 10822 10824 10826 10828 10830 10832 10834 10836 10838 10840 10842 10844 10846 10848 10850 10852 10854 10856 10858 10860 10862 10864 10866 10868 10870 10872 10874 10876 10878 10880 10882 10884 10886 10888 10890 10892 10894 10896 10898 10900 10902 10904 10906 10908 10910 10912 10914 10916 10918 10920 10922 10924 10926 10928 10930 10932 10934 10936 10938 10940 10942 10944 10946 10948 10950 10952 10954 10956 10958 10960 10962 10964 10966 10968 10970 10972 10974 10976 10978 10980 10982 10984 10986 10988 10990 10992 10994 10996 10998 11000 11002 11004 11006 11008 11010 11012 11014 11016 11018 11020 11022 11024 11026 11028 11030 11032 11034 11036 11038 11040 11042 11044 11046 11048 11050 11052 11054 11056 11058 11060 11062 11064 11066 11068 11070 11072 11074 11076 11078 11080 11082 11084 11086 11088 11090 11092 11094 11096 11098 11100 11102 11104 11106 11108 11110 11112 11114 11116 11118 11120 11122 11124 11126 11128 11130 11132 11134 11136 11138 11140 11142 11144 11146 11148 11150 11152 11154 11156 11158 11160 11162 11164 11166 11168 11170 11172 11174 11176 11178 11180 11182 11184 11186 11188 11190 11192 11194 11196 11198 11200 11202 11204 11206 11208 11210 11212 11214 11216 11218 11220 11222 11224 11226 11228 11230 11232 11234 11236 11238 11240 11242 11244 11246 11248 11250 11252 11254 11256 11258 11260 11262 11264 11266 11268 11270 11272 11274 11276 11278 11280 11282 11284 11286 11288 11290 11292 11294 11296 11298 11300 11302 11304 11306 11308 11310 11312 11314 11316 11318 11320 11322 11324 11326 11328 11330 11332 11334 11336 11338 11340 11342 11344 11346 11348 11350 11352 11354 11356 11358 11360 11362 11364 11366 11368 11370 11372 11374 11376 11378 11380 11382 11384 11386 11388 11390 11392 11394 11396 11398 11400 11402 11404 11406 11408 11410 11412 11414 11416 11418 11420 11422 11424 11426 11428 11430 11432 11434 11436 11438 11440 11442 11444 11446 11448 11450 11452 11454 11456 11458 11460 11462 11464 11466 11468 11470 11472 11474 11476 11478 11480 11482 11484 11486 11488 11490 11492 11494 11496 11498 11500 11502 11504 11506 11508 11510 11512 11514 11516 11518 11520 11522 11524 11526 11528 11530 11532 11534 11536 11538 11540 11542 11544 11546 11548 11550 11552 11554 11556 11558 11560 11562 11564 11566 11568 11570 11572 11574 11576 11578 11580 11582 11584 11586 11588 11590 11592 11594 11596 11598 11600 11602 11604 11606 11608 11610 11612 11614 11616 11618 11620 11622 11624 11626 11628 11630 11632 11634 11636 11638 11640 11642 11644 11646 11648 11650 11652 11654 11656 11658 11660 11662 11664 11666 11668 11670 11672 11674 11676 11678 11680 11682 11684 11686 11688 11690 11692 11694 11696 11698 11700 11702 11704 11706 11708 11710 11712 11714 11716 11718 11720 11722 11724 11726 11728 11730 11732 11734 11736 11738 11740 11742 11744 11746 11748 11750 11752 11754 11756 11758 11760 11762 11764 11766 11768 11770 11772 11774 11776 11778 11780 11782 11784 11786 11788 11790 11792 11794 11796 11798 11800 11802 11804 11806 11808 11810 11812 11814 11816 11818 11820 11822 11824 11826 11828 11830 11832 11834 11836 11838 11840 11842 11844 11846 11848 11850 11852 11854 11856 11858 11860 11862 11864 11866 11868 11870 11872 11874 11876 11878 11880 11882 11884 11886 11888 11890 11892 11894 11896 11898 11900 11902 11904 11906 11908 11910 11912 11914 11916 11918 11920 11922 11924 11926 11928 11930 11932 11934 11936 11938 11940 11942 11944 11946 11948 11950 11952 11954 11956 11958 11960 11962 11964 11966 11968 11970 11972 11974 11976 11978 11980 11982 11984 11986 11988 11990 11992 11994 11996 11998 12000 12002 12004 12006 12008 12010 12012 12014 12016 12018 12020 12022 12024 12026 12028 12030 12032 12034 12036 12038 12040 12042 12044 12046 12048 12050 12052 12054 12056 12058 12060 12062 12064 12066 12068 12070 12072 12074 12076 12078 12080 12082 12084 12086 12088 12090 12092 12094 12096 12098 12100 12102 12104 12106 12108 12110 12112 12114 12116 12118 12120 12122 12124 12126 12128 12130 12132 12134 12136 12138 12140 12142 12144 12146 12148 12150 12152 12154 12156 12158 12160 12162 12164 12166 12168 12170 12172 12174 12176 12178 12180 12182 12184 12186 12188 12190 12192 12194 12196 12198 12200 12202 12204 12206 12208 12210 12212 12214 12216 12218 12220 12222 12224 12226 12228 12230 12232 12234 12236 12238 12240 12242 12244 12246 12248 12250 12252 12254 12256 12258 12260 12262 12264 12266 12268 12270 12272 12274 12276 12278 12280 12282 12284 12286 12288 12290 12292 12294 12296 12298 12300 12302 12304 12306 12308 12310 12312 12314 12316 12318 12320 12322 12324 12326 12328 12330 12332 12334 12336 12338 12340 12342 12344 12346 12348 12350 12352 12354 12356 12358 12360 12362 12364 12366 12368 12370 12372 12374 12376 12378 12380 12382 12384 12386 12388 12390 12392 12394 12396 12398 12400 12402 12404 12406 12408 12410 12412 12414 12416 12418 12420 12422 12424 12426 12428 12430 12432 12434 12436 12438 12440 12442 12444 12446 12448 12450 12452 12454 12456 12458 12460 12462 12464 12466 12468 12470 12472 12474 12476 12478 12480 12482 12484 12486 12488 12490 12492 12494 12496 12498 12500 12502 12504 12506 12508 12510 12512 12514 12516 12518 12520 12522 12524 12526 12528 12530 12532 12534 12536 12538 12540 12542 12544 12546 12548 12550 12552 12554 12556 12558 12560 12562 12564 12566 12568 12570 12572 12574 12576 12578 12580 12582 12584 12586 12588 12590 12592 12594 12596 12598 12600 12602 12604 12606 12608 12610 12612 12614 12616 12618 12620 12622 12624 12626 12628 12630 12632 12634 12636 12638 12640 12642 12644 12646 12648 12650 12652 12654 12656 12658 12660 12662 12664 12666 12668 12670 12672 12674 12676 12678 12680 12682 12684 12686 12688 12690 12692 12694 12696 12698 12700 12702 12704 12706 12708 12710 12712 12714 12716 12718 12720 12722 12724 12726 12728 12730 12732 12734 12736 12738 12740 12742 12744 12746 12748 12750 12752 12754 12756 12758 12760 12762 12764 12766 12768 12770 12772 12774 12776 12778 12780 12782 12784 12786 12788 12790 12792 12794 12796 12798 12800 12802 12804 12806 12808 12810 12812 12814 12816 12818 12820 12822 12824 12826 12828 12830 12832 12834 12836 12838 12840 12842 12844 12846 12848 12850 12852 12854 12856 12858 12860 12862 12864 12866 12868 12870 12872 12874 12876 12878 12880 12882 12884 12886 12888 12890 12892 12894 12896 12898 12900 12902 12904 12906 12908 12910 12912 12914 12916 12918 12920 12922 12924 12926 12928 12930 12932 12934 12936 12938 12940 12942 12944 12946 12948 12950 12952 12954 12956 12958 12960 12962 12964 12966 12968 12970 12972 12974 12976 12978 12980 12982 12984 12986 12988 12990 12992 12994 12996 12998 13000 13002 13004 13006 13008 13010 13012 13014 13016 13018 13020 13022 13024 13026 13028 13030 13032 13034 13036 13038 13040 13042 13044 13046 13048 13050 13052 13054 13056 13058 13060 13062 13064 13066 13068 13070 13072 13074 13076 13078 13080 13082 13084 13086 13088 13090 13092 13094 13096 13098 13100 13102 13104 13106 13108 13110 13112 13114 13116 13118 13120 13122 13124 13126 13128 13130 13132 13134 13136 13138 13140 13142 13144 13146 13148 13150 13152 13154 13156 13158 13160 13162 13164 13166 13168 13170 13172 13174 13176 13178 13180 13182 13184 13186 13188 13190 13192 13194 13196 13198 13200 13202 13204 13206 13208 13210 13212 13214 13216 13218 13220 13222 13224 13226 13228 13230 13232 13234 13236 13238 13240 13242 13244 13246 13248 13250 13252 13254 13256 13258 13260 13262 13264 13266 13268 13270 13272 13274 13276 13278 13280 13282 13284 13286 13288 13290 13292 13294 13296 13298 13300 13302 13304 13306 13308 13310 13312 13314 13316 13318 13320 13322 13324 13326 13328 13330 13332 13334 13336 13338 13340 13342 13344 13346 13348 13350 13352 13354 13356 13358 13360 13362 13364 13366 13368 13370 13372 13374 13376 13378 13380 13382 13384 13386 13388 13390 13392 13394 13396 13398 13400 13402 13404 13406 13408 13410 13412 13414 13416 13418 13420 13422 13424 13426 13428 13430 13432 13434 13436 13438 13440 13442 13444 13446 13448 13450 13452 13454 13456 13458 13460 13462 13464 13466 13468 13470 13472 13474 13476 13478 13480 13482 13484 13486 13488 13490 13492 13494 13496 13498 13500 13502 13504 13506 13508 13510 13512 13514 13516 13518 13520 13522 13524 13526 13528 13530 13532 13534 13536 13538 13540 13542 13544 13546 13548 13550 13552 13554 13556 13558 13560 13562 13564 13566 13568 13570 13572 13574 13576 13578 13580 13582 13584 13586 13588 13590 13592 13594 13596 13598 13600 13602 13604 13606 13608 13610 13612 13614 13616 13618 13620 13622 13624 13626 13628 13630 13632 13634 13636 13638 13640 13642 13644 13646 13648 13650 13652 13654 13656 13658 13660 13662 13664 13666 13668 13670 13672 13674 13676 13678 13680 13682 13684 13686 13688 13690 13692 13694 13696 13698 13700 13702 13704 13706 13708 13710 13712 13714 13716 13718 13720 13722 13724 13726 13728 13730 13732 13734 13736 13738 13740 13742 13744 13746 13748 13750 13752 13754 13756 13758 13760 13762 13764 13766 13768 13770 13772 13774 13776 13778 13780 13782 13784 13786 13788 13790 13792 13794 13796 13798 13800 13802 13804 13806 13808 13810 13812 13814 13816 13818 13820 13822 13824 13826 13828 13830 13832 13834 13836 13838 13840 13842 13844 13846 13848 13850 13852 13854 13856 13858 13860 13862 13864 13866 13868 13870 13872 13874 13876 13878 13880 13882 13884 13886 13888 13890 13892 13894 13896 13898 13900 13902 13904 13906 13908 13910 13912 13914 13916 13918 13920 13922 13924 13926 13928 13930 13932 13934 13936 13938 13940 13942 13944 13946 13948 13950 13952 13954 13956 13958 13960 13962 13964 13966 13968 13970 13972 13974 13976 13978 13980 13982 13984 13986 13988 13990 13992 13994 13996 13998 14000 14002 14004 14006 14008 14010 14012 14014 14016 14018 14020 14022 14024 14026 14028 14030 14032 14034 14036 14038 14040 14042 14044 14046 14048 14050 14052 14054 14056 14058 14060 14062 14064 14066 14068 14070 14072 14074 14076 14078 14080 14082 14084 14086 14088 14090 14092 14094 14096 14098 14100 14102 14104 14106 14108 14110 14112 14114 14116 14118 14120 14122 14124 14126 14128 14130 14132 14134 14136 14138 14140 14142 14144 14146 14148 14150 14152 14154 14156 14158 14160 14162 14164 14166 14168 14170 14172 14174 14176 14178 14180 14182 14184 14186 14188 14190 14192 14194 14196 14198 14200 14202 14204 14206 14208 14210 14212 14214 14216 14218 14220 14222 14224 14226 14228 14230 14232 14234 14236 14238 14240 14242 14244 14246 14248 14250 14252 14254 14256 14258 14260 14262 14264 14266 14268 14270 14272 14274 14276 14278 14280 14282 14284 14286 14288 14290 14292 14294 14296 14298 14300 14302 14304 14306 14308 14310 14312 14314 14316 14318 14320 14322 14324 14326 14328 14330 14332 14334 14336 14338 14340 14342 14344 14346 14348 14350 14352 14354 14356 14358 14360 14362 14364 14366 14368 14370 14372 14374 14376 14378 14380 14382 14384 14386 14388 14390 14392 14394 14396 14398 14400 14402 14404 14406 14408 14410 14412 14414 14416 14418 14420 14422 14424 14426 14428 14430 14432 14434 14436 14438 14440 14442 14444 14446 14448 14450 14452 14454 14456 14458 14460 14462 14464 14466 14468 14470 14472 14474 14476 14478 14480 14482 14484 14486 14488 14490 14492 14494 14496 14498 14500 14502 14504 14506 14508 14510 14512 14514 14516 14518 14520 14522 14524 14526 14528 14530 14532 14534 14536 14538 14540 14542 14544 14546 14548 14550 14552 14554 14556 14558 14560 14562 14564 14566 14568 14570 14572 14574 14576 14578 14580 14582 14584 14586 14588 14590 14592 14594 14596 14598 14600 14602 14604 14606 14608 14610 14612 14614 14616 14618 14620 14622 14624 14626 14628 14630 14632 14634 14636 14638 14640 14642 14644 14646 14648 14650 14652 14654 14656 14658 14660 14662 14664 14666 14668 14670 14672 14674 14676 14678 14680 14682 14684 14686 14688 14690 14692 14694 14696 14698 14700 14702 14704 14706 14708 14710 14712 14714 14716 14718 14720 14722 14724 14726 14728 14730 14732 14734 14736 14738 14740 14742 14744 14746 14748 14750 14752 14754 14756 14758 14760 14762 14764 14766 14768 14770 14772 14774 14776 14778 14780 14782 14784 14786 14788 14790 14792 14794 14796 14798 14800 14802 14804 14806 14808 14810 14812 14814 14816 14818 14820 14822 14824 14826 14828 14830 14832 14834 14836 14838 14840 14842 14844 14846 14848 14850 14852 14854 14856 14858 14860 14862 14864 14866 14868 14870 14872 14874 14876 14878 14880 14882 14884 14886 14888 14890 14892 14894 14896 14898 14900 14902 14904 14906 14908 14910 14912 14914 14916 14918 14920 14922 14924 14926 14928 14930 14932 14934 14936 14938 14940 14942 14944 14946 14948 14950 14952 14954 14956 14958 14960 14962 14964 14966 14968 14970 14972 14974 14976 14978 14980 14982 14984 14986 14988 14990 14992 14994 14996 14998 15000 15002 15004 15006 15008 15010 15012 15014 15016 15018 15020 15022 15024 15026 15028 15030 15032 15034 15036 15038 15040 15042 15044 15046 15048 15050 15052 15054 15056 15058 15060 15062 15064 15066 15068 15070 15072 15074 15076 15078 15080 15082 15084 15086 15088 15090 15092 15094 15096 15098 15100 15102 15104 15106 15108 15110 15112 15114 15116 15118 15120 15122 15124 15126 15128 15130 15132 15134 15136 15138 15140 15142 15144 15146 15148 15150 15152 15154 15156 15158 15160 15162 15164 15166 15168 15170 15172 15174 15176 15178 15180 15182 15184 15186 15188 15190 15192 15194 15196 15198 15200 15202 15204 15206 15208 15210 15212 15214 15216 15218 15220 15222 15224 15226 15228 15230 15232 15234 15236 15238 15240 15242 15244 15246 15248 15250 15252 15254 15256 15258 15260 15262 15264 15266 15268 15270 15272 15274 15276 15278 15280 15282 15284 15286 15288 15290 15292 15294 15296 15298 15300 15302 15304 15306 15308 15310 15312 15314 15316 15318 15320 15322 15324 15326 15328 15330 15332 15334 15336 15338 15340 15342 15344 15346 15348 15350 15352 15354 15356 15358 15360 15362 15364 15366 15368 15370 15372 15374 15376 15378 15380 15382 15384 15386 15388 15390 15392 15394 15396 15398 15400 15402 15404 15406 15408 15410 15412 15414 15416 15418 15420 15422 15424 15426 15428 15430 15432 15434 15436 15438 15440 15442 15444 15446 15448 15450 15452 15454 15456 15458 15460 15462 15464 15466 15468 15470 15472 15474 15476 15478 15480 15482 15484 15486 15488 15490 15492 15494 15496 15498 15500 15502 15504 15506 15508 15510 15512 15514 15516 15518 15520 15522 15524 15526 15528 15530 15532 15534 15536 15538 15540 15542 15544 15546 15548 15550 15552 15554 15556 15558 15560 15562 15564 15566 15568 15570 15572 15574 15576 15578 15580 15582 15584 15586 15588 15590 15592 15594 15596 15598 15600 15602 15604 15606 15608 15610 15612 15614 15616 15618 15620 15622 15624 15626 15628 15630 15632 15634 15636 15638 15640 15642 15644 15646 15648 15650 15652 15654 15656 15658 15660 15662 15664 15666 15668 15670 15672 15674 15676 15678 15680 15682 15684 15686 15688 15690 15692 15694 15696 15698 15700 15702 15704 15706 15708 15710 15712 15714 15716 15718 15720 15722 15724 15726 15728 15730 15732 15734 15736 15738 15740 15742 15744 15746 15748 15750 15752 15754 15756 15758 15760 15762 15764 15766 15768 15770 15772 15774 15776 15778 15780 15782 15784 15786 15788 15790 15792 15794 15796 15798 15800 15802 15804 15806 15808 15810 15812 15814 15816 15818 15820 15822 15824 15826 15828 15830 15832 15834 15836 15838 15840 15842 15844 15846 15848 15850 15852 15854 15856 15858 15860 15862 15864 15866 15868 15870 15872 15874 15876 15878 15880 15882 15884 15886 15888 15890 15892 15894 15896 15898 15900 15902 15904 15906 15908 15910 15912 15914 15916 15918 15920 15922 15924 15926 15928 15930 15932 15934 15936 15938 15940 15942 15944 15946 15948 15950 15952 15954 15956 15958 15960 15962 15964 15966 15968 15970 15972 15974 15976 15978 15980 15982 15984 15986 15988 15990 15992 15994 15996 15998 16000 16002 16004 16006 16008 16010 16012 16014 16016 16018 16020 16022 16024 16026 16028 16030 16032 16034 16036 16038 16040 16042 16044 16046 16048 16050 16052 16054 16056 16058 16060 16062 16064 16066 16068 16070 16072 16074 16076 16078 16080 16082 16084 16086 16088 16090 16092 16094 16096 16098 16100 16102 16104 16106 16108 16110 16112 16114 16116 16118 16120 16122 16124 16126 16128 16130 16132 16134 16136 16138 16140 16142 16144 16146 16148 16150 16152 16154 16156 16158 16160 16162 16164 16166 16168 16170 16172 16174 16176 16178 16180 16182 16184 16186 16188 16190 16192 16194 16196 16198 16200 16202 16204 16206 16208 16210 16212 16214 16216 16218 16220 16222 16224 16226 16228 16230 16232 16234 16236 16238 16240 16242 16244 16246 16248 16250 16252 16254 16256 16258 16260 16262 16264 16266 16268 16270 16272 16274 16276 16278 16280 16282 16284 16286 16288 16290 16292 16294 16296 16298 16300 16302 16304 16306 16308 16310 16312 16314 16316 16318 16320 16322 16324 16326 16328 16330 16332 16334 16336 16338 16340 16342 16344 16346 16348 16350 16352 16354 16356 16358 16360 16362 16364 16366 16368 16370 16372 16374 16376 16378 16380 16382 16384 16386 16388 16390 16392 16394 16396 16398 16400 16402 16404 16406 16408 16410 16412 16414 16416 16418 16420 16422 16424 16426 16428 16430 16432 16434 16436 16438 16440 16442 16444 16446 16448 16450 16452 16454 16456 16458 16460 16462 16464 16466 16468 16470 16472 16474 16476 16478 16480 16482 16484 16486 16488 16490 16492 16494 16496 16498 16500 16502 16504 16506 16508 16510 16512 16514 16516 16518 16520 16522 16524 16526 16528 16530 16532 16534 16536 16538 16540 16542 16544 16546 16548 16550 16552 16554 16556 16558 16560 16562 16564 16566 16568 16570 16572 16574 16576 16578 16580 16582 16584 16586 16588 16590 16592 16594 16596 16598 16600 16602 16604 16606 16608 16610 16612 16614 16616 16618 16620 16622 16624 16626 16628 16630 16632 16634 16636 16638 16640 16642 16644 16646 16648 16650 16652 16654 16656 16658 16660 16662 16664 16666 16668 16670 16672 16674 16676 16678 16680 16682 16684 16686 16688 16690 16692 16694 16696 16698 16700 16702 16704 16706 16708 16710 16712 16714 16716 16718 16720 16722 16724 16726 16728 16730 16732 16734 16736 16738 16740 16742 16744 16746 16748 16750 16752 16754 16756 16758 16760 16762 16764 16766 16768 16770 16772 16774 16776 16778 16780 16782 16784 16786 16788 16790 16792 16794 16796 16798 16800 16802 16804 16806 16808 16810 16812 16814 16816 16818 16820 16822 16824 16826 16828 16830 16832 16834 16836 16838 16840 16842 16844 16846 16848 16850 16852 16854 16856 16858 16860 16862 16864 16866 16868 16870 16872 16874 16876 16878 16880 16882 16884 16886 16888 16890 16892 16894 16896 16898 16900 16902 16904 16906 16908 16910 16912 16914 16916 16918 16920 16922 16924 16926 16928 16930 16932 16934 16936 16938 16940 16942 16944 16946 16948 16950 16952 16954 16956 16958 16960 16962 16964 16966 16968 16970 16972 16974 16976 16978 16980 16982 16984 16986 16988 16990 16992 16994 16996 16998 17000 17002 17004 17006 17008 17010 17012 17014 17016 17018 17020 17022 17024 17026 17028 17030 17032 17034 17036 17038 17040 17042 17044 17046 17048 17050 17052 17054 17056 17058 17060 17062 17064 17066 17068 17070 17072 17074 17076 17078 17080 17082 17084 17086 17088 17090 17092 17094 17096 17098 17100 17102 17104 17106 17108 17110 17112 17114 17116 17118 17120 17122 17124 17126 17128 17130 17132 17134 17136 17138 17140 17142 17144 17146 17148 17150 17152 17154 17156 17158 17160 17162 17164 17166 17168 17170 17172 17174 17176 17178 17180 17182 17184 17186 17188 17190 17192 17194 17196 17198 17200 17202 17204 17206 17208 17210 17212 17214 17216 17218 17220 17222 17224 17226 17228 17230 17232 17234 17236 17238 17240 17242 17244 17246 17248 17250 17252 17254 17256 17258 17260 17262 17264 17266 17268 17270 17272 17274 17276 17278 17280 17282 17284 17286 17288 17290 17292 17294 17296 17298 17300 17302 17304 17306 17308 17310 17312 17314 17316 17318 17320 17322 17324 17326 17328 17330 17332 17334 17336 17338 17340 17342 17344 17346 17348 17350 17352 17354 17356 17358 17360 17362 17364 17366 17368 17370 17372 17374 17376 17378 17380 17382 17384 17386 17388 17390 17392 17394 17396 17398 17400 17402 17404 17406 17408 17410 17412 17414 17416 17418 17420 17422 17424 17426 17428 17430 17432 17434 17436 17438 17440 17442 17444 17446 17448 17450 17452 17454 17456 17458 17460 17462 17464 17466 17468 17470 17472 17474 17476 17478 17480 17482 17484 17486 17488 17490 17492 17494 17496 17498 17500 17502 17504 17506 17508 17510 17512 17514 17516 17518 17520 17522 17524 17526 17528 17530 17532 17534 17536 17538 17540 17542 17544 17546 17548 17550 17552 17554 17556 17558 17560 17562 17564 17566 17568 17570 17572 17574 17576 17578 17580 17582 17584 17586 17588 17590 17592 17594 17596 17598 17600 17602 17604 17606 17608 17610 17612 17614 17616 17618 17620 17622 17624 17626 17628 17630 17632 17634 17636 17638 17640 17642 17644 17646 17648 17650 17652 17654 17656 17658 17660 17662 17664 17666 17668 17670 17672 17674 17676 17678 17680 17682 17684 17686 17688 17690 17692 17694 17696 17698 17700 17702 17704 17706 17708 17710 17712 17714 17716 17718 17720 17722 17724 17726 17728 17730 17732 17734 17736 17738 17740 17742 17744 17746 17748 17750 17752 17754 17756 17758 17760 17762 17764 17766 17768 17770 17772 17774 17776 17778 17780 17782 17784 17786 17788 17790 17792 17794 17796 17798 17800 17802 17804 17806 17808 17810 17812 17814 17816 17818 17820 17822 17824 17826 17828 17830 17832 17834 17836 17838 17840 17842 17844 17846 17848 17850 17852 17854 17856 17858 17860 17862 17864 17866 17868 17870 17872 17874 17876 17878 17880 17882 17884 17886 17888 17890 17892 17894 17896 17898 17900 17902 17904 17906 17908 17910 17912 17914 17916 17918 17920 17922 17924 17926 17928 17930 17932 17934 17936 17938 17940 17942 17944 17946 17948 17950 17952 17954 17956 17958 17960 17962 17964 17966 17968 17970 17972 17974 17976 17978 17980 17982 17984 17986 17988 17990 17992 17994 17996 17998 18000 18002 18004 18006 18008 18010 18012 18014 18016 18018 18020 18022 18024 18026 18028 18030 18032 18034 18036 18038 18040 18042 18044 18046 18048 18050 18052 18054 18056 18058 18060 18062 18064 18066 18068 18070 18072 18074 18076 18078 18080 18082 18084 18086 18088 18090 18092 18094 18096 18098 18100 18102 18104 18106 18108 18110 18112 18114 18116 18118 18120 18122 18124 18126 18128 18130 18132 18134 18136 18138 18140 18142 18144 18146 18148 18150 18152 18154 18156 18158 18160 18162 18164 18166 18168 18170 18172 18174 18176 18178 18180 18182 18184 18186 18188 18190 18192 18194 18196 18198 18200 18202 18204 18206 18208 18210 18212 18214 18216 18218 18220 18222 18224 18226 18228 18230 18232 18234 18236 18238 18240 18242 18244 18246 18248 18250 18252 18254 18256 18258 18260 18262 18264 18266 18268 18270 18272 18274 18276 18278 18280 18282 18284 18286 18288 18290 18292 18294 18296 18298 18300 18302 18304 18306 18308 18310 18312 18314 18316 18318 18320 18322 18324 18326 18328 18330 18332 18334 18336 18338 18340 18342 18344 18346 18348 18350 18352 18354 18356 18358 18360 18362 18364 18366 18368 18370 18372 18374 18376 18378 18380 18382 18384 18386 18388 18390 18392 18394 18396 18398 18400 18402 18404 18406 18408 18410 18412 18414 18416 18418 18420 18422 18424 18426 18428 18430 18432 18434 18436 18438 18440 18442 18444 18446 18448 18450 18452 18454 18456 18458 18460 18462 18464 18466 18468 18470 18472 18474 18476 18478 18480 18482 18484 18486 18488 18490 18492 18494 18496 18498 18500 18502 18504 18506 18508 18510 18512 18514 18516 18518 18520 18522 18524 18526 18528 18530 18532 18534 18536 18538 18540 18542 18544 18546 18548 18550 18552 18554 18556 18558 18560 18562 18564 18566 18568 18570 18572 18574 18576 18578 18580 18582 18584 18586 18588 18590 18592 18594 18596 18598 18600 18602 18604 18606 18608 18610 18612 18614 18616 18618 18620 18622 18624 18626 18628 18630 18632 18634 18636 18638 18640 18642 18644 18646 18648 18650 18652 18654 18656 18658 18660 18662 18664 18666 18668 18670 18672 18674 18676 18678 18680 18682 18684 18686 18688 18690 18692 18694 18696 18698 18700 18702 18704 18706 18708 18710 18712 18714 18716 18718 18720 18722 18724 18726 18728 18730 18732 18734 18736 18738 18740 18742 18744 18746 18748 18750 18752 18754 18756 18758 18760 18762 18764 18766 18768 18770 18772 18774 18776 18778 18780 18782 18784 18786 18788 18790 18792 18794 18796 18798 18800 18802 18804 18806 18808 18810 18812 18814 18816 18818 18820 18822 18824 18826 18828 18830 18832 18834 18836 18838 18840 18842 18844 18846 18848 18850 18852 18854 18856 18858 18860 18862 18864 18866 18868 18870 18872 18874 18876 18878 18880 18882 18884 18886 18888 18890 18892 18894 18896 18898 18900 18902 18904 18906 18908 18910 18912 18914 18916 18918 18920 18922 18924 18926 18928 18930 18932 18934 18936 18938 18940 18942 18944 18946 18948 18950 18952 18954 18956 18958 18960 18962 18964 18966 18968 18970 18972 18974 18976 18978 18980 18982 18984 18986 18988 18990 18992 18994 18996 18998 19000 19002 19004 19006 19008 19010 19012 19014 19016 19018 19020 19022 19024 19026 19028 19030 19032 19034 19036 19038 19040 19042 19044 19046 19048 19050 19052 19054 19056 19058 19060 19062 19064 19066 19068 19070 19072 19074 19076 19078 19080 19082 19084 19086 19088 19090 19092 19094 19096 19098 19100 19102 19104 19106 19108 19110 19112 19114 19116 19118 19120 19122 19124 19126 19128 19130 19132 19134 19136 19138 19140 19142 19144 19146 19148 19150 19152 19154 19156 19158 19160 19162 19164 19166 19168 19170 19172 19174 19176 19178 19180 19182 19184 19186 19188 19190 19192 19194 19196 19198 19200 19202 19204 19206 19208 19210 19212 19214 19216 19218 19220 19222 19224 19226 19228 19230 19232 19234 19236 19238 19240 19242 19244 19246 19248 19250 19252 19254 19256 19258 19260 19262 19264 19266 19268 19270 19272 19274 19276 19278 19280 19282 19284 19286 19288 19290 19292 19294 19296 19298 19300 19302 19304 19306 19308 19310 19312 19314 19316 19318 19320 19322 19324 19326 19328 19330 19332 19334 19336 19338 19340 19342 19344 19346 19348 19350 19352 19354 19356 19358 19360 19362 19364 19366 19368 19370 19372 19374 19376 19378 19380 19382 19384 19386 19388 19390 19392 19394 19396 19398 19400 19402 19404 19406 19408 19410 19412 19414 19416 19418 19420 19422 19424 19426 19428 19430 19432 19434 19436 19438 19440 19442 19444 19446 19448 19450 19452 19454 19456 19458 19460 19462 19464 19466 19468 19470 19472 19474 19476 19478 19480 19482 19484 19486 19488 19490 19492 19494 19496 19498 19500 19502 19504 19506 19508 19510 19512 19514 19516 19518 19520 19522 19524 19526 19528 19530 19532 19534 19536 19538 19540 19542 19544 19546 19548 19550 19552 19554 19556 19558 19560 19562 19564 19566 19568 19570 19572 19574 19576 19578 19580 19582 19584 19586 19588 19590 19592 19594 19596 19598 19600 19602 19604 19606 19608 19610 19612 19614 19616 19618 19620 19622 19624 19626 19628 19630 19632 19634 19636 19638 19640 19642 19644 19646 19648 19650 19652 19654 19656 19658 19660 19662 19664 19666 19668 19670 19672 19674 19676 19678 19680 19682 19684 19686 19688 19690 19692 19694 19696 19698 19700 19702 19704 19706 19708 19710 19712 19714 19716 19718 19720 19722 19724 19726 19728 19730 19732 19734 19736 19738 19740 19742 19744 19746 19748 19750 19752 19754 19756 19758 19760 19762 19764 19766 19768 19770 19772 19774 19776 19778 19780 19782 19784 19786 19788 19790 19792 19794 19796 19798 19800 19802 19804 19806 19808 19810 19812 19814 19816 19818 19820 19822 19824 19826 19828 19830 19832 19834 19836 19838 19840 19842 19844 19846 19848 19850 19852 19854 19856 19858 19860 19862 19864 19866 19868 19870 19872 19874 19876 19878 19880 19882 19884 19886 19888 19890 19892 19894 19896 19898 19900 19902 19904 19906 19908 19910 19912 19914 19916 19918 19920 19922 19924 19926 19928 19930 19932 19934 19936 19938 19940 19942 19944 19946 19948 19950 19952 19954 19956 19958 19960 19962 19964 19966 19968 19970 19972 19974 19976 19978 19980 19982 19984 19986 19988 19990 19992 19994 19996 19998 0 2 4 6 8 10 12 14 16 18 20 22 24 26 28 30 32 34 36 38 40 42 44 46 48 50 52 54 56 58 60 62 64 66 68 70 72 74 76 78 80 82 84 86 88 90 92 94 96 98 100 102 104 106 108 110 112 114 116 118 120 122 124 126 128 130 132 134 136 138 140 142 144 146 148 150 152 154 156 158 160 162 164 166 168 170 172 174 176 178 180 182 184 186 188 190 192 194 196 198 200 202 204 206 208 210 212 214 216 218 220 222 224 226 228 230 232 234 236 238 240 242 244 246 248 250 252 254 256 258 260 262 264 266 268 270 272 274 276 278 280 282 284 286 288 290 292 294 296 298 300 302 304 306 308 310 312 314 316 318 320 322 324 326 328 330 332 334 336 338 340 342 344 346 348 350 352 354 356 358 360 362 364 366 368 370 372 374 376 378 380 382 384 386 388 390 392 394 396 398 400 402 404 406 408 410 412 414 416 418 420 422 424 426 428 430 432 434 436 438 440 442 444 446 448 450 452 454 456 458 460 462 464 466 468 470 472 474 476 478 480 482 484 486 488 490 492 494 496 498 500 502 504 506 508 510 512 514 516 518 520 522 524 526 528 530 532 534 536 538 540 542 544 546 548 550 552 554 556 558 560 562 564 566 568 570 572 574 576 578 580 582 584 586 588 590 592 594 596 598 600 602 604 606 608 610 612 614 616 618 620 622 624 626 628 630 632 634 636 638 640 642 644 646 648 650 652 654 656 658 660 662 664 666 668 670 672 674 676 678 680 682 684 686 688 690 692 694 696 698 700 702 704 706 708 710 712 714 716 718 720 722 724 726 728 730 732 734 736 738 740 742 744 746 748 750 752 754 756 758 760 762 764 766 768 770 772 774 776 778 780 782 784 786 788 790 792 794 796 798 800 802 804 806 808 810 812 814 816 818 820 822 824 826 828 830 832 834 836 838 840 842 844 846 848 850 852 854 856 858 860 862 864 866 868 870 872 874 876 878 880 882 884 886 888 890 892 894 896 898 900 902 904 906 908 910 912 914 916 918 920 922 924 926 928 930 932 934 936 938 940 942 944 946 948 950 952 954 956 958 960 962 964 966 968 970 972 974 976 978 980 982 984 986 988 990 992 994 996 998 1000 1002 1004 1006 1008 1010 1012 1014 1016 1018 1020 1022 1024 1026 1028 1030 1032 1034 1036 1038 1040 1042 1044 1046 1048 1050 1052 1054 1056 1058 1060 1062 1064 1066 1068 1070 1072 1074 1076 1078 1080 1082 1084 1086 1088 1090 1092 1094 1096 1098 1100 1102 1104 1106 1108 1110 1112 1114 1116 1118 1120 1122 1124 1126 1128 1130 1132 1134 1136 1138 1140 1142 1144 1146 1148 1150 1152 1154 1156 1158 1160 1162 1164 1166 1168 1170 1172 1174 1176 1178 1180 1182 1184 1186 1188 1190 1192 1194 1196 1198 1200 1202 1204 1206 1208 1210 1212 1214 1216 1218 1220 1222 1224 1226 1228 1230 1232 1234 1236 1238 1240 1242 1244 1246 1248 1250 1252 1254 1256 1258 1260 1262 1264 1266 1268 1270 1272 1274 1276 1278 1280 1282 1284 1286 1288 1290 1292 1294 1296 1298 1300 1302 1304 1306 1308 1310 1312 1314 1316 1318 1320 1322 1324 1326 1328 1330 1332 1334 1336 1338 1340 1342 1344 1346 1348 1350 1352 1354 1356 1358 1360 1362 1364 1366 1368 1370 1372 1374 1376 1378 1380 1382 1384 1386 1388 1390 1392 1394 1396 1398 1400 1402 1404 1406 1408 1410 1412 1414 1416 1418 1420 1422 1424 1426 1428 1430 1432 1434 1436 1438 1440 1442 1444 1446 1448 1450 1452 1454 1456 1458 1460 1462 1464 1466 1468 1470 1472 1474 1476 1478 1480 1482 1484 1486 1488 1490 1492 1494 1496 1498 1500 1502 1504 1506 1508 1510 1512 1514 1516 1518 1520 1522 1524 1526 1528 1530 1532 1534 1536 1538 1540 1542 1544 1546 1548 1550 1552 1554 1556 1558 1560 1562 1564 1566 1568 1570 1572 1574 1576 1578 1580 1582 1584 1586 1588 1590 1592 1594 1596 1598 1600 1602 1604 1606 1608 1610 1612 1614 1616 1618 1620 1622 1624 1626 1628 1630 1632 1634 1636 1638 1640 1642 1644 1646 1648 1650 1652 1654 1656 1658 1660 1662 1664 1666 1668 1670 1672 1674 1676 1678 1680 1682 1684 1686 1688 1690 1692 1694 1696 1698 1700 1702 1704 1706 1708 1710 1712 1714 1716 1718 1720 1722 1724 1726 1728 1730 1732 1734 1736 1738 1740 1742 1744 1746 1748 1750 1752 1754 1756 1758 1760 1762 1764 1766 1768 1770 1772 1774 1776 1778 1780 1782 1784 1786 1788 1790 1792 1794 1796 1798 1800 1802 1804 1806 1808 1810 1812 1814 1816 1818 1820 1822 1824 1826 1828 1830 1832 1834 1836 1838 1840 1842 1844 1846 1848 1850 1852 1854 1856 1858 1860 1862 1864 1866 1868 1870 1872 1874 1876 1878 1880 1882 1884 1886 1888 1890 1892 1894 1896 1898 1900 1902 1904 1906 1908 1910 1912 1914 1916 1918 1920 1922 1924 1926 1928 1930 1932 1934 1936 1938 1940 1942 1944 1946 1948 1950 1952 1954 1956 1958 1960 1962 1964 1966 1968 1970 1972 1974 1976 1978 1980 1982 1984 1986 1988 1990 1992 1994 1996 1998 2000 2002 2004 2006 2008 2010 2012 2014 2016 2018 2020 2022 2024 2026 2028 2030 2032 2034 2036 2038 2040 2042 2044 2046 2048 2050 2052 2054 2056 2058 2060 2062 2064 2066 2068 2070 2072 2074 2076 2078 2080 2082 2084 2086 2088 2090 2092 2094 2096 2098 2100 2102 2104 2106 2108 2110 2112 2114 2116 2118 2120 2122 2124 2126 2128 2130 2132 2134 2136 2138 2140 2142 2144 2146 2148 2150 2152 2154 2156 2158 2160 2162 2164 2166 2168 2170 2172 2174 2176 2178 2180 2182 2184 2186 2188 2190 2192 2194 2196 2198 2200 2202 2204 2206 2208 2210 2212 2214 2216 2218 2220 2222 2224 2226 2228 2230 2232 2234 2236 2238 2240 2242 2244 2246 2248 2250 2252 2254 2256 2258 2260 2262 2264 2266 2268 2270 2272 2274 2276 2278 2280 2282 2284 2286 2288 2290 2292 2294 2296 2298 2300 2302 2304 2306 2308 2310 2312 2314 2316 2318 2320 2322 2324 2326 2328 2330 2332 2334 2336 2338 2340 2342 2344 2346 2348 2350 2352 2354 2356 2358 2360 2362 2364 2366 2368 2370 2372 2374 2376 2378 2380 2382 2384 2386 2388 2390 2392 2394 2396 2398 2400 2402 2404 2406 2408 2410 2412 2414 2416 2418 2420 2422 2424 2426 2428 2430 2432 2434 2436 2438 2440 2442 2444 2446 2448 2450 2452 2454 2456 2458 2460 2462 2464 2466 2468 2470 2472 2474 2476 2478 2480 2482 2484 2486 2488 2490 2492 2494 2496 2498 2500 2502 2504 2506 2508 2510 2512 2514 2516 2518 2520 2522 2524 2526 2528 2530 2532 2534 2536 2538 2540 2542 2544 2546 2548 2550 2552 2554 2556 2558 2560 2562 2564 2566 2568 2570 2572 2574 2576 2578 2580 2582 2584 2586 2588 2590 2592 2594 2596 2598 2600 2602 2604 2606 2608 2610 2612 2614 2616 2618 2620 2622 2624 2626 2628 2630 2632 2634 2636 2638 2640 2642 2644 2646 2648 2650 2652 2654 2656 2658 2660 2662 2664 2666 2668 2670 2672 2674 2676 2678 2680 2682 2684 2686 2688 2690 2692 2694 2696 2698 2700 2702 2704 2706 2708 2710 2712 2714 2716 2718 2720 2722 2724 2726 2728 2730 2732 2734 2736 2738 2740 2742 2744 2746 2748 2750 2752 2754 2756 2758 2760 2762 2764 2766 2768 2770 2772 2774 2776 2778 2780 2782 2784 2786 2788 2790 2792 2794 2796 2798 2800 2802 2804 2806 2808 2810 2812 2814 2816 2818 2820 2822 2824 2826 2828 2830 2832 2834 2836 2838 2840 2842 2844 2846 2848 2850 2852 2854 2856 2858 2860 2862 2864 2866 2868 2870 2872 2874 2876 2878 2880 2882 2884 2886 2888 2890 2892 2894 2896 2898 2900 2902 2904 2906 2908 2910 2912 2914 2916 2918 2920 2922 2924 2926 2928 2930 2932 2934 2936 2938 2940 2942 2944 2946 2948 2950 2952 2954 2956 2958 2960 2962 2964 2966 2968 2970 2972 2974 2976 2978 2980 2982 2984 2986 2988 2990 2992 2994 2996 2998 3000 3002 3004 3006 3008 3010 3012 3014 3016 3018 3020 3022 3024 3026 3028 3030 3032 3034 3036 3038 3040 3042 3044 3046 3048 3050 3052 3054 3056 3058 3060 3062 3064 3066 3068 3070 3072 3074 3076 3078 3080 3082 3084 3086 3088 3090 3092 3094 3096 3098 3100 3102 3104 3106 3108 3110 3112 3114 3116 3118 3120 3122 3124 3126 3128 3130 3132 3134 3136 3138 3140 3142 3144 3146 3148 3150 3152 3154 3156 3158 3160 3162 3164 3166 3168 3170 3172 3174 3176 3178 3180 3182 3184 3186 3188 3190 3192 3194 3196 3198 3200 3202 3204 3206 3208 3210 3212 3214 3216 3218 3220 3222 3224 3226 3228 3230 3232 3234 3236 3238 3240 3242 3244 3246 3248 3250 3252 3254 3256 3258 3260 3262 3264 3266 3268 3270 3272 3274 3276 3278 3280 3282 3284 3286 3288 3290 3292 3294 3296 3298 3300 3302 3304 3306 3308 3310 3312 3314 3316 3318 3320 3322 3324 3326 3328 3330 3332 3334 3336 3338 3340 3342 3344 3346 3348 3350 3352 3354 3356 3358 3360 3362 3364 3366 3368 3370 3372 3374 3376 3378 3380 3382 3384 3386 3388 3390 3392 3394 3396 3398 3400 3402 3404 3406 3408 3410 3412 3414 3416 3418 3420 3422 3424 3426 3428 3430 3432 3434 3436 3438 3440 3442 3444 3446 3448 3450 3452 3454 3456 3458 3460 3462 3464 3466 3468 3470 3472 3474 3476 3478 3480 3482 3484 3486 3488 3490 3492 3494 3496 3498 3500 3502 3504 3506 3508 3510 3512 3514 3516 3518 3520 3522 3524 3526 3528 3530 3532 3534 3536 3538 3540 3542 3544 3546 3548 3550 3552 3554 3556 3558 3560 3562 3564 3566 3568 3570 3572 3574 3576 3578 3580 3582 3584 3586 3588 3590 3592 3594 3596 3598 3600 3602 3604 3606 3608 3610 3612 3614 3616 3618 3620 3622 3624 3626 3628 3630 3632 3634 3636 3638 3640 3642 3644 3646 3648 3650 3652 3654 3656 3658 3660 3662 3664 3666 3668 3670 3672 3674 3676 3678 3680 3682 3684 3686 3688 3690 3692 3694 3696 3698 3700 3702 3704 3706 3708 3710 3712 3714 3716 3718 3720 3722 3724 3726 3728 3730 3732 3734 3736 3738 3740 3742 3744 3746 3748 3750 3752 3754 3756 3758 3760 3762 3764 3766 3768 3770 3772 3774 3776 3778 3780 3782 3784 3786 3788 3790 3792 3794 3796 3798 3800 3802 3804 3806 3808 3810 3812 3814 3816 3818 3820 3822 3824 3826 3828 3830 3832 3834 3836 3838 3840 3842 3844 3846 3848 3850 3852 3854 3856 3858 3860 3862 3864 3866 3868 3870 3872 3874 3876 3878 3880 3882 3884 3886 3888 3890 3892 3894 3896 3898 3900 3902 3904 3906 3908 3910 3912 3914 3916 3918 3920 3922 3924 3926 3928 3930 3932 3934 3936 3938 3940 3942 3944 3946 3948 3950 3952 3954 3956 3958 3960 3962 3964 3966 3968 3970 3972 3974 3976 3978 3980 3982 3984 3986 3988 3990 3992 3994 3996 3998 4000 4002 4004 4006 4008 4010 4012 4014 4016 4018 4020 4022 4024 4026 4028 4030 4032 4034 4036 4038 4040 4042 4044 4046 4048 4050 4052 4054 4056 4058 4060 4062 4064 4066 4068 4070 4072 4074 4076 4078 4080 4082 4084 4086 4088 4090 4092 4094 4096 4098 4100 4102 4104 4106 4108 4110 4112 4114 4116 4118 4120 4122 4124 4126 4128 4130 4132 4134 4136 4138 4140 4142 4144 4146 4148 4150 4152 4154 4156 4158 4160 4162 4164 4166 4168 4170 4172 4174 4176 4178 4180 4182 4184 4186 4188 4190 4192 4194 4196 4198 4200 4202 4204 4206 4208 4210 4212 4214 4216 4218 4220 4222 4224 4226 4228 4230 4232 4234 4236 4238 4240 4242 4244 4246 4248 4250 4252 4254 4256 4258 4260 4262 4264 4266 4268 4270 4272 4274 4276 4278 4280 4282 4284 4286 4288 4290 4292 4294 4296 4298 4300 4302 4304 4306 4308 4310 4312 4314 4316 4318 4320 4322 4324 4326 4328 4330 4332 4334 4336 4338 4340 4342 4344 4346 4348 4350 4352 4354 4356 4358 4360 4362 4364 4366 4368 4370 4372 4374 4376 4378 4380 4382 4384 4386 4388 4390 4392 4394 4396 4398 4400 4402 4404 4406 4408 4410 4412 4414 4416 4418 4420 4422 4424 4426 4428 4430 4432 4434 4436 4438 4440 4442 4444 4446 4448 4450 4452 4454 4456 4458 4460 4462 4464 4466 4468 4470 4472 4474 4476 4478 4480 4482 4484 4486 4488 4490 4492 4494 4496 4498 4500 4502 4504 4506 4508 4510 4512 4514 4516 4518 4520 4522 4524 4526 4528 4530 4532 4534 4536 4538 4540 4542 4544 4546 4548 4550 4552 4554 4556 4558 4560 4562 4564 4566 4568 4570 4572 4574 4576 4578 4580 4582 4584 4586 4588 4590 4592 4594 4596 4598 4600 4602 4604 4606 4608 4610 4612 4614 4616 4618 4620 4622 4624 4626 4628 4630 4632 4634 4636 4638 4640 4642 4644 4646 4648 4650 4652 4654 4656 4658 4660 4662 4664 4666 4668 4670 4672 4674 4676 4678 4680 4682 4684 4686 4688 4690 4692 4694 4696 4698 4700 4702 4704 4706 4708 4710 4712 4714 4716 4718 4720 4722 4724 4726 4728 4730 4732 4734 4736 4738 4740 4742 4744 4746 4748 4750 4752 4754 4756 4758 4760 4762 4764 4766 4768 4770 4772 4774 4776 4778 4780 4782 4784 4786 4788 4790 4792 4794 4796 4798 4800 4802 4804 4806 4808 4810 4812 4814 4816 4818 4820 4822 4824 4826 4828 4830 4832 4834 4836 4838 4840 4842 4844 4846 4848 4850 4852 4854 4856 4858 4860 4862 4864 4866 4868 4870 4872 4874 4876 4878 4880 4882 4884 4886 4888 4890 4892 4894 4896 4898 4900 4902 4904 4906 4908 4910 4912 4914 4916 4918 4920 4922 4924 4926 4928 4930 4932 4934 4936 4938 4940 4942 4944 4946 4948 4950 4952 4954 4956 4958 4960 4962 4964 4966 4968 4970 4972 4974 4976 4978 4980 4982 4984 4986 4988 4990 4992 4994 4996 4998 5000 5002 5004 5006 5008 5010 5012 5014 5016 5018 5020 5022 5024 5026 5028 5030 5032 5034 5036 5038 5040 5042 5044 5046 5048 5050 5052 5054 5056 5058 5060 5062 5064 5066 5068 5070 5072 5074 5076 5078 5080 5082 5084 5086 5088 5090 5092 5094 5096 5098 5100 5102 5104 5106 5108 5110 5112 5114 5116 5118 5120 5122 5124 5126 5128 5130 5132 5134 5136 5138 5140 5142 5144 5146 5148 5150 5152 5154 5156 5158 5160 5162 5164 5166 5168 5170 5172 5174 5176 5178 5180 5182 5184 5186 5188 5190 5192 5194 5196 5198 5200 5202 5204 5206 5208 5210 5212 5214 5216 5218 5220 5222 5224 5226 5228 5230 5232 5234 5236 5238 5240 5242 5244 5246 5248 5250 5252 5254 5256 5258 5260 5262 5264 5266 5268 5270 5272 5274 5276 5278 5280 5282 5284 5286 5288 5290 5292 5294 5296 5298 5300 5302 5304 5306 5308 5310 5312 5314 5316 5318 5320 5322 5324 5326 5328 5330 5332 5334 5336 5338 5340 5342 5344 5346 5348 5350 5352 5354 5356 5358 5360 5362 5364 5366 5368 5370 5372 5374 5376 5378 5380 5382 5384 5386 5388 5390 5392 5394 5396 5398 5400 5402 5404 5406 5408 5410 5412 5414 5416 5418 5420 5422 5424 5426 5428 5430 5432 5434 5436 5438 5440 5442 5444 5446 5448 5450 5452 5454 5456 5458 5460 5462 5464 5466 5468 5470 5472 5474 5476 5478 5480 5482 5484 5486 5488 5490 5492 5494 5496 5498 5500 5502 5504 5506 5508 5510 5512 5514 5516 5518 5520 5522 5524 5526 5528 5530 5532 5534 5536 5538 5540 5542 5544 5546 5548 5550 5552 5554 5556 5558 5560 5562 5564 5566 5568 5570 5572 5574 5576 5578 5580 5582 5584 5586 5588 5590 5592 5594 5596 5598 5600 5602 5604 5606 5608 5610 5612 5614 5616 5618 5620 5622 5624 5626 5628 5630 5632 5634 5636 5638 5640 5642 5644 5646 5648 5650 5652 5654 5656 5658 5660 5662 5664 5666 5668 5670 5672 5674 5676 5678 5680 5682 5684 5686 5688 5690 5692 5694 5696 5698 5700 5702 5704 5706 5708 5710 5712 5714 5716 5718 5720 5722 5724 5726 5728 5730 5732 5734 5736 5738 5740 5742 5744 5746 5748 5750 5752 5754 5756 5758 5760 5762 5764 5766 5768 5770 5772 5774 5776 5778 5780 5782 5784 5786 5788 5790 5792 5794 5796 5798 5800 5802 5804 5806 5808 5810 5812 5814 5816 5818 5820 5822 5824 5826 5828 5830 5832 5834 5836 5838 5840 5842 5844 5846 5848 5850 5852 5854 5856 5858 5860 5862 5864 5866 5868 5870 5872 5874 5876 5878 5880 5882 5884 5886 5888 5890 5892 5894 5896 5898 5900 5902 5904 5906 5908 5910 5912 5914 5916 5918 5920 5922 5924 5926 5928 5930 5932 5934 5936 5938 5940 5942 5944 5946 5948 5950 5952 5954 5956 5958 5960 5962 5964 5966 5968 5970 5972 5974 5976 5978 5980 5982 5984 5986 5988 5990 5992 5994 5996 5998 6000 6002 6004 6006 6008 6010 6012 6014 6016 6018 6020 6022 6024 6026 6028 6030 6032 6034 6036 6038 6040 6042 6044 6046 6048 6050 6052 6054 6056 6058 6060 6062 6064 6066 6068 6070 6072 6074 6076 6078 6080 6082 6084 6086 6088 6090 6092 6094 6096 6098 6100 6102 6104 6106 6108 6110 6112 6114 6116 6118 6120 6122 6124 6126 6128 6130 6132 6134 6136 6138 6140 6142 6144 6146 6148 6150 6152 6154 6156 6158 6160 6162 6164 6166 6168 6170 6172 6174 6176 6178 6180 6182 6184 6186 6188 6190 6192 6194 6196 6198 6200 6202 6204 6206 6208 6210 6212 6214 6216 6218 6220 6222 6224 6226 6228 6230 6232 6234 6236 6238 6240 6242 6244 6246 6248 6250 6252 6254 6256 6258 6260 6262 6264 6266 6268 6270 6272 6274 6276 6278 6280 6282 6284 6286 6288 6290 6292 6294 6296 6298 6300 6302 6304 6306 6308 6310 6312 6314 6316 6318 6320 6322 6324 6326 6328 6330 6332 6334 6336 6338 6340 6342 6344 6346 6348 6350 6352 6354 6356 6358 6360 6362 6364 6366 6368 6370 6372 6374 6376 6378 6380 6382 6384 6386 6388 6390 6392 6394 6396 6398 6400 6402 6404 6406 6408 6410 6412 6414 6416 6418 6420 6422 6424 6426 6428 6430 6432 6434 6436 6438 6440 6442 6444 6446 6448 6450 6452 6454 6456 6458 6460 6462 6464 6466 6468 6470 6472 6474 6476 6478 6480 6482 6484 6486 6488 6490 6492 6494 6496 6498 6500 6502 6504 6506 6508 6510 6512 6514 6516 6518 6520 6522 6524 6526 6528 6530 6532 6534 6536 6538 6540 6542 6544 6546 6548 6550 6552 6554 6556 6558 6560 6562 6564 6566 6568 6570 6572 6574 6576 6578 6580 6582 6584 6586 6588 6590 6592 6594 6596 6598 6600 6602 6604 6606 6608 6610 6612 6614 6616 6618 6620 6622 6624 6626 6628 6630 6632 6634 6636 6638 6640 6642 6644 6646 6648 6650 6652 6654 6656 6658 6660 6662 6664 6666 6668 6670 6672 6674 6676 6678 6680 6682 6684 6686 6688 6690 6692 6694 6696 6698 6700 6702 6704 6706 6708 6710 6712 6714 6716 6718 6720 6722 6724 6726 6728 6730 6732 6734 6736 6738 6740 6742 6744 6746 6748 6750 6752 6754 6756 6758 6760 6762 6764 6766 6768 6770 6772 6774 6776 6778 6780 6782 6784 6786 6788 6790 6792 6794 6796 6798 6800 6802 6804 6806 6808 6810 6812 6814 6816 6818 6820 6822 6824 6826 6828 6830 6832 6834 6836 6838 6840 6842 6844 6846 6848 6850 6852 6854 6856 6858 6860 6862 6864 6866 6868 6870 6872 6874 6876 6878 6880 6882 6884 6886 6888 6890 6892 6894 6896 6898 6900 6902 6904 6906 6908 6910 6912 6914 6916 6918 6920 6922 6924 6926 6928 6930 6932 6934 6936 6938 6940 6942 6944 6946 6948 6950 6952 6954 6956 6958 6960 6962 6964 6966 6968 6970 6972 6974 6976 6978 6980 6982 6984 6986 6988 6990 6992 6994 6996 6998 7000 7002 7004 7006 7008 7010 7012 7014 7016 7018 7020 7022 7024 7026 7028 7030 7032 7034 7036 7038 7040 7042 7044 7046 7048 7050 7052 7054 7056 7058 7060 7062 7064 7066 7068 7070 7072 7074 7076 7078 7080 7082 7084 7086 7088 7090 7092 7094 7096 7098 7100 7102 7104 7106 7108 7110 7112 7114 7116 7118 7120 7122 7124 7126 7128 7130 7132 7134 7136 7138 7140 7142 7144 7146 7148 7150 7152 7154 7156 7158 7160 7162 7164 7166 7168 7170 7172 7174 7176 7178 7180 7182 7184 7186 7188 7190 7192 7194 7196 7198 7200 7202 7204 7206 7208 7210 7212 7214 7216 7218 7220 7222 7224 7226 7228 7230 7232 7234 7236 7238 7240 7242 7244 7246 7248 7250 7252 7254 7256 7258 7260 7262 7264 7266 7268 7270 7272 7274 7276 7278 7280 7282 7284 7286 7288 7290 7292 7294 7296 7298 7300 7302 7304 7306 7308 7310 7312 7314 7316 7318 7320 7322 7324 7326 7328 7330 7332 7334 7336 7338 7340 7342 7344 7346 7348 7350 7352 7354 7356 7358 7360 7362 7364 7366 7368 7370 7372 7374 7376 7378 7380 7382 7384 7386 7388 7390 7392 7394 7396 7398 7400 7402 7404 7406 7408 7410 7412 7414 7416 7418 7420 7422 7424 7426 7428 7430 7432 7434 7436 7438 7440 7442 7444 7446 7448 7450 7452 7454 7456 7458 7460 7462 7464 7466 7468 7470 7472 7474 7476 7478 7480 7482 7484 7486 7488 7490 7492 7494 7496 7498 7500 7502 7504 7506 7508 7510 7512 7514 7516 7518 7520 7522 7524 7526 7528 7530 7532 7534 7536 7538 7540 7542 7544 7546 7548 7550 7552 7554 7556 7558 7560 7562 7564 7566 7568 7570 7572 7574 7576 7578 7580 7582 7584 7586 7588 7590 7592 7594 7596 7598 7600 7602 7604 7606 7608 7610 7612 7614 7616 7618 7620 7622 7624 7626 7628 7630 7632 7634 7636 7638 7640 7642 7644 7646 7648 7650 7652 7654 7656 7658 7660 7662 7664 7666 7668 7670 7672 7674 7676 7678 7680 7682 7684 7686 7688 7690 7692 7694 7696 7698 7700 7702 7704 7706 7708 7710 7712 7714 7716 7718 7720 7722 7724 7726 7728 7730 7732 7734 7736 7738 7740 7742 7744 7746 7748 7750 7752 7754 7756 7758 7760 7762 7764 7766 7768 7770 7772 7774 7776 7778 7780 7782 7784 7786 7788 7790 7792 7794 7796 7798 7800 7802 7804 7806 7808 7810 7812 7814 7816 7818 7820 7822 7824 7826 7828 7830 7832 7834 7836 7838 7840 7842 7844 7846 7848 7850 7852 7854 7856 7858 7860 7862 7864 7866 7868 7870 7872 7874 7876 7878 7880 7882 7884 7886 7888 7890 7892 7894 7896 7898 7900 7902 7904 7906 7908 7910 7912 7914 7916 7918 7920 7922 7924 7926 7928 7930 7932 7934 7936 7938 7940 7942 7944 7946 7948 7950 7952 7954 7956 7958 7960 7962 7964 7966 7968 7970 7972 7974 7976 7978 7980 7982 7984 7986 7988 7990 7992 7994 7996 7998 8000 8002 8004 8006 8008 8010 8012 8014 8016 8018 8020 8022 8024 8026 8028 8030 8032 8034 8036 8038 8040 8042 8044 8046 8048 8050 8052 8054 8056 8058 8060 8062 8064 8066 8068 8070 8072 8074 8076 8078 8080 8082 8084 8086 8088 8090 8092 8094 8096 8098 8100 8102 8104 8106 8108 8110 8112 8114 8116 8118 8120 8122 8124 8126 8128 8130 8132 8134 8136 8138 8140 8142 8144 8146 8148 8150 8152 8154 8156 8158 8160 8162 8164 8166 8168 8170 8172 8174 8176 8178 8180 8182 8184 8186 8188 8190 8192 8194 8196 8198 8200 8202 8204 8206 8208 8210 8212 8214 8216 8218 8220 8222 8224 8226 8228 8230 8232 8234 8236 8238 8240 8242 8244 8246 8248 8250 8252 8254 8256 8258 8260 8262 8264 8266 8268 8270 8272 8274 8276 8278 8280 8282 8284 8286 8288 8290 8292 8294 8296 8298 8300 8302 8304 8306 8308 8310 8312 8314 8316 8318 8320 8322 8324 8326 8328 8330 8332 8334 8336 8338 8340 8342 8344 8346 8348 8350 8352 8354 8356 8358 8360 8362 8364 8366 8368 8370 8372 8374 8376 8378 8380 8382 8384 8386 8388 8390 8392 8394 8396 8398 8400 8402 8404 8406 8408 8410 8412 8414 8416 8418 8420 8422 8424 8426 8428 8430 8432 8434 8436 8438 8440 8442 8444 8446 8448 8450 8452 8454 8456 8458 8460 8462 8464 8466 8468 8470 8472 8474 8476 8478 8480 8482 8484 8486 8488 8490 8492 8494 8496 8498 8500 8502 8504 8506 8508 8510 8512 8514 8516 8518 8520 8522 8524 8526 8528 8530 8532 8534 8536 8538 8540 8542 8544 8546 8548 8550 8552 8554 8556 8558 8560 8562 8564 8566 8568 8570 8572 8574 8576 8578 8580 8582 8584 8586 8588 8590 8592 8594 8596 8598 8600 8602 8604 8606 8608 8610 8612 8614 8616 8618 8620 8622 8624 8626 8628 8630 8632 8634 8636 8638 8640 8642 8644 8646 8648 8650 8652 8654 8656 8658 8660 8662 8664 8666 8668 8670 8672 8674 8676 8678 8680 8682 8684 8686 8688 8690 8692 8694 8696 8698 8700 8702 8704 8706 8708 8710 8712 8714 8716 8718 8720 8722 8724 8726 8728 8730 8732 8734 8736 8738 8740 8742 8744 8746 8748 8750 8752 8754 8756 8758 8760 8762 8764 8766 8768 8770 8772 8774 8776 8778 8780 8782 8784 8786 8788 8790 8792 8794 8796 8798 8800 8802 8804 8806 8808 8810 8812 8814 8816 8818 8820 8822 8824 8826 8828 8830 8832 8834 8836 8838 8840 8842 8844 8846 8848 8850 8852 8854 8856 8858 8860 8862 8864 8866 8868 8870 8872 8874 8876 8878 8880 8882 8884 8886 8888 8890 8892 8894 8896 8898 8900 8902 8904 8906 8908 8910 8912 8914 8916 8918 8920 8922 8924 8926 8928 8930 8932 8934 8936 8938 8940 8942 8944 8946 8948 8950 8952 8954 8956 8958 8960 8962 8964 8966 8968 8970 8972 8974 8976 8978 8980 8982 8984 8986 8988 8990 8992 8994 8996 8998 9000 9002 9004 9006 9008 9010 9012 9014 9016 9018 9020 9022 9024 9026 9028 9030 9032 9034 9036 9038 9040 9042 9044 9046 9048 9050 9052 9054 9056 9058 9060 9062 9064 9066 9068 9070 9072 9074 9076 9078 9080 9082 9084 9086 9088 9090 9092 9094 9096 9098 9100 9102 9104 9106 9108 9110 9112 9114 9116 9118 9120 9122 9124 9126 9128 9130 9132 9134 9136 9138 9140 9142 9144 9146 9148 9150 9152 9154 9156 9158 9160 9162 9164 9166 9168 9170 9172 9174 9176 9178 9180 9182 9184 9186 9188 9190 9192 9194 9196 9198 9200 9202 9204 9206 9208 9210 9212 9214 9216 9218 9220 9222 9224 9226 9228 9230 9232 9234 9236 9238 9240 9242 9244 9246 9248 9250 9252 9254 9256 9258 9260 9262 9264 9266 9268 9270 9272 9274 9276 9278 9280 9282 9284 9286 9288 9290 9292 9294 9296 9298 9300 9302 9304 9306 9308 9310 9312 9314 9316 9318 9320 9322 9324 9326 9328 9330 9332 9334 9336 9338 9340 9342 9344 9346 9348 9350 9352 9354 9356 9358 9360 9362 9364 9366 9368 9370 9372 9374 9376 9378 9380 9382 9384 9386 9388 9390 9392 9394 9396 9398 9400 9402 9404 9406 9408 9410 9412 9414 9416 9418 9420 9422 9424 9426 9428 9430 9432 9434 9436 9438 9440 9442 9444 9446 9448 9450 9452 9454 9456 9458 9460 9462 9464 9466 9468 9470 9472 9474 9476 9478 9480 9482 9484 9486 9488 9490 9492 9494 9496 9498 9500 9502 9504 9506 9508 9510 9512 9514 9516 9518 9520 9522 9524 9526 9528 9530 9532 9534 9536 9538 9540 9542 9544 9546 9548 9550 9552 9554 9556 9558 9560 9562 9564 9566 9568 9570 9572 9574 9576 9578 9580 9582 9584 9586 9588 9590 9592 9594 9596 9598 9600 9602 9604 9606 9608 9610 9612 9614 9616 9618 9620 9622 9624 9626 9628 9630 9632 9634 9636 9638 9640 9642 9644 9646 9648 9650 9652 9654 9656 9658 9660 9662 9664 9666 9668 9670 9672 9674 9676 9678 9680 9682 9684 9686 9688 9690 9692 9694 9696 9698 9700 9702 9704 9706 9708 9710 9712 9714 9716 9718 9720 9722 9724 9726 9728 9730 9732 9734 9736 9738 9740 9742 9744 9746 9748 9750 9752 9754 9756 9758 9760 9762 9764 9766 9768 9770 9772 9774 9776 9778 9780 9782 9784 9786 9788 9790 9792 9794 9796 9798 9800 9802 9804 9806 9808 9810 9812 9814 9816 9818 9820 9822 9824 9826 9828 9830 9832 9834 9836 9838 9840 9842 9844 9846 9848 9850 9852 9854 9856 9858 9860 9862 9864 9866 9868 9870 9872 9874 9876 9878 9880 9882 9884 9886 9888 9890 9892 9894 9896 9898 9900 9902 9904 9906 9908 9910 9912 9914 9916 9918 9920 9922 9924 9926 9928 9930 9932 9934 9936 9938 9940 9942 9944 9946 9948 9950 9952 9954 9956 9958 9960 9962 9964 9966 9968 9970 9972 9974 9976 9978 9980 9982 9984 9986 9988 9990 9992 9994 9996 9998 \n",
            "Tempo de execução: 0.20176 s\n"
          ]
        }
      ]
    },
    {
      "cell_type": "markdown",
      "source": [
        "Se sua implementação se parecer com o código abaixo, então é bem provável que a versão paralela na verdade tenha demorado o mesmo tempo ou mais que o original.\n",
        "\n",
        "```cpp\n",
        "#pragma omp parallel for default(none) shared(vec)\n",
        "for (int i = 0; i < N; i++) {\n",
        "    #pragma omp critical\n",
        "    {\n",
        "        vec.push_back(conta_complexa(i));\n",
        "    }\n",
        "}\n",
        "```\n",
        "\n",
        "Analise o código novamente e tente explicar por que o programa não ganhou velocidade.\n",
        "\n",
        "Resposta:\n",
        "\n",
        "A operação que produz efeitos colaterais é vec.push_back, mas nossa seção crítica envolve também a chamada conta_complexa(i).\n",
        "\n",
        "Example\n",
        "\n",
        "Modifique seu código de acordo com a resposta acima. Meça o desempenho e veja que agora há melhora."
      ],
      "metadata": {
        "id": "l2FCcoStuvnL"
      }
    },
    {
      "cell_type": "code",
      "source": [
        "%%writefile vetor_insert_sequencial.cpp\n",
        "\n",
        "#include <vector>\n",
        "#include <iostream>\n",
        "#include <unistd.h>\n",
        "#include <omp.h>\n",
        "#include <chrono>\n",
        "\n",
        "double conta_complexa(int i) {\n",
        "\treturn 2 * i;\n",
        "}\n",
        "\n",
        "int main() {\n",
        "  auto t_start = std::chrono::high_resolution_clock::now();\n",
        "\n",
        "\tint N = 10000; \n",
        "\tstd::vector<double> vec;\n",
        "\tfor (int i = 0; i < N; i++) {\n",
        "\t\tvec.push_back(conta_complexa(i));\n",
        "\t}\n",
        "\t\t\n",
        "\tfor (int i = 0; i < N; i++) {\n",
        "\t\tstd::cout << vec[i] << \" \";\n",
        "\t\t// std::cout << i << \" \";\n",
        "\t}\n",
        "\n",
        "  std::cout << std::endl;\n",
        "\n",
        "  auto t_end = std::chrono::high_resolution_clock::now();\n",
        "\n",
        "  double elapsed_time_ms = std::chrono::duration<double, std::milli>(t_end-t_start).count();\n",
        "  double elapsed_time_s = elapsed_time_ms/1000;\n",
        "  std::cout << \"Tempo de execução: \" << elapsed_time_s << \" s\" << std::endl;\n",
        "\t\n",
        "  \n",
        "\treturn 0;\n",
        "}\n",
        "\n"
      ],
      "metadata": {
        "colab": {
          "base_uri": "https://localhost:8080/"
        },
        "id": "x8ltIeRQu69N",
        "outputId": "875eaaa8-bb96-40e6-aa35-1682c0a1547a"
      },
      "execution_count": 143,
      "outputs": [
        {
          "output_type": "stream",
          "name": "stdout",
          "text": [
            "Overwriting vetor_insert_sequencial.cpp\n"
          ]
        }
      ]
    },
    {
      "cell_type": "code",
      "source": [
        "!g++ -Wall -fopenmp vetor_insert_sequencial.cpp -o vetor_insert_sequencial"
      ],
      "metadata": {
        "id": "6giqU8lGvBll"
      },
      "execution_count": 144,
      "outputs": []
    },
    {
      "cell_type": "code",
      "source": [
        "!./vetor_insert_sequencial"
      ],
      "metadata": {
        "colab": {
          "base_uri": "https://localhost:8080/"
        },
        "id": "jt0z5ce4vFeB",
        "outputId": "8f5fd9ae-2ccd-4fdb-e177-ec888fa18a12"
      },
      "execution_count": 149,
      "outputs": [
        {
          "output_type": "stream",
          "name": "stdout",
          "text": [
            "0 2 4 6 8 10 12 14 16 18 20 22 24 26 28 30 32 34 36 38 40 42 44 46 48 50 52 54 56 58 60 62 64 66 68 70 72 74 76 78 80 82 84 86 88 90 92 94 96 98 100 102 104 106 108 110 112 114 116 118 120 122 124 126 128 130 132 134 136 138 140 142 144 146 148 150 152 154 156 158 160 162 164 166 168 170 172 174 176 178 180 182 184 186 188 190 192 194 196 198 200 202 204 206 208 210 212 214 216 218 220 222 224 226 228 230 232 234 236 238 240 242 244 246 248 250 252 254 256 258 260 262 264 266 268 270 272 274 276 278 280 282 284 286 288 290 292 294 296 298 300 302 304 306 308 310 312 314 316 318 320 322 324 326 328 330 332 334 336 338 340 342 344 346 348 350 352 354 356 358 360 362 364 366 368 370 372 374 376 378 380 382 384 386 388 390 392 394 396 398 400 402 404 406 408 410 412 414 416 418 420 422 424 426 428 430 432 434 436 438 440 442 444 446 448 450 452 454 456 458 460 462 464 466 468 470 472 474 476 478 480 482 484 486 488 490 492 494 496 498 500 502 504 506 508 510 512 514 516 518 520 522 524 526 528 530 532 534 536 538 540 542 544 546 548 550 552 554 556 558 560 562 564 566 568 570 572 574 576 578 580 582 584 586 588 590 592 594 596 598 600 602 604 606 608 610 612 614 616 618 620 622 624 626 628 630 632 634 636 638 640 642 644 646 648 650 652 654 656 658 660 662 664 666 668 670 672 674 676 678 680 682 684 686 688 690 692 694 696 698 700 702 704 706 708 710 712 714 716 718 720 722 724 726 728 730 732 734 736 738 740 742 744 746 748 750 752 754 756 758 760 762 764 766 768 770 772 774 776 778 780 782 784 786 788 790 792 794 796 798 800 802 804 806 808 810 812 814 816 818 820 822 824 826 828 830 832 834 836 838 840 842 844 846 848 850 852 854 856 858 860 862 864 866 868 870 872 874 876 878 880 882 884 886 888 890 892 894 896 898 900 902 904 906 908 910 912 914 916 918 920 922 924 926 928 930 932 934 936 938 940 942 944 946 948 950 952 954 956 958 960 962 964 966 968 970 972 974 976 978 980 982 984 986 988 990 992 994 996 998 1000 1002 1004 1006 1008 1010 1012 1014 1016 1018 1020 1022 1024 1026 1028 1030 1032 1034 1036 1038 1040 1042 1044 1046 1048 1050 1052 1054 1056 1058 1060 1062 1064 1066 1068 1070 1072 1074 1076 1078 1080 1082 1084 1086 1088 1090 1092 1094 1096 1098 1100 1102 1104 1106 1108 1110 1112 1114 1116 1118 1120 1122 1124 1126 1128 1130 1132 1134 1136 1138 1140 1142 1144 1146 1148 1150 1152 1154 1156 1158 1160 1162 1164 1166 1168 1170 1172 1174 1176 1178 1180 1182 1184 1186 1188 1190 1192 1194 1196 1198 1200 1202 1204 1206 1208 1210 1212 1214 1216 1218 1220 1222 1224 1226 1228 1230 1232 1234 1236 1238 1240 1242 1244 1246 1248 1250 1252 1254 1256 1258 1260 1262 1264 1266 1268 1270 1272 1274 1276 1278 1280 1282 1284 1286 1288 1290 1292 1294 1296 1298 1300 1302 1304 1306 1308 1310 1312 1314 1316 1318 1320 1322 1324 1326 1328 1330 1332 1334 1336 1338 1340 1342 1344 1346 1348 1350 1352 1354 1356 1358 1360 1362 1364 1366 1368 1370 1372 1374 1376 1378 1380 1382 1384 1386 1388 1390 1392 1394 1396 1398 1400 1402 1404 1406 1408 1410 1412 1414 1416 1418 1420 1422 1424 1426 1428 1430 1432 1434 1436 1438 1440 1442 1444 1446 1448 1450 1452 1454 1456 1458 1460 1462 1464 1466 1468 1470 1472 1474 1476 1478 1480 1482 1484 1486 1488 1490 1492 1494 1496 1498 1500 1502 1504 1506 1508 1510 1512 1514 1516 1518 1520 1522 1524 1526 1528 1530 1532 1534 1536 1538 1540 1542 1544 1546 1548 1550 1552 1554 1556 1558 1560 1562 1564 1566 1568 1570 1572 1574 1576 1578 1580 1582 1584 1586 1588 1590 1592 1594 1596 1598 1600 1602 1604 1606 1608 1610 1612 1614 1616 1618 1620 1622 1624 1626 1628 1630 1632 1634 1636 1638 1640 1642 1644 1646 1648 1650 1652 1654 1656 1658 1660 1662 1664 1666 1668 1670 1672 1674 1676 1678 1680 1682 1684 1686 1688 1690 1692 1694 1696 1698 1700 1702 1704 1706 1708 1710 1712 1714 1716 1718 1720 1722 1724 1726 1728 1730 1732 1734 1736 1738 1740 1742 1744 1746 1748 1750 1752 1754 1756 1758 1760 1762 1764 1766 1768 1770 1772 1774 1776 1778 1780 1782 1784 1786 1788 1790 1792 1794 1796 1798 1800 1802 1804 1806 1808 1810 1812 1814 1816 1818 1820 1822 1824 1826 1828 1830 1832 1834 1836 1838 1840 1842 1844 1846 1848 1850 1852 1854 1856 1858 1860 1862 1864 1866 1868 1870 1872 1874 1876 1878 1880 1882 1884 1886 1888 1890 1892 1894 1896 1898 1900 1902 1904 1906 1908 1910 1912 1914 1916 1918 1920 1922 1924 1926 1928 1930 1932 1934 1936 1938 1940 1942 1944 1946 1948 1950 1952 1954 1956 1958 1960 1962 1964 1966 1968 1970 1972 1974 1976 1978 1980 1982 1984 1986 1988 1990 1992 1994 1996 1998 2000 2002 2004 2006 2008 2010 2012 2014 2016 2018 2020 2022 2024 2026 2028 2030 2032 2034 2036 2038 2040 2042 2044 2046 2048 2050 2052 2054 2056 2058 2060 2062 2064 2066 2068 2070 2072 2074 2076 2078 2080 2082 2084 2086 2088 2090 2092 2094 2096 2098 2100 2102 2104 2106 2108 2110 2112 2114 2116 2118 2120 2122 2124 2126 2128 2130 2132 2134 2136 2138 2140 2142 2144 2146 2148 2150 2152 2154 2156 2158 2160 2162 2164 2166 2168 2170 2172 2174 2176 2178 2180 2182 2184 2186 2188 2190 2192 2194 2196 2198 2200 2202 2204 2206 2208 2210 2212 2214 2216 2218 2220 2222 2224 2226 2228 2230 2232 2234 2236 2238 2240 2242 2244 2246 2248 2250 2252 2254 2256 2258 2260 2262 2264 2266 2268 2270 2272 2274 2276 2278 2280 2282 2284 2286 2288 2290 2292 2294 2296 2298 2300 2302 2304 2306 2308 2310 2312 2314 2316 2318 2320 2322 2324 2326 2328 2330 2332 2334 2336 2338 2340 2342 2344 2346 2348 2350 2352 2354 2356 2358 2360 2362 2364 2366 2368 2370 2372 2374 2376 2378 2380 2382 2384 2386 2388 2390 2392 2394 2396 2398 2400 2402 2404 2406 2408 2410 2412 2414 2416 2418 2420 2422 2424 2426 2428 2430 2432 2434 2436 2438 2440 2442 2444 2446 2448 2450 2452 2454 2456 2458 2460 2462 2464 2466 2468 2470 2472 2474 2476 2478 2480 2482 2484 2486 2488 2490 2492 2494 2496 2498 2500 2502 2504 2506 2508 2510 2512 2514 2516 2518 2520 2522 2524 2526 2528 2530 2532 2534 2536 2538 2540 2542 2544 2546 2548 2550 2552 2554 2556 2558 2560 2562 2564 2566 2568 2570 2572 2574 2576 2578 2580 2582 2584 2586 2588 2590 2592 2594 2596 2598 2600 2602 2604 2606 2608 2610 2612 2614 2616 2618 2620 2622 2624 2626 2628 2630 2632 2634 2636 2638 2640 2642 2644 2646 2648 2650 2652 2654 2656 2658 2660 2662 2664 2666 2668 2670 2672 2674 2676 2678 2680 2682 2684 2686 2688 2690 2692 2694 2696 2698 2700 2702 2704 2706 2708 2710 2712 2714 2716 2718 2720 2722 2724 2726 2728 2730 2732 2734 2736 2738 2740 2742 2744 2746 2748 2750 2752 2754 2756 2758 2760 2762 2764 2766 2768 2770 2772 2774 2776 2778 2780 2782 2784 2786 2788 2790 2792 2794 2796 2798 2800 2802 2804 2806 2808 2810 2812 2814 2816 2818 2820 2822 2824 2826 2828 2830 2832 2834 2836 2838 2840 2842 2844 2846 2848 2850 2852 2854 2856 2858 2860 2862 2864 2866 2868 2870 2872 2874 2876 2878 2880 2882 2884 2886 2888 2890 2892 2894 2896 2898 2900 2902 2904 2906 2908 2910 2912 2914 2916 2918 2920 2922 2924 2926 2928 2930 2932 2934 2936 2938 2940 2942 2944 2946 2948 2950 2952 2954 2956 2958 2960 2962 2964 2966 2968 2970 2972 2974 2976 2978 2980 2982 2984 2986 2988 2990 2992 2994 2996 2998 3000 3002 3004 3006 3008 3010 3012 3014 3016 3018 3020 3022 3024 3026 3028 3030 3032 3034 3036 3038 3040 3042 3044 3046 3048 3050 3052 3054 3056 3058 3060 3062 3064 3066 3068 3070 3072 3074 3076 3078 3080 3082 3084 3086 3088 3090 3092 3094 3096 3098 3100 3102 3104 3106 3108 3110 3112 3114 3116 3118 3120 3122 3124 3126 3128 3130 3132 3134 3136 3138 3140 3142 3144 3146 3148 3150 3152 3154 3156 3158 3160 3162 3164 3166 3168 3170 3172 3174 3176 3178 3180 3182 3184 3186 3188 3190 3192 3194 3196 3198 3200 3202 3204 3206 3208 3210 3212 3214 3216 3218 3220 3222 3224 3226 3228 3230 3232 3234 3236 3238 3240 3242 3244 3246 3248 3250 3252 3254 3256 3258 3260 3262 3264 3266 3268 3270 3272 3274 3276 3278 3280 3282 3284 3286 3288 3290 3292 3294 3296 3298 3300 3302 3304 3306 3308 3310 3312 3314 3316 3318 3320 3322 3324 3326 3328 3330 3332 3334 3336 3338 3340 3342 3344 3346 3348 3350 3352 3354 3356 3358 3360 3362 3364 3366 3368 3370 3372 3374 3376 3378 3380 3382 3384 3386 3388 3390 3392 3394 3396 3398 3400 3402 3404 3406 3408 3410 3412 3414 3416 3418 3420 3422 3424 3426 3428 3430 3432 3434 3436 3438 3440 3442 3444 3446 3448 3450 3452 3454 3456 3458 3460 3462 3464 3466 3468 3470 3472 3474 3476 3478 3480 3482 3484 3486 3488 3490 3492 3494 3496 3498 3500 3502 3504 3506 3508 3510 3512 3514 3516 3518 3520 3522 3524 3526 3528 3530 3532 3534 3536 3538 3540 3542 3544 3546 3548 3550 3552 3554 3556 3558 3560 3562 3564 3566 3568 3570 3572 3574 3576 3578 3580 3582 3584 3586 3588 3590 3592 3594 3596 3598 3600 3602 3604 3606 3608 3610 3612 3614 3616 3618 3620 3622 3624 3626 3628 3630 3632 3634 3636 3638 3640 3642 3644 3646 3648 3650 3652 3654 3656 3658 3660 3662 3664 3666 3668 3670 3672 3674 3676 3678 3680 3682 3684 3686 3688 3690 3692 3694 3696 3698 3700 3702 3704 3706 3708 3710 3712 3714 3716 3718 3720 3722 3724 3726 3728 3730 3732 3734 3736 3738 3740 3742 3744 3746 3748 3750 3752 3754 3756 3758 3760 3762 3764 3766 3768 3770 3772 3774 3776 3778 3780 3782 3784 3786 3788 3790 3792 3794 3796 3798 3800 3802 3804 3806 3808 3810 3812 3814 3816 3818 3820 3822 3824 3826 3828 3830 3832 3834 3836 3838 3840 3842 3844 3846 3848 3850 3852 3854 3856 3858 3860 3862 3864 3866 3868 3870 3872 3874 3876 3878 3880 3882 3884 3886 3888 3890 3892 3894 3896 3898 3900 3902 3904 3906 3908 3910 3912 3914 3916 3918 3920 3922 3924 3926 3928 3930 3932 3934 3936 3938 3940 3942 3944 3946 3948 3950 3952 3954 3956 3958 3960 3962 3964 3966 3968 3970 3972 3974 3976 3978 3980 3982 3984 3986 3988 3990 3992 3994 3996 3998 4000 4002 4004 4006 4008 4010 4012 4014 4016 4018 4020 4022 4024 4026 4028 4030 4032 4034 4036 4038 4040 4042 4044 4046 4048 4050 4052 4054 4056 4058 4060 4062 4064 4066 4068 4070 4072 4074 4076 4078 4080 4082 4084 4086 4088 4090 4092 4094 4096 4098 4100 4102 4104 4106 4108 4110 4112 4114 4116 4118 4120 4122 4124 4126 4128 4130 4132 4134 4136 4138 4140 4142 4144 4146 4148 4150 4152 4154 4156 4158 4160 4162 4164 4166 4168 4170 4172 4174 4176 4178 4180 4182 4184 4186 4188 4190 4192 4194 4196 4198 4200 4202 4204 4206 4208 4210 4212 4214 4216 4218 4220 4222 4224 4226 4228 4230 4232 4234 4236 4238 4240 4242 4244 4246 4248 4250 4252 4254 4256 4258 4260 4262 4264 4266 4268 4270 4272 4274 4276 4278 4280 4282 4284 4286 4288 4290 4292 4294 4296 4298 4300 4302 4304 4306 4308 4310 4312 4314 4316 4318 4320 4322 4324 4326 4328 4330 4332 4334 4336 4338 4340 4342 4344 4346 4348 4350 4352 4354 4356 4358 4360 4362 4364 4366 4368 4370 4372 4374 4376 4378 4380 4382 4384 4386 4388 4390 4392 4394 4396 4398 4400 4402 4404 4406 4408 4410 4412 4414 4416 4418 4420 4422 4424 4426 4428 4430 4432 4434 4436 4438 4440 4442 4444 4446 4448 4450 4452 4454 4456 4458 4460 4462 4464 4466 4468 4470 4472 4474 4476 4478 4480 4482 4484 4486 4488 4490 4492 4494 4496 4498 4500 4502 4504 4506 4508 4510 4512 4514 4516 4518 4520 4522 4524 4526 4528 4530 4532 4534 4536 4538 4540 4542 4544 4546 4548 4550 4552 4554 4556 4558 4560 4562 4564 4566 4568 4570 4572 4574 4576 4578 4580 4582 4584 4586 4588 4590 4592 4594 4596 4598 4600 4602 4604 4606 4608 4610 4612 4614 4616 4618 4620 4622 4624 4626 4628 4630 4632 4634 4636 4638 4640 4642 4644 4646 4648 4650 4652 4654 4656 4658 4660 4662 4664 4666 4668 4670 4672 4674 4676 4678 4680 4682 4684 4686 4688 4690 4692 4694 4696 4698 4700 4702 4704 4706 4708 4710 4712 4714 4716 4718 4720 4722 4724 4726 4728 4730 4732 4734 4736 4738 4740 4742 4744 4746 4748 4750 4752 4754 4756 4758 4760 4762 4764 4766 4768 4770 4772 4774 4776 4778 4780 4782 4784 4786 4788 4790 4792 4794 4796 4798 4800 4802 4804 4806 4808 4810 4812 4814 4816 4818 4820 4822 4824 4826 4828 4830 4832 4834 4836 4838 4840 4842 4844 4846 4848 4850 4852 4854 4856 4858 4860 4862 4864 4866 4868 4870 4872 4874 4876 4878 4880 4882 4884 4886 4888 4890 4892 4894 4896 4898 4900 4902 4904 4906 4908 4910 4912 4914 4916 4918 4920 4922 4924 4926 4928 4930 4932 4934 4936 4938 4940 4942 4944 4946 4948 4950 4952 4954 4956 4958 4960 4962 4964 4966 4968 4970 4972 4974 4976 4978 4980 4982 4984 4986 4988 4990 4992 4994 4996 4998 5000 5002 5004 5006 5008 5010 5012 5014 5016 5018 5020 5022 5024 5026 5028 5030 5032 5034 5036 5038 5040 5042 5044 5046 5048 5050 5052 5054 5056 5058 5060 5062 5064 5066 5068 5070 5072 5074 5076 5078 5080 5082 5084 5086 5088 5090 5092 5094 5096 5098 5100 5102 5104 5106 5108 5110 5112 5114 5116 5118 5120 5122 5124 5126 5128 5130 5132 5134 5136 5138 5140 5142 5144 5146 5148 5150 5152 5154 5156 5158 5160 5162 5164 5166 5168 5170 5172 5174 5176 5178 5180 5182 5184 5186 5188 5190 5192 5194 5196 5198 5200 5202 5204 5206 5208 5210 5212 5214 5216 5218 5220 5222 5224 5226 5228 5230 5232 5234 5236 5238 5240 5242 5244 5246 5248 5250 5252 5254 5256 5258 5260 5262 5264 5266 5268 5270 5272 5274 5276 5278 5280 5282 5284 5286 5288 5290 5292 5294 5296 5298 5300 5302 5304 5306 5308 5310 5312 5314 5316 5318 5320 5322 5324 5326 5328 5330 5332 5334 5336 5338 5340 5342 5344 5346 5348 5350 5352 5354 5356 5358 5360 5362 5364 5366 5368 5370 5372 5374 5376 5378 5380 5382 5384 5386 5388 5390 5392 5394 5396 5398 5400 5402 5404 5406 5408 5410 5412 5414 5416 5418 5420 5422 5424 5426 5428 5430 5432 5434 5436 5438 5440 5442 5444 5446 5448 5450 5452 5454 5456 5458 5460 5462 5464 5466 5468 5470 5472 5474 5476 5478 5480 5482 5484 5486 5488 5490 5492 5494 5496 5498 5500 5502 5504 5506 5508 5510 5512 5514 5516 5518 5520 5522 5524 5526 5528 5530 5532 5534 5536 5538 5540 5542 5544 5546 5548 5550 5552 5554 5556 5558 5560 5562 5564 5566 5568 5570 5572 5574 5576 5578 5580 5582 5584 5586 5588 5590 5592 5594 5596 5598 5600 5602 5604 5606 5608 5610 5612 5614 5616 5618 5620 5622 5624 5626 5628 5630 5632 5634 5636 5638 5640 5642 5644 5646 5648 5650 5652 5654 5656 5658 5660 5662 5664 5666 5668 5670 5672 5674 5676 5678 5680 5682 5684 5686 5688 5690 5692 5694 5696 5698 5700 5702 5704 5706 5708 5710 5712 5714 5716 5718 5720 5722 5724 5726 5728 5730 5732 5734 5736 5738 5740 5742 5744 5746 5748 5750 5752 5754 5756 5758 5760 5762 5764 5766 5768 5770 5772 5774 5776 5778 5780 5782 5784 5786 5788 5790 5792 5794 5796 5798 5800 5802 5804 5806 5808 5810 5812 5814 5816 5818 5820 5822 5824 5826 5828 5830 5832 5834 5836 5838 5840 5842 5844 5846 5848 5850 5852 5854 5856 5858 5860 5862 5864 5866 5868 5870 5872 5874 5876 5878 5880 5882 5884 5886 5888 5890 5892 5894 5896 5898 5900 5902 5904 5906 5908 5910 5912 5914 5916 5918 5920 5922 5924 5926 5928 5930 5932 5934 5936 5938 5940 5942 5944 5946 5948 5950 5952 5954 5956 5958 5960 5962 5964 5966 5968 5970 5972 5974 5976 5978 5980 5982 5984 5986 5988 5990 5992 5994 5996 5998 6000 6002 6004 6006 6008 6010 6012 6014 6016 6018 6020 6022 6024 6026 6028 6030 6032 6034 6036 6038 6040 6042 6044 6046 6048 6050 6052 6054 6056 6058 6060 6062 6064 6066 6068 6070 6072 6074 6076 6078 6080 6082 6084 6086 6088 6090 6092 6094 6096 6098 6100 6102 6104 6106 6108 6110 6112 6114 6116 6118 6120 6122 6124 6126 6128 6130 6132 6134 6136 6138 6140 6142 6144 6146 6148 6150 6152 6154 6156 6158 6160 6162 6164 6166 6168 6170 6172 6174 6176 6178 6180 6182 6184 6186 6188 6190 6192 6194 6196 6198 6200 6202 6204 6206 6208 6210 6212 6214 6216 6218 6220 6222 6224 6226 6228 6230 6232 6234 6236 6238 6240 6242 6244 6246 6248 6250 6252 6254 6256 6258 6260 6262 6264 6266 6268 6270 6272 6274 6276 6278 6280 6282 6284 6286 6288 6290 6292 6294 6296 6298 6300 6302 6304 6306 6308 6310 6312 6314 6316 6318 6320 6322 6324 6326 6328 6330 6332 6334 6336 6338 6340 6342 6344 6346 6348 6350 6352 6354 6356 6358 6360 6362 6364 6366 6368 6370 6372 6374 6376 6378 6380 6382 6384 6386 6388 6390 6392 6394 6396 6398 6400 6402 6404 6406 6408 6410 6412 6414 6416 6418 6420 6422 6424 6426 6428 6430 6432 6434 6436 6438 6440 6442 6444 6446 6448 6450 6452 6454 6456 6458 6460 6462 6464 6466 6468 6470 6472 6474 6476 6478 6480 6482 6484 6486 6488 6490 6492 6494 6496 6498 6500 6502 6504 6506 6508 6510 6512 6514 6516 6518 6520 6522 6524 6526 6528 6530 6532 6534 6536 6538 6540 6542 6544 6546 6548 6550 6552 6554 6556 6558 6560 6562 6564 6566 6568 6570 6572 6574 6576 6578 6580 6582 6584 6586 6588 6590 6592 6594 6596 6598 6600 6602 6604 6606 6608 6610 6612 6614 6616 6618 6620 6622 6624 6626 6628 6630 6632 6634 6636 6638 6640 6642 6644 6646 6648 6650 6652 6654 6656 6658 6660 6662 6664 6666 6668 6670 6672 6674 6676 6678 6680 6682 6684 6686 6688 6690 6692 6694 6696 6698 6700 6702 6704 6706 6708 6710 6712 6714 6716 6718 6720 6722 6724 6726 6728 6730 6732 6734 6736 6738 6740 6742 6744 6746 6748 6750 6752 6754 6756 6758 6760 6762 6764 6766 6768 6770 6772 6774 6776 6778 6780 6782 6784 6786 6788 6790 6792 6794 6796 6798 6800 6802 6804 6806 6808 6810 6812 6814 6816 6818 6820 6822 6824 6826 6828 6830 6832 6834 6836 6838 6840 6842 6844 6846 6848 6850 6852 6854 6856 6858 6860 6862 6864 6866 6868 6870 6872 6874 6876 6878 6880 6882 6884 6886 6888 6890 6892 6894 6896 6898 6900 6902 6904 6906 6908 6910 6912 6914 6916 6918 6920 6922 6924 6926 6928 6930 6932 6934 6936 6938 6940 6942 6944 6946 6948 6950 6952 6954 6956 6958 6960 6962 6964 6966 6968 6970 6972 6974 6976 6978 6980 6982 6984 6986 6988 6990 6992 6994 6996 6998 7000 7002 7004 7006 7008 7010 7012 7014 7016 7018 7020 7022 7024 7026 7028 7030 7032 7034 7036 7038 7040 7042 7044 7046 7048 7050 7052 7054 7056 7058 7060 7062 7064 7066 7068 7070 7072 7074 7076 7078 7080 7082 7084 7086 7088 7090 7092 7094 7096 7098 7100 7102 7104 7106 7108 7110 7112 7114 7116 7118 7120 7122 7124 7126 7128 7130 7132 7134 7136 7138 7140 7142 7144 7146 7148 7150 7152 7154 7156 7158 7160 7162 7164 7166 7168 7170 7172 7174 7176 7178 7180 7182 7184 7186 7188 7190 7192 7194 7196 7198 7200 7202 7204 7206 7208 7210 7212 7214 7216 7218 7220 7222 7224 7226 7228 7230 7232 7234 7236 7238 7240 7242 7244 7246 7248 7250 7252 7254 7256 7258 7260 7262 7264 7266 7268 7270 7272 7274 7276 7278 7280 7282 7284 7286 7288 7290 7292 7294 7296 7298 7300 7302 7304 7306 7308 7310 7312 7314 7316 7318 7320 7322 7324 7326 7328 7330 7332 7334 7336 7338 7340 7342 7344 7346 7348 7350 7352 7354 7356 7358 7360 7362 7364 7366 7368 7370 7372 7374 7376 7378 7380 7382 7384 7386 7388 7390 7392 7394 7396 7398 7400 7402 7404 7406 7408 7410 7412 7414 7416 7418 7420 7422 7424 7426 7428 7430 7432 7434 7436 7438 7440 7442 7444 7446 7448 7450 7452 7454 7456 7458 7460 7462 7464 7466 7468 7470 7472 7474 7476 7478 7480 7482 7484 7486 7488 7490 7492 7494 7496 7498 7500 7502 7504 7506 7508 7510 7512 7514 7516 7518 7520 7522 7524 7526 7528 7530 7532 7534 7536 7538 7540 7542 7544 7546 7548 7550 7552 7554 7556 7558 7560 7562 7564 7566 7568 7570 7572 7574 7576 7578 7580 7582 7584 7586 7588 7590 7592 7594 7596 7598 7600 7602 7604 7606 7608 7610 7612 7614 7616 7618 7620 7622 7624 7626 7628 7630 7632 7634 7636 7638 7640 7642 7644 7646 7648 7650 7652 7654 7656 7658 7660 7662 7664 7666 7668 7670 7672 7674 7676 7678 7680 7682 7684 7686 7688 7690 7692 7694 7696 7698 7700 7702 7704 7706 7708 7710 7712 7714 7716 7718 7720 7722 7724 7726 7728 7730 7732 7734 7736 7738 7740 7742 7744 7746 7748 7750 7752 7754 7756 7758 7760 7762 7764 7766 7768 7770 7772 7774 7776 7778 7780 7782 7784 7786 7788 7790 7792 7794 7796 7798 7800 7802 7804 7806 7808 7810 7812 7814 7816 7818 7820 7822 7824 7826 7828 7830 7832 7834 7836 7838 7840 7842 7844 7846 7848 7850 7852 7854 7856 7858 7860 7862 7864 7866 7868 7870 7872 7874 7876 7878 7880 7882 7884 7886 7888 7890 7892 7894 7896 7898 7900 7902 7904 7906 7908 7910 7912 7914 7916 7918 7920 7922 7924 7926 7928 7930 7932 7934 7936 7938 7940 7942 7944 7946 7948 7950 7952 7954 7956 7958 7960 7962 7964 7966 7968 7970 7972 7974 7976 7978 7980 7982 7984 7986 7988 7990 7992 7994 7996 7998 8000 8002 8004 8006 8008 8010 8012 8014 8016 8018 8020 8022 8024 8026 8028 8030 8032 8034 8036 8038 8040 8042 8044 8046 8048 8050 8052 8054 8056 8058 8060 8062 8064 8066 8068 8070 8072 8074 8076 8078 8080 8082 8084 8086 8088 8090 8092 8094 8096 8098 8100 8102 8104 8106 8108 8110 8112 8114 8116 8118 8120 8122 8124 8126 8128 8130 8132 8134 8136 8138 8140 8142 8144 8146 8148 8150 8152 8154 8156 8158 8160 8162 8164 8166 8168 8170 8172 8174 8176 8178 8180 8182 8184 8186 8188 8190 8192 8194 8196 8198 8200 8202 8204 8206 8208 8210 8212 8214 8216 8218 8220 8222 8224 8226 8228 8230 8232 8234 8236 8238 8240 8242 8244 8246 8248 8250 8252 8254 8256 8258 8260 8262 8264 8266 8268 8270 8272 8274 8276 8278 8280 8282 8284 8286 8288 8290 8292 8294 8296 8298 8300 8302 8304 8306 8308 8310 8312 8314 8316 8318 8320 8322 8324 8326 8328 8330 8332 8334 8336 8338 8340 8342 8344 8346 8348 8350 8352 8354 8356 8358 8360 8362 8364 8366 8368 8370 8372 8374 8376 8378 8380 8382 8384 8386 8388 8390 8392 8394 8396 8398 8400 8402 8404 8406 8408 8410 8412 8414 8416 8418 8420 8422 8424 8426 8428 8430 8432 8434 8436 8438 8440 8442 8444 8446 8448 8450 8452 8454 8456 8458 8460 8462 8464 8466 8468 8470 8472 8474 8476 8478 8480 8482 8484 8486 8488 8490 8492 8494 8496 8498 8500 8502 8504 8506 8508 8510 8512 8514 8516 8518 8520 8522 8524 8526 8528 8530 8532 8534 8536 8538 8540 8542 8544 8546 8548 8550 8552 8554 8556 8558 8560 8562 8564 8566 8568 8570 8572 8574 8576 8578 8580 8582 8584 8586 8588 8590 8592 8594 8596 8598 8600 8602 8604 8606 8608 8610 8612 8614 8616 8618 8620 8622 8624 8626 8628 8630 8632 8634 8636 8638 8640 8642 8644 8646 8648 8650 8652 8654 8656 8658 8660 8662 8664 8666 8668 8670 8672 8674 8676 8678 8680 8682 8684 8686 8688 8690 8692 8694 8696 8698 8700 8702 8704 8706 8708 8710 8712 8714 8716 8718 8720 8722 8724 8726 8728 8730 8732 8734 8736 8738 8740 8742 8744 8746 8748 8750 8752 8754 8756 8758 8760 8762 8764 8766 8768 8770 8772 8774 8776 8778 8780 8782 8784 8786 8788 8790 8792 8794 8796 8798 8800 8802 8804 8806 8808 8810 8812 8814 8816 8818 8820 8822 8824 8826 8828 8830 8832 8834 8836 8838 8840 8842 8844 8846 8848 8850 8852 8854 8856 8858 8860 8862 8864 8866 8868 8870 8872 8874 8876 8878 8880 8882 8884 8886 8888 8890 8892 8894 8896 8898 8900 8902 8904 8906 8908 8910 8912 8914 8916 8918 8920 8922 8924 8926 8928 8930 8932 8934 8936 8938 8940 8942 8944 8946 8948 8950 8952 8954 8956 8958 8960 8962 8964 8966 8968 8970 8972 8974 8976 8978 8980 8982 8984 8986 8988 8990 8992 8994 8996 8998 9000 9002 9004 9006 9008 9010 9012 9014 9016 9018 9020 9022 9024 9026 9028 9030 9032 9034 9036 9038 9040 9042 9044 9046 9048 9050 9052 9054 9056 9058 9060 9062 9064 9066 9068 9070 9072 9074 9076 9078 9080 9082 9084 9086 9088 9090 9092 9094 9096 9098 9100 9102 9104 9106 9108 9110 9112 9114 9116 9118 9120 9122 9124 9126 9128 9130 9132 9134 9136 9138 9140 9142 9144 9146 9148 9150 9152 9154 9156 9158 9160 9162 9164 9166 9168 9170 9172 9174 9176 9178 9180 9182 9184 9186 9188 9190 9192 9194 9196 9198 9200 9202 9204 9206 9208 9210 9212 9214 9216 9218 9220 9222 9224 9226 9228 9230 9232 9234 9236 9238 9240 9242 9244 9246 9248 9250 9252 9254 9256 9258 9260 9262 9264 9266 9268 9270 9272 9274 9276 9278 9280 9282 9284 9286 9288 9290 9292 9294 9296 9298 9300 9302 9304 9306 9308 9310 9312 9314 9316 9318 9320 9322 9324 9326 9328 9330 9332 9334 9336 9338 9340 9342 9344 9346 9348 9350 9352 9354 9356 9358 9360 9362 9364 9366 9368 9370 9372 9374 9376 9378 9380 9382 9384 9386 9388 9390 9392 9394 9396 9398 9400 9402 9404 9406 9408 9410 9412 9414 9416 9418 9420 9422 9424 9426 9428 9430 9432 9434 9436 9438 9440 9442 9444 9446 9448 9450 9452 9454 9456 9458 9460 9462 9464 9466 9468 9470 9472 9474 9476 9478 9480 9482 9484 9486 9488 9490 9492 9494 9496 9498 9500 9502 9504 9506 9508 9510 9512 9514 9516 9518 9520 9522 9524 9526 9528 9530 9532 9534 9536 9538 9540 9542 9544 9546 9548 9550 9552 9554 9556 9558 9560 9562 9564 9566 9568 9570 9572 9574 9576 9578 9580 9582 9584 9586 9588 9590 9592 9594 9596 9598 9600 9602 9604 9606 9608 9610 9612 9614 9616 9618 9620 9622 9624 9626 9628 9630 9632 9634 9636 9638 9640 9642 9644 9646 9648 9650 9652 9654 9656 9658 9660 9662 9664 9666 9668 9670 9672 9674 9676 9678 9680 9682 9684 9686 9688 9690 9692 9694 9696 9698 9700 9702 9704 9706 9708 9710 9712 9714 9716 9718 9720 9722 9724 9726 9728 9730 9732 9734 9736 9738 9740 9742 9744 9746 9748 9750 9752 9754 9756 9758 9760 9762 9764 9766 9768 9770 9772 9774 9776 9778 9780 9782 9784 9786 9788 9790 9792 9794 9796 9798 9800 9802 9804 9806 9808 9810 9812 9814 9816 9818 9820 9822 9824 9826 9828 9830 9832 9834 9836 9838 9840 9842 9844 9846 9848 9850 9852 9854 9856 9858 9860 9862 9864 9866 9868 9870 9872 9874 9876 9878 9880 9882 9884 9886 9888 9890 9892 9894 9896 9898 9900 9902 9904 9906 9908 9910 9912 9914 9916 9918 9920 9922 9924 9926 9928 9930 9932 9934 9936 9938 9940 9942 9944 9946 9948 9950 9952 9954 9956 9958 9960 9962 9964 9966 9968 9970 9972 9974 9976 9978 9980 9982 9984 9986 9988 9990 9992 9994 9996 9998 10000 10002 10004 10006 10008 10010 10012 10014 10016 10018 10020 10022 10024 10026 10028 10030 10032 10034 10036 10038 10040 10042 10044 10046 10048 10050 10052 10054 10056 10058 10060 10062 10064 10066 10068 10070 10072 10074 10076 10078 10080 10082 10084 10086 10088 10090 10092 10094 10096 10098 10100 10102 10104 10106 10108 10110 10112 10114 10116 10118 10120 10122 10124 10126 10128 10130 10132 10134 10136 10138 10140 10142 10144 10146 10148 10150 10152 10154 10156 10158 10160 10162 10164 10166 10168 10170 10172 10174 10176 10178 10180 10182 10184 10186 10188 10190 10192 10194 10196 10198 10200 10202 10204 10206 10208 10210 10212 10214 10216 10218 10220 10222 10224 10226 10228 10230 10232 10234 10236 10238 10240 10242 10244 10246 10248 10250 10252 10254 10256 10258 10260 10262 10264 10266 10268 10270 10272 10274 10276 10278 10280 10282 10284 10286 10288 10290 10292 10294 10296 10298 10300 10302 10304 10306 10308 10310 10312 10314 10316 10318 10320 10322 10324 10326 10328 10330 10332 10334 10336 10338 10340 10342 10344 10346 10348 10350 10352 10354 10356 10358 10360 10362 10364 10366 10368 10370 10372 10374 10376 10378 10380 10382 10384 10386 10388 10390 10392 10394 10396 10398 10400 10402 10404 10406 10408 10410 10412 10414 10416 10418 10420 10422 10424 10426 10428 10430 10432 10434 10436 10438 10440 10442 10444 10446 10448 10450 10452 10454 10456 10458 10460 10462 10464 10466 10468 10470 10472 10474 10476 10478 10480 10482 10484 10486 10488 10490 10492 10494 10496 10498 10500 10502 10504 10506 10508 10510 10512 10514 10516 10518 10520 10522 10524 10526 10528 10530 10532 10534 10536 10538 10540 10542 10544 10546 10548 10550 10552 10554 10556 10558 10560 10562 10564 10566 10568 10570 10572 10574 10576 10578 10580 10582 10584 10586 10588 10590 10592 10594 10596 10598 10600 10602 10604 10606 10608 10610 10612 10614 10616 10618 10620 10622 10624 10626 10628 10630 10632 10634 10636 10638 10640 10642 10644 10646 10648 10650 10652 10654 10656 10658 10660 10662 10664 10666 10668 10670 10672 10674 10676 10678 10680 10682 10684 10686 10688 10690 10692 10694 10696 10698 10700 10702 10704 10706 10708 10710 10712 10714 10716 10718 10720 10722 10724 10726 10728 10730 10732 10734 10736 10738 10740 10742 10744 10746 10748 10750 10752 10754 10756 10758 10760 10762 10764 10766 10768 10770 10772 10774 10776 10778 10780 10782 10784 10786 10788 10790 10792 10794 10796 10798 10800 10802 10804 10806 10808 10810 10812 10814 10816 10818 10820 10822 10824 10826 10828 10830 10832 10834 10836 10838 10840 10842 10844 10846 10848 10850 10852 10854 10856 10858 10860 10862 10864 10866 10868 10870 10872 10874 10876 10878 10880 10882 10884 10886 10888 10890 10892 10894 10896 10898 10900 10902 10904 10906 10908 10910 10912 10914 10916 10918 10920 10922 10924 10926 10928 10930 10932 10934 10936 10938 10940 10942 10944 10946 10948 10950 10952 10954 10956 10958 10960 10962 10964 10966 10968 10970 10972 10974 10976 10978 10980 10982 10984 10986 10988 10990 10992 10994 10996 10998 11000 11002 11004 11006 11008 11010 11012 11014 11016 11018 11020 11022 11024 11026 11028 11030 11032 11034 11036 11038 11040 11042 11044 11046 11048 11050 11052 11054 11056 11058 11060 11062 11064 11066 11068 11070 11072 11074 11076 11078 11080 11082 11084 11086 11088 11090 11092 11094 11096 11098 11100 11102 11104 11106 11108 11110 11112 11114 11116 11118 11120 11122 11124 11126 11128 11130 11132 11134 11136 11138 11140 11142 11144 11146 11148 11150 11152 11154 11156 11158 11160 11162 11164 11166 11168 11170 11172 11174 11176 11178 11180 11182 11184 11186 11188 11190 11192 11194 11196 11198 11200 11202 11204 11206 11208 11210 11212 11214 11216 11218 11220 11222 11224 11226 11228 11230 11232 11234 11236 11238 11240 11242 11244 11246 11248 11250 11252 11254 11256 11258 11260 11262 11264 11266 11268 11270 11272 11274 11276 11278 11280 11282 11284 11286 11288 11290 11292 11294 11296 11298 11300 11302 11304 11306 11308 11310 11312 11314 11316 11318 11320 11322 11324 11326 11328 11330 11332 11334 11336 11338 11340 11342 11344 11346 11348 11350 11352 11354 11356 11358 11360 11362 11364 11366 11368 11370 11372 11374 11376 11378 11380 11382 11384 11386 11388 11390 11392 11394 11396 11398 11400 11402 11404 11406 11408 11410 11412 11414 11416 11418 11420 11422 11424 11426 11428 11430 11432 11434 11436 11438 11440 11442 11444 11446 11448 11450 11452 11454 11456 11458 11460 11462 11464 11466 11468 11470 11472 11474 11476 11478 11480 11482 11484 11486 11488 11490 11492 11494 11496 11498 11500 11502 11504 11506 11508 11510 11512 11514 11516 11518 11520 11522 11524 11526 11528 11530 11532 11534 11536 11538 11540 11542 11544 11546 11548 11550 11552 11554 11556 11558 11560 11562 11564 11566 11568 11570 11572 11574 11576 11578 11580 11582 11584 11586 11588 11590 11592 11594 11596 11598 11600 11602 11604 11606 11608 11610 11612 11614 11616 11618 11620 11622 11624 11626 11628 11630 11632 11634 11636 11638 11640 11642 11644 11646 11648 11650 11652 11654 11656 11658 11660 11662 11664 11666 11668 11670 11672 11674 11676 11678 11680 11682 11684 11686 11688 11690 11692 11694 11696 11698 11700 11702 11704 11706 11708 11710 11712 11714 11716 11718 11720 11722 11724 11726 11728 11730 11732 11734 11736 11738 11740 11742 11744 11746 11748 11750 11752 11754 11756 11758 11760 11762 11764 11766 11768 11770 11772 11774 11776 11778 11780 11782 11784 11786 11788 11790 11792 11794 11796 11798 11800 11802 11804 11806 11808 11810 11812 11814 11816 11818 11820 11822 11824 11826 11828 11830 11832 11834 11836 11838 11840 11842 11844 11846 11848 11850 11852 11854 11856 11858 11860 11862 11864 11866 11868 11870 11872 11874 11876 11878 11880 11882 11884 11886 11888 11890 11892 11894 11896 11898 11900 11902 11904 11906 11908 11910 11912 11914 11916 11918 11920 11922 11924 11926 11928 11930 11932 11934 11936 11938 11940 11942 11944 11946 11948 11950 11952 11954 11956 11958 11960 11962 11964 11966 11968 11970 11972 11974 11976 11978 11980 11982 11984 11986 11988 11990 11992 11994 11996 11998 12000 12002 12004 12006 12008 12010 12012 12014 12016 12018 12020 12022 12024 12026 12028 12030 12032 12034 12036 12038 12040 12042 12044 12046 12048 12050 12052 12054 12056 12058 12060 12062 12064 12066 12068 12070 12072 12074 12076 12078 12080 12082 12084 12086 12088 12090 12092 12094 12096 12098 12100 12102 12104 12106 12108 12110 12112 12114 12116 12118 12120 12122 12124 12126 12128 12130 12132 12134 12136 12138 12140 12142 12144 12146 12148 12150 12152 12154 12156 12158 12160 12162 12164 12166 12168 12170 12172 12174 12176 12178 12180 12182 12184 12186 12188 12190 12192 12194 12196 12198 12200 12202 12204 12206 12208 12210 12212 12214 12216 12218 12220 12222 12224 12226 12228 12230 12232 12234 12236 12238 12240 12242 12244 12246 12248 12250 12252 12254 12256 12258 12260 12262 12264 12266 12268 12270 12272 12274 12276 12278 12280 12282 12284 12286 12288 12290 12292 12294 12296 12298 12300 12302 12304 12306 12308 12310 12312 12314 12316 12318 12320 12322 12324 12326 12328 12330 12332 12334 12336 12338 12340 12342 12344 12346 12348 12350 12352 12354 12356 12358 12360 12362 12364 12366 12368 12370 12372 12374 12376 12378 12380 12382 12384 12386 12388 12390 12392 12394 12396 12398 12400 12402 12404 12406 12408 12410 12412 12414 12416 12418 12420 12422 12424 12426 12428 12430 12432 12434 12436 12438 12440 12442 12444 12446 12448 12450 12452 12454 12456 12458 12460 12462 12464 12466 12468 12470 12472 12474 12476 12478 12480 12482 12484 12486 12488 12490 12492 12494 12496 12498 12500 12502 12504 12506 12508 12510 12512 12514 12516 12518 12520 12522 12524 12526 12528 12530 12532 12534 12536 12538 12540 12542 12544 12546 12548 12550 12552 12554 12556 12558 12560 12562 12564 12566 12568 12570 12572 12574 12576 12578 12580 12582 12584 12586 12588 12590 12592 12594 12596 12598 12600 12602 12604 12606 12608 12610 12612 12614 12616 12618 12620 12622 12624 12626 12628 12630 12632 12634 12636 12638 12640 12642 12644 12646 12648 12650 12652 12654 12656 12658 12660 12662 12664 12666 12668 12670 12672 12674 12676 12678 12680 12682 12684 12686 12688 12690 12692 12694 12696 12698 12700 12702 12704 12706 12708 12710 12712 12714 12716 12718 12720 12722 12724 12726 12728 12730 12732 12734 12736 12738 12740 12742 12744 12746 12748 12750 12752 12754 12756 12758 12760 12762 12764 12766 12768 12770 12772 12774 12776 12778 12780 12782 12784 12786 12788 12790 12792 12794 12796 12798 12800 12802 12804 12806 12808 12810 12812 12814 12816 12818 12820 12822 12824 12826 12828 12830 12832 12834 12836 12838 12840 12842 12844 12846 12848 12850 12852 12854 12856 12858 12860 12862 12864 12866 12868 12870 12872 12874 12876 12878 12880 12882 12884 12886 12888 12890 12892 12894 12896 12898 12900 12902 12904 12906 12908 12910 12912 12914 12916 12918 12920 12922 12924 12926 12928 12930 12932 12934 12936 12938 12940 12942 12944 12946 12948 12950 12952 12954 12956 12958 12960 12962 12964 12966 12968 12970 12972 12974 12976 12978 12980 12982 12984 12986 12988 12990 12992 12994 12996 12998 13000 13002 13004 13006 13008 13010 13012 13014 13016 13018 13020 13022 13024 13026 13028 13030 13032 13034 13036 13038 13040 13042 13044 13046 13048 13050 13052 13054 13056 13058 13060 13062 13064 13066 13068 13070 13072 13074 13076 13078 13080 13082 13084 13086 13088 13090 13092 13094 13096 13098 13100 13102 13104 13106 13108 13110 13112 13114 13116 13118 13120 13122 13124 13126 13128 13130 13132 13134 13136 13138 13140 13142 13144 13146 13148 13150 13152 13154 13156 13158 13160 13162 13164 13166 13168 13170 13172 13174 13176 13178 13180 13182 13184 13186 13188 13190 13192 13194 13196 13198 13200 13202 13204 13206 13208 13210 13212 13214 13216 13218 13220 13222 13224 13226 13228 13230 13232 13234 13236 13238 13240 13242 13244 13246 13248 13250 13252 13254 13256 13258 13260 13262 13264 13266 13268 13270 13272 13274 13276 13278 13280 13282 13284 13286 13288 13290 13292 13294 13296 13298 13300 13302 13304 13306 13308 13310 13312 13314 13316 13318 13320 13322 13324 13326 13328 13330 13332 13334 13336 13338 13340 13342 13344 13346 13348 13350 13352 13354 13356 13358 13360 13362 13364 13366 13368 13370 13372 13374 13376 13378 13380 13382 13384 13386 13388 13390 13392 13394 13396 13398 13400 13402 13404 13406 13408 13410 13412 13414 13416 13418 13420 13422 13424 13426 13428 13430 13432 13434 13436 13438 13440 13442 13444 13446 13448 13450 13452 13454 13456 13458 13460 13462 13464 13466 13468 13470 13472 13474 13476 13478 13480 13482 13484 13486 13488 13490 13492 13494 13496 13498 13500 13502 13504 13506 13508 13510 13512 13514 13516 13518 13520 13522 13524 13526 13528 13530 13532 13534 13536 13538 13540 13542 13544 13546 13548 13550 13552 13554 13556 13558 13560 13562 13564 13566 13568 13570 13572 13574 13576 13578 13580 13582 13584 13586 13588 13590 13592 13594 13596 13598 13600 13602 13604 13606 13608 13610 13612 13614 13616 13618 13620 13622 13624 13626 13628 13630 13632 13634 13636 13638 13640 13642 13644 13646 13648 13650 13652 13654 13656 13658 13660 13662 13664 13666 13668 13670 13672 13674 13676 13678 13680 13682 13684 13686 13688 13690 13692 13694 13696 13698 13700 13702 13704 13706 13708 13710 13712 13714 13716 13718 13720 13722 13724 13726 13728 13730 13732 13734 13736 13738 13740 13742 13744 13746 13748 13750 13752 13754 13756 13758 13760 13762 13764 13766 13768 13770 13772 13774 13776 13778 13780 13782 13784 13786 13788 13790 13792 13794 13796 13798 13800 13802 13804 13806 13808 13810 13812 13814 13816 13818 13820 13822 13824 13826 13828 13830 13832 13834 13836 13838 13840 13842 13844 13846 13848 13850 13852 13854 13856 13858 13860 13862 13864 13866 13868 13870 13872 13874 13876 13878 13880 13882 13884 13886 13888 13890 13892 13894 13896 13898 13900 13902 13904 13906 13908 13910 13912 13914 13916 13918 13920 13922 13924 13926 13928 13930 13932 13934 13936 13938 13940 13942 13944 13946 13948 13950 13952 13954 13956 13958 13960 13962 13964 13966 13968 13970 13972 13974 13976 13978 13980 13982 13984 13986 13988 13990 13992 13994 13996 13998 14000 14002 14004 14006 14008 14010 14012 14014 14016 14018 14020 14022 14024 14026 14028 14030 14032 14034 14036 14038 14040 14042 14044 14046 14048 14050 14052 14054 14056 14058 14060 14062 14064 14066 14068 14070 14072 14074 14076 14078 14080 14082 14084 14086 14088 14090 14092 14094 14096 14098 14100 14102 14104 14106 14108 14110 14112 14114 14116 14118 14120 14122 14124 14126 14128 14130 14132 14134 14136 14138 14140 14142 14144 14146 14148 14150 14152 14154 14156 14158 14160 14162 14164 14166 14168 14170 14172 14174 14176 14178 14180 14182 14184 14186 14188 14190 14192 14194 14196 14198 14200 14202 14204 14206 14208 14210 14212 14214 14216 14218 14220 14222 14224 14226 14228 14230 14232 14234 14236 14238 14240 14242 14244 14246 14248 14250 14252 14254 14256 14258 14260 14262 14264 14266 14268 14270 14272 14274 14276 14278 14280 14282 14284 14286 14288 14290 14292 14294 14296 14298 14300 14302 14304 14306 14308 14310 14312 14314 14316 14318 14320 14322 14324 14326 14328 14330 14332 14334 14336 14338 14340 14342 14344 14346 14348 14350 14352 14354 14356 14358 14360 14362 14364 14366 14368 14370 14372 14374 14376 14378 14380 14382 14384 14386 14388 14390 14392 14394 14396 14398 14400 14402 14404 14406 14408 14410 14412 14414 14416 14418 14420 14422 14424 14426 14428 14430 14432 14434 14436 14438 14440 14442 14444 14446 14448 14450 14452 14454 14456 14458 14460 14462 14464 14466 14468 14470 14472 14474 14476 14478 14480 14482 14484 14486 14488 14490 14492 14494 14496 14498 14500 14502 14504 14506 14508 14510 14512 14514 14516 14518 14520 14522 14524 14526 14528 14530 14532 14534 14536 14538 14540 14542 14544 14546 14548 14550 14552 14554 14556 14558 14560 14562 14564 14566 14568 14570 14572 14574 14576 14578 14580 14582 14584 14586 14588 14590 14592 14594 14596 14598 14600 14602 14604 14606 14608 14610 14612 14614 14616 14618 14620 14622 14624 14626 14628 14630 14632 14634 14636 14638 14640 14642 14644 14646 14648 14650 14652 14654 14656 14658 14660 14662 14664 14666 14668 14670 14672 14674 14676 14678 14680 14682 14684 14686 14688 14690 14692 14694 14696 14698 14700 14702 14704 14706 14708 14710 14712 14714 14716 14718 14720 14722 14724 14726 14728 14730 14732 14734 14736 14738 14740 14742 14744 14746 14748 14750 14752 14754 14756 14758 14760 14762 14764 14766 14768 14770 14772 14774 14776 14778 14780 14782 14784 14786 14788 14790 14792 14794 14796 14798 14800 14802 14804 14806 14808 14810 14812 14814 14816 14818 14820 14822 14824 14826 14828 14830 14832 14834 14836 14838 14840 14842 14844 14846 14848 14850 14852 14854 14856 14858 14860 14862 14864 14866 14868 14870 14872 14874 14876 14878 14880 14882 14884 14886 14888 14890 14892 14894 14896 14898 14900 14902 14904 14906 14908 14910 14912 14914 14916 14918 14920 14922 14924 14926 14928 14930 14932 14934 14936 14938 14940 14942 14944 14946 14948 14950 14952 14954 14956 14958 14960 14962 14964 14966 14968 14970 14972 14974 14976 14978 14980 14982 14984 14986 14988 14990 14992 14994 14996 14998 15000 15002 15004 15006 15008 15010 15012 15014 15016 15018 15020 15022 15024 15026 15028 15030 15032 15034 15036 15038 15040 15042 15044 15046 15048 15050 15052 15054 15056 15058 15060 15062 15064 15066 15068 15070 15072 15074 15076 15078 15080 15082 15084 15086 15088 15090 15092 15094 15096 15098 15100 15102 15104 15106 15108 15110 15112 15114 15116 15118 15120 15122 15124 15126 15128 15130 15132 15134 15136 15138 15140 15142 15144 15146 15148 15150 15152 15154 15156 15158 15160 15162 15164 15166 15168 15170 15172 15174 15176 15178 15180 15182 15184 15186 15188 15190 15192 15194 15196 15198 15200 15202 15204 15206 15208 15210 15212 15214 15216 15218 15220 15222 15224 15226 15228 15230 15232 15234 15236 15238 15240 15242 15244 15246 15248 15250 15252 15254 15256 15258 15260 15262 15264 15266 15268 15270 15272 15274 15276 15278 15280 15282 15284 15286 15288 15290 15292 15294 15296 15298 15300 15302 15304 15306 15308 15310 15312 15314 15316 15318 15320 15322 15324 15326 15328 15330 15332 15334 15336 15338 15340 15342 15344 15346 15348 15350 15352 15354 15356 15358 15360 15362 15364 15366 15368 15370 15372 15374 15376 15378 15380 15382 15384 15386 15388 15390 15392 15394 15396 15398 15400 15402 15404 15406 15408 15410 15412 15414 15416 15418 15420 15422 15424 15426 15428 15430 15432 15434 15436 15438 15440 15442 15444 15446 15448 15450 15452 15454 15456 15458 15460 15462 15464 15466 15468 15470 15472 15474 15476 15478 15480 15482 15484 15486 15488 15490 15492 15494 15496 15498 15500 15502 15504 15506 15508 15510 15512 15514 15516 15518 15520 15522 15524 15526 15528 15530 15532 15534 15536 15538 15540 15542 15544 15546 15548 15550 15552 15554 15556 15558 15560 15562 15564 15566 15568 15570 15572 15574 15576 15578 15580 15582 15584 15586 15588 15590 15592 15594 15596 15598 15600 15602 15604 15606 15608 15610 15612 15614 15616 15618 15620 15622 15624 15626 15628 15630 15632 15634 15636 15638 15640 15642 15644 15646 15648 15650 15652 15654 15656 15658 15660 15662 15664 15666 15668 15670 15672 15674 15676 15678 15680 15682 15684 15686 15688 15690 15692 15694 15696 15698 15700 15702 15704 15706 15708 15710 15712 15714 15716 15718 15720 15722 15724 15726 15728 15730 15732 15734 15736 15738 15740 15742 15744 15746 15748 15750 15752 15754 15756 15758 15760 15762 15764 15766 15768 15770 15772 15774 15776 15778 15780 15782 15784 15786 15788 15790 15792 15794 15796 15798 15800 15802 15804 15806 15808 15810 15812 15814 15816 15818 15820 15822 15824 15826 15828 15830 15832 15834 15836 15838 15840 15842 15844 15846 15848 15850 15852 15854 15856 15858 15860 15862 15864 15866 15868 15870 15872 15874 15876 15878 15880 15882 15884 15886 15888 15890 15892 15894 15896 15898 15900 15902 15904 15906 15908 15910 15912 15914 15916 15918 15920 15922 15924 15926 15928 15930 15932 15934 15936 15938 15940 15942 15944 15946 15948 15950 15952 15954 15956 15958 15960 15962 15964 15966 15968 15970 15972 15974 15976 15978 15980 15982 15984 15986 15988 15990 15992 15994 15996 15998 16000 16002 16004 16006 16008 16010 16012 16014 16016 16018 16020 16022 16024 16026 16028 16030 16032 16034 16036 16038 16040 16042 16044 16046 16048 16050 16052 16054 16056 16058 16060 16062 16064 16066 16068 16070 16072 16074 16076 16078 16080 16082 16084 16086 16088 16090 16092 16094 16096 16098 16100 16102 16104 16106 16108 16110 16112 16114 16116 16118 16120 16122 16124 16126 16128 16130 16132 16134 16136 16138 16140 16142 16144 16146 16148 16150 16152 16154 16156 16158 16160 16162 16164 16166 16168 16170 16172 16174 16176 16178 16180 16182 16184 16186 16188 16190 16192 16194 16196 16198 16200 16202 16204 16206 16208 16210 16212 16214 16216 16218 16220 16222 16224 16226 16228 16230 16232 16234 16236 16238 16240 16242 16244 16246 16248 16250 16252 16254 16256 16258 16260 16262 16264 16266 16268 16270 16272 16274 16276 16278 16280 16282 16284 16286 16288 16290 16292 16294 16296 16298 16300 16302 16304 16306 16308 16310 16312 16314 16316 16318 16320 16322 16324 16326 16328 16330 16332 16334 16336 16338 16340 16342 16344 16346 16348 16350 16352 16354 16356 16358 16360 16362 16364 16366 16368 16370 16372 16374 16376 16378 16380 16382 16384 16386 16388 16390 16392 16394 16396 16398 16400 16402 16404 16406 16408 16410 16412 16414 16416 16418 16420 16422 16424 16426 16428 16430 16432 16434 16436 16438 16440 16442 16444 16446 16448 16450 16452 16454 16456 16458 16460 16462 16464 16466 16468 16470 16472 16474 16476 16478 16480 16482 16484 16486 16488 16490 16492 16494 16496 16498 16500 16502 16504 16506 16508 16510 16512 16514 16516 16518 16520 16522 16524 16526 16528 16530 16532 16534 16536 16538 16540 16542 16544 16546 16548 16550 16552 16554 16556 16558 16560 16562 16564 16566 16568 16570 16572 16574 16576 16578 16580 16582 16584 16586 16588 16590 16592 16594 16596 16598 16600 16602 16604 16606 16608 16610 16612 16614 16616 16618 16620 16622 16624 16626 16628 16630 16632 16634 16636 16638 16640 16642 16644 16646 16648 16650 16652 16654 16656 16658 16660 16662 16664 16666 16668 16670 16672 16674 16676 16678 16680 16682 16684 16686 16688 16690 16692 16694 16696 16698 16700 16702 16704 16706 16708 16710 16712 16714 16716 16718 16720 16722 16724 16726 16728 16730 16732 16734 16736 16738 16740 16742 16744 16746 16748 16750 16752 16754 16756 16758 16760 16762 16764 16766 16768 16770 16772 16774 16776 16778 16780 16782 16784 16786 16788 16790 16792 16794 16796 16798 16800 16802 16804 16806 16808 16810 16812 16814 16816 16818 16820 16822 16824 16826 16828 16830 16832 16834 16836 16838 16840 16842 16844 16846 16848 16850 16852 16854 16856 16858 16860 16862 16864 16866 16868 16870 16872 16874 16876 16878 16880 16882 16884 16886 16888 16890 16892 16894 16896 16898 16900 16902 16904 16906 16908 16910 16912 16914 16916 16918 16920 16922 16924 16926 16928 16930 16932 16934 16936 16938 16940 16942 16944 16946 16948 16950 16952 16954 16956 16958 16960 16962 16964 16966 16968 16970 16972 16974 16976 16978 16980 16982 16984 16986 16988 16990 16992 16994 16996 16998 17000 17002 17004 17006 17008 17010 17012 17014 17016 17018 17020 17022 17024 17026 17028 17030 17032 17034 17036 17038 17040 17042 17044 17046 17048 17050 17052 17054 17056 17058 17060 17062 17064 17066 17068 17070 17072 17074 17076 17078 17080 17082 17084 17086 17088 17090 17092 17094 17096 17098 17100 17102 17104 17106 17108 17110 17112 17114 17116 17118 17120 17122 17124 17126 17128 17130 17132 17134 17136 17138 17140 17142 17144 17146 17148 17150 17152 17154 17156 17158 17160 17162 17164 17166 17168 17170 17172 17174 17176 17178 17180 17182 17184 17186 17188 17190 17192 17194 17196 17198 17200 17202 17204 17206 17208 17210 17212 17214 17216 17218 17220 17222 17224 17226 17228 17230 17232 17234 17236 17238 17240 17242 17244 17246 17248 17250 17252 17254 17256 17258 17260 17262 17264 17266 17268 17270 17272 17274 17276 17278 17280 17282 17284 17286 17288 17290 17292 17294 17296 17298 17300 17302 17304 17306 17308 17310 17312 17314 17316 17318 17320 17322 17324 17326 17328 17330 17332 17334 17336 17338 17340 17342 17344 17346 17348 17350 17352 17354 17356 17358 17360 17362 17364 17366 17368 17370 17372 17374 17376 17378 17380 17382 17384 17386 17388 17390 17392 17394 17396 17398 17400 17402 17404 17406 17408 17410 17412 17414 17416 17418 17420 17422 17424 17426 17428 17430 17432 17434 17436 17438 17440 17442 17444 17446 17448 17450 17452 17454 17456 17458 17460 17462 17464 17466 17468 17470 17472 17474 17476 17478 17480 17482 17484 17486 17488 17490 17492 17494 17496 17498 17500 17502 17504 17506 17508 17510 17512 17514 17516 17518 17520 17522 17524 17526 17528 17530 17532 17534 17536 17538 17540 17542 17544 17546 17548 17550 17552 17554 17556 17558 17560 17562 17564 17566 17568 17570 17572 17574 17576 17578 17580 17582 17584 17586 17588 17590 17592 17594 17596 17598 17600 17602 17604 17606 17608 17610 17612 17614 17616 17618 17620 17622 17624 17626 17628 17630 17632 17634 17636 17638 17640 17642 17644 17646 17648 17650 17652 17654 17656 17658 17660 17662 17664 17666 17668 17670 17672 17674 17676 17678 17680 17682 17684 17686 17688 17690 17692 17694 17696 17698 17700 17702 17704 17706 17708 17710 17712 17714 17716 17718 17720 17722 17724 17726 17728 17730 17732 17734 17736 17738 17740 17742 17744 17746 17748 17750 17752 17754 17756 17758 17760 17762 17764 17766 17768 17770 17772 17774 17776 17778 17780 17782 17784 17786 17788 17790 17792 17794 17796 17798 17800 17802 17804 17806 17808 17810 17812 17814 17816 17818 17820 17822 17824 17826 17828 17830 17832 17834 17836 17838 17840 17842 17844 17846 17848 17850 17852 17854 17856 17858 17860 17862 17864 17866 17868 17870 17872 17874 17876 17878 17880 17882 17884 17886 17888 17890 17892 17894 17896 17898 17900 17902 17904 17906 17908 17910 17912 17914 17916 17918 17920 17922 17924 17926 17928 17930 17932 17934 17936 17938 17940 17942 17944 17946 17948 17950 17952 17954 17956 17958 17960 17962 17964 17966 17968 17970 17972 17974 17976 17978 17980 17982 17984 17986 17988 17990 17992 17994 17996 17998 18000 18002 18004 18006 18008 18010 18012 18014 18016 18018 18020 18022 18024 18026 18028 18030 18032 18034 18036 18038 18040 18042 18044 18046 18048 18050 18052 18054 18056 18058 18060 18062 18064 18066 18068 18070 18072 18074 18076 18078 18080 18082 18084 18086 18088 18090 18092 18094 18096 18098 18100 18102 18104 18106 18108 18110 18112 18114 18116 18118 18120 18122 18124 18126 18128 18130 18132 18134 18136 18138 18140 18142 18144 18146 18148 18150 18152 18154 18156 18158 18160 18162 18164 18166 18168 18170 18172 18174 18176 18178 18180 18182 18184 18186 18188 18190 18192 18194 18196 18198 18200 18202 18204 18206 18208 18210 18212 18214 18216 18218 18220 18222 18224 18226 18228 18230 18232 18234 18236 18238 18240 18242 18244 18246 18248 18250 18252 18254 18256 18258 18260 18262 18264 18266 18268 18270 18272 18274 18276 18278 18280 18282 18284 18286 18288 18290 18292 18294 18296 18298 18300 18302 18304 18306 18308 18310 18312 18314 18316 18318 18320 18322 18324 18326 18328 18330 18332 18334 18336 18338 18340 18342 18344 18346 18348 18350 18352 18354 18356 18358 18360 18362 18364 18366 18368 18370 18372 18374 18376 18378 18380 18382 18384 18386 18388 18390 18392 18394 18396 18398 18400 18402 18404 18406 18408 18410 18412 18414 18416 18418 18420 18422 18424 18426 18428 18430 18432 18434 18436 18438 18440 18442 18444 18446 18448 18450 18452 18454 18456 18458 18460 18462 18464 18466 18468 18470 18472 18474 18476 18478 18480 18482 18484 18486 18488 18490 18492 18494 18496 18498 18500 18502 18504 18506 18508 18510 18512 18514 18516 18518 18520 18522 18524 18526 18528 18530 18532 18534 18536 18538 18540 18542 18544 18546 18548 18550 18552 18554 18556 18558 18560 18562 18564 18566 18568 18570 18572 18574 18576 18578 18580 18582 18584 18586 18588 18590 18592 18594 18596 18598 18600 18602 18604 18606 18608 18610 18612 18614 18616 18618 18620 18622 18624 18626 18628 18630 18632 18634 18636 18638 18640 18642 18644 18646 18648 18650 18652 18654 18656 18658 18660 18662 18664 18666 18668 18670 18672 18674 18676 18678 18680 18682 18684 18686 18688 18690 18692 18694 18696 18698 18700 18702 18704 18706 18708 18710 18712 18714 18716 18718 18720 18722 18724 18726 18728 18730 18732 18734 18736 18738 18740 18742 18744 18746 18748 18750 18752 18754 18756 18758 18760 18762 18764 18766 18768 18770 18772 18774 18776 18778 18780 18782 18784 18786 18788 18790 18792 18794 18796 18798 18800 18802 18804 18806 18808 18810 18812 18814 18816 18818 18820 18822 18824 18826 18828 18830 18832 18834 18836 18838 18840 18842 18844 18846 18848 18850 18852 18854 18856 18858 18860 18862 18864 18866 18868 18870 18872 18874 18876 18878 18880 18882 18884 18886 18888 18890 18892 18894 18896 18898 18900 18902 18904 18906 18908 18910 18912 18914 18916 18918 18920 18922 18924 18926 18928 18930 18932 18934 18936 18938 18940 18942 18944 18946 18948 18950 18952 18954 18956 18958 18960 18962 18964 18966 18968 18970 18972 18974 18976 18978 18980 18982 18984 18986 18988 18990 18992 18994 18996 18998 19000 19002 19004 19006 19008 19010 19012 19014 19016 19018 19020 19022 19024 19026 19028 19030 19032 19034 19036 19038 19040 19042 19044 19046 19048 19050 19052 19054 19056 19058 19060 19062 19064 19066 19068 19070 19072 19074 19076 19078 19080 19082 19084 19086 19088 19090 19092 19094 19096 19098 19100 19102 19104 19106 19108 19110 19112 19114 19116 19118 19120 19122 19124 19126 19128 19130 19132 19134 19136 19138 19140 19142 19144 19146 19148 19150 19152 19154 19156 19158 19160 19162 19164 19166 19168 19170 19172 19174 19176 19178 19180 19182 19184 19186 19188 19190 19192 19194 19196 19198 19200 19202 19204 19206 19208 19210 19212 19214 19216 19218 19220 19222 19224 19226 19228 19230 19232 19234 19236 19238 19240 19242 19244 19246 19248 19250 19252 19254 19256 19258 19260 19262 19264 19266 19268 19270 19272 19274 19276 19278 19280 19282 19284 19286 19288 19290 19292 19294 19296 19298 19300 19302 19304 19306 19308 19310 19312 19314 19316 19318 19320 19322 19324 19326 19328 19330 19332 19334 19336 19338 19340 19342 19344 19346 19348 19350 19352 19354 19356 19358 19360 19362 19364 19366 19368 19370 19372 19374 19376 19378 19380 19382 19384 19386 19388 19390 19392 19394 19396 19398 19400 19402 19404 19406 19408 19410 19412 19414 19416 19418 19420 19422 19424 19426 19428 19430 19432 19434 19436 19438 19440 19442 19444 19446 19448 19450 19452 19454 19456 19458 19460 19462 19464 19466 19468 19470 19472 19474 19476 19478 19480 19482 19484 19486 19488 19490 19492 19494 19496 19498 19500 19502 19504 19506 19508 19510 19512 19514 19516 19518 19520 19522 19524 19526 19528 19530 19532 19534 19536 19538 19540 19542 19544 19546 19548 19550 19552 19554 19556 19558 19560 19562 19564 19566 19568 19570 19572 19574 19576 19578 19580 19582 19584 19586 19588 19590 19592 19594 19596 19598 19600 19602 19604 19606 19608 19610 19612 19614 19616 19618 19620 19622 19624 19626 19628 19630 19632 19634 19636 19638 19640 19642 19644 19646 19648 19650 19652 19654 19656 19658 19660 19662 19664 19666 19668 19670 19672 19674 19676 19678 19680 19682 19684 19686 19688 19690 19692 19694 19696 19698 19700 19702 19704 19706 19708 19710 19712 19714 19716 19718 19720 19722 19724 19726 19728 19730 19732 19734 19736 19738 19740 19742 19744 19746 19748 19750 19752 19754 19756 19758 19760 19762 19764 19766 19768 19770 19772 19774 19776 19778 19780 19782 19784 19786 19788 19790 19792 19794 19796 19798 19800 19802 19804 19806 19808 19810 19812 19814 19816 19818 19820 19822 19824 19826 19828 19830 19832 19834 19836 19838 19840 19842 19844 19846 19848 19850 19852 19854 19856 19858 19860 19862 19864 19866 19868 19870 19872 19874 19876 19878 19880 19882 19884 19886 19888 19890 19892 19894 19896 19898 19900 19902 19904 19906 19908 19910 19912 19914 19916 19918 19920 19922 19924 19926 19928 19930 19932 19934 19936 19938 19940 19942 19944 19946 19948 19950 19952 19954 19956 19958 19960 19962 19964 19966 19968 19970 19972 19974 19976 19978 19980 19982 19984 19986 19988 19990 19992 19994 19996 19998 \n",
            "Tempo de execução: 0.201771 s\n"
          ]
        }
      ]
    },
    {
      "cell_type": "code",
      "source": [
        "%%writefile vetor_insert_critical_melhor.cpp\n",
        "\n",
        "#include <vector>\n",
        "#include <iostream>\n",
        "#include <unistd.h>\n",
        "#include <omp.h>\n",
        "#include <chrono>\n",
        "\n",
        "\n",
        "double conta_complexa(int i) {\n",
        "\treturn 2 * i;\n",
        "}\n",
        "\n",
        "int main() {\n",
        "  auto t_start = std::chrono::high_resolution_clock::now();\n",
        "\tint N = 10000; \n",
        "\tstd::vector<double> vec;\n",
        "  int i = 0;\n",
        "\t#pragma omp parallel for default(none) private(i) shared(vec) firstprivate(N)\n",
        "\tfor (i = 0; i < N; i++) {\n",
        "    double calculo = conta_complexa(i);\n",
        "    # pragma omp critical\n",
        "    {\n",
        "\t\t  vec.push_back(calculo);\n",
        "    }\n",
        "\t}\n",
        "\t\t\n",
        "\tfor (int i = 0; i < N; i++) {\n",
        "\t\tstd::cout << vec[i] << \" \";\n",
        "\t\t// std::cout << i << \" \";\n",
        "\t}\n",
        "\n",
        "  std::cout << std::endl;\n",
        "  auto t_end = std::chrono::high_resolution_clock::now();\n",
        "\n",
        "  double elapsed_time_ms = std::chrono::duration<double, std::milli>(t_end-t_start).count();\n",
        "  double elapsed_time_s = elapsed_time_ms/1000;\n",
        "  std::cout << \"Tempo de execução: \" << elapsed_time_s << \" s\" << std::endl;\n",
        "\t\n",
        "\treturn 0;\n",
        "}\n",
        "\n",
        "\n",
        "// Ao usar a cláusula default(none), o compilador OpenMP exige que todas as variáveis ​​sejam especificadas explicitamente como\n",
        "//  compartilhadas ou privadas usando as cláusulas shared ou private, respectivamente. Isso ajuda a tornar o código mais seguro e menos\n",
        "//   suscetível a bugs de concorrência.\n",
        "\n",
        "// firstprivate(N) irá definir N como uma variável privada e copiá-la para cada thread."
      ],
      "metadata": {
        "colab": {
          "base_uri": "https://localhost:8080/"
        },
        "id": "NRs9g1ivvIxB",
        "outputId": "654e5f32-98be-4759-b5b0-c6a5032a1e1a"
      },
      "execution_count": 146,
      "outputs": [
        {
          "output_type": "stream",
          "name": "stdout",
          "text": [
            "Overwriting vetor_insert_critical_melhor.cpp\n"
          ]
        }
      ]
    },
    {
      "cell_type": "code",
      "source": [
        "!g++ -Wall -fopenmp vetor_insert_critical_melhor.cpp -o vetor_insert_critical_melhor"
      ],
      "metadata": {
        "id": "GWfMtOwIvhqc"
      },
      "execution_count": 147,
      "outputs": []
    },
    {
      "cell_type": "code",
      "source": [
        "!./vetor_insert_critical_melhor"
      ],
      "metadata": {
        "colab": {
          "base_uri": "https://localhost:8080/"
        },
        "id": "rPZWdJi_vkeT",
        "outputId": "e8fdcc02-dbdf-44af-8d19-11794cdcd2fa"
      },
      "execution_count": 154,
      "outputs": [
        {
          "output_type": "stream",
          "name": "stdout",
          "text": [
            "10000 10002 10004 10006 10008 10010 10012 10014 10016 10018 10020 10022 10024 10026 10028 10030 10032 10034 10036 10038 10040 10042 10044 10046 10048 10050 10052 10054 10056 10058 10060 10062 10064 10066 10068 10070 10072 10074 10076 10078 10080 10082 10084 10086 10088 10090 10092 10094 10096 10098 10100 10102 10104 10106 10108 10110 10112 10114 10116 10118 10120 10122 10124 10126 10128 10130 10132 10134 10136 10138 10140 10142 10144 10146 10148 10150 10152 10154 10156 10158 10160 10162 10164 10166 10168 10170 10172 10174 10176 10178 10180 10182 10184 10186 10188 10190 10192 10194 10196 10198 10200 10202 10204 10206 10208 10210 10212 10214 10216 10218 10220 10222 10224 10226 10228 10230 10232 10234 10236 10238 10240 10242 10244 10246 10248 10250 10252 10254 10256 10258 10260 10262 10264 10266 10268 10270 10272 10274 10276 10278 10280 10282 10284 10286 10288 10290 10292 10294 10296 10298 10300 10302 10304 10306 10308 10310 10312 10314 10316 10318 10320 10322 10324 10326 10328 10330 10332 10334 10336 10338 10340 10342 10344 10346 10348 10350 10352 10354 10356 10358 10360 10362 10364 10366 10368 10370 10372 10374 10376 10378 10380 10382 10384 10386 10388 10390 10392 10394 10396 10398 10400 10402 10404 10406 10408 10410 10412 10414 10416 10418 10420 10422 10424 10426 10428 10430 10432 10434 10436 10438 10440 10442 10444 10446 10448 10450 10452 10454 10456 10458 10460 10462 10464 10466 10468 10470 10472 10474 10476 10478 10480 10482 10484 10486 10488 10490 10492 10494 10496 10498 10500 10502 10504 10506 10508 10510 10512 10514 10516 10518 10520 10522 10524 10526 10528 10530 10532 10534 10536 10538 10540 10542 10544 10546 10548 10550 10552 10554 10556 10558 10560 10562 10564 10566 10568 10570 10572 10574 10576 10578 10580 10582 10584 10586 10588 10590 10592 10594 10596 10598 10600 10602 10604 10606 10608 10610 10612 10614 10616 10618 10620 10622 10624 10626 10628 10630 10632 10634 10636 10638 10640 10642 10644 10646 10648 10650 10652 10654 10656 10658 10660 10662 10664 10666 10668 10670 10672 10674 10676 10678 10680 10682 10684 10686 10688 10690 10692 10694 10696 10698 10700 10702 10704 10706 10708 10710 10712 10714 10716 10718 10720 10722 10724 10726 10728 10730 10732 10734 10736 10738 10740 10742 10744 10746 10748 10750 10752 10754 10756 10758 10760 10762 10764 10766 10768 10770 10772 10774 10776 10778 10780 10782 10784 10786 10788 10790 10792 10794 10796 10798 10800 10802 10804 10806 10808 10810 10812 10814 10816 10818 10820 10822 10824 10826 10828 10830 10832 10834 10836 10838 10840 10842 10844 10846 10848 10850 10852 10854 10856 10858 10860 10862 10864 10866 10868 10870 10872 10874 10876 10878 10880 10882 10884 10886 10888 10890 10892 10894 10896 10898 10900 10902 10904 10906 10908 10910 10912 10914 10916 10918 10920 10922 10924 10926 10928 10930 10932 10934 10936 10938 10940 10942 10944 10946 10948 10950 10952 10954 10956 10958 10960 10962 10964 10966 10968 10970 10972 10974 10976 10978 10980 10982 10984 10986 10988 10990 10992 10994 10996 10998 11000 11002 11004 11006 11008 11010 11012 11014 11016 11018 11020 11022 11024 11026 11028 11030 11032 11034 11036 11038 11040 11042 11044 11046 11048 11050 11052 11054 11056 11058 11060 11062 11064 11066 11068 11070 11072 11074 11076 11078 11080 11082 11084 11086 11088 11090 11092 11094 11096 11098 11100 11102 11104 11106 11108 11110 11112 11114 11116 11118 11120 11122 11124 11126 11128 11130 11132 11134 11136 11138 11140 11142 11144 11146 11148 11150 11152 11154 11156 11158 11160 11162 11164 11166 11168 11170 11172 11174 11176 11178 11180 11182 11184 11186 11188 11190 11192 11194 11196 11198 11200 11202 11204 11206 11208 11210 11212 11214 11216 11218 11220 11222 11224 11226 11228 11230 11232 11234 11236 11238 11240 11242 11244 11246 11248 11250 11252 11254 11256 11258 11260 11262 11264 11266 11268 11270 11272 11274 11276 11278 11280 11282 11284 11286 11288 11290 11292 11294 11296 11298 11300 11302 11304 11306 11308 11310 11312 11314 11316 11318 11320 11322 11324 11326 11328 11330 11332 11334 11336 11338 11340 11342 11344 11346 11348 11350 11352 11354 11356 11358 11360 11362 11364 11366 11368 11370 11372 11374 11376 11378 11380 11382 11384 11386 11388 11390 11392 11394 11396 11398 11400 11402 11404 11406 11408 11410 11412 11414 11416 11418 11420 11422 11424 11426 11428 11430 11432 11434 11436 11438 11440 11442 11444 11446 11448 11450 11452 11454 11456 11458 11460 11462 11464 11466 11468 11470 11472 11474 11476 11478 11480 11482 11484 11486 11488 11490 11492 11494 11496 11498 11500 11502 11504 11506 11508 11510 11512 11514 11516 11518 11520 11522 11524 11526 11528 11530 11532 11534 11536 11538 11540 11542 11544 11546 11548 11550 11552 11554 11556 11558 11560 11562 11564 11566 11568 11570 11572 11574 11576 11578 11580 11582 11584 11586 11588 11590 11592 11594 11596 11598 11600 11602 11604 11606 11608 11610 11612 11614 11616 11618 11620 11622 11624 11626 11628 11630 11632 11634 11636 11638 11640 11642 11644 11646 11648 11650 11652 11654 11656 11658 11660 11662 11664 11666 11668 11670 11672 11674 11676 11678 11680 11682 11684 11686 11688 11690 11692 11694 11696 11698 11700 11702 11704 11706 11708 11710 11712 11714 11716 11718 11720 11722 11724 11726 11728 11730 11732 11734 11736 11738 11740 11742 11744 11746 11748 11750 11752 11754 11756 11758 11760 11762 11764 11766 11768 11770 11772 11774 11776 11778 11780 11782 11784 11786 11788 11790 11792 11794 11796 11798 11800 11802 11804 11806 11808 11810 11812 11814 11816 11818 11820 11822 11824 11826 11828 11830 11832 11834 11836 11838 11840 11842 11844 11846 11848 11850 11852 11854 11856 11858 11860 11862 11864 11866 11868 11870 11872 11874 11876 11878 11880 11882 11884 11886 11888 11890 11892 11894 11896 11898 11900 11902 11904 11906 11908 11910 11912 11914 11916 11918 11920 11922 11924 11926 11928 11930 11932 11934 11936 11938 11940 11942 11944 11946 11948 11950 11952 11954 11956 11958 11960 11962 11964 11966 11968 11970 11972 11974 11976 11978 11980 11982 11984 11986 11988 11990 11992 11994 11996 11998 12000 12002 12004 12006 12008 12010 12012 12014 12016 12018 12020 12022 12024 12026 12028 12030 12032 12034 12036 12038 12040 12042 12044 12046 12048 12050 12052 12054 12056 12058 12060 12062 12064 12066 12068 12070 12072 12074 12076 12078 12080 12082 12084 12086 12088 12090 12092 12094 12096 12098 12100 12102 12104 12106 12108 12110 12112 12114 12116 12118 12120 12122 12124 12126 12128 12130 12132 12134 12136 12138 12140 12142 12144 12146 12148 12150 12152 12154 12156 12158 12160 12162 12164 12166 12168 12170 12172 12174 12176 12178 12180 12182 12184 12186 12188 12190 12192 12194 12196 12198 12200 12202 12204 12206 12208 12210 12212 12214 12216 12218 12220 12222 12224 12226 12228 12230 12232 12234 12236 12238 12240 12242 12244 12246 12248 12250 12252 12254 12256 12258 12260 12262 12264 12266 12268 12270 12272 12274 12276 12278 12280 12282 12284 12286 12288 12290 12292 12294 12296 12298 12300 12302 12304 12306 12308 12310 12312 12314 12316 12318 12320 12322 12324 12326 12328 12330 12332 12334 12336 12338 12340 12342 12344 12346 12348 12350 12352 12354 12356 12358 12360 12362 12364 12366 12368 12370 12372 12374 12376 12378 12380 12382 12384 12386 12388 12390 12392 12394 12396 12398 12400 12402 12404 12406 12408 12410 12412 12414 12416 12418 12420 12422 12424 12426 12428 12430 12432 12434 12436 12438 12440 12442 12444 12446 12448 12450 12452 12454 12456 12458 12460 12462 12464 12466 12468 12470 12472 12474 12476 12478 12480 12482 12484 12486 12488 12490 12492 12494 12496 12498 12500 12502 12504 12506 12508 12510 12512 12514 12516 12518 12520 12522 12524 12526 12528 12530 12532 12534 12536 12538 12540 12542 12544 12546 12548 12550 12552 12554 12556 12558 12560 12562 12564 12566 12568 12570 12572 12574 12576 12578 12580 12582 12584 12586 12588 12590 12592 12594 12596 12598 12600 12602 12604 12606 12608 12610 12612 12614 12616 12618 12620 12622 12624 12626 12628 12630 12632 12634 12636 12638 12640 12642 12644 12646 12648 12650 12652 12654 12656 12658 12660 12662 12664 12666 12668 12670 12672 12674 12676 12678 12680 12682 12684 12686 12688 12690 12692 12694 12696 12698 12700 12702 12704 12706 12708 12710 12712 12714 12716 12718 12720 12722 12724 12726 12728 12730 12732 12734 12736 12738 12740 12742 12744 12746 12748 12750 12752 12754 12756 12758 12760 12762 12764 12766 12768 12770 12772 12774 12776 12778 12780 12782 12784 12786 12788 12790 12792 12794 12796 12798 12800 12802 12804 12806 12808 12810 12812 12814 12816 12818 12820 12822 12824 12826 12828 12830 12832 12834 12836 12838 12840 12842 12844 12846 12848 12850 12852 12854 12856 12858 12860 12862 12864 12866 12868 12870 12872 12874 12876 12878 12880 12882 12884 12886 12888 12890 12892 12894 12896 12898 12900 12902 12904 12906 12908 12910 12912 12914 12916 12918 12920 12922 12924 12926 12928 12930 12932 12934 12936 12938 12940 12942 12944 12946 12948 12950 12952 12954 12956 12958 12960 12962 12964 12966 12968 12970 12972 12974 12976 12978 12980 12982 12984 12986 12988 12990 12992 12994 12996 12998 13000 13002 13004 13006 13008 13010 13012 13014 13016 13018 13020 13022 13024 13026 13028 13030 13032 13034 13036 13038 13040 13042 13044 13046 13048 13050 13052 13054 13056 13058 13060 13062 13064 13066 13068 13070 13072 13074 13076 13078 13080 13082 13084 13086 13088 13090 13092 13094 13096 13098 13100 13102 13104 13106 13108 13110 13112 13114 13116 13118 13120 13122 13124 13126 13128 13130 13132 13134 13136 13138 13140 13142 13144 13146 13148 13150 13152 13154 13156 13158 13160 13162 13164 13166 13168 13170 13172 13174 13176 13178 13180 13182 13184 13186 13188 13190 13192 13194 13196 13198 13200 13202 13204 13206 13208 13210 13212 13214 13216 13218 13220 13222 13224 13226 13228 13230 13232 13234 13236 13238 13240 13242 13244 13246 13248 13250 13252 13254 13256 13258 13260 13262 13264 13266 13268 13270 13272 13274 13276 13278 13280 13282 13284 13286 13288 13290 13292 13294 13296 13298 13300 13302 13304 13306 13308 13310 13312 13314 13316 13318 13320 13322 13324 13326 13328 13330 13332 13334 13336 13338 13340 13342 13344 13346 13348 13350 13352 13354 13356 13358 13360 13362 13364 13366 13368 13370 13372 13374 13376 13378 13380 13382 13384 13386 13388 13390 13392 13394 13396 13398 13400 13402 13404 13406 13408 13410 13412 13414 13416 13418 13420 13422 13424 13426 13428 13430 13432 13434 13436 13438 13440 13442 13444 13446 13448 13450 13452 13454 13456 13458 13460 13462 13464 13466 13468 13470 13472 13474 13476 13478 13480 13482 13484 13486 13488 13490 13492 13494 13496 13498 13500 13502 13504 13506 13508 13510 13512 13514 13516 13518 13520 13522 13524 13526 13528 13530 13532 13534 13536 13538 13540 13542 13544 13546 13548 13550 13552 13554 13556 13558 13560 13562 13564 13566 13568 13570 13572 13574 13576 13578 13580 13582 13584 13586 13588 13590 13592 13594 13596 13598 13600 13602 13604 13606 13608 13610 13612 13614 13616 13618 13620 13622 13624 13626 13628 13630 13632 13634 13636 13638 13640 13642 13644 13646 13648 13650 13652 13654 13656 13658 13660 13662 13664 13666 13668 13670 13672 13674 13676 13678 13680 13682 13684 13686 13688 13690 13692 13694 13696 13698 13700 13702 13704 13706 13708 13710 13712 13714 13716 13718 13720 13722 13724 13726 13728 13730 13732 13734 13736 13738 13740 13742 13744 13746 13748 13750 13752 13754 13756 13758 13760 13762 13764 13766 13768 13770 13772 13774 13776 13778 13780 13782 13784 13786 13788 13790 13792 13794 13796 13798 13800 13802 13804 13806 13808 13810 13812 13814 13816 13818 13820 13822 13824 13826 13828 13830 13832 13834 13836 13838 13840 13842 13844 13846 13848 13850 13852 13854 13856 13858 13860 13862 13864 13866 13868 13870 13872 13874 13876 13878 13880 13882 13884 13886 13888 13890 13892 13894 13896 13898 13900 13902 13904 13906 13908 13910 13912 13914 13916 13918 13920 13922 13924 13926 13928 13930 13932 13934 13936 13938 13940 13942 13944 13946 13948 13950 13952 13954 13956 13958 13960 13962 13964 13966 13968 13970 13972 13974 13976 13978 13980 13982 13984 13986 13988 13990 13992 13994 13996 13998 14000 14002 14004 14006 14008 14010 14012 14014 14016 14018 14020 14022 14024 14026 14028 14030 14032 14034 14036 14038 14040 14042 14044 14046 14048 14050 14052 14054 14056 14058 14060 14062 14064 14066 14068 14070 14072 14074 14076 14078 14080 14082 14084 14086 14088 14090 14092 14094 14096 14098 14100 14102 14104 14106 14108 14110 14112 14114 14116 14118 14120 14122 14124 14126 14128 14130 14132 14134 14136 14138 14140 14142 14144 14146 14148 14150 14152 14154 14156 14158 14160 14162 14164 14166 14168 14170 14172 14174 14176 14178 14180 14182 14184 14186 14188 14190 14192 14194 14196 14198 14200 14202 14204 14206 14208 14210 14212 14214 14216 14218 14220 14222 14224 14226 14228 14230 14232 14234 14236 14238 14240 14242 14244 14246 14248 14250 14252 14254 14256 14258 14260 14262 14264 14266 14268 14270 14272 14274 14276 14278 14280 14282 14284 14286 14288 14290 14292 14294 14296 14298 14300 14302 14304 14306 14308 14310 14312 14314 14316 14318 14320 14322 14324 14326 14328 14330 14332 14334 14336 14338 14340 14342 14344 14346 14348 14350 14352 14354 14356 14358 14360 14362 14364 14366 14368 14370 14372 14374 14376 14378 14380 14382 14384 14386 14388 14390 14392 14394 14396 14398 14400 14402 14404 14406 14408 14410 14412 14414 14416 14418 14420 14422 14424 14426 14428 14430 14432 14434 14436 14438 14440 14442 14444 14446 14448 14450 14452 14454 14456 14458 14460 14462 14464 14466 14468 14470 14472 14474 14476 14478 14480 14482 14484 14486 14488 14490 14492 14494 14496 14498 14500 14502 14504 14506 14508 14510 14512 14514 14516 14518 14520 14522 14524 14526 14528 14530 14532 14534 14536 14538 14540 14542 14544 14546 14548 14550 14552 14554 14556 14558 14560 14562 14564 14566 14568 14570 14572 14574 14576 14578 14580 14582 14584 14586 14588 14590 14592 14594 14596 14598 14600 14602 14604 14606 14608 14610 14612 14614 14616 14618 14620 14622 14624 14626 14628 14630 14632 14634 14636 14638 14640 14642 14644 14646 14648 14650 14652 14654 14656 14658 14660 14662 14664 14666 14668 14670 14672 14674 14676 14678 14680 14682 14684 14686 14688 14690 14692 14694 14696 14698 14700 14702 14704 14706 14708 14710 14712 14714 14716 14718 14720 14722 14724 14726 14728 14730 14732 14734 14736 14738 14740 14742 14744 14746 14748 14750 14752 14754 14756 14758 14760 14762 14764 14766 14768 14770 14772 14774 14776 14778 14780 14782 14784 14786 14788 14790 14792 14794 14796 14798 14800 14802 14804 14806 14808 14810 14812 14814 14816 14818 14820 14822 14824 14826 14828 14830 14832 14834 14836 14838 14840 14842 14844 14846 14848 14850 14852 14854 14856 14858 14860 14862 14864 14866 14868 14870 14872 14874 14876 14878 14880 14882 14884 14886 14888 14890 14892 14894 14896 14898 14900 14902 14904 14906 14908 14910 14912 14914 14916 14918 14920 14922 14924 14926 14928 14930 14932 14934 14936 14938 14940 14942 14944 14946 14948 14950 14952 14954 14956 14958 14960 14962 14964 14966 14968 14970 14972 14974 14976 14978 14980 14982 14984 14986 14988 14990 14992 14994 14996 14998 15000 15002 15004 15006 15008 15010 15012 15014 15016 15018 15020 15022 15024 15026 15028 15030 15032 15034 15036 15038 15040 15042 15044 15046 15048 15050 15052 15054 15056 15058 15060 15062 15064 15066 15068 15070 15072 15074 15076 15078 15080 15082 15084 15086 15088 15090 15092 15094 15096 15098 15100 15102 15104 15106 15108 15110 15112 15114 15116 15118 15120 15122 15124 15126 15128 15130 15132 15134 15136 15138 15140 15142 15144 15146 15148 15150 15152 15154 15156 15158 15160 15162 15164 15166 15168 15170 15172 15174 15176 15178 15180 15182 15184 15186 15188 15190 15192 15194 15196 15198 15200 15202 15204 15206 15208 15210 15212 15214 15216 15218 15220 15222 15224 15226 15228 15230 15232 15234 15236 15238 15240 15242 15244 15246 15248 15250 15252 15254 15256 15258 15260 15262 15264 15266 15268 15270 15272 15274 15276 15278 15280 15282 15284 15286 15288 15290 15292 15294 15296 15298 15300 15302 15304 15306 15308 15310 15312 15314 15316 15318 15320 15322 15324 15326 15328 15330 15332 15334 15336 15338 15340 15342 15344 15346 15348 15350 15352 15354 15356 15358 15360 15362 15364 15366 15368 15370 15372 15374 15376 15378 15380 15382 15384 15386 15388 15390 15392 15394 15396 15398 15400 15402 15404 15406 15408 15410 15412 15414 15416 15418 15420 15422 15424 15426 15428 15430 15432 15434 15436 15438 15440 15442 15444 15446 15448 15450 15452 15454 15456 15458 15460 15462 15464 15466 15468 15470 15472 15474 15476 15478 15480 15482 15484 15486 15488 15490 15492 15494 15496 15498 15500 15502 15504 15506 15508 15510 15512 15514 15516 15518 15520 15522 15524 15526 15528 15530 15532 15534 15536 15538 15540 15542 15544 15546 15548 15550 15552 15554 15556 15558 15560 15562 15564 15566 15568 15570 15572 15574 15576 15578 15580 15582 15584 15586 15588 15590 15592 15594 15596 15598 15600 15602 15604 15606 15608 15610 15612 15614 15616 15618 15620 15622 15624 15626 15628 15630 15632 15634 15636 15638 15640 15642 15644 15646 15648 15650 15652 15654 15656 15658 15660 15662 15664 15666 15668 15670 15672 15674 15676 15678 15680 15682 15684 15686 15688 15690 15692 15694 15696 15698 15700 15702 15704 15706 15708 15710 15712 15714 15716 15718 15720 15722 15724 15726 15728 15730 15732 15734 15736 15738 15740 15742 15744 15746 15748 15750 15752 15754 15756 15758 15760 15762 15764 15766 15768 15770 15772 15774 15776 15778 15780 15782 15784 15786 15788 15790 15792 15794 15796 15798 15800 15802 15804 15806 15808 15810 15812 15814 15816 15818 15820 15822 15824 15826 15828 15830 15832 15834 15836 15838 15840 15842 15844 15846 15848 15850 15852 15854 15856 15858 15860 15862 15864 15866 15868 15870 15872 15874 15876 15878 15880 15882 15884 15886 15888 15890 15892 15894 15896 15898 15900 15902 15904 15906 15908 15910 15912 15914 15916 15918 15920 15922 15924 15926 15928 15930 15932 15934 15936 15938 15940 15942 15944 15946 15948 15950 15952 15954 15956 15958 15960 15962 15964 15966 15968 15970 15972 15974 15976 15978 15980 15982 15984 15986 15988 15990 15992 15994 15996 15998 16000 16002 16004 16006 16008 16010 16012 16014 16016 16018 16020 16022 16024 16026 16028 16030 16032 16034 16036 16038 16040 16042 16044 16046 16048 16050 16052 16054 16056 16058 16060 16062 16064 16066 16068 16070 16072 16074 16076 16078 16080 16082 16084 16086 16088 16090 16092 16094 16096 16098 16100 16102 16104 16106 16108 16110 16112 16114 16116 16118 16120 16122 16124 16126 16128 16130 16132 16134 16136 16138 16140 16142 16144 16146 16148 16150 16152 16154 16156 16158 16160 16162 16164 16166 16168 16170 16172 16174 16176 16178 16180 16182 16184 16186 16188 16190 16192 16194 16196 16198 16200 16202 16204 16206 16208 16210 16212 16214 16216 16218 16220 16222 16224 16226 16228 16230 16232 16234 16236 16238 16240 16242 16244 16246 16248 16250 16252 16254 16256 16258 16260 16262 16264 16266 16268 16270 16272 16274 16276 16278 16280 16282 16284 16286 16288 16290 16292 16294 16296 16298 16300 16302 16304 16306 16308 16310 16312 16314 16316 16318 16320 16322 16324 16326 16328 16330 16332 16334 16336 16338 16340 16342 16344 16346 16348 16350 16352 16354 16356 16358 16360 16362 16364 16366 16368 16370 16372 16374 16376 16378 16380 16382 16384 16386 16388 16390 16392 16394 16396 16398 16400 16402 16404 16406 16408 16410 16412 16414 16416 16418 16420 16422 16424 16426 16428 16430 16432 16434 16436 16438 16440 16442 16444 16446 16448 16450 16452 16454 16456 16458 16460 16462 16464 16466 16468 16470 16472 16474 16476 16478 16480 16482 16484 16486 16488 16490 16492 16494 16496 16498 16500 16502 16504 16506 16508 16510 16512 16514 16516 16518 16520 16522 16524 16526 16528 16530 16532 16534 16536 16538 16540 16542 16544 16546 16548 16550 16552 16554 16556 16558 16560 16562 16564 16566 16568 16570 16572 16574 16576 16578 16580 16582 16584 16586 16588 16590 16592 16594 16596 16598 16600 16602 16604 16606 16608 16610 16612 16614 16616 16618 16620 16622 16624 16626 16628 16630 16632 16634 16636 16638 16640 16642 16644 16646 16648 16650 16652 16654 16656 16658 16660 16662 16664 16666 16668 16670 16672 16674 16676 16678 16680 16682 16684 16686 16688 16690 16692 16694 16696 16698 16700 16702 16704 16706 16708 16710 16712 16714 16716 16718 16720 16722 16724 16726 16728 16730 16732 16734 16736 16738 16740 16742 16744 16746 16748 16750 16752 16754 16756 16758 16760 16762 16764 16766 16768 16770 16772 16774 16776 16778 16780 16782 16784 16786 16788 16790 16792 16794 16796 16798 16800 16802 16804 16806 16808 16810 16812 16814 16816 16818 16820 16822 16824 16826 16828 16830 16832 16834 16836 16838 16840 16842 16844 16846 16848 16850 16852 16854 16856 16858 16860 16862 16864 16866 16868 16870 16872 16874 16876 16878 16880 16882 16884 16886 16888 16890 16892 16894 16896 16898 16900 16902 16904 16906 16908 16910 16912 16914 16916 16918 16920 16922 16924 16926 16928 16930 16932 16934 16936 16938 16940 16942 16944 16946 16948 16950 16952 16954 16956 16958 16960 16962 16964 16966 16968 16970 16972 16974 16976 16978 16980 16982 16984 16986 16988 16990 16992 16994 16996 16998 17000 17002 17004 17006 17008 17010 17012 17014 17016 17018 17020 17022 17024 17026 17028 17030 17032 17034 17036 17038 17040 17042 17044 17046 17048 17050 17052 17054 17056 17058 17060 17062 17064 17066 17068 17070 17072 17074 17076 17078 17080 17082 17084 17086 17088 17090 17092 17094 17096 17098 17100 17102 17104 17106 17108 17110 17112 17114 17116 17118 17120 17122 17124 17126 17128 17130 17132 17134 17136 17138 17140 17142 17144 17146 17148 17150 17152 17154 17156 17158 17160 17162 17164 17166 17168 17170 17172 17174 17176 17178 17180 17182 17184 17186 17188 17190 17192 17194 17196 17198 17200 17202 17204 17206 17208 17210 17212 17214 17216 17218 17220 17222 17224 17226 17228 17230 17232 17234 17236 17238 17240 17242 17244 17246 17248 17250 17252 17254 17256 17258 17260 17262 17264 17266 17268 17270 17272 17274 17276 17278 17280 17282 17284 17286 17288 17290 17292 17294 17296 17298 17300 17302 17304 17306 17308 17310 17312 17314 17316 17318 17320 17322 17324 17326 17328 17330 17332 17334 17336 17338 17340 17342 17344 17346 17348 17350 17352 17354 17356 17358 17360 17362 17364 17366 17368 17370 17372 17374 17376 17378 17380 17382 17384 17386 17388 17390 17392 17394 17396 17398 17400 17402 17404 17406 17408 17410 17412 17414 17416 17418 17420 17422 17424 17426 17428 17430 17432 17434 17436 17438 17440 17442 17444 17446 17448 17450 17452 17454 17456 17458 17460 17462 17464 17466 17468 17470 17472 17474 17476 17478 17480 17482 17484 17486 17488 17490 17492 17494 17496 17498 17500 17502 17504 17506 17508 17510 17512 17514 17516 17518 17520 17522 17524 17526 17528 17530 17532 17534 17536 17538 17540 17542 17544 17546 17548 17550 17552 17554 17556 17558 17560 17562 17564 17566 17568 17570 17572 17574 17576 17578 17580 17582 17584 17586 17588 17590 17592 17594 17596 17598 17600 17602 17604 17606 17608 17610 17612 17614 17616 17618 17620 17622 17624 17626 17628 17630 17632 17634 17636 17638 17640 17642 17644 17646 17648 17650 17652 17654 17656 17658 17660 17662 17664 17666 17668 17670 17672 17674 17676 17678 17680 17682 17684 17686 17688 17690 17692 17694 17696 17698 17700 17702 17704 17706 17708 17710 17712 17714 17716 17718 17720 17722 17724 17726 17728 17730 17732 17734 17736 17738 17740 17742 17744 17746 17748 17750 17752 17754 17756 17758 17760 17762 17764 17766 17768 17770 17772 17774 17776 17778 17780 17782 17784 17786 17788 17790 17792 17794 17796 17798 17800 17802 17804 17806 17808 17810 17812 17814 17816 17818 17820 17822 17824 17826 17828 17830 17832 17834 17836 17838 17840 17842 17844 17846 17848 17850 17852 17854 17856 17858 17860 17862 17864 17866 17868 17870 17872 17874 17876 17878 17880 17882 17884 17886 17888 17890 17892 17894 17896 17898 17900 17902 17904 17906 17908 17910 17912 17914 17916 17918 17920 17922 17924 17926 17928 17930 17932 17934 17936 17938 17940 17942 17944 17946 17948 17950 17952 17954 17956 17958 17960 17962 17964 17966 17968 17970 17972 17974 17976 17978 17980 17982 17984 17986 17988 17990 17992 17994 17996 17998 18000 18002 18004 18006 18008 18010 18012 18014 18016 18018 18020 18022 18024 18026 18028 18030 18032 18034 18036 18038 18040 18042 18044 18046 18048 18050 18052 18054 18056 18058 18060 18062 18064 18066 18068 18070 18072 18074 18076 18078 18080 18082 18084 18086 18088 18090 18092 18094 18096 18098 18100 18102 18104 18106 18108 18110 18112 18114 18116 18118 18120 18122 18124 18126 18128 18130 18132 18134 18136 18138 18140 18142 18144 18146 18148 18150 18152 18154 18156 18158 18160 18162 18164 18166 18168 18170 18172 18174 18176 18178 18180 18182 18184 18186 18188 18190 18192 18194 18196 18198 18200 18202 18204 18206 18208 18210 18212 18214 18216 18218 18220 18222 18224 18226 18228 18230 18232 18234 18236 18238 18240 18242 18244 18246 18248 18250 18252 18254 18256 18258 18260 18262 18264 18266 18268 18270 18272 18274 18276 18278 18280 18282 18284 18286 18288 18290 18292 18294 18296 18298 18300 18302 18304 18306 18308 18310 18312 18314 18316 18318 18320 18322 18324 18326 18328 18330 18332 18334 18336 18338 18340 18342 18344 18346 18348 18350 18352 18354 18356 18358 18360 18362 18364 18366 18368 18370 18372 18374 18376 18378 18380 18382 18384 18386 18388 18390 18392 18394 18396 18398 18400 18402 18404 18406 18408 18410 18412 18414 18416 18418 18420 18422 18424 18426 18428 18430 18432 18434 18436 18438 18440 18442 18444 18446 18448 18450 18452 18454 18456 18458 18460 18462 18464 18466 18468 18470 18472 18474 18476 18478 18480 18482 18484 18486 18488 18490 18492 18494 18496 18498 18500 18502 18504 18506 18508 18510 18512 18514 18516 18518 18520 18522 18524 18526 18528 18530 18532 18534 18536 18538 18540 18542 18544 18546 18548 18550 18552 18554 18556 18558 18560 18562 18564 18566 18568 18570 18572 18574 18576 18578 18580 18582 18584 18586 18588 18590 18592 18594 18596 18598 18600 18602 18604 18606 18608 18610 18612 18614 18616 18618 18620 18622 18624 18626 18628 18630 18632 18634 18636 18638 18640 18642 18644 18646 18648 18650 18652 18654 18656 18658 18660 18662 18664 18666 18668 18670 18672 18674 18676 18678 18680 18682 18684 18686 18688 18690 18692 18694 18696 18698 18700 18702 18704 18706 18708 18710 18712 18714 18716 18718 18720 18722 18724 18726 18728 18730 18732 18734 18736 18738 18740 18742 18744 18746 18748 18750 18752 18754 18756 18758 18760 18762 18764 18766 18768 18770 18772 18774 18776 18778 18780 18782 18784 18786 18788 18790 18792 18794 18796 18798 18800 18802 18804 18806 18808 18810 18812 18814 18816 18818 18820 18822 18824 18826 18828 18830 18832 18834 18836 18838 18840 18842 18844 18846 18848 18850 18852 18854 18856 18858 18860 18862 18864 18866 18868 18870 18872 18874 18876 18878 18880 18882 18884 18886 18888 18890 18892 18894 18896 18898 18900 18902 18904 18906 18908 18910 18912 18914 18916 18918 18920 18922 18924 18926 18928 18930 18932 18934 18936 18938 18940 18942 18944 18946 18948 18950 18952 18954 18956 18958 18960 18962 18964 18966 18968 18970 18972 18974 18976 18978 18980 18982 18984 18986 18988 18990 18992 18994 18996 18998 19000 19002 19004 19006 19008 19010 19012 19014 19016 19018 19020 19022 19024 19026 19028 19030 19032 19034 19036 19038 19040 19042 19044 19046 19048 19050 19052 19054 19056 19058 19060 19062 19064 19066 19068 19070 19072 19074 19076 19078 19080 19082 19084 19086 19088 19090 19092 19094 19096 19098 19100 19102 19104 19106 19108 19110 19112 19114 19116 19118 19120 19122 19124 19126 19128 19130 19132 19134 19136 19138 19140 19142 19144 19146 19148 19150 19152 19154 19156 19158 19160 19162 19164 19166 19168 19170 19172 19174 19176 19178 19180 19182 19184 19186 19188 19190 19192 19194 19196 19198 19200 19202 19204 19206 19208 19210 19212 19214 19216 19218 19220 19222 19224 19226 19228 19230 19232 19234 19236 19238 19240 19242 19244 19246 19248 19250 19252 19254 19256 19258 19260 19262 19264 19266 19268 19270 19272 19274 19276 19278 19280 19282 19284 19286 19288 19290 19292 19294 19296 19298 19300 19302 19304 19306 19308 19310 19312 19314 19316 19318 19320 19322 19324 19326 19328 19330 19332 19334 19336 19338 19340 19342 19344 19346 19348 19350 19352 19354 19356 19358 19360 19362 19364 19366 19368 19370 19372 19374 19376 19378 19380 19382 19384 19386 19388 19390 19392 19394 19396 19398 19400 19402 19404 19406 19408 19410 19412 19414 19416 19418 19420 19422 19424 19426 19428 19430 19432 19434 19436 19438 19440 19442 19444 19446 19448 19450 19452 19454 19456 19458 19460 19462 19464 19466 19468 19470 19472 19474 19476 19478 19480 19482 19484 19486 19488 19490 19492 19494 19496 19498 19500 19502 19504 19506 19508 19510 19512 19514 19516 19518 19520 19522 19524 19526 19528 19530 19532 19534 19536 19538 19540 19542 19544 19546 19548 19550 19552 19554 19556 19558 19560 19562 19564 19566 19568 19570 19572 19574 19576 19578 19580 19582 19584 19586 19588 19590 19592 19594 19596 19598 19600 19602 19604 19606 19608 19610 19612 19614 19616 19618 19620 19622 19624 19626 19628 19630 19632 19634 19636 19638 19640 19642 19644 19646 19648 19650 19652 19654 19656 19658 19660 19662 19664 19666 19668 19670 19672 19674 19676 19678 19680 19682 19684 19686 19688 19690 19692 19694 19696 19698 19700 19702 19704 19706 19708 19710 19712 19714 19716 19718 19720 19722 19724 19726 19728 19730 19732 19734 19736 19738 19740 19742 19744 19746 19748 19750 19752 19754 19756 19758 19760 19762 19764 19766 19768 19770 19772 19774 19776 19778 19780 19782 19784 19786 19788 19790 19792 19794 19796 19798 19800 19802 19804 19806 19808 19810 19812 19814 19816 19818 19820 19822 19824 19826 19828 19830 19832 19834 19836 19838 19840 19842 19844 19846 19848 19850 19852 19854 19856 19858 19860 19862 19864 19866 19868 19870 19872 19874 19876 19878 19880 19882 19884 19886 19888 19890 19892 19894 19896 19898 19900 19902 19904 19906 19908 19910 19912 19914 19916 19918 19920 19922 19924 19926 19928 19930 19932 19934 19936 19938 19940 19942 19944 19946 19948 19950 19952 19954 19956 19958 19960 19962 19964 19966 19968 19970 19972 19974 19976 19978 19980 19982 19984 19986 19988 19990 19992 19994 19996 19998 0 2 4 6 8 10 12 14 16 18 20 22 24 26 28 30 32 34 36 38 40 42 44 46 48 50 52 54 56 58 60 62 64 66 68 70 72 74 76 78 80 82 84 86 88 90 92 94 96 98 100 102 104 106 108 110 112 114 116 118 120 122 124 126 128 130 132 134 136 138 140 142 144 146 148 150 152 154 156 158 160 162 164 166 168 170 172 174 176 178 180 182 184 186 188 190 192 194 196 198 200 202 204 206 208 210 212 214 216 218 220 222 224 226 228 230 232 234 236 238 240 242 244 246 248 250 252 254 256 258 260 262 264 266 268 270 272 274 276 278 280 282 284 286 288 290 292 294 296 298 300 302 304 306 308 310 312 314 316 318 320 322 324 326 328 330 332 334 336 338 340 342 344 346 348 350 352 354 356 358 360 362 364 366 368 370 372 374 376 378 380 382 384 386 388 390 392 394 396 398 400 402 404 406 408 410 412 414 416 418 420 422 424 426 428 430 432 434 436 438 440 442 444 446 448 450 452 454 456 458 460 462 464 466 468 470 472 474 476 478 480 482 484 486 488 490 492 494 496 498 500 502 504 506 508 510 512 514 516 518 520 522 524 526 528 530 532 534 536 538 540 542 544 546 548 550 552 554 556 558 560 562 564 566 568 570 572 574 576 578 580 582 584 586 588 590 592 594 596 598 600 602 604 606 608 610 612 614 616 618 620 622 624 626 628 630 632 634 636 638 640 642 644 646 648 650 652 654 656 658 660 662 664 666 668 670 672 674 676 678 680 682 684 686 688 690 692 694 696 698 700 702 704 706 708 710 712 714 716 718 720 722 724 726 728 730 732 734 736 738 740 742 744 746 748 750 752 754 756 758 760 762 764 766 768 770 772 774 776 778 780 782 784 786 788 790 792 794 796 798 800 802 804 806 808 810 812 814 816 818 820 822 824 826 828 830 832 834 836 838 840 842 844 846 848 850 852 854 856 858 860 862 864 866 868 870 872 874 876 878 880 882 884 886 888 890 892 894 896 898 900 902 904 906 908 910 912 914 916 918 920 922 924 926 928 930 932 934 936 938 940 942 944 946 948 950 952 954 956 958 960 962 964 966 968 970 972 974 976 978 980 982 984 986 988 990 992 994 996 998 1000 1002 1004 1006 1008 1010 1012 1014 1016 1018 1020 1022 1024 1026 1028 1030 1032 1034 1036 1038 1040 1042 1044 1046 1048 1050 1052 1054 1056 1058 1060 1062 1064 1066 1068 1070 1072 1074 1076 1078 1080 1082 1084 1086 1088 1090 1092 1094 1096 1098 1100 1102 1104 1106 1108 1110 1112 1114 1116 1118 1120 1122 1124 1126 1128 1130 1132 1134 1136 1138 1140 1142 1144 1146 1148 1150 1152 1154 1156 1158 1160 1162 1164 1166 1168 1170 1172 1174 1176 1178 1180 1182 1184 1186 1188 1190 1192 1194 1196 1198 1200 1202 1204 1206 1208 1210 1212 1214 1216 1218 1220 1222 1224 1226 1228 1230 1232 1234 1236 1238 1240 1242 1244 1246 1248 1250 1252 1254 1256 1258 1260 1262 1264 1266 1268 1270 1272 1274 1276 1278 1280 1282 1284 1286 1288 1290 1292 1294 1296 1298 1300 1302 1304 1306 1308 1310 1312 1314 1316 1318 1320 1322 1324 1326 1328 1330 1332 1334 1336 1338 1340 1342 1344 1346 1348 1350 1352 1354 1356 1358 1360 1362 1364 1366 1368 1370 1372 1374 1376 1378 1380 1382 1384 1386 1388 1390 1392 1394 1396 1398 1400 1402 1404 1406 1408 1410 1412 1414 1416 1418 1420 1422 1424 1426 1428 1430 1432 1434 1436 1438 1440 1442 1444 1446 1448 1450 1452 1454 1456 1458 1460 1462 1464 1466 1468 1470 1472 1474 1476 1478 1480 1482 1484 1486 1488 1490 1492 1494 1496 1498 1500 1502 1504 1506 1508 1510 1512 1514 1516 1518 1520 1522 1524 1526 1528 1530 1532 1534 1536 1538 1540 1542 1544 1546 1548 1550 1552 1554 1556 1558 1560 1562 1564 1566 1568 1570 1572 1574 1576 1578 1580 1582 1584 1586 1588 1590 1592 1594 1596 1598 1600 1602 1604 1606 1608 1610 1612 1614 1616 1618 1620 1622 1624 1626 1628 1630 1632 1634 1636 1638 1640 1642 1644 1646 1648 1650 1652 1654 1656 1658 1660 1662 1664 1666 1668 1670 1672 1674 1676 1678 1680 1682 1684 1686 1688 1690 1692 1694 1696 1698 1700 1702 1704 1706 1708 1710 1712 1714 1716 1718 1720 1722 1724 1726 1728 1730 1732 1734 1736 1738 1740 1742 1744 1746 1748 1750 1752 1754 1756 1758 1760 1762 1764 1766 1768 1770 1772 1774 1776 1778 1780 1782 1784 1786 1788 1790 1792 1794 1796 1798 1800 1802 1804 1806 1808 1810 1812 1814 1816 1818 1820 1822 1824 1826 1828 1830 1832 1834 1836 1838 1840 1842 1844 1846 1848 1850 1852 1854 1856 1858 1860 1862 1864 1866 1868 1870 1872 1874 1876 1878 1880 1882 1884 1886 1888 1890 1892 1894 1896 1898 1900 1902 1904 1906 1908 1910 1912 1914 1916 1918 1920 1922 1924 1926 1928 1930 1932 1934 1936 1938 1940 1942 1944 1946 1948 1950 1952 1954 1956 1958 1960 1962 1964 1966 1968 1970 1972 1974 1976 1978 1980 1982 1984 1986 1988 1990 1992 1994 1996 1998 2000 2002 2004 2006 2008 2010 2012 2014 2016 2018 2020 2022 2024 2026 2028 2030 2032 2034 2036 2038 2040 2042 2044 2046 2048 2050 2052 2054 2056 2058 2060 2062 2064 2066 2068 2070 2072 2074 2076 2078 2080 2082 2084 2086 2088 2090 2092 2094 2096 2098 2100 2102 2104 2106 2108 2110 2112 2114 2116 2118 2120 2122 2124 2126 2128 2130 2132 2134 2136 2138 2140 2142 2144 2146 2148 2150 2152 2154 2156 2158 2160 2162 2164 2166 2168 2170 2172 2174 2176 2178 2180 2182 2184 2186 2188 2190 2192 2194 2196 2198 2200 2202 2204 2206 2208 2210 2212 2214 2216 2218 2220 2222 2224 2226 2228 2230 2232 2234 2236 2238 2240 2242 2244 2246 2248 2250 2252 2254 2256 2258 2260 2262 2264 2266 2268 2270 2272 2274 2276 2278 2280 2282 2284 2286 2288 2290 2292 2294 2296 2298 2300 2302 2304 2306 2308 2310 2312 2314 2316 2318 2320 2322 2324 2326 2328 2330 2332 2334 2336 2338 2340 2342 2344 2346 2348 2350 2352 2354 2356 2358 2360 2362 2364 2366 2368 2370 2372 2374 2376 2378 2380 2382 2384 2386 2388 2390 2392 2394 2396 2398 2400 2402 2404 2406 2408 2410 2412 2414 2416 2418 2420 2422 2424 2426 2428 2430 2432 2434 2436 2438 2440 2442 2444 2446 2448 2450 2452 2454 2456 2458 2460 2462 2464 2466 2468 2470 2472 2474 2476 2478 2480 2482 2484 2486 2488 2490 2492 2494 2496 2498 2500 2502 2504 2506 2508 2510 2512 2514 2516 2518 2520 2522 2524 2526 2528 2530 2532 2534 2536 2538 2540 2542 2544 2546 2548 2550 2552 2554 2556 2558 2560 2562 2564 2566 2568 2570 2572 2574 2576 2578 2580 2582 2584 2586 2588 2590 2592 2594 2596 2598 2600 2602 2604 2606 2608 2610 2612 2614 2616 2618 2620 2622 2624 2626 2628 2630 2632 2634 2636 2638 2640 2642 2644 2646 2648 2650 2652 2654 2656 2658 2660 2662 2664 2666 2668 2670 2672 2674 2676 2678 2680 2682 2684 2686 2688 2690 2692 2694 2696 2698 2700 2702 2704 2706 2708 2710 2712 2714 2716 2718 2720 2722 2724 2726 2728 2730 2732 2734 2736 2738 2740 2742 2744 2746 2748 2750 2752 2754 2756 2758 2760 2762 2764 2766 2768 2770 2772 2774 2776 2778 2780 2782 2784 2786 2788 2790 2792 2794 2796 2798 2800 2802 2804 2806 2808 2810 2812 2814 2816 2818 2820 2822 2824 2826 2828 2830 2832 2834 2836 2838 2840 2842 2844 2846 2848 2850 2852 2854 2856 2858 2860 2862 2864 2866 2868 2870 2872 2874 2876 2878 2880 2882 2884 2886 2888 2890 2892 2894 2896 2898 2900 2902 2904 2906 2908 2910 2912 2914 2916 2918 2920 2922 2924 2926 2928 2930 2932 2934 2936 2938 2940 2942 2944 2946 2948 2950 2952 2954 2956 2958 2960 2962 2964 2966 2968 2970 2972 2974 2976 2978 2980 2982 2984 2986 2988 2990 2992 2994 2996 2998 3000 3002 3004 3006 3008 3010 3012 3014 3016 3018 3020 3022 3024 3026 3028 3030 3032 3034 3036 3038 3040 3042 3044 3046 3048 3050 3052 3054 3056 3058 3060 3062 3064 3066 3068 3070 3072 3074 3076 3078 3080 3082 3084 3086 3088 3090 3092 3094 3096 3098 3100 3102 3104 3106 3108 3110 3112 3114 3116 3118 3120 3122 3124 3126 3128 3130 3132 3134 3136 3138 3140 3142 3144 3146 3148 3150 3152 3154 3156 3158 3160 3162 3164 3166 3168 3170 3172 3174 3176 3178 3180 3182 3184 3186 3188 3190 3192 3194 3196 3198 3200 3202 3204 3206 3208 3210 3212 3214 3216 3218 3220 3222 3224 3226 3228 3230 3232 3234 3236 3238 3240 3242 3244 3246 3248 3250 3252 3254 3256 3258 3260 3262 3264 3266 3268 3270 3272 3274 3276 3278 3280 3282 3284 3286 3288 3290 3292 3294 3296 3298 3300 3302 3304 3306 3308 3310 3312 3314 3316 3318 3320 3322 3324 3326 3328 3330 3332 3334 3336 3338 3340 3342 3344 3346 3348 3350 3352 3354 3356 3358 3360 3362 3364 3366 3368 3370 3372 3374 3376 3378 3380 3382 3384 3386 3388 3390 3392 3394 3396 3398 3400 3402 3404 3406 3408 3410 3412 3414 3416 3418 3420 3422 3424 3426 3428 3430 3432 3434 3436 3438 3440 3442 3444 3446 3448 3450 3452 3454 3456 3458 3460 3462 3464 3466 3468 3470 3472 3474 3476 3478 3480 3482 3484 3486 3488 3490 3492 3494 3496 3498 3500 3502 3504 3506 3508 3510 3512 3514 3516 3518 3520 3522 3524 3526 3528 3530 3532 3534 3536 3538 3540 3542 3544 3546 3548 3550 3552 3554 3556 3558 3560 3562 3564 3566 3568 3570 3572 3574 3576 3578 3580 3582 3584 3586 3588 3590 3592 3594 3596 3598 3600 3602 3604 3606 3608 3610 3612 3614 3616 3618 3620 3622 3624 3626 3628 3630 3632 3634 3636 3638 3640 3642 3644 3646 3648 3650 3652 3654 3656 3658 3660 3662 3664 3666 3668 3670 3672 3674 3676 3678 3680 3682 3684 3686 3688 3690 3692 3694 3696 3698 3700 3702 3704 3706 3708 3710 3712 3714 3716 3718 3720 3722 3724 3726 3728 3730 3732 3734 3736 3738 3740 3742 3744 3746 3748 3750 3752 3754 3756 3758 3760 3762 3764 3766 3768 3770 3772 3774 3776 3778 3780 3782 3784 3786 3788 3790 3792 3794 3796 3798 3800 3802 3804 3806 3808 3810 3812 3814 3816 3818 3820 3822 3824 3826 3828 3830 3832 3834 3836 3838 3840 3842 3844 3846 3848 3850 3852 3854 3856 3858 3860 3862 3864 3866 3868 3870 3872 3874 3876 3878 3880 3882 3884 3886 3888 3890 3892 3894 3896 3898 3900 3902 3904 3906 3908 3910 3912 3914 3916 3918 3920 3922 3924 3926 3928 3930 3932 3934 3936 3938 3940 3942 3944 3946 3948 3950 3952 3954 3956 3958 3960 3962 3964 3966 3968 3970 3972 3974 3976 3978 3980 3982 3984 3986 3988 3990 3992 3994 3996 3998 4000 4002 4004 4006 4008 4010 4012 4014 4016 4018 4020 4022 4024 4026 4028 4030 4032 4034 4036 4038 4040 4042 4044 4046 4048 4050 4052 4054 4056 4058 4060 4062 4064 4066 4068 4070 4072 4074 4076 4078 4080 4082 4084 4086 4088 4090 4092 4094 4096 4098 4100 4102 4104 4106 4108 4110 4112 4114 4116 4118 4120 4122 4124 4126 4128 4130 4132 4134 4136 4138 4140 4142 4144 4146 4148 4150 4152 4154 4156 4158 4160 4162 4164 4166 4168 4170 4172 4174 4176 4178 4180 4182 4184 4186 4188 4190 4192 4194 4196 4198 4200 4202 4204 4206 4208 4210 4212 4214 4216 4218 4220 4222 4224 4226 4228 4230 4232 4234 4236 4238 4240 4242 4244 4246 4248 4250 4252 4254 4256 4258 4260 4262 4264 4266 4268 4270 4272 4274 4276 4278 4280 4282 4284 4286 4288 4290 4292 4294 4296 4298 4300 4302 4304 4306 4308 4310 4312 4314 4316 4318 4320 4322 4324 4326 4328 4330 4332 4334 4336 4338 4340 4342 4344 4346 4348 4350 4352 4354 4356 4358 4360 4362 4364 4366 4368 4370 4372 4374 4376 4378 4380 4382 4384 4386 4388 4390 4392 4394 4396 4398 4400 4402 4404 4406 4408 4410 4412 4414 4416 4418 4420 4422 4424 4426 4428 4430 4432 4434 4436 4438 4440 4442 4444 4446 4448 4450 4452 4454 4456 4458 4460 4462 4464 4466 4468 4470 4472 4474 4476 4478 4480 4482 4484 4486 4488 4490 4492 4494 4496 4498 4500 4502 4504 4506 4508 4510 4512 4514 4516 4518 4520 4522 4524 4526 4528 4530 4532 4534 4536 4538 4540 4542 4544 4546 4548 4550 4552 4554 4556 4558 4560 4562 4564 4566 4568 4570 4572 4574 4576 4578 4580 4582 4584 4586 4588 4590 4592 4594 4596 4598 4600 4602 4604 4606 4608 4610 4612 4614 4616 4618 4620 4622 4624 4626 4628 4630 4632 4634 4636 4638 4640 4642 4644 4646 4648 4650 4652 4654 4656 4658 4660 4662 4664 4666 4668 4670 4672 4674 4676 4678 4680 4682 4684 4686 4688 4690 4692 4694 4696 4698 4700 4702 4704 4706 4708 4710 4712 4714 4716 4718 4720 4722 4724 4726 4728 4730 4732 4734 4736 4738 4740 4742 4744 4746 4748 4750 4752 4754 4756 4758 4760 4762 4764 4766 4768 4770 4772 4774 4776 4778 4780 4782 4784 4786 4788 4790 4792 4794 4796 4798 4800 4802 4804 4806 4808 4810 4812 4814 4816 4818 4820 4822 4824 4826 4828 4830 4832 4834 4836 4838 4840 4842 4844 4846 4848 4850 4852 4854 4856 4858 4860 4862 4864 4866 4868 4870 4872 4874 4876 4878 4880 4882 4884 4886 4888 4890 4892 4894 4896 4898 4900 4902 4904 4906 4908 4910 4912 4914 4916 4918 4920 4922 4924 4926 4928 4930 4932 4934 4936 4938 4940 4942 4944 4946 4948 4950 4952 4954 4956 4958 4960 4962 4964 4966 4968 4970 4972 4974 4976 4978 4980 4982 4984 4986 4988 4990 4992 4994 4996 4998 5000 5002 5004 5006 5008 5010 5012 5014 5016 5018 5020 5022 5024 5026 5028 5030 5032 5034 5036 5038 5040 5042 5044 5046 5048 5050 5052 5054 5056 5058 5060 5062 5064 5066 5068 5070 5072 5074 5076 5078 5080 5082 5084 5086 5088 5090 5092 5094 5096 5098 5100 5102 5104 5106 5108 5110 5112 5114 5116 5118 5120 5122 5124 5126 5128 5130 5132 5134 5136 5138 5140 5142 5144 5146 5148 5150 5152 5154 5156 5158 5160 5162 5164 5166 5168 5170 5172 5174 5176 5178 5180 5182 5184 5186 5188 5190 5192 5194 5196 5198 5200 5202 5204 5206 5208 5210 5212 5214 5216 5218 5220 5222 5224 5226 5228 5230 5232 5234 5236 5238 5240 5242 5244 5246 5248 5250 5252 5254 5256 5258 5260 5262 5264 5266 5268 5270 5272 5274 5276 5278 5280 5282 5284 5286 5288 5290 5292 5294 5296 5298 5300 5302 5304 5306 5308 5310 5312 5314 5316 5318 5320 5322 5324 5326 5328 5330 5332 5334 5336 5338 5340 5342 5344 5346 5348 5350 5352 5354 5356 5358 5360 5362 5364 5366 5368 5370 5372 5374 5376 5378 5380 5382 5384 5386 5388 5390 5392 5394 5396 5398 5400 5402 5404 5406 5408 5410 5412 5414 5416 5418 5420 5422 5424 5426 5428 5430 5432 5434 5436 5438 5440 5442 5444 5446 5448 5450 5452 5454 5456 5458 5460 5462 5464 5466 5468 5470 5472 5474 5476 5478 5480 5482 5484 5486 5488 5490 5492 5494 5496 5498 5500 5502 5504 5506 5508 5510 5512 5514 5516 5518 5520 5522 5524 5526 5528 5530 5532 5534 5536 5538 5540 5542 5544 5546 5548 5550 5552 5554 5556 5558 5560 5562 5564 5566 5568 5570 5572 5574 5576 5578 5580 5582 5584 5586 5588 5590 5592 5594 5596 5598 5600 5602 5604 5606 5608 5610 5612 5614 5616 5618 5620 5622 5624 5626 5628 5630 5632 5634 5636 5638 5640 5642 5644 5646 5648 5650 5652 5654 5656 5658 5660 5662 5664 5666 5668 5670 5672 5674 5676 5678 5680 5682 5684 5686 5688 5690 5692 5694 5696 5698 5700 5702 5704 5706 5708 5710 5712 5714 5716 5718 5720 5722 5724 5726 5728 5730 5732 5734 5736 5738 5740 5742 5744 5746 5748 5750 5752 5754 5756 5758 5760 5762 5764 5766 5768 5770 5772 5774 5776 5778 5780 5782 5784 5786 5788 5790 5792 5794 5796 5798 5800 5802 5804 5806 5808 5810 5812 5814 5816 5818 5820 5822 5824 5826 5828 5830 5832 5834 5836 5838 5840 5842 5844 5846 5848 5850 5852 5854 5856 5858 5860 5862 5864 5866 5868 5870 5872 5874 5876 5878 5880 5882 5884 5886 5888 5890 5892 5894 5896 5898 5900 5902 5904 5906 5908 5910 5912 5914 5916 5918 5920 5922 5924 5926 5928 5930 5932 5934 5936 5938 5940 5942 5944 5946 5948 5950 5952 5954 5956 5958 5960 5962 5964 5966 5968 5970 5972 5974 5976 5978 5980 5982 5984 5986 5988 5990 5992 5994 5996 5998 6000 6002 6004 6006 6008 6010 6012 6014 6016 6018 6020 6022 6024 6026 6028 6030 6032 6034 6036 6038 6040 6042 6044 6046 6048 6050 6052 6054 6056 6058 6060 6062 6064 6066 6068 6070 6072 6074 6076 6078 6080 6082 6084 6086 6088 6090 6092 6094 6096 6098 6100 6102 6104 6106 6108 6110 6112 6114 6116 6118 6120 6122 6124 6126 6128 6130 6132 6134 6136 6138 6140 6142 6144 6146 6148 6150 6152 6154 6156 6158 6160 6162 6164 6166 6168 6170 6172 6174 6176 6178 6180 6182 6184 6186 6188 6190 6192 6194 6196 6198 6200 6202 6204 6206 6208 6210 6212 6214 6216 6218 6220 6222 6224 6226 6228 6230 6232 6234 6236 6238 6240 6242 6244 6246 6248 6250 6252 6254 6256 6258 6260 6262 6264 6266 6268 6270 6272 6274 6276 6278 6280 6282 6284 6286 6288 6290 6292 6294 6296 6298 6300 6302 6304 6306 6308 6310 6312 6314 6316 6318 6320 6322 6324 6326 6328 6330 6332 6334 6336 6338 6340 6342 6344 6346 6348 6350 6352 6354 6356 6358 6360 6362 6364 6366 6368 6370 6372 6374 6376 6378 6380 6382 6384 6386 6388 6390 6392 6394 6396 6398 6400 6402 6404 6406 6408 6410 6412 6414 6416 6418 6420 6422 6424 6426 6428 6430 6432 6434 6436 6438 6440 6442 6444 6446 6448 6450 6452 6454 6456 6458 6460 6462 6464 6466 6468 6470 6472 6474 6476 6478 6480 6482 6484 6486 6488 6490 6492 6494 6496 6498 6500 6502 6504 6506 6508 6510 6512 6514 6516 6518 6520 6522 6524 6526 6528 6530 6532 6534 6536 6538 6540 6542 6544 6546 6548 6550 6552 6554 6556 6558 6560 6562 6564 6566 6568 6570 6572 6574 6576 6578 6580 6582 6584 6586 6588 6590 6592 6594 6596 6598 6600 6602 6604 6606 6608 6610 6612 6614 6616 6618 6620 6622 6624 6626 6628 6630 6632 6634 6636 6638 6640 6642 6644 6646 6648 6650 6652 6654 6656 6658 6660 6662 6664 6666 6668 6670 6672 6674 6676 6678 6680 6682 6684 6686 6688 6690 6692 6694 6696 6698 6700 6702 6704 6706 6708 6710 6712 6714 6716 6718 6720 6722 6724 6726 6728 6730 6732 6734 6736 6738 6740 6742 6744 6746 6748 6750 6752 6754 6756 6758 6760 6762 6764 6766 6768 6770 6772 6774 6776 6778 6780 6782 6784 6786 6788 6790 6792 6794 6796 6798 6800 6802 6804 6806 6808 6810 6812 6814 6816 6818 6820 6822 6824 6826 6828 6830 6832 6834 6836 6838 6840 6842 6844 6846 6848 6850 6852 6854 6856 6858 6860 6862 6864 6866 6868 6870 6872 6874 6876 6878 6880 6882 6884 6886 6888 6890 6892 6894 6896 6898 6900 6902 6904 6906 6908 6910 6912 6914 6916 6918 6920 6922 6924 6926 6928 6930 6932 6934 6936 6938 6940 6942 6944 6946 6948 6950 6952 6954 6956 6958 6960 6962 6964 6966 6968 6970 6972 6974 6976 6978 6980 6982 6984 6986 6988 6990 6992 6994 6996 6998 7000 7002 7004 7006 7008 7010 7012 7014 7016 7018 7020 7022 7024 7026 7028 7030 7032 7034 7036 7038 7040 7042 7044 7046 7048 7050 7052 7054 7056 7058 7060 7062 7064 7066 7068 7070 7072 7074 7076 7078 7080 7082 7084 7086 7088 7090 7092 7094 7096 7098 7100 7102 7104 7106 7108 7110 7112 7114 7116 7118 7120 7122 7124 7126 7128 7130 7132 7134 7136 7138 7140 7142 7144 7146 7148 7150 7152 7154 7156 7158 7160 7162 7164 7166 7168 7170 7172 7174 7176 7178 7180 7182 7184 7186 7188 7190 7192 7194 7196 7198 7200 7202 7204 7206 7208 7210 7212 7214 7216 7218 7220 7222 7224 7226 7228 7230 7232 7234 7236 7238 7240 7242 7244 7246 7248 7250 7252 7254 7256 7258 7260 7262 7264 7266 7268 7270 7272 7274 7276 7278 7280 7282 7284 7286 7288 7290 7292 7294 7296 7298 7300 7302 7304 7306 7308 7310 7312 7314 7316 7318 7320 7322 7324 7326 7328 7330 7332 7334 7336 7338 7340 7342 7344 7346 7348 7350 7352 7354 7356 7358 7360 7362 7364 7366 7368 7370 7372 7374 7376 7378 7380 7382 7384 7386 7388 7390 7392 7394 7396 7398 7400 7402 7404 7406 7408 7410 7412 7414 7416 7418 7420 7422 7424 7426 7428 7430 7432 7434 7436 7438 7440 7442 7444 7446 7448 7450 7452 7454 7456 7458 7460 7462 7464 7466 7468 7470 7472 7474 7476 7478 7480 7482 7484 7486 7488 7490 7492 7494 7496 7498 7500 7502 7504 7506 7508 7510 7512 7514 7516 7518 7520 7522 7524 7526 7528 7530 7532 7534 7536 7538 7540 7542 7544 7546 7548 7550 7552 7554 7556 7558 7560 7562 7564 7566 7568 7570 7572 7574 7576 7578 7580 7582 7584 7586 7588 7590 7592 7594 7596 7598 7600 7602 7604 7606 7608 7610 7612 7614 7616 7618 7620 7622 7624 7626 7628 7630 7632 7634 7636 7638 7640 7642 7644 7646 7648 7650 7652 7654 7656 7658 7660 7662 7664 7666 7668 7670 7672 7674 7676 7678 7680 7682 7684 7686 7688 7690 7692 7694 7696 7698 7700 7702 7704 7706 7708 7710 7712 7714 7716 7718 7720 7722 7724 7726 7728 7730 7732 7734 7736 7738 7740 7742 7744 7746 7748 7750 7752 7754 7756 7758 7760 7762 7764 7766 7768 7770 7772 7774 7776 7778 7780 7782 7784 7786 7788 7790 7792 7794 7796 7798 7800 7802 7804 7806 7808 7810 7812 7814 7816 7818 7820 7822 7824 7826 7828 7830 7832 7834 7836 7838 7840 7842 7844 7846 7848 7850 7852 7854 7856 7858 7860 7862 7864 7866 7868 7870 7872 7874 7876 7878 7880 7882 7884 7886 7888 7890 7892 7894 7896 7898 7900 7902 7904 7906 7908 7910 7912 7914 7916 7918 7920 7922 7924 7926 7928 7930 7932 7934 7936 7938 7940 7942 7944 7946 7948 7950 7952 7954 7956 7958 7960 7962 7964 7966 7968 7970 7972 7974 7976 7978 7980 7982 7984 7986 7988 7990 7992 7994 7996 7998 8000 8002 8004 8006 8008 8010 8012 8014 8016 8018 8020 8022 8024 8026 8028 8030 8032 8034 8036 8038 8040 8042 8044 8046 8048 8050 8052 8054 8056 8058 8060 8062 8064 8066 8068 8070 8072 8074 8076 8078 8080 8082 8084 8086 8088 8090 8092 8094 8096 8098 8100 8102 8104 8106 8108 8110 8112 8114 8116 8118 8120 8122 8124 8126 8128 8130 8132 8134 8136 8138 8140 8142 8144 8146 8148 8150 8152 8154 8156 8158 8160 8162 8164 8166 8168 8170 8172 8174 8176 8178 8180 8182 8184 8186 8188 8190 8192 8194 8196 8198 8200 8202 8204 8206 8208 8210 8212 8214 8216 8218 8220 8222 8224 8226 8228 8230 8232 8234 8236 8238 8240 8242 8244 8246 8248 8250 8252 8254 8256 8258 8260 8262 8264 8266 8268 8270 8272 8274 8276 8278 8280 8282 8284 8286 8288 8290 8292 8294 8296 8298 8300 8302 8304 8306 8308 8310 8312 8314 8316 8318 8320 8322 8324 8326 8328 8330 8332 8334 8336 8338 8340 8342 8344 8346 8348 8350 8352 8354 8356 8358 8360 8362 8364 8366 8368 8370 8372 8374 8376 8378 8380 8382 8384 8386 8388 8390 8392 8394 8396 8398 8400 8402 8404 8406 8408 8410 8412 8414 8416 8418 8420 8422 8424 8426 8428 8430 8432 8434 8436 8438 8440 8442 8444 8446 8448 8450 8452 8454 8456 8458 8460 8462 8464 8466 8468 8470 8472 8474 8476 8478 8480 8482 8484 8486 8488 8490 8492 8494 8496 8498 8500 8502 8504 8506 8508 8510 8512 8514 8516 8518 8520 8522 8524 8526 8528 8530 8532 8534 8536 8538 8540 8542 8544 8546 8548 8550 8552 8554 8556 8558 8560 8562 8564 8566 8568 8570 8572 8574 8576 8578 8580 8582 8584 8586 8588 8590 8592 8594 8596 8598 8600 8602 8604 8606 8608 8610 8612 8614 8616 8618 8620 8622 8624 8626 8628 8630 8632 8634 8636 8638 8640 8642 8644 8646 8648 8650 8652 8654 8656 8658 8660 8662 8664 8666 8668 8670 8672 8674 8676 8678 8680 8682 8684 8686 8688 8690 8692 8694 8696 8698 8700 8702 8704 8706 8708 8710 8712 8714 8716 8718 8720 8722 8724 8726 8728 8730 8732 8734 8736 8738 8740 8742 8744 8746 8748 8750 8752 8754 8756 8758 8760 8762 8764 8766 8768 8770 8772 8774 8776 8778 8780 8782 8784 8786 8788 8790 8792 8794 8796 8798 8800 8802 8804 8806 8808 8810 8812 8814 8816 8818 8820 8822 8824 8826 8828 8830 8832 8834 8836 8838 8840 8842 8844 8846 8848 8850 8852 8854 8856 8858 8860 8862 8864 8866 8868 8870 8872 8874 8876 8878 8880 8882 8884 8886 8888 8890 8892 8894 8896 8898 8900 8902 8904 8906 8908 8910 8912 8914 8916 8918 8920 8922 8924 8926 8928 8930 8932 8934 8936 8938 8940 8942 8944 8946 8948 8950 8952 8954 8956 8958 8960 8962 8964 8966 8968 8970 8972 8974 8976 8978 8980 8982 8984 8986 8988 8990 8992 8994 8996 8998 9000 9002 9004 9006 9008 9010 9012 9014 9016 9018 9020 9022 9024 9026 9028 9030 9032 9034 9036 9038 9040 9042 9044 9046 9048 9050 9052 9054 9056 9058 9060 9062 9064 9066 9068 9070 9072 9074 9076 9078 9080 9082 9084 9086 9088 9090 9092 9094 9096 9098 9100 9102 9104 9106 9108 9110 9112 9114 9116 9118 9120 9122 9124 9126 9128 9130 9132 9134 9136 9138 9140 9142 9144 9146 9148 9150 9152 9154 9156 9158 9160 9162 9164 9166 9168 9170 9172 9174 9176 9178 9180 9182 9184 9186 9188 9190 9192 9194 9196 9198 9200 9202 9204 9206 9208 9210 9212 9214 9216 9218 9220 9222 9224 9226 9228 9230 9232 9234 9236 9238 9240 9242 9244 9246 9248 9250 9252 9254 9256 9258 9260 9262 9264 9266 9268 9270 9272 9274 9276 9278 9280 9282 9284 9286 9288 9290 9292 9294 9296 9298 9300 9302 9304 9306 9308 9310 9312 9314 9316 9318 9320 9322 9324 9326 9328 9330 9332 9334 9336 9338 9340 9342 9344 9346 9348 9350 9352 9354 9356 9358 9360 9362 9364 9366 9368 9370 9372 9374 9376 9378 9380 9382 9384 9386 9388 9390 9392 9394 9396 9398 9400 9402 9404 9406 9408 9410 9412 9414 9416 9418 9420 9422 9424 9426 9428 9430 9432 9434 9436 9438 9440 9442 9444 9446 9448 9450 9452 9454 9456 9458 9460 9462 9464 9466 9468 9470 9472 9474 9476 9478 9480 9482 9484 9486 9488 9490 9492 9494 9496 9498 9500 9502 9504 9506 9508 9510 9512 9514 9516 9518 9520 9522 9524 9526 9528 9530 9532 9534 9536 9538 9540 9542 9544 9546 9548 9550 9552 9554 9556 9558 9560 9562 9564 9566 9568 9570 9572 9574 9576 9578 9580 9582 9584 9586 9588 9590 9592 9594 9596 9598 9600 9602 9604 9606 9608 9610 9612 9614 9616 9618 9620 9622 9624 9626 9628 9630 9632 9634 9636 9638 9640 9642 9644 9646 9648 9650 9652 9654 9656 9658 9660 9662 9664 9666 9668 9670 9672 9674 9676 9678 9680 9682 9684 9686 9688 9690 9692 9694 9696 9698 9700 9702 9704 9706 9708 9710 9712 9714 9716 9718 9720 9722 9724 9726 9728 9730 9732 9734 9736 9738 9740 9742 9744 9746 9748 9750 9752 9754 9756 9758 9760 9762 9764 9766 9768 9770 9772 9774 9776 9778 9780 9782 9784 9786 9788 9790 9792 9794 9796 9798 9800 9802 9804 9806 9808 9810 9812 9814 9816 9818 9820 9822 9824 9826 9828 9830 9832 9834 9836 9838 9840 9842 9844 9846 9848 9850 9852 9854 9856 9858 9860 9862 9864 9866 9868 9870 9872 9874 9876 9878 9880 9882 9884 9886 9888 9890 9892 9894 9896 9898 9900 9902 9904 9906 9908 9910 9912 9914 9916 9918 9920 9922 9924 9926 9928 9930 9932 9934 9936 9938 9940 9942 9944 9946 9948 9950 9952 9954 9956 9958 9960 9962 9964 9966 9968 9970 9972 9974 9976 9978 9980 9982 9984 9986 9988 9990 9992 9994 9996 9998 \n",
            "Tempo de execução: 0.2014 s\n"
          ]
        }
      ]
    },
    {
      "cell_type": "markdown",
      "source": [
        "### **Question**\n",
        "\n",
        "A ordem se mantém igual ao programa sequencial? Você consegue explicar por que?\n",
        "\n",
        "**Resposta**\n",
        "\n",
        "Não se mantém. Cada thread chega ao push_back em um momento diferente, logo a ordem em que os dados são adicionados no vetor muda.\n",
        "\n",
        "\n",
        "### **Manejo de conflitos usando pré-alocação de memória**\n",
        "\n",
        "Seções críticas são muito úteis quando não conseguimos evitar o compartilhamento de dados. Porém, elas são caras e e feitas especialmente para situações em que região crítica é pequena e chamada um número relativamente pequeno de vezes.\n",
        "\n",
        "Como regra, desejamos entrar na região crítica o menor número possível de vezes.\n",
        "\n",
        "### **Question**\n",
        "\n",
        "Reveja o código do inicial da seção de efeitos colaterais. Seria possível reescrevê-lo para não usar push_back?\n",
        "\n",
        "**Resposta**\n",
        "\n",
        "Sim, bastaria alocar o vetor com tamanho N ao criá-lo. Assim poderíamos atribuir conta_complexa direto para a posição de memória desejada.\n",
        "\n",
        "A estratégia acima é muito importante em alto desempenho e representa uma maneira de evitar seções críticas e sincronização.\n",
        "\n",
        "É sempre melhor alocar memória em blocos grandes antes do paralelismo do que alocar memória frequentemente dentro de regiões paralelas.\n",
        "\n",
        "Note que fizemos isso na parte de tarefas: ao criarmos variáveis para cada tarefa preencher evitamos a necessidade de usar sincronização.\n",
        "\n",
        "\n",
        "**Example**\n",
        "\n",
        "Modifique o programa para usar a ideia da questão anterior. Meça o desempenho e verifique que tudo funciona normalmente e mais rápido que o original."
      ],
      "metadata": {
        "id": "xYrfedWyw-Kw"
      }
    },
    {
      "cell_type": "code",
      "source": [
        "%%writefile vetor_insert_sem_pushback.cpp\n",
        "#include <vector>\n",
        "#include <iostream>\n",
        "#include <unistd.h>\n",
        "#include <omp.h>\n",
        "#include <chrono>\n",
        "\n",
        "double conta_complexa(int i) {\n",
        "    return 2 * i;\n",
        "}\n",
        "\n",
        "int main() {\n",
        "    auto t_start = std::chrono::high_resolution_clock::now();\n",
        "\n",
        "    int N = 10000;\n",
        "    std::vector<double> vec(N);\n",
        "\n",
        "    #pragma omp parallel for\n",
        "    for (int i = 0; i < N; i++) {\n",
        "        vec[i] = conta_complexa(i);\n",
        "    }\n",
        "\n",
        "    for (int i = 0; i < N; i++) {\n",
        "        std::cout << vec[i] << \" \";\n",
        "    }\n",
        "\n",
        "    std::cout << std::endl;\n",
        "    auto t_end = std::chrono::high_resolution_clock::now();\n",
        "\n",
        "    double elapsed_time_ms = std::chrono::duration<double, std::milli>(t_end - t_start).count();\n",
        "    double elapsed_time_s = elapsed_time_ms / 1000;\n",
        "    std::cout << \"Tempo de execução: \" << elapsed_time_s << \" s\" << std::endl;\n",
        "\n",
        "    return 0;\n",
        "}\n"
      ],
      "metadata": {
        "colab": {
          "base_uri": "https://localhost:8080/"
        },
        "id": "LfvgMZKHxP2a",
        "outputId": "f20d9f9d-f3fd-4f03-9cc7-ea4e59c68611"
      },
      "execution_count": 167,
      "outputs": [
        {
          "output_type": "stream",
          "name": "stdout",
          "text": [
            "Overwriting vetor_insert_sem_pushback.cpp\n"
          ]
        }
      ]
    },
    {
      "cell_type": "code",
      "source": [
        "!g++ -Wall -fopenmp vetor_insert_sem_pushback.cpp -o vetor_insert_sem_pushback"
      ],
      "metadata": {
        "id": "kPFofeaRxtWV"
      },
      "execution_count": 168,
      "outputs": []
    },
    {
      "cell_type": "code",
      "source": [
        "!./vetor_insert_sem_pushback"
      ],
      "metadata": {
        "colab": {
          "base_uri": "https://localhost:8080/"
        },
        "id": "ARADkVy1xwRE",
        "outputId": "757f8ae3-e96e-430b-bd18-d1ec37ad7964"
      },
      "execution_count": 170,
      "outputs": [
        {
          "output_type": "stream",
          "name": "stdout",
          "text": [
            "0 2 4 6 8 10 12 14 16 18 20 22 24 26 28 30 32 34 36 38 40 42 44 46 48 50 52 54 56 58 60 62 64 66 68 70 72 74 76 78 80 82 84 86 88 90 92 94 96 98 100 102 104 106 108 110 112 114 116 118 120 122 124 126 128 130 132 134 136 138 140 142 144 146 148 150 152 154 156 158 160 162 164 166 168 170 172 174 176 178 180 182 184 186 188 190 192 194 196 198 200 202 204 206 208 210 212 214 216 218 220 222 224 226 228 230 232 234 236 238 240 242 244 246 248 250 252 254 256 258 260 262 264 266 268 270 272 274 276 278 280 282 284 286 288 290 292 294 296 298 300 302 304 306 308 310 312 314 316 318 320 322 324 326 328 330 332 334 336 338 340 342 344 346 348 350 352 354 356 358 360 362 364 366 368 370 372 374 376 378 380 382 384 386 388 390 392 394 396 398 400 402 404 406 408 410 412 414 416 418 420 422 424 426 428 430 432 434 436 438 440 442 444 446 448 450 452 454 456 458 460 462 464 466 468 470 472 474 476 478 480 482 484 486 488 490 492 494 496 498 500 502 504 506 508 510 512 514 516 518 520 522 524 526 528 530 532 534 536 538 540 542 544 546 548 550 552 554 556 558 560 562 564 566 568 570 572 574 576 578 580 582 584 586 588 590 592 594 596 598 600 602 604 606 608 610 612 614 616 618 620 622 624 626 628 630 632 634 636 638 640 642 644 646 648 650 652 654 656 658 660 662 664 666 668 670 672 674 676 678 680 682 684 686 688 690 692 694 696 698 700 702 704 706 708 710 712 714 716 718 720 722 724 726 728 730 732 734 736 738 740 742 744 746 748 750 752 754 756 758 760 762 764 766 768 770 772 774 776 778 780 782 784 786 788 790 792 794 796 798 800 802 804 806 808 810 812 814 816 818 820 822 824 826 828 830 832 834 836 838 840 842 844 846 848 850 852 854 856 858 860 862 864 866 868 870 872 874 876 878 880 882 884 886 888 890 892 894 896 898 900 902 904 906 908 910 912 914 916 918 920 922 924 926 928 930 932 934 936 938 940 942 944 946 948 950 952 954 956 958 960 962 964 966 968 970 972 974 976 978 980 982 984 986 988 990 992 994 996 998 1000 1002 1004 1006 1008 1010 1012 1014 1016 1018 1020 1022 1024 1026 1028 1030 1032 1034 1036 1038 1040 1042 1044 1046 1048 1050 1052 1054 1056 1058 1060 1062 1064 1066 1068 1070 1072 1074 1076 1078 1080 1082 1084 1086 1088 1090 1092 1094 1096 1098 1100 1102 1104 1106 1108 1110 1112 1114 1116 1118 1120 1122 1124 1126 1128 1130 1132 1134 1136 1138 1140 1142 1144 1146 1148 1150 1152 1154 1156 1158 1160 1162 1164 1166 1168 1170 1172 1174 1176 1178 1180 1182 1184 1186 1188 1190 1192 1194 1196 1198 1200 1202 1204 1206 1208 1210 1212 1214 1216 1218 1220 1222 1224 1226 1228 1230 1232 1234 1236 1238 1240 1242 1244 1246 1248 1250 1252 1254 1256 1258 1260 1262 1264 1266 1268 1270 1272 1274 1276 1278 1280 1282 1284 1286 1288 1290 1292 1294 1296 1298 1300 1302 1304 1306 1308 1310 1312 1314 1316 1318 1320 1322 1324 1326 1328 1330 1332 1334 1336 1338 1340 1342 1344 1346 1348 1350 1352 1354 1356 1358 1360 1362 1364 1366 1368 1370 1372 1374 1376 1378 1380 1382 1384 1386 1388 1390 1392 1394 1396 1398 1400 1402 1404 1406 1408 1410 1412 1414 1416 1418 1420 1422 1424 1426 1428 1430 1432 1434 1436 1438 1440 1442 1444 1446 1448 1450 1452 1454 1456 1458 1460 1462 1464 1466 1468 1470 1472 1474 1476 1478 1480 1482 1484 1486 1488 1490 1492 1494 1496 1498 1500 1502 1504 1506 1508 1510 1512 1514 1516 1518 1520 1522 1524 1526 1528 1530 1532 1534 1536 1538 1540 1542 1544 1546 1548 1550 1552 1554 1556 1558 1560 1562 1564 1566 1568 1570 1572 1574 1576 1578 1580 1582 1584 1586 1588 1590 1592 1594 1596 1598 1600 1602 1604 1606 1608 1610 1612 1614 1616 1618 1620 1622 1624 1626 1628 1630 1632 1634 1636 1638 1640 1642 1644 1646 1648 1650 1652 1654 1656 1658 1660 1662 1664 1666 1668 1670 1672 1674 1676 1678 1680 1682 1684 1686 1688 1690 1692 1694 1696 1698 1700 1702 1704 1706 1708 1710 1712 1714 1716 1718 1720 1722 1724 1726 1728 1730 1732 1734 1736 1738 1740 1742 1744 1746 1748 1750 1752 1754 1756 1758 1760 1762 1764 1766 1768 1770 1772 1774 1776 1778 1780 1782 1784 1786 1788 1790 1792 1794 1796 1798 1800 1802 1804 1806 1808 1810 1812 1814 1816 1818 1820 1822 1824 1826 1828 1830 1832 1834 1836 1838 1840 1842 1844 1846 1848 1850 1852 1854 1856 1858 1860 1862 1864 1866 1868 1870 1872 1874 1876 1878 1880 1882 1884 1886 1888 1890 1892 1894 1896 1898 1900 1902 1904 1906 1908 1910 1912 1914 1916 1918 1920 1922 1924 1926 1928 1930 1932 1934 1936 1938 1940 1942 1944 1946 1948 1950 1952 1954 1956 1958 1960 1962 1964 1966 1968 1970 1972 1974 1976 1978 1980 1982 1984 1986 1988 1990 1992 1994 1996 1998 2000 2002 2004 2006 2008 2010 2012 2014 2016 2018 2020 2022 2024 2026 2028 2030 2032 2034 2036 2038 2040 2042 2044 2046 2048 2050 2052 2054 2056 2058 2060 2062 2064 2066 2068 2070 2072 2074 2076 2078 2080 2082 2084 2086 2088 2090 2092 2094 2096 2098 2100 2102 2104 2106 2108 2110 2112 2114 2116 2118 2120 2122 2124 2126 2128 2130 2132 2134 2136 2138 2140 2142 2144 2146 2148 2150 2152 2154 2156 2158 2160 2162 2164 2166 2168 2170 2172 2174 2176 2178 2180 2182 2184 2186 2188 2190 2192 2194 2196 2198 2200 2202 2204 2206 2208 2210 2212 2214 2216 2218 2220 2222 2224 2226 2228 2230 2232 2234 2236 2238 2240 2242 2244 2246 2248 2250 2252 2254 2256 2258 2260 2262 2264 2266 2268 2270 2272 2274 2276 2278 2280 2282 2284 2286 2288 2290 2292 2294 2296 2298 2300 2302 2304 2306 2308 2310 2312 2314 2316 2318 2320 2322 2324 2326 2328 2330 2332 2334 2336 2338 2340 2342 2344 2346 2348 2350 2352 2354 2356 2358 2360 2362 2364 2366 2368 2370 2372 2374 2376 2378 2380 2382 2384 2386 2388 2390 2392 2394 2396 2398 2400 2402 2404 2406 2408 2410 2412 2414 2416 2418 2420 2422 2424 2426 2428 2430 2432 2434 2436 2438 2440 2442 2444 2446 2448 2450 2452 2454 2456 2458 2460 2462 2464 2466 2468 2470 2472 2474 2476 2478 2480 2482 2484 2486 2488 2490 2492 2494 2496 2498 2500 2502 2504 2506 2508 2510 2512 2514 2516 2518 2520 2522 2524 2526 2528 2530 2532 2534 2536 2538 2540 2542 2544 2546 2548 2550 2552 2554 2556 2558 2560 2562 2564 2566 2568 2570 2572 2574 2576 2578 2580 2582 2584 2586 2588 2590 2592 2594 2596 2598 2600 2602 2604 2606 2608 2610 2612 2614 2616 2618 2620 2622 2624 2626 2628 2630 2632 2634 2636 2638 2640 2642 2644 2646 2648 2650 2652 2654 2656 2658 2660 2662 2664 2666 2668 2670 2672 2674 2676 2678 2680 2682 2684 2686 2688 2690 2692 2694 2696 2698 2700 2702 2704 2706 2708 2710 2712 2714 2716 2718 2720 2722 2724 2726 2728 2730 2732 2734 2736 2738 2740 2742 2744 2746 2748 2750 2752 2754 2756 2758 2760 2762 2764 2766 2768 2770 2772 2774 2776 2778 2780 2782 2784 2786 2788 2790 2792 2794 2796 2798 2800 2802 2804 2806 2808 2810 2812 2814 2816 2818 2820 2822 2824 2826 2828 2830 2832 2834 2836 2838 2840 2842 2844 2846 2848 2850 2852 2854 2856 2858 2860 2862 2864 2866 2868 2870 2872 2874 2876 2878 2880 2882 2884 2886 2888 2890 2892 2894 2896 2898 2900 2902 2904 2906 2908 2910 2912 2914 2916 2918 2920 2922 2924 2926 2928 2930 2932 2934 2936 2938 2940 2942 2944 2946 2948 2950 2952 2954 2956 2958 2960 2962 2964 2966 2968 2970 2972 2974 2976 2978 2980 2982 2984 2986 2988 2990 2992 2994 2996 2998 3000 3002 3004 3006 3008 3010 3012 3014 3016 3018 3020 3022 3024 3026 3028 3030 3032 3034 3036 3038 3040 3042 3044 3046 3048 3050 3052 3054 3056 3058 3060 3062 3064 3066 3068 3070 3072 3074 3076 3078 3080 3082 3084 3086 3088 3090 3092 3094 3096 3098 3100 3102 3104 3106 3108 3110 3112 3114 3116 3118 3120 3122 3124 3126 3128 3130 3132 3134 3136 3138 3140 3142 3144 3146 3148 3150 3152 3154 3156 3158 3160 3162 3164 3166 3168 3170 3172 3174 3176 3178 3180 3182 3184 3186 3188 3190 3192 3194 3196 3198 3200 3202 3204 3206 3208 3210 3212 3214 3216 3218 3220 3222 3224 3226 3228 3230 3232 3234 3236 3238 3240 3242 3244 3246 3248 3250 3252 3254 3256 3258 3260 3262 3264 3266 3268 3270 3272 3274 3276 3278 3280 3282 3284 3286 3288 3290 3292 3294 3296 3298 3300 3302 3304 3306 3308 3310 3312 3314 3316 3318 3320 3322 3324 3326 3328 3330 3332 3334 3336 3338 3340 3342 3344 3346 3348 3350 3352 3354 3356 3358 3360 3362 3364 3366 3368 3370 3372 3374 3376 3378 3380 3382 3384 3386 3388 3390 3392 3394 3396 3398 3400 3402 3404 3406 3408 3410 3412 3414 3416 3418 3420 3422 3424 3426 3428 3430 3432 3434 3436 3438 3440 3442 3444 3446 3448 3450 3452 3454 3456 3458 3460 3462 3464 3466 3468 3470 3472 3474 3476 3478 3480 3482 3484 3486 3488 3490 3492 3494 3496 3498 3500 3502 3504 3506 3508 3510 3512 3514 3516 3518 3520 3522 3524 3526 3528 3530 3532 3534 3536 3538 3540 3542 3544 3546 3548 3550 3552 3554 3556 3558 3560 3562 3564 3566 3568 3570 3572 3574 3576 3578 3580 3582 3584 3586 3588 3590 3592 3594 3596 3598 3600 3602 3604 3606 3608 3610 3612 3614 3616 3618 3620 3622 3624 3626 3628 3630 3632 3634 3636 3638 3640 3642 3644 3646 3648 3650 3652 3654 3656 3658 3660 3662 3664 3666 3668 3670 3672 3674 3676 3678 3680 3682 3684 3686 3688 3690 3692 3694 3696 3698 3700 3702 3704 3706 3708 3710 3712 3714 3716 3718 3720 3722 3724 3726 3728 3730 3732 3734 3736 3738 3740 3742 3744 3746 3748 3750 3752 3754 3756 3758 3760 3762 3764 3766 3768 3770 3772 3774 3776 3778 3780 3782 3784 3786 3788 3790 3792 3794 3796 3798 3800 3802 3804 3806 3808 3810 3812 3814 3816 3818 3820 3822 3824 3826 3828 3830 3832 3834 3836 3838 3840 3842 3844 3846 3848 3850 3852 3854 3856 3858 3860 3862 3864 3866 3868 3870 3872 3874 3876 3878 3880 3882 3884 3886 3888 3890 3892 3894 3896 3898 3900 3902 3904 3906 3908 3910 3912 3914 3916 3918 3920 3922 3924 3926 3928 3930 3932 3934 3936 3938 3940 3942 3944 3946 3948 3950 3952 3954 3956 3958 3960 3962 3964 3966 3968 3970 3972 3974 3976 3978 3980 3982 3984 3986 3988 3990 3992 3994 3996 3998 4000 4002 4004 4006 4008 4010 4012 4014 4016 4018 4020 4022 4024 4026 4028 4030 4032 4034 4036 4038 4040 4042 4044 4046 4048 4050 4052 4054 4056 4058 4060 4062 4064 4066 4068 4070 4072 4074 4076 4078 4080 4082 4084 4086 4088 4090 4092 4094 4096 4098 4100 4102 4104 4106 4108 4110 4112 4114 4116 4118 4120 4122 4124 4126 4128 4130 4132 4134 4136 4138 4140 4142 4144 4146 4148 4150 4152 4154 4156 4158 4160 4162 4164 4166 4168 4170 4172 4174 4176 4178 4180 4182 4184 4186 4188 4190 4192 4194 4196 4198 4200 4202 4204 4206 4208 4210 4212 4214 4216 4218 4220 4222 4224 4226 4228 4230 4232 4234 4236 4238 4240 4242 4244 4246 4248 4250 4252 4254 4256 4258 4260 4262 4264 4266 4268 4270 4272 4274 4276 4278 4280 4282 4284 4286 4288 4290 4292 4294 4296 4298 4300 4302 4304 4306 4308 4310 4312 4314 4316 4318 4320 4322 4324 4326 4328 4330 4332 4334 4336 4338 4340 4342 4344 4346 4348 4350 4352 4354 4356 4358 4360 4362 4364 4366 4368 4370 4372 4374 4376 4378 4380 4382 4384 4386 4388 4390 4392 4394 4396 4398 4400 4402 4404 4406 4408 4410 4412 4414 4416 4418 4420 4422 4424 4426 4428 4430 4432 4434 4436 4438 4440 4442 4444 4446 4448 4450 4452 4454 4456 4458 4460 4462 4464 4466 4468 4470 4472 4474 4476 4478 4480 4482 4484 4486 4488 4490 4492 4494 4496 4498 4500 4502 4504 4506 4508 4510 4512 4514 4516 4518 4520 4522 4524 4526 4528 4530 4532 4534 4536 4538 4540 4542 4544 4546 4548 4550 4552 4554 4556 4558 4560 4562 4564 4566 4568 4570 4572 4574 4576 4578 4580 4582 4584 4586 4588 4590 4592 4594 4596 4598 4600 4602 4604 4606 4608 4610 4612 4614 4616 4618 4620 4622 4624 4626 4628 4630 4632 4634 4636 4638 4640 4642 4644 4646 4648 4650 4652 4654 4656 4658 4660 4662 4664 4666 4668 4670 4672 4674 4676 4678 4680 4682 4684 4686 4688 4690 4692 4694 4696 4698 4700 4702 4704 4706 4708 4710 4712 4714 4716 4718 4720 4722 4724 4726 4728 4730 4732 4734 4736 4738 4740 4742 4744 4746 4748 4750 4752 4754 4756 4758 4760 4762 4764 4766 4768 4770 4772 4774 4776 4778 4780 4782 4784 4786 4788 4790 4792 4794 4796 4798 4800 4802 4804 4806 4808 4810 4812 4814 4816 4818 4820 4822 4824 4826 4828 4830 4832 4834 4836 4838 4840 4842 4844 4846 4848 4850 4852 4854 4856 4858 4860 4862 4864 4866 4868 4870 4872 4874 4876 4878 4880 4882 4884 4886 4888 4890 4892 4894 4896 4898 4900 4902 4904 4906 4908 4910 4912 4914 4916 4918 4920 4922 4924 4926 4928 4930 4932 4934 4936 4938 4940 4942 4944 4946 4948 4950 4952 4954 4956 4958 4960 4962 4964 4966 4968 4970 4972 4974 4976 4978 4980 4982 4984 4986 4988 4990 4992 4994 4996 4998 5000 5002 5004 5006 5008 5010 5012 5014 5016 5018 5020 5022 5024 5026 5028 5030 5032 5034 5036 5038 5040 5042 5044 5046 5048 5050 5052 5054 5056 5058 5060 5062 5064 5066 5068 5070 5072 5074 5076 5078 5080 5082 5084 5086 5088 5090 5092 5094 5096 5098 5100 5102 5104 5106 5108 5110 5112 5114 5116 5118 5120 5122 5124 5126 5128 5130 5132 5134 5136 5138 5140 5142 5144 5146 5148 5150 5152 5154 5156 5158 5160 5162 5164 5166 5168 5170 5172 5174 5176 5178 5180 5182 5184 5186 5188 5190 5192 5194 5196 5198 5200 5202 5204 5206 5208 5210 5212 5214 5216 5218 5220 5222 5224 5226 5228 5230 5232 5234 5236 5238 5240 5242 5244 5246 5248 5250 5252 5254 5256 5258 5260 5262 5264 5266 5268 5270 5272 5274 5276 5278 5280 5282 5284 5286 5288 5290 5292 5294 5296 5298 5300 5302 5304 5306 5308 5310 5312 5314 5316 5318 5320 5322 5324 5326 5328 5330 5332 5334 5336 5338 5340 5342 5344 5346 5348 5350 5352 5354 5356 5358 5360 5362 5364 5366 5368 5370 5372 5374 5376 5378 5380 5382 5384 5386 5388 5390 5392 5394 5396 5398 5400 5402 5404 5406 5408 5410 5412 5414 5416 5418 5420 5422 5424 5426 5428 5430 5432 5434 5436 5438 5440 5442 5444 5446 5448 5450 5452 5454 5456 5458 5460 5462 5464 5466 5468 5470 5472 5474 5476 5478 5480 5482 5484 5486 5488 5490 5492 5494 5496 5498 5500 5502 5504 5506 5508 5510 5512 5514 5516 5518 5520 5522 5524 5526 5528 5530 5532 5534 5536 5538 5540 5542 5544 5546 5548 5550 5552 5554 5556 5558 5560 5562 5564 5566 5568 5570 5572 5574 5576 5578 5580 5582 5584 5586 5588 5590 5592 5594 5596 5598 5600 5602 5604 5606 5608 5610 5612 5614 5616 5618 5620 5622 5624 5626 5628 5630 5632 5634 5636 5638 5640 5642 5644 5646 5648 5650 5652 5654 5656 5658 5660 5662 5664 5666 5668 5670 5672 5674 5676 5678 5680 5682 5684 5686 5688 5690 5692 5694 5696 5698 5700 5702 5704 5706 5708 5710 5712 5714 5716 5718 5720 5722 5724 5726 5728 5730 5732 5734 5736 5738 5740 5742 5744 5746 5748 5750 5752 5754 5756 5758 5760 5762 5764 5766 5768 5770 5772 5774 5776 5778 5780 5782 5784 5786 5788 5790 5792 5794 5796 5798 5800 5802 5804 5806 5808 5810 5812 5814 5816 5818 5820 5822 5824 5826 5828 5830 5832 5834 5836 5838 5840 5842 5844 5846 5848 5850 5852 5854 5856 5858 5860 5862 5864 5866 5868 5870 5872 5874 5876 5878 5880 5882 5884 5886 5888 5890 5892 5894 5896 5898 5900 5902 5904 5906 5908 5910 5912 5914 5916 5918 5920 5922 5924 5926 5928 5930 5932 5934 5936 5938 5940 5942 5944 5946 5948 5950 5952 5954 5956 5958 5960 5962 5964 5966 5968 5970 5972 5974 5976 5978 5980 5982 5984 5986 5988 5990 5992 5994 5996 5998 6000 6002 6004 6006 6008 6010 6012 6014 6016 6018 6020 6022 6024 6026 6028 6030 6032 6034 6036 6038 6040 6042 6044 6046 6048 6050 6052 6054 6056 6058 6060 6062 6064 6066 6068 6070 6072 6074 6076 6078 6080 6082 6084 6086 6088 6090 6092 6094 6096 6098 6100 6102 6104 6106 6108 6110 6112 6114 6116 6118 6120 6122 6124 6126 6128 6130 6132 6134 6136 6138 6140 6142 6144 6146 6148 6150 6152 6154 6156 6158 6160 6162 6164 6166 6168 6170 6172 6174 6176 6178 6180 6182 6184 6186 6188 6190 6192 6194 6196 6198 6200 6202 6204 6206 6208 6210 6212 6214 6216 6218 6220 6222 6224 6226 6228 6230 6232 6234 6236 6238 6240 6242 6244 6246 6248 6250 6252 6254 6256 6258 6260 6262 6264 6266 6268 6270 6272 6274 6276 6278 6280 6282 6284 6286 6288 6290 6292 6294 6296 6298 6300 6302 6304 6306 6308 6310 6312 6314 6316 6318 6320 6322 6324 6326 6328 6330 6332 6334 6336 6338 6340 6342 6344 6346 6348 6350 6352 6354 6356 6358 6360 6362 6364 6366 6368 6370 6372 6374 6376 6378 6380 6382 6384 6386 6388 6390 6392 6394 6396 6398 6400 6402 6404 6406 6408 6410 6412 6414 6416 6418 6420 6422 6424 6426 6428 6430 6432 6434 6436 6438 6440 6442 6444 6446 6448 6450 6452 6454 6456 6458 6460 6462 6464 6466 6468 6470 6472 6474 6476 6478 6480 6482 6484 6486 6488 6490 6492 6494 6496 6498 6500 6502 6504 6506 6508 6510 6512 6514 6516 6518 6520 6522 6524 6526 6528 6530 6532 6534 6536 6538 6540 6542 6544 6546 6548 6550 6552 6554 6556 6558 6560 6562 6564 6566 6568 6570 6572 6574 6576 6578 6580 6582 6584 6586 6588 6590 6592 6594 6596 6598 6600 6602 6604 6606 6608 6610 6612 6614 6616 6618 6620 6622 6624 6626 6628 6630 6632 6634 6636 6638 6640 6642 6644 6646 6648 6650 6652 6654 6656 6658 6660 6662 6664 6666 6668 6670 6672 6674 6676 6678 6680 6682 6684 6686 6688 6690 6692 6694 6696 6698 6700 6702 6704 6706 6708 6710 6712 6714 6716 6718 6720 6722 6724 6726 6728 6730 6732 6734 6736 6738 6740 6742 6744 6746 6748 6750 6752 6754 6756 6758 6760 6762 6764 6766 6768 6770 6772 6774 6776 6778 6780 6782 6784 6786 6788 6790 6792 6794 6796 6798 6800 6802 6804 6806 6808 6810 6812 6814 6816 6818 6820 6822 6824 6826 6828 6830 6832 6834 6836 6838 6840 6842 6844 6846 6848 6850 6852 6854 6856 6858 6860 6862 6864 6866 6868 6870 6872 6874 6876 6878 6880 6882 6884 6886 6888 6890 6892 6894 6896 6898 6900 6902 6904 6906 6908 6910 6912 6914 6916 6918 6920 6922 6924 6926 6928 6930 6932 6934 6936 6938 6940 6942 6944 6946 6948 6950 6952 6954 6956 6958 6960 6962 6964 6966 6968 6970 6972 6974 6976 6978 6980 6982 6984 6986 6988 6990 6992 6994 6996 6998 7000 7002 7004 7006 7008 7010 7012 7014 7016 7018 7020 7022 7024 7026 7028 7030 7032 7034 7036 7038 7040 7042 7044 7046 7048 7050 7052 7054 7056 7058 7060 7062 7064 7066 7068 7070 7072 7074 7076 7078 7080 7082 7084 7086 7088 7090 7092 7094 7096 7098 7100 7102 7104 7106 7108 7110 7112 7114 7116 7118 7120 7122 7124 7126 7128 7130 7132 7134 7136 7138 7140 7142 7144 7146 7148 7150 7152 7154 7156 7158 7160 7162 7164 7166 7168 7170 7172 7174 7176 7178 7180 7182 7184 7186 7188 7190 7192 7194 7196 7198 7200 7202 7204 7206 7208 7210 7212 7214 7216 7218 7220 7222 7224 7226 7228 7230 7232 7234 7236 7238 7240 7242 7244 7246 7248 7250 7252 7254 7256 7258 7260 7262 7264 7266 7268 7270 7272 7274 7276 7278 7280 7282 7284 7286 7288 7290 7292 7294 7296 7298 7300 7302 7304 7306 7308 7310 7312 7314 7316 7318 7320 7322 7324 7326 7328 7330 7332 7334 7336 7338 7340 7342 7344 7346 7348 7350 7352 7354 7356 7358 7360 7362 7364 7366 7368 7370 7372 7374 7376 7378 7380 7382 7384 7386 7388 7390 7392 7394 7396 7398 7400 7402 7404 7406 7408 7410 7412 7414 7416 7418 7420 7422 7424 7426 7428 7430 7432 7434 7436 7438 7440 7442 7444 7446 7448 7450 7452 7454 7456 7458 7460 7462 7464 7466 7468 7470 7472 7474 7476 7478 7480 7482 7484 7486 7488 7490 7492 7494 7496 7498 7500 7502 7504 7506 7508 7510 7512 7514 7516 7518 7520 7522 7524 7526 7528 7530 7532 7534 7536 7538 7540 7542 7544 7546 7548 7550 7552 7554 7556 7558 7560 7562 7564 7566 7568 7570 7572 7574 7576 7578 7580 7582 7584 7586 7588 7590 7592 7594 7596 7598 7600 7602 7604 7606 7608 7610 7612 7614 7616 7618 7620 7622 7624 7626 7628 7630 7632 7634 7636 7638 7640 7642 7644 7646 7648 7650 7652 7654 7656 7658 7660 7662 7664 7666 7668 7670 7672 7674 7676 7678 7680 7682 7684 7686 7688 7690 7692 7694 7696 7698 7700 7702 7704 7706 7708 7710 7712 7714 7716 7718 7720 7722 7724 7726 7728 7730 7732 7734 7736 7738 7740 7742 7744 7746 7748 7750 7752 7754 7756 7758 7760 7762 7764 7766 7768 7770 7772 7774 7776 7778 7780 7782 7784 7786 7788 7790 7792 7794 7796 7798 7800 7802 7804 7806 7808 7810 7812 7814 7816 7818 7820 7822 7824 7826 7828 7830 7832 7834 7836 7838 7840 7842 7844 7846 7848 7850 7852 7854 7856 7858 7860 7862 7864 7866 7868 7870 7872 7874 7876 7878 7880 7882 7884 7886 7888 7890 7892 7894 7896 7898 7900 7902 7904 7906 7908 7910 7912 7914 7916 7918 7920 7922 7924 7926 7928 7930 7932 7934 7936 7938 7940 7942 7944 7946 7948 7950 7952 7954 7956 7958 7960 7962 7964 7966 7968 7970 7972 7974 7976 7978 7980 7982 7984 7986 7988 7990 7992 7994 7996 7998 8000 8002 8004 8006 8008 8010 8012 8014 8016 8018 8020 8022 8024 8026 8028 8030 8032 8034 8036 8038 8040 8042 8044 8046 8048 8050 8052 8054 8056 8058 8060 8062 8064 8066 8068 8070 8072 8074 8076 8078 8080 8082 8084 8086 8088 8090 8092 8094 8096 8098 8100 8102 8104 8106 8108 8110 8112 8114 8116 8118 8120 8122 8124 8126 8128 8130 8132 8134 8136 8138 8140 8142 8144 8146 8148 8150 8152 8154 8156 8158 8160 8162 8164 8166 8168 8170 8172 8174 8176 8178 8180 8182 8184 8186 8188 8190 8192 8194 8196 8198 8200 8202 8204 8206 8208 8210 8212 8214 8216 8218 8220 8222 8224 8226 8228 8230 8232 8234 8236 8238 8240 8242 8244 8246 8248 8250 8252 8254 8256 8258 8260 8262 8264 8266 8268 8270 8272 8274 8276 8278 8280 8282 8284 8286 8288 8290 8292 8294 8296 8298 8300 8302 8304 8306 8308 8310 8312 8314 8316 8318 8320 8322 8324 8326 8328 8330 8332 8334 8336 8338 8340 8342 8344 8346 8348 8350 8352 8354 8356 8358 8360 8362 8364 8366 8368 8370 8372 8374 8376 8378 8380 8382 8384 8386 8388 8390 8392 8394 8396 8398 8400 8402 8404 8406 8408 8410 8412 8414 8416 8418 8420 8422 8424 8426 8428 8430 8432 8434 8436 8438 8440 8442 8444 8446 8448 8450 8452 8454 8456 8458 8460 8462 8464 8466 8468 8470 8472 8474 8476 8478 8480 8482 8484 8486 8488 8490 8492 8494 8496 8498 8500 8502 8504 8506 8508 8510 8512 8514 8516 8518 8520 8522 8524 8526 8528 8530 8532 8534 8536 8538 8540 8542 8544 8546 8548 8550 8552 8554 8556 8558 8560 8562 8564 8566 8568 8570 8572 8574 8576 8578 8580 8582 8584 8586 8588 8590 8592 8594 8596 8598 8600 8602 8604 8606 8608 8610 8612 8614 8616 8618 8620 8622 8624 8626 8628 8630 8632 8634 8636 8638 8640 8642 8644 8646 8648 8650 8652 8654 8656 8658 8660 8662 8664 8666 8668 8670 8672 8674 8676 8678 8680 8682 8684 8686 8688 8690 8692 8694 8696 8698 8700 8702 8704 8706 8708 8710 8712 8714 8716 8718 8720 8722 8724 8726 8728 8730 8732 8734 8736 8738 8740 8742 8744 8746 8748 8750 8752 8754 8756 8758 8760 8762 8764 8766 8768 8770 8772 8774 8776 8778 8780 8782 8784 8786 8788 8790 8792 8794 8796 8798 8800 8802 8804 8806 8808 8810 8812 8814 8816 8818 8820 8822 8824 8826 8828 8830 8832 8834 8836 8838 8840 8842 8844 8846 8848 8850 8852 8854 8856 8858 8860 8862 8864 8866 8868 8870 8872 8874 8876 8878 8880 8882 8884 8886 8888 8890 8892 8894 8896 8898 8900 8902 8904 8906 8908 8910 8912 8914 8916 8918 8920 8922 8924 8926 8928 8930 8932 8934 8936 8938 8940 8942 8944 8946 8948 8950 8952 8954 8956 8958 8960 8962 8964 8966 8968 8970 8972 8974 8976 8978 8980 8982 8984 8986 8988 8990 8992 8994 8996 8998 9000 9002 9004 9006 9008 9010 9012 9014 9016 9018 9020 9022 9024 9026 9028 9030 9032 9034 9036 9038 9040 9042 9044 9046 9048 9050 9052 9054 9056 9058 9060 9062 9064 9066 9068 9070 9072 9074 9076 9078 9080 9082 9084 9086 9088 9090 9092 9094 9096 9098 9100 9102 9104 9106 9108 9110 9112 9114 9116 9118 9120 9122 9124 9126 9128 9130 9132 9134 9136 9138 9140 9142 9144 9146 9148 9150 9152 9154 9156 9158 9160 9162 9164 9166 9168 9170 9172 9174 9176 9178 9180 9182 9184 9186 9188 9190 9192 9194 9196 9198 9200 9202 9204 9206 9208 9210 9212 9214 9216 9218 9220 9222 9224 9226 9228 9230 9232 9234 9236 9238 9240 9242 9244 9246 9248 9250 9252 9254 9256 9258 9260 9262 9264 9266 9268 9270 9272 9274 9276 9278 9280 9282 9284 9286 9288 9290 9292 9294 9296 9298 9300 9302 9304 9306 9308 9310 9312 9314 9316 9318 9320 9322 9324 9326 9328 9330 9332 9334 9336 9338 9340 9342 9344 9346 9348 9350 9352 9354 9356 9358 9360 9362 9364 9366 9368 9370 9372 9374 9376 9378 9380 9382 9384 9386 9388 9390 9392 9394 9396 9398 9400 9402 9404 9406 9408 9410 9412 9414 9416 9418 9420 9422 9424 9426 9428 9430 9432 9434 9436 9438 9440 9442 9444 9446 9448 9450 9452 9454 9456 9458 9460 9462 9464 9466 9468 9470 9472 9474 9476 9478 9480 9482 9484 9486 9488 9490 9492 9494 9496 9498 9500 9502 9504 9506 9508 9510 9512 9514 9516 9518 9520 9522 9524 9526 9528 9530 9532 9534 9536 9538 9540 9542 9544 9546 9548 9550 9552 9554 9556 9558 9560 9562 9564 9566 9568 9570 9572 9574 9576 9578 9580 9582 9584 9586 9588 9590 9592 9594 9596 9598 9600 9602 9604 9606 9608 9610 9612 9614 9616 9618 9620 9622 9624 9626 9628 9630 9632 9634 9636 9638 9640 9642 9644 9646 9648 9650 9652 9654 9656 9658 9660 9662 9664 9666 9668 9670 9672 9674 9676 9678 9680 9682 9684 9686 9688 9690 9692 9694 9696 9698 9700 9702 9704 9706 9708 9710 9712 9714 9716 9718 9720 9722 9724 9726 9728 9730 9732 9734 9736 9738 9740 9742 9744 9746 9748 9750 9752 9754 9756 9758 9760 9762 9764 9766 9768 9770 9772 9774 9776 9778 9780 9782 9784 9786 9788 9790 9792 9794 9796 9798 9800 9802 9804 9806 9808 9810 9812 9814 9816 9818 9820 9822 9824 9826 9828 9830 9832 9834 9836 9838 9840 9842 9844 9846 9848 9850 9852 9854 9856 9858 9860 9862 9864 9866 9868 9870 9872 9874 9876 9878 9880 9882 9884 9886 9888 9890 9892 9894 9896 9898 9900 9902 9904 9906 9908 9910 9912 9914 9916 9918 9920 9922 9924 9926 9928 9930 9932 9934 9936 9938 9940 9942 9944 9946 9948 9950 9952 9954 9956 9958 9960 9962 9964 9966 9968 9970 9972 9974 9976 9978 9980 9982 9984 9986 9988 9990 9992 9994 9996 9998 10000 10002 10004 10006 10008 10010 10012 10014 10016 10018 10020 10022 10024 10026 10028 10030 10032 10034 10036 10038 10040 10042 10044 10046 10048 10050 10052 10054 10056 10058 10060 10062 10064 10066 10068 10070 10072 10074 10076 10078 10080 10082 10084 10086 10088 10090 10092 10094 10096 10098 10100 10102 10104 10106 10108 10110 10112 10114 10116 10118 10120 10122 10124 10126 10128 10130 10132 10134 10136 10138 10140 10142 10144 10146 10148 10150 10152 10154 10156 10158 10160 10162 10164 10166 10168 10170 10172 10174 10176 10178 10180 10182 10184 10186 10188 10190 10192 10194 10196 10198 10200 10202 10204 10206 10208 10210 10212 10214 10216 10218 10220 10222 10224 10226 10228 10230 10232 10234 10236 10238 10240 10242 10244 10246 10248 10250 10252 10254 10256 10258 10260 10262 10264 10266 10268 10270 10272 10274 10276 10278 10280 10282 10284 10286 10288 10290 10292 10294 10296 10298 10300 10302 10304 10306 10308 10310 10312 10314 10316 10318 10320 10322 10324 10326 10328 10330 10332 10334 10336 10338 10340 10342 10344 10346 10348 10350 10352 10354 10356 10358 10360 10362 10364 10366 10368 10370 10372 10374 10376 10378 10380 10382 10384 10386 10388 10390 10392 10394 10396 10398 10400 10402 10404 10406 10408 10410 10412 10414 10416 10418 10420 10422 10424 10426 10428 10430 10432 10434 10436 10438 10440 10442 10444 10446 10448 10450 10452 10454 10456 10458 10460 10462 10464 10466 10468 10470 10472 10474 10476 10478 10480 10482 10484 10486 10488 10490 10492 10494 10496 10498 10500 10502 10504 10506 10508 10510 10512 10514 10516 10518 10520 10522 10524 10526 10528 10530 10532 10534 10536 10538 10540 10542 10544 10546 10548 10550 10552 10554 10556 10558 10560 10562 10564 10566 10568 10570 10572 10574 10576 10578 10580 10582 10584 10586 10588 10590 10592 10594 10596 10598 10600 10602 10604 10606 10608 10610 10612 10614 10616 10618 10620 10622 10624 10626 10628 10630 10632 10634 10636 10638 10640 10642 10644 10646 10648 10650 10652 10654 10656 10658 10660 10662 10664 10666 10668 10670 10672 10674 10676 10678 10680 10682 10684 10686 10688 10690 10692 10694 10696 10698 10700 10702 10704 10706 10708 10710 10712 10714 10716 10718 10720 10722 10724 10726 10728 10730 10732 10734 10736 10738 10740 10742 10744 10746 10748 10750 10752 10754 10756 10758 10760 10762 10764 10766 10768 10770 10772 10774 10776 10778 10780 10782 10784 10786 10788 10790 10792 10794 10796 10798 10800 10802 10804 10806 10808 10810 10812 10814 10816 10818 10820 10822 10824 10826 10828 10830 10832 10834 10836 10838 10840 10842 10844 10846 10848 10850 10852 10854 10856 10858 10860 10862 10864 10866 10868 10870 10872 10874 10876 10878 10880 10882 10884 10886 10888 10890 10892 10894 10896 10898 10900 10902 10904 10906 10908 10910 10912 10914 10916 10918 10920 10922 10924 10926 10928 10930 10932 10934 10936 10938 10940 10942 10944 10946 10948 10950 10952 10954 10956 10958 10960 10962 10964 10966 10968 10970 10972 10974 10976 10978 10980 10982 10984 10986 10988 10990 10992 10994 10996 10998 11000 11002 11004 11006 11008 11010 11012 11014 11016 11018 11020 11022 11024 11026 11028 11030 11032 11034 11036 11038 11040 11042 11044 11046 11048 11050 11052 11054 11056 11058 11060 11062 11064 11066 11068 11070 11072 11074 11076 11078 11080 11082 11084 11086 11088 11090 11092 11094 11096 11098 11100 11102 11104 11106 11108 11110 11112 11114 11116 11118 11120 11122 11124 11126 11128 11130 11132 11134 11136 11138 11140 11142 11144 11146 11148 11150 11152 11154 11156 11158 11160 11162 11164 11166 11168 11170 11172 11174 11176 11178 11180 11182 11184 11186 11188 11190 11192 11194 11196 11198 11200 11202 11204 11206 11208 11210 11212 11214 11216 11218 11220 11222 11224 11226 11228 11230 11232 11234 11236 11238 11240 11242 11244 11246 11248 11250 11252 11254 11256 11258 11260 11262 11264 11266 11268 11270 11272 11274 11276 11278 11280 11282 11284 11286 11288 11290 11292 11294 11296 11298 11300 11302 11304 11306 11308 11310 11312 11314 11316 11318 11320 11322 11324 11326 11328 11330 11332 11334 11336 11338 11340 11342 11344 11346 11348 11350 11352 11354 11356 11358 11360 11362 11364 11366 11368 11370 11372 11374 11376 11378 11380 11382 11384 11386 11388 11390 11392 11394 11396 11398 11400 11402 11404 11406 11408 11410 11412 11414 11416 11418 11420 11422 11424 11426 11428 11430 11432 11434 11436 11438 11440 11442 11444 11446 11448 11450 11452 11454 11456 11458 11460 11462 11464 11466 11468 11470 11472 11474 11476 11478 11480 11482 11484 11486 11488 11490 11492 11494 11496 11498 11500 11502 11504 11506 11508 11510 11512 11514 11516 11518 11520 11522 11524 11526 11528 11530 11532 11534 11536 11538 11540 11542 11544 11546 11548 11550 11552 11554 11556 11558 11560 11562 11564 11566 11568 11570 11572 11574 11576 11578 11580 11582 11584 11586 11588 11590 11592 11594 11596 11598 11600 11602 11604 11606 11608 11610 11612 11614 11616 11618 11620 11622 11624 11626 11628 11630 11632 11634 11636 11638 11640 11642 11644 11646 11648 11650 11652 11654 11656 11658 11660 11662 11664 11666 11668 11670 11672 11674 11676 11678 11680 11682 11684 11686 11688 11690 11692 11694 11696 11698 11700 11702 11704 11706 11708 11710 11712 11714 11716 11718 11720 11722 11724 11726 11728 11730 11732 11734 11736 11738 11740 11742 11744 11746 11748 11750 11752 11754 11756 11758 11760 11762 11764 11766 11768 11770 11772 11774 11776 11778 11780 11782 11784 11786 11788 11790 11792 11794 11796 11798 11800 11802 11804 11806 11808 11810 11812 11814 11816 11818 11820 11822 11824 11826 11828 11830 11832 11834 11836 11838 11840 11842 11844 11846 11848 11850 11852 11854 11856 11858 11860 11862 11864 11866 11868 11870 11872 11874 11876 11878 11880 11882 11884 11886 11888 11890 11892 11894 11896 11898 11900 11902 11904 11906 11908 11910 11912 11914 11916 11918 11920 11922 11924 11926 11928 11930 11932 11934 11936 11938 11940 11942 11944 11946 11948 11950 11952 11954 11956 11958 11960 11962 11964 11966 11968 11970 11972 11974 11976 11978 11980 11982 11984 11986 11988 11990 11992 11994 11996 11998 12000 12002 12004 12006 12008 12010 12012 12014 12016 12018 12020 12022 12024 12026 12028 12030 12032 12034 12036 12038 12040 12042 12044 12046 12048 12050 12052 12054 12056 12058 12060 12062 12064 12066 12068 12070 12072 12074 12076 12078 12080 12082 12084 12086 12088 12090 12092 12094 12096 12098 12100 12102 12104 12106 12108 12110 12112 12114 12116 12118 12120 12122 12124 12126 12128 12130 12132 12134 12136 12138 12140 12142 12144 12146 12148 12150 12152 12154 12156 12158 12160 12162 12164 12166 12168 12170 12172 12174 12176 12178 12180 12182 12184 12186 12188 12190 12192 12194 12196 12198 12200 12202 12204 12206 12208 12210 12212 12214 12216 12218 12220 12222 12224 12226 12228 12230 12232 12234 12236 12238 12240 12242 12244 12246 12248 12250 12252 12254 12256 12258 12260 12262 12264 12266 12268 12270 12272 12274 12276 12278 12280 12282 12284 12286 12288 12290 12292 12294 12296 12298 12300 12302 12304 12306 12308 12310 12312 12314 12316 12318 12320 12322 12324 12326 12328 12330 12332 12334 12336 12338 12340 12342 12344 12346 12348 12350 12352 12354 12356 12358 12360 12362 12364 12366 12368 12370 12372 12374 12376 12378 12380 12382 12384 12386 12388 12390 12392 12394 12396 12398 12400 12402 12404 12406 12408 12410 12412 12414 12416 12418 12420 12422 12424 12426 12428 12430 12432 12434 12436 12438 12440 12442 12444 12446 12448 12450 12452 12454 12456 12458 12460 12462 12464 12466 12468 12470 12472 12474 12476 12478 12480 12482 12484 12486 12488 12490 12492 12494 12496 12498 12500 12502 12504 12506 12508 12510 12512 12514 12516 12518 12520 12522 12524 12526 12528 12530 12532 12534 12536 12538 12540 12542 12544 12546 12548 12550 12552 12554 12556 12558 12560 12562 12564 12566 12568 12570 12572 12574 12576 12578 12580 12582 12584 12586 12588 12590 12592 12594 12596 12598 12600 12602 12604 12606 12608 12610 12612 12614 12616 12618 12620 12622 12624 12626 12628 12630 12632 12634 12636 12638 12640 12642 12644 12646 12648 12650 12652 12654 12656 12658 12660 12662 12664 12666 12668 12670 12672 12674 12676 12678 12680 12682 12684 12686 12688 12690 12692 12694 12696 12698 12700 12702 12704 12706 12708 12710 12712 12714 12716 12718 12720 12722 12724 12726 12728 12730 12732 12734 12736 12738 12740 12742 12744 12746 12748 12750 12752 12754 12756 12758 12760 12762 12764 12766 12768 12770 12772 12774 12776 12778 12780 12782 12784 12786 12788 12790 12792 12794 12796 12798 12800 12802 12804 12806 12808 12810 12812 12814 12816 12818 12820 12822 12824 12826 12828 12830 12832 12834 12836 12838 12840 12842 12844 12846 12848 12850 12852 12854 12856 12858 12860 12862 12864 12866 12868 12870 12872 12874 12876 12878 12880 12882 12884 12886 12888 12890 12892 12894 12896 12898 12900 12902 12904 12906 12908 12910 12912 12914 12916 12918 12920 12922 12924 12926 12928 12930 12932 12934 12936 12938 12940 12942 12944 12946 12948 12950 12952 12954 12956 12958 12960 12962 12964 12966 12968 12970 12972 12974 12976 12978 12980 12982 12984 12986 12988 12990 12992 12994 12996 12998 13000 13002 13004 13006 13008 13010 13012 13014 13016 13018 13020 13022 13024 13026 13028 13030 13032 13034 13036 13038 13040 13042 13044 13046 13048 13050 13052 13054 13056 13058 13060 13062 13064 13066 13068 13070 13072 13074 13076 13078 13080 13082 13084 13086 13088 13090 13092 13094 13096 13098 13100 13102 13104 13106 13108 13110 13112 13114 13116 13118 13120 13122 13124 13126 13128 13130 13132 13134 13136 13138 13140 13142 13144 13146 13148 13150 13152 13154 13156 13158 13160 13162 13164 13166 13168 13170 13172 13174 13176 13178 13180 13182 13184 13186 13188 13190 13192 13194 13196 13198 13200 13202 13204 13206 13208 13210 13212 13214 13216 13218 13220 13222 13224 13226 13228 13230 13232 13234 13236 13238 13240 13242 13244 13246 13248 13250 13252 13254 13256 13258 13260 13262 13264 13266 13268 13270 13272 13274 13276 13278 13280 13282 13284 13286 13288 13290 13292 13294 13296 13298 13300 13302 13304 13306 13308 13310 13312 13314 13316 13318 13320 13322 13324 13326 13328 13330 13332 13334 13336 13338 13340 13342 13344 13346 13348 13350 13352 13354 13356 13358 13360 13362 13364 13366 13368 13370 13372 13374 13376 13378 13380 13382 13384 13386 13388 13390 13392 13394 13396 13398 13400 13402 13404 13406 13408 13410 13412 13414 13416 13418 13420 13422 13424 13426 13428 13430 13432 13434 13436 13438 13440 13442 13444 13446 13448 13450 13452 13454 13456 13458 13460 13462 13464 13466 13468 13470 13472 13474 13476 13478 13480 13482 13484 13486 13488 13490 13492 13494 13496 13498 13500 13502 13504 13506 13508 13510 13512 13514 13516 13518 13520 13522 13524 13526 13528 13530 13532 13534 13536 13538 13540 13542 13544 13546 13548 13550 13552 13554 13556 13558 13560 13562 13564 13566 13568 13570 13572 13574 13576 13578 13580 13582 13584 13586 13588 13590 13592 13594 13596 13598 13600 13602 13604 13606 13608 13610 13612 13614 13616 13618 13620 13622 13624 13626 13628 13630 13632 13634 13636 13638 13640 13642 13644 13646 13648 13650 13652 13654 13656 13658 13660 13662 13664 13666 13668 13670 13672 13674 13676 13678 13680 13682 13684 13686 13688 13690 13692 13694 13696 13698 13700 13702 13704 13706 13708 13710 13712 13714 13716 13718 13720 13722 13724 13726 13728 13730 13732 13734 13736 13738 13740 13742 13744 13746 13748 13750 13752 13754 13756 13758 13760 13762 13764 13766 13768 13770 13772 13774 13776 13778 13780 13782 13784 13786 13788 13790 13792 13794 13796 13798 13800 13802 13804 13806 13808 13810 13812 13814 13816 13818 13820 13822 13824 13826 13828 13830 13832 13834 13836 13838 13840 13842 13844 13846 13848 13850 13852 13854 13856 13858 13860 13862 13864 13866 13868 13870 13872 13874 13876 13878 13880 13882 13884 13886 13888 13890 13892 13894 13896 13898 13900 13902 13904 13906 13908 13910 13912 13914 13916 13918 13920 13922 13924 13926 13928 13930 13932 13934 13936 13938 13940 13942 13944 13946 13948 13950 13952 13954 13956 13958 13960 13962 13964 13966 13968 13970 13972 13974 13976 13978 13980 13982 13984 13986 13988 13990 13992 13994 13996 13998 14000 14002 14004 14006 14008 14010 14012 14014 14016 14018 14020 14022 14024 14026 14028 14030 14032 14034 14036 14038 14040 14042 14044 14046 14048 14050 14052 14054 14056 14058 14060 14062 14064 14066 14068 14070 14072 14074 14076 14078 14080 14082 14084 14086 14088 14090 14092 14094 14096 14098 14100 14102 14104 14106 14108 14110 14112 14114 14116 14118 14120 14122 14124 14126 14128 14130 14132 14134 14136 14138 14140 14142 14144 14146 14148 14150 14152 14154 14156 14158 14160 14162 14164 14166 14168 14170 14172 14174 14176 14178 14180 14182 14184 14186 14188 14190 14192 14194 14196 14198 14200 14202 14204 14206 14208 14210 14212 14214 14216 14218 14220 14222 14224 14226 14228 14230 14232 14234 14236 14238 14240 14242 14244 14246 14248 14250 14252 14254 14256 14258 14260 14262 14264 14266 14268 14270 14272 14274 14276 14278 14280 14282 14284 14286 14288 14290 14292 14294 14296 14298 14300 14302 14304 14306 14308 14310 14312 14314 14316 14318 14320 14322 14324 14326 14328 14330 14332 14334 14336 14338 14340 14342 14344 14346 14348 14350 14352 14354 14356 14358 14360 14362 14364 14366 14368 14370 14372 14374 14376 14378 14380 14382 14384 14386 14388 14390 14392 14394 14396 14398 14400 14402 14404 14406 14408 14410 14412 14414 14416 14418 14420 14422 14424 14426 14428 14430 14432 14434 14436 14438 14440 14442 14444 14446 14448 14450 14452 14454 14456 14458 14460 14462 14464 14466 14468 14470 14472 14474 14476 14478 14480 14482 14484 14486 14488 14490 14492 14494 14496 14498 14500 14502 14504 14506 14508 14510 14512 14514 14516 14518 14520 14522 14524 14526 14528 14530 14532 14534 14536 14538 14540 14542 14544 14546 14548 14550 14552 14554 14556 14558 14560 14562 14564 14566 14568 14570 14572 14574 14576 14578 14580 14582 14584 14586 14588 14590 14592 14594 14596 14598 14600 14602 14604 14606 14608 14610 14612 14614 14616 14618 14620 14622 14624 14626 14628 14630 14632 14634 14636 14638 14640 14642 14644 14646 14648 14650 14652 14654 14656 14658 14660 14662 14664 14666 14668 14670 14672 14674 14676 14678 14680 14682 14684 14686 14688 14690 14692 14694 14696 14698 14700 14702 14704 14706 14708 14710 14712 14714 14716 14718 14720 14722 14724 14726 14728 14730 14732 14734 14736 14738 14740 14742 14744 14746 14748 14750 14752 14754 14756 14758 14760 14762 14764 14766 14768 14770 14772 14774 14776 14778 14780 14782 14784 14786 14788 14790 14792 14794 14796 14798 14800 14802 14804 14806 14808 14810 14812 14814 14816 14818 14820 14822 14824 14826 14828 14830 14832 14834 14836 14838 14840 14842 14844 14846 14848 14850 14852 14854 14856 14858 14860 14862 14864 14866 14868 14870 14872 14874 14876 14878 14880 14882 14884 14886 14888 14890 14892 14894 14896 14898 14900 14902 14904 14906 14908 14910 14912 14914 14916 14918 14920 14922 14924 14926 14928 14930 14932 14934 14936 14938 14940 14942 14944 14946 14948 14950 14952 14954 14956 14958 14960 14962 14964 14966 14968 14970 14972 14974 14976 14978 14980 14982 14984 14986 14988 14990 14992 14994 14996 14998 15000 15002 15004 15006 15008 15010 15012 15014 15016 15018 15020 15022 15024 15026 15028 15030 15032 15034 15036 15038 15040 15042 15044 15046 15048 15050 15052 15054 15056 15058 15060 15062 15064 15066 15068 15070 15072 15074 15076 15078 15080 15082 15084 15086 15088 15090 15092 15094 15096 15098 15100 15102 15104 15106 15108 15110 15112 15114 15116 15118 15120 15122 15124 15126 15128 15130 15132 15134 15136 15138 15140 15142 15144 15146 15148 15150 15152 15154 15156 15158 15160 15162 15164 15166 15168 15170 15172 15174 15176 15178 15180 15182 15184 15186 15188 15190 15192 15194 15196 15198 15200 15202 15204 15206 15208 15210 15212 15214 15216 15218 15220 15222 15224 15226 15228 15230 15232 15234 15236 15238 15240 15242 15244 15246 15248 15250 15252 15254 15256 15258 15260 15262 15264 15266 15268 15270 15272 15274 15276 15278 15280 15282 15284 15286 15288 15290 15292 15294 15296 15298 15300 15302 15304 15306 15308 15310 15312 15314 15316 15318 15320 15322 15324 15326 15328 15330 15332 15334 15336 15338 15340 15342 15344 15346 15348 15350 15352 15354 15356 15358 15360 15362 15364 15366 15368 15370 15372 15374 15376 15378 15380 15382 15384 15386 15388 15390 15392 15394 15396 15398 15400 15402 15404 15406 15408 15410 15412 15414 15416 15418 15420 15422 15424 15426 15428 15430 15432 15434 15436 15438 15440 15442 15444 15446 15448 15450 15452 15454 15456 15458 15460 15462 15464 15466 15468 15470 15472 15474 15476 15478 15480 15482 15484 15486 15488 15490 15492 15494 15496 15498 15500 15502 15504 15506 15508 15510 15512 15514 15516 15518 15520 15522 15524 15526 15528 15530 15532 15534 15536 15538 15540 15542 15544 15546 15548 15550 15552 15554 15556 15558 15560 15562 15564 15566 15568 15570 15572 15574 15576 15578 15580 15582 15584 15586 15588 15590 15592 15594 15596 15598 15600 15602 15604 15606 15608 15610 15612 15614 15616 15618 15620 15622 15624 15626 15628 15630 15632 15634 15636 15638 15640 15642 15644 15646 15648 15650 15652 15654 15656 15658 15660 15662 15664 15666 15668 15670 15672 15674 15676 15678 15680 15682 15684 15686 15688 15690 15692 15694 15696 15698 15700 15702 15704 15706 15708 15710 15712 15714 15716 15718 15720 15722 15724 15726 15728 15730 15732 15734 15736 15738 15740 15742 15744 15746 15748 15750 15752 15754 15756 15758 15760 15762 15764 15766 15768 15770 15772 15774 15776 15778 15780 15782 15784 15786 15788 15790 15792 15794 15796 15798 15800 15802 15804 15806 15808 15810 15812 15814 15816 15818 15820 15822 15824 15826 15828 15830 15832 15834 15836 15838 15840 15842 15844 15846 15848 15850 15852 15854 15856 15858 15860 15862 15864 15866 15868 15870 15872 15874 15876 15878 15880 15882 15884 15886 15888 15890 15892 15894 15896 15898 15900 15902 15904 15906 15908 15910 15912 15914 15916 15918 15920 15922 15924 15926 15928 15930 15932 15934 15936 15938 15940 15942 15944 15946 15948 15950 15952 15954 15956 15958 15960 15962 15964 15966 15968 15970 15972 15974 15976 15978 15980 15982 15984 15986 15988 15990 15992 15994 15996 15998 16000 16002 16004 16006 16008 16010 16012 16014 16016 16018 16020 16022 16024 16026 16028 16030 16032 16034 16036 16038 16040 16042 16044 16046 16048 16050 16052 16054 16056 16058 16060 16062 16064 16066 16068 16070 16072 16074 16076 16078 16080 16082 16084 16086 16088 16090 16092 16094 16096 16098 16100 16102 16104 16106 16108 16110 16112 16114 16116 16118 16120 16122 16124 16126 16128 16130 16132 16134 16136 16138 16140 16142 16144 16146 16148 16150 16152 16154 16156 16158 16160 16162 16164 16166 16168 16170 16172 16174 16176 16178 16180 16182 16184 16186 16188 16190 16192 16194 16196 16198 16200 16202 16204 16206 16208 16210 16212 16214 16216 16218 16220 16222 16224 16226 16228 16230 16232 16234 16236 16238 16240 16242 16244 16246 16248 16250 16252 16254 16256 16258 16260 16262 16264 16266 16268 16270 16272 16274 16276 16278 16280 16282 16284 16286 16288 16290 16292 16294 16296 16298 16300 16302 16304 16306 16308 16310 16312 16314 16316 16318 16320 16322 16324 16326 16328 16330 16332 16334 16336 16338 16340 16342 16344 16346 16348 16350 16352 16354 16356 16358 16360 16362 16364 16366 16368 16370 16372 16374 16376 16378 16380 16382 16384 16386 16388 16390 16392 16394 16396 16398 16400 16402 16404 16406 16408 16410 16412 16414 16416 16418 16420 16422 16424 16426 16428 16430 16432 16434 16436 16438 16440 16442 16444 16446 16448 16450 16452 16454 16456 16458 16460 16462 16464 16466 16468 16470 16472 16474 16476 16478 16480 16482 16484 16486 16488 16490 16492 16494 16496 16498 16500 16502 16504 16506 16508 16510 16512 16514 16516 16518 16520 16522 16524 16526 16528 16530 16532 16534 16536 16538 16540 16542 16544 16546 16548 16550 16552 16554 16556 16558 16560 16562 16564 16566 16568 16570 16572 16574 16576 16578 16580 16582 16584 16586 16588 16590 16592 16594 16596 16598 16600 16602 16604 16606 16608 16610 16612 16614 16616 16618 16620 16622 16624 16626 16628 16630 16632 16634 16636 16638 16640 16642 16644 16646 16648 16650 16652 16654 16656 16658 16660 16662 16664 16666 16668 16670 16672 16674 16676 16678 16680 16682 16684 16686 16688 16690 16692 16694 16696 16698 16700 16702 16704 16706 16708 16710 16712 16714 16716 16718 16720 16722 16724 16726 16728 16730 16732 16734 16736 16738 16740 16742 16744 16746 16748 16750 16752 16754 16756 16758 16760 16762 16764 16766 16768 16770 16772 16774 16776 16778 16780 16782 16784 16786 16788 16790 16792 16794 16796 16798 16800 16802 16804 16806 16808 16810 16812 16814 16816 16818 16820 16822 16824 16826 16828 16830 16832 16834 16836 16838 16840 16842 16844 16846 16848 16850 16852 16854 16856 16858 16860 16862 16864 16866 16868 16870 16872 16874 16876 16878 16880 16882 16884 16886 16888 16890 16892 16894 16896 16898 16900 16902 16904 16906 16908 16910 16912 16914 16916 16918 16920 16922 16924 16926 16928 16930 16932 16934 16936 16938 16940 16942 16944 16946 16948 16950 16952 16954 16956 16958 16960 16962 16964 16966 16968 16970 16972 16974 16976 16978 16980 16982 16984 16986 16988 16990 16992 16994 16996 16998 17000 17002 17004 17006 17008 17010 17012 17014 17016 17018 17020 17022 17024 17026 17028 17030 17032 17034 17036 17038 17040 17042 17044 17046 17048 17050 17052 17054 17056 17058 17060 17062 17064 17066 17068 17070 17072 17074 17076 17078 17080 17082 17084 17086 17088 17090 17092 17094 17096 17098 17100 17102 17104 17106 17108 17110 17112 17114 17116 17118 17120 17122 17124 17126 17128 17130 17132 17134 17136 17138 17140 17142 17144 17146 17148 17150 17152 17154 17156 17158 17160 17162 17164 17166 17168 17170 17172 17174 17176 17178 17180 17182 17184 17186 17188 17190 17192 17194 17196 17198 17200 17202 17204 17206 17208 17210 17212 17214 17216 17218 17220 17222 17224 17226 17228 17230 17232 17234 17236 17238 17240 17242 17244 17246 17248 17250 17252 17254 17256 17258 17260 17262 17264 17266 17268 17270 17272 17274 17276 17278 17280 17282 17284 17286 17288 17290 17292 17294 17296 17298 17300 17302 17304 17306 17308 17310 17312 17314 17316 17318 17320 17322 17324 17326 17328 17330 17332 17334 17336 17338 17340 17342 17344 17346 17348 17350 17352 17354 17356 17358 17360 17362 17364 17366 17368 17370 17372 17374 17376 17378 17380 17382 17384 17386 17388 17390 17392 17394 17396 17398 17400 17402 17404 17406 17408 17410 17412 17414 17416 17418 17420 17422 17424 17426 17428 17430 17432 17434 17436 17438 17440 17442 17444 17446 17448 17450 17452 17454 17456 17458 17460 17462 17464 17466 17468 17470 17472 17474 17476 17478 17480 17482 17484 17486 17488 17490 17492 17494 17496 17498 17500 17502 17504 17506 17508 17510 17512 17514 17516 17518 17520 17522 17524 17526 17528 17530 17532 17534 17536 17538 17540 17542 17544 17546 17548 17550 17552 17554 17556 17558 17560 17562 17564 17566 17568 17570 17572 17574 17576 17578 17580 17582 17584 17586 17588 17590 17592 17594 17596 17598 17600 17602 17604 17606 17608 17610 17612 17614 17616 17618 17620 17622 17624 17626 17628 17630 17632 17634 17636 17638 17640 17642 17644 17646 17648 17650 17652 17654 17656 17658 17660 17662 17664 17666 17668 17670 17672 17674 17676 17678 17680 17682 17684 17686 17688 17690 17692 17694 17696 17698 17700 17702 17704 17706 17708 17710 17712 17714 17716 17718 17720 17722 17724 17726 17728 17730 17732 17734 17736 17738 17740 17742 17744 17746 17748 17750 17752 17754 17756 17758 17760 17762 17764 17766 17768 17770 17772 17774 17776 17778 17780 17782 17784 17786 17788 17790 17792 17794 17796 17798 17800 17802 17804 17806 17808 17810 17812 17814 17816 17818 17820 17822 17824 17826 17828 17830 17832 17834 17836 17838 17840 17842 17844 17846 17848 17850 17852 17854 17856 17858 17860 17862 17864 17866 17868 17870 17872 17874 17876 17878 17880 17882 17884 17886 17888 17890 17892 17894 17896 17898 17900 17902 17904 17906 17908 17910 17912 17914 17916 17918 17920 17922 17924 17926 17928 17930 17932 17934 17936 17938 17940 17942 17944 17946 17948 17950 17952 17954 17956 17958 17960 17962 17964 17966 17968 17970 17972 17974 17976 17978 17980 17982 17984 17986 17988 17990 17992 17994 17996 17998 18000 18002 18004 18006 18008 18010 18012 18014 18016 18018 18020 18022 18024 18026 18028 18030 18032 18034 18036 18038 18040 18042 18044 18046 18048 18050 18052 18054 18056 18058 18060 18062 18064 18066 18068 18070 18072 18074 18076 18078 18080 18082 18084 18086 18088 18090 18092 18094 18096 18098 18100 18102 18104 18106 18108 18110 18112 18114 18116 18118 18120 18122 18124 18126 18128 18130 18132 18134 18136 18138 18140 18142 18144 18146 18148 18150 18152 18154 18156 18158 18160 18162 18164 18166 18168 18170 18172 18174 18176 18178 18180 18182 18184 18186 18188 18190 18192 18194 18196 18198 18200 18202 18204 18206 18208 18210 18212 18214 18216 18218 18220 18222 18224 18226 18228 18230 18232 18234 18236 18238 18240 18242 18244 18246 18248 18250 18252 18254 18256 18258 18260 18262 18264 18266 18268 18270 18272 18274 18276 18278 18280 18282 18284 18286 18288 18290 18292 18294 18296 18298 18300 18302 18304 18306 18308 18310 18312 18314 18316 18318 18320 18322 18324 18326 18328 18330 18332 18334 18336 18338 18340 18342 18344 18346 18348 18350 18352 18354 18356 18358 18360 18362 18364 18366 18368 18370 18372 18374 18376 18378 18380 18382 18384 18386 18388 18390 18392 18394 18396 18398 18400 18402 18404 18406 18408 18410 18412 18414 18416 18418 18420 18422 18424 18426 18428 18430 18432 18434 18436 18438 18440 18442 18444 18446 18448 18450 18452 18454 18456 18458 18460 18462 18464 18466 18468 18470 18472 18474 18476 18478 18480 18482 18484 18486 18488 18490 18492 18494 18496 18498 18500 18502 18504 18506 18508 18510 18512 18514 18516 18518 18520 18522 18524 18526 18528 18530 18532 18534 18536 18538 18540 18542 18544 18546 18548 18550 18552 18554 18556 18558 18560 18562 18564 18566 18568 18570 18572 18574 18576 18578 18580 18582 18584 18586 18588 18590 18592 18594 18596 18598 18600 18602 18604 18606 18608 18610 18612 18614 18616 18618 18620 18622 18624 18626 18628 18630 18632 18634 18636 18638 18640 18642 18644 18646 18648 18650 18652 18654 18656 18658 18660 18662 18664 18666 18668 18670 18672 18674 18676 18678 18680 18682 18684 18686 18688 18690 18692 18694 18696 18698 18700 18702 18704 18706 18708 18710 18712 18714 18716 18718 18720 18722 18724 18726 18728 18730 18732 18734 18736 18738 18740 18742 18744 18746 18748 18750 18752 18754 18756 18758 18760 18762 18764 18766 18768 18770 18772 18774 18776 18778 18780 18782 18784 18786 18788 18790 18792 18794 18796 18798 18800 18802 18804 18806 18808 18810 18812 18814 18816 18818 18820 18822 18824 18826 18828 18830 18832 18834 18836 18838 18840 18842 18844 18846 18848 18850 18852 18854 18856 18858 18860 18862 18864 18866 18868 18870 18872 18874 18876 18878 18880 18882 18884 18886 18888 18890 18892 18894 18896 18898 18900 18902 18904 18906 18908 18910 18912 18914 18916 18918 18920 18922 18924 18926 18928 18930 18932 18934 18936 18938 18940 18942 18944 18946 18948 18950 18952 18954 18956 18958 18960 18962 18964 18966 18968 18970 18972 18974 18976 18978 18980 18982 18984 18986 18988 18990 18992 18994 18996 18998 19000 19002 19004 19006 19008 19010 19012 19014 19016 19018 19020 19022 19024 19026 19028 19030 19032 19034 19036 19038 19040 19042 19044 19046 19048 19050 19052 19054 19056 19058 19060 19062 19064 19066 19068 19070 19072 19074 19076 19078 19080 19082 19084 19086 19088 19090 19092 19094 19096 19098 19100 19102 19104 19106 19108 19110 19112 19114 19116 19118 19120 19122 19124 19126 19128 19130 19132 19134 19136 19138 19140 19142 19144 19146 19148 19150 19152 19154 19156 19158 19160 19162 19164 19166 19168 19170 19172 19174 19176 19178 19180 19182 19184 19186 19188 19190 19192 19194 19196 19198 19200 19202 19204 19206 19208 19210 19212 19214 19216 19218 19220 19222 19224 19226 19228 19230 19232 19234 19236 19238 19240 19242 19244 19246 19248 19250 19252 19254 19256 19258 19260 19262 19264 19266 19268 19270 19272 19274 19276 19278 19280 19282 19284 19286 19288 19290 19292 19294 19296 19298 19300 19302 19304 19306 19308 19310 19312 19314 19316 19318 19320 19322 19324 19326 19328 19330 19332 19334 19336 19338 19340 19342 19344 19346 19348 19350 19352 19354 19356 19358 19360 19362 19364 19366 19368 19370 19372 19374 19376 19378 19380 19382 19384 19386 19388 19390 19392 19394 19396 19398 19400 19402 19404 19406 19408 19410 19412 19414 19416 19418 19420 19422 19424 19426 19428 19430 19432 19434 19436 19438 19440 19442 19444 19446 19448 19450 19452 19454 19456 19458 19460 19462 19464 19466 19468 19470 19472 19474 19476 19478 19480 19482 19484 19486 19488 19490 19492 19494 19496 19498 19500 19502 19504 19506 19508 19510 19512 19514 19516 19518 19520 19522 19524 19526 19528 19530 19532 19534 19536 19538 19540 19542 19544 19546 19548 19550 19552 19554 19556 19558 19560 19562 19564 19566 19568 19570 19572 19574 19576 19578 19580 19582 19584 19586 19588 19590 19592 19594 19596 19598 19600 19602 19604 19606 19608 19610 19612 19614 19616 19618 19620 19622 19624 19626 19628 19630 19632 19634 19636 19638 19640 19642 19644 19646 19648 19650 19652 19654 19656 19658 19660 19662 19664 19666 19668 19670 19672 19674 19676 19678 19680 19682 19684 19686 19688 19690 19692 19694 19696 19698 19700 19702 19704 19706 19708 19710 19712 19714 19716 19718 19720 19722 19724 19726 19728 19730 19732 19734 19736 19738 19740 19742 19744 19746 19748 19750 19752 19754 19756 19758 19760 19762 19764 19766 19768 19770 19772 19774 19776 19778 19780 19782 19784 19786 19788 19790 19792 19794 19796 19798 19800 19802 19804 19806 19808 19810 19812 19814 19816 19818 19820 19822 19824 19826 19828 19830 19832 19834 19836 19838 19840 19842 19844 19846 19848 19850 19852 19854 19856 19858 19860 19862 19864 19866 19868 19870 19872 19874 19876 19878 19880 19882 19884 19886 19888 19890 19892 19894 19896 19898 19900 19902 19904 19906 19908 19910 19912 19914 19916 19918 19920 19922 19924 19926 19928 19930 19932 19934 19936 19938 19940 19942 19944 19946 19948 19950 19952 19954 19956 19958 19960 19962 19964 19966 19968 19970 19972 19974 19976 19978 19980 19982 19984 19986 19988 19990 19992 19994 19996 19998 \n",
            "Tempo de execução: 0.199663 s\n"
          ]
        }
      ]
    },
    {
      "cell_type": "markdown",
      "source": [
        "## **AULA 12 - Efeitos colaterais II**\n",
        "\n",
        "Na aula de hoje iremos trabalhar com um algoritmo de sorteios aleatórios para calcular o pi. Ele é baseado em uma técnica de Otimização, Simulação e Estimação Paramétrica chamada Monte Carlo.\n",
        "\n",
        "O algoritmo sequencial se baseia em sorteios de pontos dentro de um quadrado de lado 2. Se a distância entre o ponto e o centro do quadrado for menor que 1 então o ponto cai dentro do círculo inscrito no quadrado. A quantidade de pontos que caem dentro do quadrado é proporcional a π\n",
        ". Veja abaixo um resumo do algoritmo.\n",
        "\n",
        "```\n",
        "sum = 0\n",
        "De i=0 até N:\n",
        "  a.sorteie pontos x,y ∈[0,1]\n",
        "  b.se x**2+y**2≤1, sum += 1\n",
        "devolva 4 * sum / N\n",
        "```\n",
        "\n",
        "Gerar números aleatórios é um processo sequencial, vamos considerar o quanto isso atrapalha nosso programa. Nas próximas questões leve em conta que o gerador de números aleatórios é uma variável compartilhada.\n"
      ],
      "metadata": {
        "id": "_nuH9BT8y8sy"
      }
    },
    {
      "cell_type": "code",
      "source": [
        "%%writefile monte-carlo.cpp\n",
        "#include <iostream>\n",
        "#include <stdlib.h>\n",
        "#include <omp.h>\n",
        "#include <chrono>\n",
        "#include <random>\n",
        "using namespace std;\n",
        "\n",
        "\n",
        "int main(){\n",
        "    auto t_start = std::chrono::high_resolution_clock::now();\n",
        "    double sum = 0;\n",
        "    int N = 100000;\n",
        "\n",
        "    // faça um gerador de numeros aleatorios que vai de 0 a 1\n",
        "\n",
        "\n",
        "    std::default_random_engine generator(42);\n",
        "    std::uniform_real_distribution<double> distribution(0.0, 1.0);\n",
        "\n",
        "\n",
        "    #pragma omp parallel for num_threads(4) reduction(+ : sum)\n",
        "    for (int i = 0; i < N; i++){\n",
        "        double x = (double) distribution(generator);\n",
        "        double y = (double) distribution(generator);\n",
        "        if (x*x + y*y <= 1){\n",
        "            sum += 1;\n",
        "        }\n",
        "    }\n",
        "    cout << 4 * sum / N << endl;\n",
        "\n",
        "    auto t_end = std::chrono::high_resolution_clock::now();\n",
        "\n",
        "    double elapsed_time_ms = std::chrono::duration<double, std::milli>(t_end-t_start).count();\n",
        "    double elapsed_time_s = elapsed_time_ms/1000;\n",
        "    std::cout << \"Tempo de execução: \" << elapsed_time_s << \" s\" << std::endl;\n",
        "\n",
        "    return 4 * sum / N;\n",
        "}"
      ],
      "metadata": {
        "colab": {
          "base_uri": "https://localhost:8080/"
        },
        "id": "Lwu90mE_za0O",
        "outputId": "b0a56cd2-e7a3-450e-9f81-e626d3ef5aa1"
      },
      "execution_count": 171,
      "outputs": [
        {
          "output_type": "stream",
          "name": "stdout",
          "text": [
            "Writing monte-carlo.cpp\n"
          ]
        }
      ]
    },
    {
      "cell_type": "code",
      "source": [
        "%%writefile monte-carlo-tentativa1.cpp\n",
        "#include <iostream>\n",
        "#include <stdlib.h>\n",
        "#include <omp.h>\n",
        "#include <chrono>\n",
        "#include <random>\n",
        "using namespace std;\n",
        "\n",
        "\n",
        "int main(){\n",
        "    auto t_start = std::chrono::high_resolution_clock::now();\n",
        "    double sum = 0;\n",
        "    int N = 100000;\n",
        "\n",
        "    // faça um gerador de numeros aleatorios que vai de 0 a 1\n",
        "\n",
        "\n",
        "    #pragma omp parallel for num_threads(4) reduction(+ : sum)\n",
        "    for (int i = 0; i < N; i++){\n",
        "        std::default_random_engine generator(i);\n",
        "        std::uniform_real_distribution<double> distribution(0.0, 1.0);\n",
        "\n",
        "        double x = (double) distribution(generator);\n",
        "        double y = (double) distribution(generator);\n",
        "        if (x*x + y*y <= 1){\n",
        "            sum += 1;\n",
        "        }\n",
        "    }\n",
        "    cout << 4 * sum / N << endl;\n",
        "\n",
        "    auto t_end = std::chrono::high_resolution_clock::now();\n",
        "\n",
        "    double elapsed_time_ms = std::chrono::duration<double, std::milli>(t_end-t_start).count();\n",
        "    double elapsed_time_s = elapsed_time_ms/1000;\n",
        "    std::cout << \"Tempo de execução: \" << elapsed_time_s << \" s\" << std::endl;\n",
        "\n",
        "    return 4 * sum / N;\n",
        "}"
      ],
      "metadata": {
        "colab": {
          "base_uri": "https://localhost:8080/"
        },
        "id": "CFJB8jeQz-L6",
        "outputId": "3885f0d3-c18c-4360-fabe-dab2b3b56f1e"
      },
      "execution_count": 172,
      "outputs": [
        {
          "output_type": "stream",
          "name": "stdout",
          "text": [
            "Writing monte-carlo-tentativa1.cpp\n"
          ]
        }
      ]
    },
    {
      "cell_type": "code",
      "source": [
        "!g++ -Wall -fopenmp monte-carlo-tentativa1.cpp -o monte-carlo-tentativa1"
      ],
      "metadata": {
        "id": "plkXcUsw0Mv5"
      },
      "execution_count": 173,
      "outputs": []
    },
    {
      "cell_type": "code",
      "source": [
        "!./monte-carlo-tentativa1"
      ],
      "metadata": {
        "colab": {
          "base_uri": "https://localhost:8080/"
        },
        "id": "yh1C5lq20Rft",
        "outputId": "31ecf058-03a1-4f99-8856-a3961cfba11f"
      },
      "execution_count": 174,
      "outputs": [
        {
          "output_type": "stream",
          "name": "stdout",
          "text": [
            "3.14104\n",
            "Tempo de execução: 0.0218027 s\n"
          ]
        }
      ]
    },
    {
      "cell_type": "code",
      "source": [
        "%%writefile monte-carlo-tentativa2.cpp\n",
        "#include <iostream>\n",
        "#include <stdlib.h>\n",
        "#include <omp.h>\n",
        "#include <chrono>\n",
        "#include <random>\n",
        "#include <iomanip>\n",
        "\n",
        "using namespace std;\n",
        "\n",
        "\n",
        "int main(){\n",
        "    auto t_start = std::chrono::high_resolution_clock::now();\n",
        "    double pi_estimate = 0.0;\n",
        "    long int N = 100000;\n",
        "\n",
        "    // faça um gerador de numeros aleatorios que vai de 0 a 1\n",
        "\n",
        "\n",
        "    #pragma omp parallel for num_threads(4) reduction(+ : pi_estimate) \n",
        "    for (int i = 0; i < N; i++){\n",
        "        int num_threads = omp_get_num_threads();\n",
        "        int tid = omp_get_thread_num();\n",
        "\n",
        "        std::default_random_engine generator(tid*rand());\n",
        "        std::normal_distribution<double> distribution(0.0, 0.5);        \n",
        "\n",
        "        double x = (double) distribution(generator);\n",
        "        double y = (double) distribution(generator);\n",
        "\n",
        "        // cout << \"x: \" << x << \" y: \" << y << endl;\n",
        "\n",
        "        if (x*x + y*y <= 1){\n",
        "            pi_estimate += 1.0;\n",
        "        }\n",
        "    }\n",
        "    \n",
        "\n",
        "    cout << pi_estimate << endl;\n",
        "\n",
        "    cout << \"PI \" << std::setprecision(6.4) << 4.0 * pi_estimate / (double) N << endl;\n",
        "\n",
        "\n",
        "    auto t_end = std::chrono::high_resolution_clock::now();\n",
        "\n",
        "    double elapsed_time_ms = std::chrono::duration<double, std::milli>(t_end-t_start).count();\n",
        "    double elapsed_time_s = elapsed_time_ms/1000;\n",
        "    std::cout << \"Tempo de execução mudei: \" << elapsed_time_s << \" s\" << std::endl;\n",
        "\n",
        "    return 0;\n",
        "}"
      ],
      "metadata": {
        "colab": {
          "base_uri": "https://localhost:8080/"
        },
        "id": "mqZYeT8_0Tjh",
        "outputId": "3cf19c49-5994-40b4-82a9-402b86fc491e"
      },
      "execution_count": 178,
      "outputs": [
        {
          "output_type": "stream",
          "name": "stdout",
          "text": [
            "Overwriting monte-carlo-tentativa2.cpp\n"
          ]
        }
      ]
    },
    {
      "cell_type": "code",
      "source": [
        "!g++ -Wall -fopenmp monte-carlo-tentativa2.cpp -o monte-carlo-tentativa2"
      ],
      "metadata": {
        "colab": {
          "base_uri": "https://localhost:8080/"
        },
        "id": "nI-v2zCh0ZKe",
        "outputId": "aad16d77-bc82-49bb-c7c1-cf4516c706ef"
      },
      "execution_count": 179,
      "outputs": [
        {
          "output_type": "stream",
          "name": "stdout",
          "text": [
            "\u001b[01m\u001b[Kmonte-carlo-tentativa2.cpp:\u001b[m\u001b[K In function ‘\u001b[01m\u001b[Kint main()\u001b[m\u001b[K’:\n",
            "\u001b[01m\u001b[Kmonte-carlo-tentativa2.cpp:21:13:\u001b[m\u001b[K \u001b[01;35m\u001b[Kwarning: \u001b[m\u001b[Kunused variable ‘\u001b[01m\u001b[Knum_threads\u001b[m\u001b[K’ [\u001b[01;35m\u001b[K-Wunused-variable\u001b[m\u001b[K]\n",
            "   21 |         int \u001b[01;35m\u001b[Knum_threads\u001b[m\u001b[K = omp_get_num_threads();\n",
            "      |             \u001b[01;35m\u001b[K^~~~~~~~~~~\u001b[m\u001b[K\n"
          ]
        }
      ]
    },
    {
      "cell_type": "code",
      "source": [
        "!./monte-carlo-tentativa2"
      ],
      "metadata": {
        "colab": {
          "base_uri": "https://localhost:8080/"
        },
        "id": "zOwfIuDT0be3",
        "outputId": "47cde07f-6ba1-4a37-fa65-760f428789ae"
      },
      "execution_count": 180,
      "outputs": [
        {
          "output_type": "stream",
          "name": "stdout",
          "text": [
            "89733\n",
            "PI 3.58932\n",
            "Tempo de execução mudei: 0.034016 s\n"
          ]
        }
      ]
    },
    {
      "cell_type": "markdown",
      "source": [
        "## **AULA 13 e 14 - Introdução a GPU e Iteradores**\n",
        "\n",
        "Obs: na aula 13 apenas rodamos um código.\n",
        "\n",
        "\n"
      ],
      "metadata": {
        "id": "wOs2F6FC1Dc7"
      }
    },
    {
      "cell_type": "code",
      "source": [
        "%%writefile variancia.cu\n",
        "#include <thrust/host_vector.h>\n",
        "#include <thrust/device_vector.h>\n",
        "#include <thrust/generate.h>\n",
        "#include <thrust/sort.h>\n",
        "#include <thrust/copy.h>\n",
        "#include <thrust/random.h>\n",
        "#include <vector>\n",
        "using namespace std;\n",
        "\n",
        "int main() {\n",
        "  thrust::device_vector<double> d_vec(10);\n",
        "  thrust::sequence (d_vec.begin(), d_vec.end(), 0.0f, 1.0f);\n",
        "\n",
        "  thrust::device_vector<double>::iterator begin = d_vec.begin();\n",
        "  thrust::device_vector<double>::iterator end = d_vec.end();\n",
        "  int len = end - begin;\n",
        "\n",
        "\n",
        "  double media = thrust::reduce(d_vec.begin(), d_vec.end()) / len;\n",
        "\n",
        "//   thrust::device_vector<double> media_vector(len, media);\n",
        "\n",
        "  thrust::constant_iterator<double> media_vector_begin(media);\n",
        "  thrust::constant_iterator<double> media_vector_end = media_vector_begin + len;\n",
        "\n",
        "  thrust::device_vector<double> subtracao_vec(len);\n",
        "  thrust::device_vector<double> quadrado_vec(len);\n",
        "  thrust::transform (d_vec.begin(), d_vec.end(), media_vector_begin, subtracao_vec.begin(), thrust::minus<double>());\n",
        "  thrust::transform (subtracao_vec.begin(), subtracao_vec.end(), subtracao_vec.begin(), quadrado_vec.begin(), thrust::multiplies<double>());\n",
        "\n",
        "  double soma_quadrados = thrust::reduce(quadrado_vec.begin(), quadrado_vec.end());\n",
        "\n",
        "  double variance = soma_quadrados / len;\n",
        "\n",
        "  std::cout << \"variancia: \" << variance << std::endl;\n",
        "}"
      ],
      "metadata": {
        "colab": {
          "base_uri": "https://localhost:8080/"
        },
        "id": "F-cysuTw1iOL",
        "outputId": "15c9f013-8e88-48f4-a990-8d5f8faba1f1"
      },
      "execution_count": 1,
      "outputs": [
        {
          "output_type": "stream",
          "name": "stdout",
          "text": [
            "Writing variancia.cu\n"
          ]
        }
      ]
    },
    {
      "cell_type": "code",
      "source": [
        "!nvcc variancia.cu -o variancia"
      ],
      "metadata": {
        "id": "F1jsmPcC2V8v"
      },
      "execution_count": 2,
      "outputs": []
    },
    {
      "cell_type": "code",
      "source": [
        "!./variancia"
      ],
      "metadata": {
        "colab": {
          "base_uri": "https://localhost:8080/"
        },
        "id": "eU5dTFim2Zsd",
        "outputId": "ca1fca77-e21d-462d-8111-8840143221fe"
      },
      "execution_count": 3,
      "outputs": [
        {
          "output_type": "stream",
          "name": "stdout",
          "text": [
            "variancia: 8.25\n"
          ]
        }
      ]
    },
    {
      "cell_type": "code",
      "source": [
        "%%writefile variancia_correcao.cu\n",
        "#include <thrust/host_vector.h>\n",
        "#include <thrust/device_vector.h>\n",
        "#include <thrust/generate.h>\n",
        "#include <thrust/sort.h>\n",
        "#include <thrust/copy.h>\n",
        "#include <thrust/random.h>\n",
        "#include <vector>\n",
        "using namespace std;\n",
        "\n",
        "int main() {\n",
        "  int N = 10;\n",
        "  thrust::device_vector<float> x(N);\n",
        "  thrust::sequence (x.begin(), x.end());\n",
        "\n",
        "  //PASSO 1\n",
        "  float media = thrust::reduce(x.begin(), x.end()) / x.size();\n",
        "\n",
        "  //PASSO 2 (x -mu)\n",
        "  thrust::device_vector<float> mu(N, media);\n",
        "  thrust::transform(x.begin(), x.end(), mu.begin(), x.begin(), thrust::minus<float>());\n",
        "\n",
        "  // PASSO 3 (x - mu)^2\n",
        "  thrust::transform(x.begin(), x.end(), x.begin(), thrust::square<float>());\n",
        "\n",
        "  // PASSO 4  SUM (x - mu)^2/ N\n",
        "  float variance = thrust::reduce(x.begin(), x.end()) / N;\n",
        "\n",
        "  std::cout << \"variancia: \" << variance << std::endl;\n",
        "}"
      ],
      "metadata": {
        "colab": {
          "base_uri": "https://localhost:8080/"
        },
        "id": "bJ0RP30p2bUj",
        "outputId": "7598a1f3-a12e-4d19-e54d-acc6a2340b30"
      },
      "execution_count": 4,
      "outputs": [
        {
          "output_type": "stream",
          "name": "stdout",
          "text": [
            "Writing variancia_correcao.cu\n"
          ]
        }
      ]
    },
    {
      "cell_type": "code",
      "source": [
        "!nvcc variancia_correcao.cu -o variancia_correcao"
      ],
      "metadata": {
        "id": "seMVgx6C2672"
      },
      "execution_count": 6,
      "outputs": []
    },
    {
      "cell_type": "code",
      "source": [
        "!./variancia_correcao"
      ],
      "metadata": {
        "colab": {
          "base_uri": "https://localhost:8080/"
        },
        "id": "l5vxsVFu22Rr",
        "outputId": "c78b526d-66fb-49d1-ea2e-050ec994508f"
      },
      "execution_count": 7,
      "outputs": [
        {
          "output_type": "stream",
          "name": "stdout",
          "text": [
            "variancia: 8.25\n"
          ]
        }
      ]
    },
    {
      "cell_type": "markdown",
      "source": [
        "## **AULA 15 - Thrust - Operações customizadas**\n",
        "\n",
        "\n",
        "Vamos conhecer como criar operações customizadas com Thrust. Para isso, vamos resolver um problema clássico denominado Saxpy, o que significa Single precision A X plus Y . Na prática, consiste em calcular um valor z, que é dado por ax + y, onde a é uma constante e x e y são vetores.\n",
        "\n",
        "O código-fonte abaixo resolve o Saxpy em C++/Thrust. Vamos avaliá-lo.\n"
      ],
      "metadata": {
        "id": "U9sOGCBe3JVR"
      }
    },
    {
      "cell_type": "code",
      "source": [
        " %%writefile saxpy.cu\n",
        " #include <thrust/host_vector.h>\n",
        " #include <thrust/device_vector.h>\n",
        " #include <thrust/generate.h>\n",
        " #include <thrust/functional.h>\n",
        " #include <thrust/copy.h>\n",
        " #include <cstdlib>\n",
        " #include <algorithm>\n",
        " #include <iostream>\n",
        " #include <iomanip>\n",
        "\n",
        " using namespace  std;\n",
        "\n",
        "struct saxpy\n",
        "{\n",
        "    int a;    \n",
        "    saxpy(int a_) : a(a_) {};\n",
        "    __host__ __device__\n",
        "    double operator()(const int& x, const int& y) {\n",
        "           return a * x + y;\n",
        "    }\n",
        "};\n",
        "\n",
        "int main(int argc, char* argv[]) {\n",
        "     if (argc != 3) {\n",
        "         cerr <<\n",
        "          \"***Numero incorreto de argumentos ***\\n\";\n",
        "         return 1;\n",
        "     }\n",
        "\n",
        "     int n = atoi(argv[1]);\n",
        "     int m = atoi(argv[2]);\n",
        "\n",
        "     //gerar numeros aleatorios\n",
        "     thrust::host_vector<int> a(n);\n",
        "     thrust::host_vector<int> b(n);\n",
        "     thrust::host_vector<int> c(n);\n",
        "     thrust::generate(a.begin(), a.end(), rand);\n",
        "     thrust::generate(b.begin(), b.end(), rand);\n",
        "\n",
        "     //transferimos para a GPU\n",
        "     thrust::device_vector<int> d_a = a;\n",
        "     thrust::device_vector<int> d_b = b;\n",
        "\n",
        "     //transformacao\n",
        "\n",
        "     thrust::transform(d_a.begin(), d_a.end(),\n",
        "                       d_b.begin(), d_b.end(),\n",
        "                       saxpy(m));\n",
        "\n",
        "     thrust::copy(d_b.begin(), d_b.end(),\n",
        "     c.begin()); \n",
        "\n",
        "     for (int i = 0; i < n; i++ )\n",
        "         cout << setw(6) << c[i] << \" = \" \n",
        "          << setw(2) << m\n",
        "          << \"*\" << setw(5) << a[i]\n",
        "          << \"+\" << setw(5) << b[i]\n",
        "          << endl;\n",
        "\n",
        "}"
      ],
      "metadata": {
        "colab": {
          "base_uri": "https://localhost:8080/"
        },
        "id": "5j0RSjyC3hGj",
        "outputId": "5493ceab-ab83-4860-8812-44b9ff337d53"
      },
      "execution_count": 8,
      "outputs": [
        {
          "output_type": "stream",
          "name": "stdout",
          "text": [
            "Writing saxpy.cu\n"
          ]
        }
      ]
    },
    {
      "cell_type": "code",
      "source": [
        "!nvcc saxpy.cu -o saxpy"
      ],
      "metadata": {
        "id": "jmqSs0rZ3kwI"
      },
      "execution_count": 9,
      "outputs": []
    },
    {
      "cell_type": "code",
      "source": [
        "!./saxpy 10 3"
      ],
      "metadata": {
        "colab": {
          "base_uri": "https://localhost:8080/"
        },
        "id": "QYXhmgjY3oWx",
        "outputId": "b03fc25c-f061-4619-8646-1cbc9aa08688"
      },
      "execution_count": 10,
      "outputs": [
        {
          "output_type": "stream",
          "name": "stdout",
          "text": [
            "1025202362 =  3*1804289383+1025202362\n",
            "1350490027 =  3*846930886+1350490027\n",
            "783368690 =  3*1681692777+783368690\n",
            "1102520059 =  3*1714636915+1102520059\n",
            "2044897763 =  3*1957747793+2044897763\n",
            "1967513926 =  3*424238335+1967513926\n",
            "1365180540 =  3*719885386+1365180540\n",
            "1540383426 =  3*1649760492+1540383426\n",
            "304089172 =  3*596516649+304089172\n",
            "1303455736 =  3*1189641421+1303455736\n"
          ]
        }
      ]
    },
    {
      "cell_type": "markdown",
      "source": [
        "### **Operações customizadas em transform**\n",
        "\n",
        "Para criar nossas próprias operações usamos a seguinte sintaxe:\n",
        "\n",
        "``` cpp\n",
        "struct custom_transform\n",
        "{\n",
        "    // essas marcações indicam que o código deve ser compilado para CPU (host) \n",
        "    // e GPU (device)\n",
        "    // IMPORTANTE: somente código com a marcação __device__ é compilado para GPU\n",
        "    __host__ __device__\n",
        "\n",
        "        double operator()(const double& x, const double& y) {\n",
        "            // isto pode ser usado com um transform que usa dois vetores \n",
        "            // e coloca o resultado em um terceiro.\n",
        "\n",
        "            // x é um elemento do primeiro vetor\n",
        "            // y é o elemento correspondente do segundo vetor\n",
        "\n",
        "            // o valor retornado é colocado no vetor de resultados\n",
        "\n",
        "            // para fazer operações unárias basta receber somente um argumento.\n",
        "        }\n",
        "};\n",
        "```\n",
        "\n",
        "A operação acima seria aceita em um transform como o abaixo:\n",
        "\n",
        "``` cpp\n",
        "thrust::device_vector<double> A, B, C;\n",
        "thrust::transform(A.begin(), A.end(), B.begin(), C.begin(), custom_transform());\n",
        "```\n",
        "\n",
        "Note que os tipos dos vetores devem bater com os tipos declarados no struct. Por vezes precisamos receber parâmetros para a operação customizada funcionar. Um truque comum é adicionar atributos no struct usado como operação:\n",
        "\n",
        "``` cpp\n",
        "struct T {\n",
        "    int attr;\n",
        "\n",
        "    T(int a): attr(a) {};\n",
        "\n",
        "    // TODO: operação customizada aqui\n",
        "};\n",
        "```"
      ],
      "metadata": {
        "id": "sBfYj7d331i_"
      }
    },
    {
      "cell_type": "markdown",
      "source": [
        "### **Calculando a norma / magnitude de um vetor**\n",
        "\n",
        "A magnitude de um vetor consiste na raiz quadrada da soma do quadrado de seus elementos. Dessa forma, você deve complementar o código abaixo, de modo a criar uma transformação customizada square, a qual faz uma transformação no vetor transformando os seus elementos ao quadrado, e posteriormente você deve fazer uma redução, de modo a obter a magnitude do vetor."
      ],
      "metadata": {
        "id": "JDcY8lfu4jkd"
      }
    },
    {
      "cell_type": "code",
      "source": [
        " %%writefile magnitude.cu\n",
        "#include <iostream>\n",
        " #include <iomanip>\n",
        " #include <cstdlib>\n",
        " #include <chrono>\n",
        " #include <cstdlib>\n",
        " #include <algorithm>\n",
        " #include <cmath>\n",
        " #include <random>\n",
        " // imports do thrust\n",
        "  #include <thrust/host_vector.h>\n",
        " #include <thrust/device_vector.h>\n",
        " #include <thrust/generate.h>\n",
        " #include <thrust/functional.h>\n",
        " #include <thrust/copy.h> \n",
        "\n",
        " using namespace std::chrono;\n",
        "\n",
        " void reportTime(const char* msg, steady_clock::duration span) {\n",
        "     auto ms = duration_cast<milliseconds>(span);\n",
        "     std::cout << msg << \" - levou - \" <<\n",
        "      ms.count() << \" milisegundos\" << std::endl;\n",
        " }\n",
        "\n",
        "// CRIAR UM FUNCTOR (TIPO UM KERNEL PARA CALCULAR O QUADRADO)\n",
        "\n",
        "struct square {\n",
        "    // não tem parametro interno, então não precisa nem de construtor de copia\n",
        "    __host__ __device__\n",
        "    float operator()(const float &x) const { // não é o x vetor, é a coordenada do vetor, só um ponto\n",
        "        return x * x;\n",
        "    }\n",
        "};\n",
        "\n",
        " // IMPLEMENTE O CALCULO DA MAGNITUDE COM THRUST\n",
        " float magnitude(thrust::device_vector<float> x) {\n",
        "     thrust::transform(x.begin() , x.end() , x.begin() , square());  // se não colocar nada ou só o begin ele sobrescreve o resultado no próprio vetor   \n",
        "     //thrust::transform(x.begin() , x.end() , x.begin() , thrust::square<float>()); // já existe square pronto, não precisava do kernel\n",
        "     float soma_quadrados = thrust::reduce(x.begin(), x.end());\n",
        "     float result = std::sqrt(soma_quadrados);\n",
        "     return result;\n",
        "\n",
        "     // outra solucao:\n",
        "    //  return std::sqrt(thrust::transform_reduce(x.begin(), x.end(), square(), 0.0f, thrust::plus<float>()));\n",
        " }\n",
        "\n",
        " int main(int argc, char** argv) {\n",
        "     if (argc != 2) {\n",
        "         std::cerr << argv[0] << \": numero invalido de argumentos\\n\"; \n",
        "         std::cerr << \"uso: \" << argv[0] << \"  tamanho do vetor\\n\"; \n",
        "         return 1;\n",
        "     }\n",
        "     int n = std::atoi(argv[1]); //numero de elementos\n",
        "     steady_clock::time_point ts, te;\n",
        "\n",
        "     // Faça um  vector em thrust \n",
        "     \n",
        "     thrust::host_vector<float> v(n);\n",
        "\n",
        "     // inicialize o  vector\n",
        "\n",
        "     ts = steady_clock::now();\n",
        "\n",
        "     thrust::generate(v.begin(), v.end(), rand);\n",
        "\n",
        "     thrust::device_vector<float> v_d = v;\n",
        "\n",
        "     te = steady_clock::now();\n",
        "     reportTime(\"Inicializacao\", te - ts);\n",
        "\n",
        "     // Calcule a magnitude do vetor\n",
        "     ts = steady_clock::now();\n",
        "     float len = magnitude(v_d);\n",
        "     te = steady_clock::now();\n",
        "     reportTime(\"Tempo para calculo\", te - ts);\n",
        "\n",
        "\n",
        "     std::cout << std::fixed << std::setprecision(4);\n",
        "     std::cout << \"Magnitude : \" << len << std::endl;\n",
        " }"
      ],
      "metadata": {
        "colab": {
          "base_uri": "https://localhost:8080/"
        },
        "id": "7zZyjRUy4Aei",
        "outputId": "bc3415c4-0a43-465d-f2cf-2a9b265de548"
      },
      "execution_count": 18,
      "outputs": [
        {
          "output_type": "stream",
          "name": "stdout",
          "text": [
            "Overwriting magnitude.cu\n"
          ]
        }
      ]
    },
    {
      "cell_type": "code",
      "source": [
        "!nvcc magnitude.cu -o magnitude"
      ],
      "metadata": {
        "id": "0NlTjFnO4TpH"
      },
      "execution_count": 19,
      "outputs": []
    },
    {
      "cell_type": "code",
      "source": [
        "!./magnitude 10 "
      ],
      "metadata": {
        "colab": {
          "base_uri": "https://localhost:8080/"
        },
        "id": "tgAc8oLs4YLh",
        "outputId": "bccabf03-96ad-44b5-bf39-0217e1057903"
      },
      "execution_count": 20,
      "outputs": [
        {
          "output_type": "stream",
          "name": "stdout",
          "text": [
            "Inicializacao - levou - 185 milisegundos\n",
            "Tempo para calculo - levou - 0 milisegundos\n",
            "Magnitude : 4331812352.0000\n"
          ]
        }
      ]
    },
    {
      "cell_type": "markdown",
      "source": [],
      "metadata": {
        "id": "eEDmoOux5dk1"
      }
    },
    {
      "cell_type": "markdown",
      "source": [
        "### **Fusion**\n",
        "Há operações de transformação e redução feitas anteriormente que realizam muita troca de dados. Seria possível otimizar isso?\n",
        "\n",
        "A resposta é sim. A Thrust possui o conceito de fusion kernel, o que representa uma estratégia para otimizar transformações e reduções. Modifique o código anteriormente desenvolvido, agora fazendo uso da transformação abaixo:\n",
        "\n",
        "``` cpp\n",
        "std::sqrt(thrust::transform_reduce( v.begin(), v.end(), unary_op, init, binary_op));\n",
        "```\n",
        "Pergunta: para o problema da magnitude, quem é a unary_op e a binary_op? Qual o valor de init?\n",
        "\n",
        "Outra solução: \n",
        "\n",
        "Ao invés do return result poderia ter sido feito:\n",
        "\n",
        "```cpp\n",
        "return std::sqrt(thrust::transform_reduce(x.begin(), x.end(), square(), 0.0f, thrust::plus<float>()));\n",
        "``` "
      ],
      "metadata": {
        "id": "9pCuXdh05dmV"
      }
    },
    {
      "cell_type": "code",
      "source": [
        " %%writefile magnitude-fusion.cu\n",
        "#include <iostream>\n",
        " #include <iomanip>\n",
        " #include <cstdlib>\n",
        " #include <chrono>\n",
        " #include <cstdlib>\n",
        " #include <algorithm>\n",
        " #include <cmath>\n",
        " #include <random>\n",
        " // imports do thrust\n",
        "  #include <thrust/host_vector.h>\n",
        " #include <thrust/device_vector.h>\n",
        " #include <thrust/generate.h>\n",
        " #include <thrust/functional.h>\n",
        " #include <thrust/copy.h> \n",
        "\n",
        " using namespace std::chrono;\n",
        "\n",
        " void reportTime(const char* msg, steady_clock::duration span) {\n",
        "     auto ms = duration_cast<milliseconds>(span);\n",
        "     std::cout << msg << \" - levou - \" <<\n",
        "      ms.count() << \" milisegundos\" << std::endl;\n",
        " }\n",
        "\n",
        "// CRIAR UM FUNCTOR (TIPO UM KERNEL PARA CALCULAR O QUADRADO)\n",
        "\n",
        "struct square {\n",
        "    // não tem parametro interno, então não precisa nem de construtor de copia\n",
        "    __host__ __device__\n",
        "    float operator()(const float &x) const { // não é o x vetor, é a coordenada do vetor, só um ponto\n",
        "        return x * x;\n",
        "    }\n",
        "};\n",
        "\n",
        " // IMPLEMENTE O CALCULO DA MAGNITUDE COM THRUST\n",
        " float magnitude(thrust::device_vector<float> x) {\n",
        "    return std::sqrt(thrust::transform_reduce(x.begin(), x.end(), square(), 0.0f, thrust::plus<float>()));\n",
        " }\n",
        "\n",
        " int main(int argc, char** argv) {\n",
        "     if (argc != 2) {\n",
        "         std::cerr << argv[0] << \": numero invalido de argumentos\\n\"; \n",
        "         std::cerr << \"uso: \" << argv[0] << \"  tamanho do vetor\\n\"; \n",
        "         return 1;\n",
        "     }\n",
        "     int n = std::atoi(argv[1]); //numero de elementos\n",
        "     steady_clock::time_point ts, te;\n",
        "\n",
        "     // Faça um  vector em thrust \n",
        "     \n",
        "     thrust::host_vector<float> v(n);\n",
        "\n",
        "     // inicialize o  vector\n",
        "\n",
        "     ts = steady_clock::now();\n",
        "\n",
        "     thrust::generate(v.begin(), v.end(), rand);\n",
        "\n",
        "     thrust::device_vector<float> v_d = v;\n",
        "\n",
        "     te = steady_clock::now();\n",
        "     reportTime(\"Inicializacao\", te - ts);\n",
        "\n",
        "     // Calcule a magnitude do vetor\n",
        "     ts = steady_clock::now();\n",
        "     float len = magnitude(v_d);\n",
        "     te = steady_clock::now();\n",
        "     reportTime(\"Tempo para calculo\", te - ts);\n",
        "\n",
        "\n",
        "     std::cout << std::fixed << std::setprecision(4);\n",
        "     std::cout << \"Magnitude : \" << len << std::endl;\n",
        " }"
      ],
      "metadata": {
        "colab": {
          "base_uri": "https://localhost:8080/"
        },
        "id": "EagCzhTQ5xL0",
        "outputId": "440e378b-2136-46c5-8545-e13b48b3bd75"
      },
      "execution_count": 21,
      "outputs": [
        {
          "output_type": "stream",
          "name": "stdout",
          "text": [
            "Writing magnitude-fusion.cu\n"
          ]
        }
      ]
    },
    {
      "cell_type": "code",
      "source": [
        "!nvcc magnitude-fusion.cu -o magnitude-fusion"
      ],
      "metadata": {
        "id": "eAV-DJae59Kk"
      },
      "execution_count": 22,
      "outputs": []
    },
    {
      "cell_type": "code",
      "source": [
        "!./magnitude-fusion 10"
      ],
      "metadata": {
        "colab": {
          "base_uri": "https://localhost:8080/"
        },
        "id": "_6zgoAdh6AyP",
        "outputId": "e7493880-0927-4ba3-e0e9-4bd469fe4458"
      },
      "execution_count": 24,
      "outputs": [
        {
          "output_type": "stream",
          "name": "stdout",
          "text": [
            "Inicializacao - levou - 539 milisegundos\n",
            "Tempo para calculo - levou - 0 milisegundos\n",
            "Magnitude : 4331812352.0000\n"
          ]
        }
      ]
    },
    {
      "cell_type": "code",
      "source": [],
      "metadata": {
        "id": "jrGfyb6p6Coj"
      },
      "execution_count": null,
      "outputs": []
    }
  ]
}